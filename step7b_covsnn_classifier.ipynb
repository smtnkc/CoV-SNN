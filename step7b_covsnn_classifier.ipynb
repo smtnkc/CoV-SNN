{
 "cells": [
  {
   "cell_type": "code",
   "execution_count": 1,
   "id": "b5e3bf08",
   "metadata": {},
   "outputs": [],
   "source": [
    "import os\n",
    "import pandas as pd\n",
    "import torch\n",
    "from torch import nn\n",
    "from torch.utils.data import DataLoader\n",
    "from tqdm.notebook import tqdm\n",
    "from sentence_transformers import SentenceTransformer, models, LoggingHandler, InputExample, losses, evaluation\n",
    "from sentence_transformers.losses import SiameseDistanceMetric\n",
    "import numpy as np\n",
    "import random\n",
    "seed = 42\n",
    "torch.manual_seed(seed)\n",
    "random.seed(seed)\n",
    "np.random.seed(seed)\n",
    "torch.backends.cudnn.deterministic = True\n",
    "torch.backends.cudnn.benchmark = False\n",
    "\n",
    "VOC_NAMES = [\"Alpha\", \"Beta\", \"Delta\", \"Gamma\", \"Omicron\"]"
   ]
  },
  {
   "cell_type": "code",
   "execution_count": 2,
   "id": "805e9f14",
   "metadata": {},
   "outputs": [
    {
     "name": "stderr",
     "output_type": "stream",
     "text": [
      "Some weights of the model checkpoint at ./mlm_checkpoints/CoV-RoBERTa_2048 were not used when initializing RobertaModel: ['lm_head.dense.bias', 'lm_head.dense.weight', 'lm_head.bias', 'lm_head.layer_norm.weight', 'lm_head.layer_norm.bias']\n",
      "- This IS expected if you are initializing RobertaModel from the checkpoint of a model trained on another task or with another architecture (e.g. initializing a BertForSequenceClassification model from a BertForPreTraining model).\n",
      "- This IS NOT expected if you are initializing RobertaModel from the checkpoint of a model that you expect to be exactly identical (initializing a BertForSequenceClassification model from a BertForSequenceClassification model).\n",
      "Some weights of RobertaModel were not initialized from the model checkpoint at ./mlm_checkpoints/CoV-RoBERTa_2048 and are newly initialized: ['roberta.pooler.dense.bias', 'roberta.pooler.dense.weight']\n",
      "You should probably TRAIN this model on a down-stream task to be able to use it for predictions and inference.\n"
     ]
    },
    {
     "name": "stdout",
     "output_type": "stream",
     "text": [
      "768\n",
      "3072\n",
      "192\n",
      "24\n",
      "1\n"
     ]
    }
   ],
   "source": [
    "#word_embedding_model = models.Transformer(model_name_or_path=\"Rostlab/prot_bert\", max_seq_length=1280)\n",
    "\n",
    "encoder = models.Transformer(model_name_or_path=\"./mlm_checkpoints/CoV-RoBERTa_2048\",\n",
    "                                          max_seq_length=1280,\n",
    "                                          tokenizer_name_or_path=\"tok/\")\n",
    "\n",
    "pooler = models.Pooling(encoder.get_word_embedding_dimension(),\n",
    "                                pooling_mode_cls_token=True,\n",
    "                                pooling_mode_max_tokens=True,\n",
    "                                pooling_mode_mean_tokens=True,\n",
    "                                pooling_mode_mean_sqrt_len_tokens=True)\n",
    "\n",
    "dropout1 = models.Dropout(0.5)\n",
    "linear1 = models.Linear(pooler.get_sentence_embedding_dimension(), int(pooler.get_sentence_embedding_dimension()/16))\n",
    "dropout2 = models.Dropout(0.2)\n",
    "linear2 = models.Linear(linear1.get_sentence_embedding_dimension(), int(linear1.get_sentence_embedding_dimension()/8))\n",
    "dropout3 = models.Dropout(0.2)\n",
    "linear3 = models.Linear(linear2.get_sentence_embedding_dimension(), 1)\n",
    "\n",
    "print(encoder.get_word_embedding_dimension())\n",
    "print(pooler.get_sentence_embedding_dimension())\n",
    "print(linear1.get_sentence_embedding_dimension())\n",
    "print(linear2.get_sentence_embedding_dimension())\n",
    "print(linear3.get_sentence_embedding_dimension())\n",
    "\n",
    "model = SentenceTransformer(modules=[encoder, pooler, dropout1, linear1, dropout2, linear2, dropout3, linear3])"
   ]
  },
  {
   "attachments": {},
   "cell_type": "markdown",
   "id": "5073d929",
   "metadata": {},
   "source": [
    "# Load Contrastive Dataset"
   ]
  },
  {
   "cell_type": "code",
   "execution_count": 3,
   "id": "8feefe76",
   "metadata": {},
   "outputs": [],
   "source": [
    "import pickle\n",
    "with open('contrastive_train.pkl', 'rb') as file:\n",
    "    train_all = pickle.load(file)\n",
    "with open('contrastive_dev.pkl', 'rb') as file:\n",
    "    dev_all = pickle.load(file)\n",
    "with open('contrastive_test.pkl', 'rb') as file:\n",
    "    test_all = pickle.load(file)"
   ]
  },
  {
   "cell_type": "code",
   "execution_count": 4,
   "id": "93248f5d",
   "metadata": {},
   "outputs": [
    {
     "data": {
      "text/html": [
       "<div>\n",
       "<style scoped>\n",
       "    .dataframe tbody tr th:only-of-type {\n",
       "        vertical-align: middle;\n",
       "    }\n",
       "\n",
       "    .dataframe tbody tr th {\n",
       "        vertical-align: top;\n",
       "    }\n",
       "\n",
       "    .dataframe thead th {\n",
       "        text-align: right;\n",
       "    }\n",
       "</style>\n",
       "<table border=\"1\" class=\"dataframe\">\n",
       "  <thead>\n",
       "    <tr style=\"text-align: right;\">\n",
       "      <th></th>\n",
       "      <th>seq1</th>\n",
       "      <th>seq2</th>\n",
       "      <th>label</th>\n",
       "    </tr>\n",
       "  </thead>\n",
       "  <tbody>\n",
       "    <tr>\n",
       "      <th>0</th>\n",
       "      <td>MFVFFVLLPLVSSQCVNLTTRTQLPTAYTNSFTRGVYYPDKVFRSS...</td>\n",
       "      <td>MFVFLVLLPLVSSQCVNFTTRTQLPPAYTNSFTRGVYYPDKVFRSS...</td>\n",
       "      <td>1</td>\n",
       "    </tr>\n",
       "    <tr>\n",
       "      <th>1</th>\n",
       "      <td>MFVFLVLLPLVSSQCVNFTTRTQLPPAYTNSFTRGVYYPDKVFRSS...</td>\n",
       "      <td>MFVFLVLLPLVSSQCVNFTNRTQLPSAYTNSFTRGVYYPDKVFRSS...</td>\n",
       "      <td>0</td>\n",
       "    </tr>\n",
       "    <tr>\n",
       "      <th>2</th>\n",
       "      <td>MFVFLVLLPLVSSQCVNFTNRTQLPSAYTNSFTRGVYYPDKVFRSS...</td>\n",
       "      <td>MFVFLVLLPLVSSQCVNFTNRTQLPSAYTNSFTRGVYYPDKVFRSS...</td>\n",
       "      <td>1</td>\n",
       "    </tr>\n",
       "    <tr>\n",
       "      <th>3</th>\n",
       "      <td>MFVFLVLLPLVSSQCVNLRTRTQLPPAYTNSFTRGVYYPDKVFRSS...</td>\n",
       "      <td>MFVFLVLLPLVSSQCVNFTNRTQLPSAYTNSFTRGVYYPDKVFRSS...</td>\n",
       "      <td>0</td>\n",
       "    </tr>\n",
       "    <tr>\n",
       "      <th>4</th>\n",
       "      <td>MFVFLVLLPLVSSQCVNLRTRTQLPPAYTNSFTRGVYYPDKVFRSS...</td>\n",
       "      <td>MFVFLVLLPLVSSQCVNLRTRTQLPSAYTNSFTRGVYYPDKVFRSS...</td>\n",
       "      <td>1</td>\n",
       "    </tr>\n",
       "    <tr>\n",
       "      <th>...</th>\n",
       "      <td>...</td>\n",
       "      <td>...</td>\n",
       "      <td>...</td>\n",
       "    </tr>\n",
       "    <tr>\n",
       "      <th>13996495</th>\n",
       "      <td>MFVFLVLLPLVSSQCVNFTNRTQLPSAYTNSFTRGVYYPDKVFRSS...</td>\n",
       "      <td>MFVFLVLLPLVSSQCVNFTNRTQLPSAYTNSFTRGVYYPDKVFRSS...</td>\n",
       "      <td>1</td>\n",
       "    </tr>\n",
       "    <tr>\n",
       "      <th>13996496</th>\n",
       "      <td>MFVFLVLLPLVSSQCVNLTTRTQLPPAYTNSFTRGVYYPDKVFRSS...</td>\n",
       "      <td>MFVFLVLLPLVSSQCVNLITRTQSYTNSFTRGVYYPDKVFRSSVLH...</td>\n",
       "      <td>0</td>\n",
       "    </tr>\n",
       "    <tr>\n",
       "      <th>13996497</th>\n",
       "      <td>MFVFLVLLPLVCSQCVNLRTRTQLPPAYTNSFTRGVYYPDKVFRSS...</td>\n",
       "      <td>MFVFLVLLPLVSSQCVNLITRTQSYTNSFTRGVYYPDKVFRSSVLH...</td>\n",
       "      <td>0</td>\n",
       "    </tr>\n",
       "    <tr>\n",
       "      <th>13996498</th>\n",
       "      <td>MFVFLVLLPLVSSQCVNFTTRTQLPPAYTNSFTRGVYYPDKVFRSS...</td>\n",
       "      <td>MFVFFVLLPLVSSQCVNFTTRTQLPPAYTNSFTRGVYYPDKVFRSS...</td>\n",
       "      <td>1</td>\n",
       "    </tr>\n",
       "    <tr>\n",
       "      <th>13996499</th>\n",
       "      <td>MFVFLVLLPLVSSQCVNLRTRTQLPPAYTNSFTRGVYYPDKVFRSS...</td>\n",
       "      <td>MFVFLVLLPLVSSQCVNLRTRTQLPPAYTNSFTRGVYYPDKVFRSS...</td>\n",
       "      <td>1</td>\n",
       "    </tr>\n",
       "  </tbody>\n",
       "</table>\n",
       "<p>13996500 rows × 3 columns</p>\n",
       "</div>"
      ],
      "text/plain": [
       "                                                       seq1  \\\n",
       "0         MFVFFVLLPLVSSQCVNLTTRTQLPTAYTNSFTRGVYYPDKVFRSS...   \n",
       "1         MFVFLVLLPLVSSQCVNFTTRTQLPPAYTNSFTRGVYYPDKVFRSS...   \n",
       "2         MFVFLVLLPLVSSQCVNFTNRTQLPSAYTNSFTRGVYYPDKVFRSS...   \n",
       "3         MFVFLVLLPLVSSQCVNLRTRTQLPPAYTNSFTRGVYYPDKVFRSS...   \n",
       "4         MFVFLVLLPLVSSQCVNLRTRTQLPPAYTNSFTRGVYYPDKVFRSS...   \n",
       "...                                                     ...   \n",
       "13996495  MFVFLVLLPLVSSQCVNFTNRTQLPSAYTNSFTRGVYYPDKVFRSS...   \n",
       "13996496  MFVFLVLLPLVSSQCVNLTTRTQLPPAYTNSFTRGVYYPDKVFRSS...   \n",
       "13996497  MFVFLVLLPLVCSQCVNLRTRTQLPPAYTNSFTRGVYYPDKVFRSS...   \n",
       "13996498  MFVFLVLLPLVSSQCVNFTTRTQLPPAYTNSFTRGVYYPDKVFRSS...   \n",
       "13996499  MFVFLVLLPLVSSQCVNLRTRTQLPPAYTNSFTRGVYYPDKVFRSS...   \n",
       "\n",
       "                                                       seq2  label  \n",
       "0         MFVFLVLLPLVSSQCVNFTTRTQLPPAYTNSFTRGVYYPDKVFRSS...      1  \n",
       "1         MFVFLVLLPLVSSQCVNFTNRTQLPSAYTNSFTRGVYYPDKVFRSS...      0  \n",
       "2         MFVFLVLLPLVSSQCVNFTNRTQLPSAYTNSFTRGVYYPDKVFRSS...      1  \n",
       "3         MFVFLVLLPLVSSQCVNFTNRTQLPSAYTNSFTRGVYYPDKVFRSS...      0  \n",
       "4         MFVFLVLLPLVSSQCVNLRTRTQLPSAYTNSFTRGVYYPDKVFRSS...      1  \n",
       "...                                                     ...    ...  \n",
       "13996495  MFVFLVLLPLVSSQCVNFTNRTQLPSAYTNSFTRGVYYPDKVFRSS...      1  \n",
       "13996496  MFVFLVLLPLVSSQCVNLITRTQSYTNSFTRGVYYPDKVFRSSVLH...      0  \n",
       "13996497  MFVFLVLLPLVSSQCVNLITRTQSYTNSFTRGVYYPDKVFRSSVLH...      0  \n",
       "13996498  MFVFFVLLPLVSSQCVNFTTRTQLPPAYTNSFTRGVYYPDKVFRSS...      1  \n",
       "13996499  MFVFLVLLPLVSSQCVNLRTRTQLPPAYTNSFTRGVYYPDKVFRSS...      1  \n",
       "\n",
       "[13996500 rows x 3 columns]"
      ]
     },
     "metadata": {},
     "output_type": "display_data"
    },
    {
     "data": {
      "text/html": [
       "<div>\n",
       "<style scoped>\n",
       "    .dataframe tbody tr th:only-of-type {\n",
       "        vertical-align: middle;\n",
       "    }\n",
       "\n",
       "    .dataframe tbody tr th {\n",
       "        vertical-align: top;\n",
       "    }\n",
       "\n",
       "    .dataframe thead th {\n",
       "        text-align: right;\n",
       "    }\n",
       "</style>\n",
       "<table border=\"1\" class=\"dataframe\">\n",
       "  <thead>\n",
       "    <tr style=\"text-align: right;\">\n",
       "      <th></th>\n",
       "      <th>seq1</th>\n",
       "      <th>seq2</th>\n",
       "      <th>label</th>\n",
       "    </tr>\n",
       "  </thead>\n",
       "  <tbody>\n",
       "    <tr>\n",
       "      <th>0</th>\n",
       "      <td>MFVFLVLLPLVSSQCVNFTNRTQLPSAYTNSFTRGVYYPDKVFRSS...</td>\n",
       "      <td>MFVFLVLLPLVSSQCVNFTNRTQLPSAYTNSFTRGVYYPDKVFRSS...</td>\n",
       "      <td>1</td>\n",
       "    </tr>\n",
       "    <tr>\n",
       "      <th>1</th>\n",
       "      <td>MFVFLVLLPLVSSQCVNLTTRTQLPPAYTNSXTRGVYYPDKVFRSS...</td>\n",
       "      <td>MFVFLVLLPLVSSQCVNLTTRTQLPPAYTNSFTRGVYYPDKVFRSS...</td>\n",
       "      <td>1</td>\n",
       "    </tr>\n",
       "    <tr>\n",
       "      <th>2</th>\n",
       "      <td>MFVFLVLLPLVSSQCVNLRTRTQLPPAYTNSFTRGVYYPDKVFRSS...</td>\n",
       "      <td>MFVFLVLLPLVFSQCVNLRTRTQLPPAYTNSFTRGVYYPDKVFRSS...</td>\n",
       "      <td>1</td>\n",
       "    </tr>\n",
       "    <tr>\n",
       "      <th>3</th>\n",
       "      <td>MFVFLVLLPLVSSQCVNFTTRTQLPPAYTNSFTRGVYYPDKVFRSS...</td>\n",
       "      <td>MFVFLVLLPLVSSQCVNLITRTQXXXXYTNSFTRGVYYPDKVFRSS...</td>\n",
       "      <td>0</td>\n",
       "    </tr>\n",
       "    <tr>\n",
       "      <th>4</th>\n",
       "      <td>MFVFLVLLPLVSSQCVNLTTRTQLPPAYTNSFTRGVYYPDKVFRSS...</td>\n",
       "      <td>MFVFLVLLPLVSSQCVNLITRTQSYTNSFTRGVYYPDKVFRSSVLH...</td>\n",
       "      <td>0</td>\n",
       "    </tr>\n",
       "    <tr>\n",
       "      <th>...</th>\n",
       "      <td>...</td>\n",
       "      <td>...</td>\n",
       "      <td>...</td>\n",
       "    </tr>\n",
       "    <tr>\n",
       "      <th>4018990</th>\n",
       "      <td>MFVFFVLLPLVSSQCVNFTNRTQLPSAYTNSFTRGVYYPDKVFRSS...</td>\n",
       "      <td>MFVFFVLLPLVSSQCVNFTNRTQLPSAYTNSFTRGVYYPDKVFRSS...</td>\n",
       "      <td>1</td>\n",
       "    </tr>\n",
       "    <tr>\n",
       "      <th>4018991</th>\n",
       "      <td>MFVFLVLLPLVSSQCVNLRTRTQLPPAYTNSFTRGVYYPDKVFRSS...</td>\n",
       "      <td>MFVFLVLLPLVSSQCVNLTTRTQSYTNSFTRGVYYPDKVFRSSVLH...</td>\n",
       "      <td>0</td>\n",
       "    </tr>\n",
       "    <tr>\n",
       "      <th>4018992</th>\n",
       "      <td>MFVFLVLLPLVSTQCVNLRTRTQLPPAYTNSFTRGVYYPDKVFRSS...</td>\n",
       "      <td>MFVFLVLLPLVSSQCVNLRTRTQLPPAYTNSFTRGVYYPDKVFRSS...</td>\n",
       "      <td>1</td>\n",
       "    </tr>\n",
       "    <tr>\n",
       "      <th>4018993</th>\n",
       "      <td>MFVFLVLLPLVSSQCVNLITRTQSYTNSFTRGVYYPDKVFRSSVLH...</td>\n",
       "      <td>MFVFLVLLPLVSSQCVNLITRTQSYTNSFTRGVYYPDKVFRSSVLH...</td>\n",
       "      <td>1</td>\n",
       "    </tr>\n",
       "    <tr>\n",
       "      <th>4018994</th>\n",
       "      <td>MFVFLVLLPLVSSQCVNFTNRTRLPSAYTNSFTRGVYYPDKVFRSS...</td>\n",
       "      <td>MFVFLVLLPLVSSQCVNFTNRTQLPSAYTNSFTRGVYYPDKVFRSS...</td>\n",
       "      <td>1</td>\n",
       "    </tr>\n",
       "  </tbody>\n",
       "</table>\n",
       "<p>4018995 rows × 3 columns</p>\n",
       "</div>"
      ],
      "text/plain": [
       "                                                      seq1  \\\n",
       "0        MFVFLVLLPLVSSQCVNFTNRTQLPSAYTNSFTRGVYYPDKVFRSS...   \n",
       "1        MFVFLVLLPLVSSQCVNLTTRTQLPPAYTNSXTRGVYYPDKVFRSS...   \n",
       "2        MFVFLVLLPLVSSQCVNLRTRTQLPPAYTNSFTRGVYYPDKVFRSS...   \n",
       "3        MFVFLVLLPLVSSQCVNFTTRTQLPPAYTNSFTRGVYYPDKVFRSS...   \n",
       "4        MFVFLVLLPLVSSQCVNLTTRTQLPPAYTNSFTRGVYYPDKVFRSS...   \n",
       "...                                                    ...   \n",
       "4018990  MFVFFVLLPLVSSQCVNFTNRTQLPSAYTNSFTRGVYYPDKVFRSS...   \n",
       "4018991  MFVFLVLLPLVSSQCVNLRTRTQLPPAYTNSFTRGVYYPDKVFRSS...   \n",
       "4018992  MFVFLVLLPLVSTQCVNLRTRTQLPPAYTNSFTRGVYYPDKVFRSS...   \n",
       "4018993  MFVFLVLLPLVSSQCVNLITRTQSYTNSFTRGVYYPDKVFRSSVLH...   \n",
       "4018994  MFVFLVLLPLVSSQCVNFTNRTRLPSAYTNSFTRGVYYPDKVFRSS...   \n",
       "\n",
       "                                                      seq2  label  \n",
       "0        MFVFLVLLPLVSSQCVNFTNRTQLPSAYTNSFTRGVYYPDKVFRSS...      1  \n",
       "1        MFVFLVLLPLVSSQCVNLTTRTQLPPAYTNSFTRGVYYPDKVFRSS...      1  \n",
       "2        MFVFLVLLPLVFSQCVNLRTRTQLPPAYTNSFTRGVYYPDKVFRSS...      1  \n",
       "3        MFVFLVLLPLVSSQCVNLITRTQXXXXYTNSFTRGVYYPDKVFRSS...      0  \n",
       "4        MFVFLVLLPLVSSQCVNLITRTQSYTNSFTRGVYYPDKVFRSSVLH...      0  \n",
       "...                                                    ...    ...  \n",
       "4018990  MFVFFVLLPLVSSQCVNFTNRTQLPSAYTNSFTRGVYYPDKVFRSS...      1  \n",
       "4018991  MFVFLVLLPLVSSQCVNLTTRTQSYTNSFTRGVYYPDKVFRSSVLH...      0  \n",
       "4018992  MFVFLVLLPLVSSQCVNLRTRTQLPPAYTNSFTRGVYYPDKVFRSS...      1  \n",
       "4018993  MFVFLVLLPLVSSQCVNLITRTQSYTNSFTRGVYYPDKVFRSSVLH...      1  \n",
       "4018994  MFVFLVLLPLVSSQCVNFTNRTQLPSAYTNSFTRGVYYPDKVFRSS...      1  \n",
       "\n",
       "[4018995 rows x 3 columns]"
      ]
     },
     "metadata": {},
     "output_type": "display_data"
    }
   ],
   "source": [
    "display(train_all)\n",
    "display(dev_all)"
   ]
  },
  {
   "cell_type": "code",
   "execution_count": 5,
   "id": "1514e5e6",
   "metadata": {},
   "outputs": [
    {
     "name": "stdout",
     "output_type": "stream",
     "text": [
      "1\n",
      "torch.Size([1, 8])\n",
      "{'input_ids': tensor([[   0, 9529,  826,   23,   83, 2126, 7477,    2]]), 'attention_mask': tensor([[1, 1, 1, 1, 1, 1, 1, 1]])}\n",
      "[0, 9529, 826, 23, 83, 2126, 7477, 2]\n",
      "[0.43635342]\n"
     ]
    }
   ],
   "source": [
    "sample = train_all.at[0, 'seq1']\n",
    "t = model.tokenize(sample)\n",
    "e = model.encode(sample)\n",
    "print(e.size)\n",
    "print(t['input_ids'].shape)\n",
    "print(t)\n",
    "print(model.tokenizer.encode(sample))\n",
    "print(e)"
   ]
  },
  {
   "cell_type": "code",
   "execution_count": 6,
   "id": "8daf4622",
   "metadata": {},
   "outputs": [
    {
     "data": {
      "application/vnd.jupyter.widget-view+json": {
       "model_id": "a711fe60f0b64d768c827e2da8ac336e",
       "version_major": 2,
       "version_minor": 0
      },
      "text/plain": [
       "  0%|          | 0/139965 [00:00<?, ?it/s]"
      ]
     },
     "metadata": {},
     "output_type": "display_data"
    },
    {
     "data": {
      "application/vnd.jupyter.widget-view+json": {
       "model_id": "cbfbbf7117f242c8b85f1a2e39a6c3dd",
       "version_major": 2,
       "version_minor": 0
      },
      "text/plain": [
       "  0%|          | 0/40189 [00:00<?, ?it/s]"
      ]
     },
     "metadata": {},
     "output_type": "display_data"
    }
   ],
   "source": [
    "train_examples = []\n",
    "seq1=list(train_all['seq1'])\n",
    "seq2=list(train_all['seq2'])\n",
    "label=list(train_all['label'])\n",
    "for i in tqdm(range(len(train_all)//100)):\n",
    "    train_examples.append(InputExample(texts=[seq1[i], seq2[i]], label=label[i]))\n",
    "\n",
    "dev_examples = []\n",
    "seq1=list(dev_all['seq1'])\n",
    "seq2=list(dev_all['seq2'])\n",
    "label=list(dev_all['label'])\n",
    "for i in tqdm(range(len(dev_all)//100)):\n",
    "    dev_examples.append(InputExample(texts=[seq1[i], seq2[i]], label=label[i]))"
   ]
  },
  {
   "cell_type": "code",
   "execution_count": 7,
   "id": "229a24f6",
   "metadata": {},
   "outputs": [],
   "source": [
    "train_batch_size = dev_batch_size = 600 # 600 for CoV-RoBERTa, 3000 for ProtBERT\n",
    "train_dataloader = DataLoader(train_examples, shuffle=True, batch_size=train_batch_size)\n",
    "dev_dataloader = DataLoader(dev_examples, shuffle=True, batch_size=dev_batch_size)"
   ]
  },
  {
   "cell_type": "code",
   "execution_count": 8,
   "id": "075fce6a",
   "metadata": {},
   "outputs": [],
   "source": [
    "#train_loss = losses.ContrastiveLoss(model=model, distance_metric=SiameseDistanceMetric.MANHATTAN, margin=0.5)\n",
    "train_loss = losses.SoftmaxLoss(model=model, sentence_embedding_dimension=model.get_sentence_embedding_dimension(), num_labels=2)"
   ]
  },
  {
   "cell_type": "code",
   "execution_count": 9,
   "id": "e6ba708b",
   "metadata": {},
   "outputs": [],
   "source": [
    "# evaluator = evaluation.BinaryClassificationEvaluator(sentences1=list(dev_all['seq1']),\n",
    "#                                                      sentences2=list(dev_all['seq2']),\n",
    "#                                                      labels=list(dev_all['label']),\n",
    "#                                                      batch_size=1000,\n",
    "#                                                      show_progress_bar=True,\n",
    "#                                                      write_csv=True)\n",
    "\n",
    "evaluator = evaluation.LabelAccuracyEvaluator(dataloader=dev_dataloader, softmax_model=train_loss)"
   ]
  },
  {
   "cell_type": "code",
   "execution_count": 10,
   "id": "4793df31",
   "metadata": {},
   "outputs": [
    {
     "name": "stdout",
     "output_type": "stream",
     "text": [
      "23\n"
     ]
    }
   ],
   "source": [
    "eval_iter = len(train_all)//(10*100*train_batch_size)\n",
    "print(eval_iter)"
   ]
  },
  {
   "cell_type": "code",
   "execution_count": 12,
   "id": "25a6df7f",
   "metadata": {},
   "outputs": [
    {
     "data": {
      "application/vnd.jupyter.widget-view+json": {
       "model_id": "fa15d212e2d443c0a6f308ba425e14d9",
       "version_major": 2,
       "version_minor": 0
      },
      "text/plain": [
       "Epoch:   0%|          | 0/1 [00:00<?, ?it/s]"
      ]
     },
     "metadata": {},
     "output_type": "display_data"
    },
    {
     "data": {
      "application/vnd.jupyter.widget-view+json": {
       "model_id": "ebf3f82dd65f4f499131564cf624c2cf",
       "version_major": 2,
       "version_minor": 0
      },
      "text/plain": [
       "Iteration:   0%|          | 0/234 [00:00<?, ?it/s]"
      ]
     },
     "metadata": {},
     "output_type": "display_data"
    },
    {
     "name": "stdout",
     "output_type": "stream",
     "text": [
      "Accuracy: 0.4998 (20085/40189)\n",
      "\n",
      "Accuracy: 0.5003 (20106/40189)\n",
      "\n"
     ]
    },
    {
     "ename": "KeyboardInterrupt",
     "evalue": "",
     "output_type": "error",
     "traceback": [
      "\u001b[0;31m---------------------------------------------------------------------------\u001b[0m",
      "\u001b[0;31mKeyboardInterrupt\u001b[0m                         Traceback (most recent call last)",
      "Cell \u001b[0;32mIn[12], line 1\u001b[0m\n\u001b[0;32m----> 1\u001b[0m model\u001b[39m.\u001b[39;49mfit(train_objectives\u001b[39m=\u001b[39;49m[(train_dataloader, train_loss)],\n\u001b[1;32m      2\u001b[0m           evaluator\u001b[39m=\u001b[39;49mevaluator,\n\u001b[1;32m      3\u001b[0m           epochs\u001b[39m=\u001b[39;49m\u001b[39m1\u001b[39;49m,\n\u001b[1;32m      4\u001b[0m           optimizer_params\u001b[39m=\u001b[39;49m {\u001b[39m'\u001b[39;49m\u001b[39mlr\u001b[39;49m\u001b[39m'\u001b[39;49m: \u001b[39m1e-4\u001b[39;49m}, \u001b[39m# 1e-3 for CoV-RoBERTa, 1e-6 for ProtBERT\u001b[39;49;00m\n\u001b[1;32m      5\u001b[0m           weight_decay\u001b[39m=\u001b[39;49m\u001b[39m0.1\u001b[39;49m, \u001b[39m# 0.1 for CoV-RoBERTa, 0.01 for ProtBERT\u001b[39;49;00m\n\u001b[1;32m      6\u001b[0m           evaluation_steps\u001b[39m=\u001b[39;49meval_iter, \u001b[39m# run an evalution in every 10% \u001b[39;49;00m\n\u001b[1;32m      7\u001b[0m           output_path\u001b[39m=\u001b[39;49m\u001b[39m'\u001b[39;49m\u001b[39m./snn_output\u001b[39;49m\u001b[39m'\u001b[39;49m,\n\u001b[1;32m      8\u001b[0m           save_best_model\u001b[39m=\u001b[39;49m\u001b[39mTrue\u001b[39;49;00m,\n\u001b[1;32m      9\u001b[0m           checkpoint_path\u001b[39m=\u001b[39;49m\u001b[39m'\u001b[39;49m\u001b[39m./snn_checkpoints\u001b[39;49m\u001b[39m'\u001b[39;49m,\n\u001b[1;32m     10\u001b[0m           checkpoint_save_steps\u001b[39m=\u001b[39;49m\u001b[39m500\u001b[39;49m,\n\u001b[1;32m     11\u001b[0m           checkpoint_save_total_limit\u001b[39m=\u001b[39;49m\u001b[39m2\u001b[39;49m,\n\u001b[1;32m     12\u001b[0m           show_progress_bar\u001b[39m=\u001b[39;49m\u001b[39mTrue\u001b[39;49;00m)\n",
      "File \u001b[0;32m~/anaconda3/envs/pytorch38/lib/python3.8/site-packages/sentence_transformers/SentenceTransformer.py:727\u001b[0m, in \u001b[0;36mSentenceTransformer.fit\u001b[0;34m(self, train_objectives, evaluator, epochs, steps_per_epoch, scheduler, warmup_steps, optimizer_class, optimizer_params, weight_decay, evaluation_steps, output_path, save_best_model, max_grad_norm, use_amp, callback, show_progress_bar, checkpoint_path, checkpoint_save_steps, checkpoint_save_total_limit)\u001b[0m\n\u001b[1;32m    725\u001b[0m \u001b[39melse\u001b[39;00m:\n\u001b[1;32m    726\u001b[0m     loss_value \u001b[39m=\u001b[39m loss_model(features, labels)\n\u001b[0;32m--> 727\u001b[0m     loss_value\u001b[39m.\u001b[39;49mbackward()\n\u001b[1;32m    728\u001b[0m     torch\u001b[39m.\u001b[39mnn\u001b[39m.\u001b[39mutils\u001b[39m.\u001b[39mclip_grad_norm_(loss_model\u001b[39m.\u001b[39mparameters(), max_grad_norm)\n\u001b[1;32m    729\u001b[0m     optimizer\u001b[39m.\u001b[39mstep()\n",
      "File \u001b[0;32m~/anaconda3/envs/pytorch38/lib/python3.8/site-packages/torch/_tensor.py:396\u001b[0m, in \u001b[0;36mTensor.backward\u001b[0;34m(self, gradient, retain_graph, create_graph, inputs)\u001b[0m\n\u001b[1;32m    387\u001b[0m \u001b[39mif\u001b[39;00m has_torch_function_unary(\u001b[39mself\u001b[39m):\n\u001b[1;32m    388\u001b[0m     \u001b[39mreturn\u001b[39;00m handle_torch_function(\n\u001b[1;32m    389\u001b[0m         Tensor\u001b[39m.\u001b[39mbackward,\n\u001b[1;32m    390\u001b[0m         (\u001b[39mself\u001b[39m,),\n\u001b[0;32m   (...)\u001b[0m\n\u001b[1;32m    394\u001b[0m         create_graph\u001b[39m=\u001b[39mcreate_graph,\n\u001b[1;32m    395\u001b[0m         inputs\u001b[39m=\u001b[39minputs)\n\u001b[0;32m--> 396\u001b[0m torch\u001b[39m.\u001b[39;49mautograd\u001b[39m.\u001b[39;49mbackward(\u001b[39mself\u001b[39;49m, gradient, retain_graph, create_graph, inputs\u001b[39m=\u001b[39;49minputs)\n",
      "File \u001b[0;32m~/anaconda3/envs/pytorch38/lib/python3.8/site-packages/torch/autograd/__init__.py:173\u001b[0m, in \u001b[0;36mbackward\u001b[0;34m(tensors, grad_tensors, retain_graph, create_graph, grad_variables, inputs)\u001b[0m\n\u001b[1;32m    168\u001b[0m     retain_graph \u001b[39m=\u001b[39m create_graph\n\u001b[1;32m    170\u001b[0m \u001b[39m# The reason we repeat same the comment below is that\u001b[39;00m\n\u001b[1;32m    171\u001b[0m \u001b[39m# some Python versions print out the first line of a multi-line function\u001b[39;00m\n\u001b[1;32m    172\u001b[0m \u001b[39m# calls in the traceback and some print out the last line\u001b[39;00m\n\u001b[0;32m--> 173\u001b[0m Variable\u001b[39m.\u001b[39;49m_execution_engine\u001b[39m.\u001b[39;49mrun_backward(  \u001b[39m# Calls into the C++ engine to run the backward pass\u001b[39;49;00m\n\u001b[1;32m    174\u001b[0m     tensors, grad_tensors_, retain_graph, create_graph, inputs,\n\u001b[1;32m    175\u001b[0m     allow_unreachable\u001b[39m=\u001b[39;49m\u001b[39mTrue\u001b[39;49;00m, accumulate_grad\u001b[39m=\u001b[39;49m\u001b[39mTrue\u001b[39;49;00m)\n",
      "\u001b[0;31mKeyboardInterrupt\u001b[0m: "
     ]
    }
   ],
   "source": [
    "model.fit(train_objectives=[(train_dataloader, train_loss)],\n",
    "          evaluator=evaluator,\n",
    "          epochs=1,\n",
    "          optimizer_params= {'lr': 1e-4}, # 1e-3 for CoV-RoBERTa, 1e-6 for ProtBERT\n",
    "          weight_decay=0.1, # 0.1 for CoV-RoBERTa, 0.01 for ProtBERT\n",
    "          evaluation_steps=eval_iter, # run an evalution in every 10% \n",
    "          output_path='./snn_output',\n",
    "          save_best_model=True,\n",
    "          checkpoint_path='./snn_checkpoints',\n",
    "          checkpoint_save_steps=500,\n",
    "          checkpoint_save_total_limit=2,\n",
    "          show_progress_bar=True)"
   ]
  },
  {
   "cell_type": "code",
   "execution_count": null,
   "id": "e8e08971",
   "metadata": {},
   "outputs": [],
   "source": [
    "# TODO\n",
    "# Try learning rate 1e-3 instead of 2e-5\n",
    "# Create test set evaluator\n",
    "# Perform zero-shot testing by removing a VOC or adding a new VOI"
   ]
  }
 ],
 "metadata": {
  "kernelspec": {
   "display_name": "Python 3",
   "language": "python",
   "name": "python3"
  },
  "language_info": {
   "codemirror_mode": {
    "name": "ipython",
    "version": 3
   },
   "file_extension": ".py",
   "mimetype": "text/x-python",
   "name": "python",
   "nbconvert_exporter": "python",
   "pygments_lexer": "ipython3",
   "version": "3.8.16"
  }
 },
 "nbformat": 4,
 "nbformat_minor": 5
}
