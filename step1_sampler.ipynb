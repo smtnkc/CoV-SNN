{
 "cells": [
  {
   "cell_type": "code",
   "execution_count": 29,
   "id": "e6db83a5",
   "metadata": {},
   "outputs": [
    {
     "name": "stdout",
     "output_type": "stream",
     "text": [
      "Processing data/unique_Alpha.csv...\n",
      "44979 -> 44979 --> 2045 -> 2000\n",
      "Processing data/unique_Beta.csv...\n",
      "2714 -> 2714 --> 2714 -> 2000\n",
      "Processing data/unique_Gamma.csv...\n",
      "8624 -> 8623 --> 2156 -> 2000\n",
      "Processing data/unique_Delta.csv...\n",
      "215532 -> 215531 --> 2015 -> 2000\n",
      "Processing data/unique_Omicron.csv...\n",
      "54762 -> 54762 --> 2029 -> 2000\n"
     ]
    }
   ],
   "source": [
    "import os\n",
    "import pandas as pd\n",
    "\n",
    "# Folder containing the CSV files\n",
    "folder_path = \"data\"\n",
    "\n",
    "# List all CSV files in the folder\n",
    "csv_files = [file for file in os.listdir(folder_path) if (file.endswith(\".csv\") and not file.endswith(\"2k.csv\"))]\n",
    "\n",
    "# Process each CSV file\n",
    "for csv_file in csv_files:\n",
    "    file_path = os.path.join(folder_path, csv_file)\n",
    "\n",
    "    print(f'Processing {file_path}...')\n",
    "\n",
    "    # Load the CSV file into a DataFrame\n",
    "    df = pd.read_csv(file_path)\n",
    "\n",
    "    # Convert 'date' column to datetime format\n",
    "    df['date'] = pd.to_datetime(df['date'], errors='coerce')\n",
    "\n",
    "    # Handle cases where 'date' contains only the year and month\n",
    "    year_month = df['date'].dt.strftime('%Y-%m')\n",
    "    df.loc[df['date'].isnull(), 'date'] = year_month\n",
    "\n",
    "    # Sort the DataFrame by the 'date' column\n",
    "    df = df.sort_values(by='date')\n",
    "    mask = df['sequence'].apply(len) <= 1278\n",
    "    df_masked = df[mask].reset_index(drop=True)\n",
    "    # Calculate the step size to sample 2000 items with the same distance\n",
    "    step_size = len(df_masked) // 2000\n",
    "\n",
    "    # Sample the DataFrame with the calculated step size\n",
    "    sampled_df = df_masked.iloc[::step_size]\n",
    "    sampled_df_tail = sampled_df.tail(2000)\n",
    "    print(f\"{len(df)} -> {len(df_masked)} --> {len(sampled_df)} -> {len(sampled_df_tail)}\")\n",
    "\n",
    "    # Export the sampled DataFrame to a new CSV file\n",
    "    output_path = os.path.join(folder_path, f\"{csv_file[:-4]}_2k.csv\")\n",
    "    sampled_df_tail.to_csv(output_path, index=False)\n"
   ]
  },
  {
   "cell_type": "code",
   "execution_count": 30,
   "id": "c918e3c3",
   "metadata": {},
   "outputs": [
    {
     "name": "stdout",
     "output_type": "stream",
     "text": [
      "2000\n",
      "4000\n",
      "6000\n",
      "8000\n",
      "10000\n"
     ]
    }
   ],
   "source": [
    "vocs = [\"Alpha\", \"Beta\", \"Delta\", \"Gamma\", \"Omicron\"]\n",
    "seqs = []\n",
    "\n",
    "for voc in vocs:\n",
    "    seqs.extend(pd.read_csv(f\"data/unique_{voc}_2k.csv\")[\"sequence\"])\n",
    "    print(len(seqs))\n",
    "    \n",
    "with open('data/sequences_unique_10k.txt','w') as f:\n",
    "    f.write('\\n'.join(seqs))"
   ]
  },
  {
   "cell_type": "code",
   "execution_count": 5,
   "id": "5d94ca6f",
   "metadata": {},
   "outputs": [
    {
     "name": "stdout",
     "output_type": "stream",
     "text": [
      "The maximum length of a line in 'data/sequences_unique_10k.txt' is: 1278\n"
     ]
    }
   ],
   "source": [
    "file_path = 'data/sequences_unique_10k.txt'\n",
    "\n",
    "max_length = 0\n",
    "\n",
    "max_length = 0\n",
    "\n",
    "with open(file_path, 'r') as f:\n",
    "    for line in f:\n",
    "        line = line.rstrip('\\n')       \n",
    "        if len(line) > max_length:\n",
    "            max_length = len(line)\n",
    "\n",
    "print(f\"The maximum length of a line in '{file_path}' is: {max_length}\")"
   ]
  },
  {
   "cell_type": "code",
   "execution_count": null,
   "id": "96fd886f",
   "metadata": {},
   "outputs": [],
   "source": []
  }
 ],
 "metadata": {
  "kernelspec": {
   "display_name": "Python 3",
   "language": "python",
   "name": "python3"
  },
  "language_info": {
   "codemirror_mode": {
    "name": "ipython",
    "version": 3
   },
   "file_extension": ".py",
   "mimetype": "text/x-python",
   "name": "python",
   "nbconvert_exporter": "python",
   "pygments_lexer": "ipython3",
   "version": "3.8.16"
  }
 },
 "nbformat": 4,
 "nbformat_minor": 5
}
