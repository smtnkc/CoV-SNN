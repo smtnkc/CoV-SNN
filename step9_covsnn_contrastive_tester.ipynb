{
 "cells": [
  {
   "cell_type": "code",
   "execution_count": 1,
   "id": "b5e3bf08",
   "metadata": {},
   "outputs": [],
   "source": [
    "import os\n",
    "import pandas as pd\n",
    "import torch\n",
    "from torch import nn\n",
    "from torch.utils.data import DataLoader\n",
    "from tqdm.notebook import tqdm\n",
    "from sentence_transformers import SentenceTransformer, models, LoggingHandler, InputExample, losses, evaluation\n",
    "from sentence_transformers.losses import SiameseDistanceMetric\n",
    "import numpy as np\n",
    "import random\n",
    "seed = 42\n",
    "torch.manual_seed(seed)\n",
    "random.seed(seed)\n",
    "np.random.seed(seed)\n",
    "torch.backends.cudnn.deterministic = True\n",
    "torch.backends.cudnn.benchmark = False\n",
    "\n",
    "VOC_NAMES = [\"Alpha\", \"Beta\", \"Delta\", \"Gamma\", \"Omicron\"]\n",
    "LOSS_NAME = \"ContrastiveLoss\"\n",
    "POOLING_MODE = \"max\""
   ]
  },
  {
   "cell_type": "code",
   "execution_count": 2,
   "id": "cb7e54ec",
   "metadata": {},
   "outputs": [],
   "source": [
    "def get_mutated_omicron(rbd=False):\n",
    "    N = 11 # number of mutations\n",
    "    if rbd:\n",
    "        N = 4\n",
    "    # change N random characters in each omicron sequence and save as a new dataset\n",
    "    omicron_sequences = pd.read_csv(\"data/unique_Omicron_2k.csv\")[\"sequence\"].tolist()\n",
    "    import copy\n",
    "    omicron_sequences_mutated = copy.deepcopy(omicron_sequences)\n",
    "    aa_list = [\"A\",\"B\",\"C\",\"D\",\"E\",\"F\",\"G\",\"H\",\"I\",\"K\",\"L\",\"M\",\"N\",\"O\",\"P\",\"Q\",\"R\",\"S\",\"T\",\"U\",\"V\",\"W\",\"X\",\"Y\",\"Z\"]\n",
    "    #print(\"number of AAs:\", len(aa_list))\n",
    "    random.seed(42)\n",
    "    omicron_sequences_mutated = [list(seq) for seq in omicron_sequences_mutated]\n",
    "    for seq in omicron_sequences_mutated:\n",
    "        # select random indices\n",
    "        if rbd:\n",
    "            idxs = random.sample(range(317, 541), N)\n",
    "        else:\n",
    "            idxs = random.sample(range(len(seq)), N)\n",
    "        #print(idxs)\n",
    "        for i in range(N):\n",
    "            idx = idxs[i]\n",
    "            # change the character at idx to a random character. make sure it is not the same as the original character\n",
    "            original_aa = seq[idx]\n",
    "            while seq[idx] == original_aa:\n",
    "                seq[idx] = random.choice(aa_list)\n",
    "            # print(f\"changed {original_aa} to {seq[idx]}\")\n",
    "    omicron_sequences_mutated = [\"\".join(seq) for seq in omicron_sequences_mutated]\n",
    "    #pd.DataFrame({\"sequence\": omicron_sequences_mutated}).to_csv(\"data/unique_Omicron_2k_mutated.csv\", index=False)\n",
    "    return omicron_sequences_mutated\n"
   ]
  },
  {
   "attachments": {},
   "cell_type": "markdown",
   "id": "5073d929",
   "metadata": {},
   "source": [
    "# Construct Contrastive Dataset"
   ]
  },
  {
   "cell_type": "code",
   "execution_count": 19,
   "id": "721d8dcf",
   "metadata": {},
   "outputs": [
    {
     "name": "stdout",
     "output_type": "stream",
     "text": [
      "len(test_examples):  1000\n"
     ]
    }
   ],
   "source": [
    "omicron_sequences = pd.read_csv(\"data/unique_Omicron_2k.csv\")[\"sequence\"].tolist()\n",
    "eris_sequences = pd.read_csv(\"data/unique_Eris_2081.csv\")[\"sequence\"].tolist()\n",
    "new_sequences = pd.read_csv(\"data/unique_Omicron_New_548.csv\")[\"sequence\"].tolist()\n",
    "new_sequences = random.sample(new_sequences, 500)\n",
    "mutant_sequences = get_mutated_omicron(rbd=False)\n",
    "mutant_rbd_sequences = get_mutated_omicron(rbd=True)\n",
    "\n",
    "NEG_SET = \"eris_rbd\" # mutant or eris or new\n",
    "\n",
    "if NEG_SET == \"eris\":\n",
    "        neg_sequences = random.sample(eris_sequences, 500)\n",
    "elif NEG_SET == \"mutant\":\n",
    "        neg_sequences = random.sample(mutant_sequences, 500)\n",
    "elif NEG_SET == \"mutant_rbd\":\n",
    "        neg_sequences = random.sample(mutant_rbd_sequences, 500)\n",
    "\n",
    "\n",
    "\n",
    "# sample 1000 random sequences from the omicron dataset\n",
    "omicron_samples = random.sample(omicron_sequences, 1000)\n",
    "\n",
    "\n",
    "test_examples = []\n",
    "for i, seq in enumerate(new_sequences):\n",
    "        test_examples.append(InputExample(texts=[omicron_samples[i], seq], label = 1))\n",
    "\n",
    "for i, seq in enumerate(neg_sequences):\n",
    "        test_examples.append(InputExample(texts=[omicron_samples[i+500], seq], label = 0))\n",
    "\n",
    "# shuffle the test examples\n",
    "random.shuffle(test_examples)\n",
    "print(\"len(test_examples): \", len(test_examples))"
   ]
  },
  {
   "cell_type": "code",
   "execution_count": 20,
   "id": "ef4038e3",
   "metadata": {},
   "outputs": [],
   "source": [
    "import os\n",
    "\n",
    "# Create output directory if needed\n",
    "output_dir = f\"./{LOSS_NAME}_output_{POOLING_MODE}_{NEG_SET}_omicron\"\n",
    "evaluator_dir = f\"{output_dir}/eval\"\n",
    "\n",
    "if not os.path.exists(output_dir):\n",
    "    os.makedirs(output_dir)\n",
    "if not os.path.exists(evaluator_dir):\n",
    "    os.makedirs(evaluator_dir)\n"
   ]
  },
  {
   "cell_type": "code",
   "execution_count": 24,
   "id": "c3819296",
   "metadata": {},
   "outputs": [
    {
     "name": "stdout",
     "output_type": "stream",
     "text": [
      "Comparing omicron_new and eris_rbd\n",
      "Mean Euclidean distance: 1.7661213874816895\n",
      "Using threshold for Euclidean distance: 1.7661213874816895\n",
      "Test duration: 0.8574 seconds\n",
      "1000 test examples\n",
      "Accuracy: 0.4380\n",
      "0.8574 ms per example\n"
     ]
    }
   ],
   "source": [
    "print(\"Comparing omicron_new and\", NEG_SET)\n",
    "test_evaluator = evaluation.BinaryClassificationPredictor(sentences1=[test_example.texts[0] for test_example in test_examples],\n",
    "                                                     sentences2=[test_example.texts[1] for test_example in test_examples],\n",
    "                                                     threshold=None,\n",
    "                                                     batch_size=10000,\n",
    "                                                     show_progress_bar=False,\n",
    "                                                     name=\"test\")\n",
    "\n",
    "# get list of labels from test_examples\n",
    "trues = [test_example.label for test_example in test_examples]\n",
    "\n",
    "# load best model\n",
    "best_model = SentenceTransformer(f\"./{LOSS_NAME}_output_{POOLING_MODE}_best_model\")\n",
    "best_model.to(\"cuda\")\n",
    "\n",
    "# print test duration\n",
    "\n",
    "import time\n",
    "start_time = time.time()\n",
    "preds = best_model.evaluate(test_evaluator)\n",
    "duration = time.time() - start_time\n",
    "print(f\"Test duration: {duration:.4f} seconds\")\n",
    "\n",
    "print(len(preds), \"test examples\")\n",
    "\n",
    "# export predictions\n",
    "preds = [pred for pred in preds]\n",
    "trues = [true for true in trues]\n",
    "\n",
    "df = pd.DataFrame({\"pred\": preds, \"true\": trues})\n",
    "df.to_csv(os.path.join(output_dir, \"eval\", f\"test_preds_{NEG_SET}_omicron.csv\"), index=False)\n",
    "\n",
    "# print accuracy\n",
    "correct_count = sum([1 for pred, true in zip(preds, trues) if pred == true])\n",
    "print(f\"Accuracy: {correct_count / len(trues):.4f}\")\n",
    "\n",
    "print(f\"{(duration * 1000 / len(test_examples)):.4f} ms per example\")\n"
   ]
  },
  {
   "cell_type": "code",
   "execution_count": null,
   "id": "9fdca8e6",
   "metadata": {},
   "outputs": [],
   "source": []
  }
 ],
 "metadata": {
  "kernelspec": {
   "display_name": "Python 3",
   "language": "python",
   "name": "python3"
  },
  "language_info": {
   "codemirror_mode": {
    "name": "ipython",
    "version": 3
   },
   "file_extension": ".py",
   "mimetype": "text/x-python",
   "name": "python",
   "nbconvert_exporter": "python",
   "pygments_lexer": "ipython3",
   "version": "3.8.16"
  }
 },
 "nbformat": 4,
 "nbformat_minor": 5
}
