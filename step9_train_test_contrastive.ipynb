{
 "cells": [
  {
   "cell_type": "code",
   "execution_count": 1,
   "id": "b5e3bf08",
   "metadata": {},
   "outputs": [],
   "source": [
    "import os\n",
    "import pandas as pd\n",
    "import torch\n",
    "from torch import nn\n",
    "from torch.utils.data import DataLoader\n",
    "from tqdm.notebook import tqdm\n",
    "from sentence_transformers import SentenceTransformer, models, InputExample, losses, evaluation\n",
    "from sentence_transformers.util import SiameseDistanceMetric\n",
    "import numpy as np\n",
    "import random\n",
    "seed = 42\n",
    "torch.manual_seed(seed)\n",
    "random.seed(seed)\n",
    "np.random.seed(seed)\n",
    "torch.backends.cudnn.deterministic = True\n",
    "torch.backends.cudnn.benchmark = False\n",
    "\n",
    "CONSTANTS = {\n",
    "    \"VOC_NAMES\": [\"Alpha\", \"Beta\", \"Delta\", \"Gamma\", \"Omicron\"],\n",
    "    \"LOSS_NAME\": \"ContrastiveLoss\",\n",
    "    \"NEG_SET\": \"delta\", # \"other\" or \"delta\"\n",
    "    \"POOLING_MODE\": \"max\",\n",
    "    \"CONCAT\": None, # \"C\" for concat-only, \"CD\" for concat+diff, or \"CDM\" for concat+diff+mult\n",
    "    \"NUM_LABELS\": None,\n",
    "    \"CONF_THRESHOLD\": None,\n",
    "    \"BATCH_SIZE\": 32,\n",
    "    \"EPOCHS\": 10,\n",
    "    \"LR\": 1e-3,\n",
    "    \"RELU\": 0.25,\n",
    "    \"DROPOUT\": 0.0,\n",
    "    \"MARGIN\": 2.0\n",
    "}"
   ]
  },
  {
   "cell_type": "code",
   "execution_count": 2,
   "id": "805e9f14",
   "metadata": {},
   "outputs": [
    {
     "name": "stderr",
     "output_type": "stream",
     "text": [
      "Some weights of the model checkpoint at ./mlm_checkpoints/CoV-RoBERTa_2048 were not used when initializing RobertaModel: ['lm_head.layer_norm.bias', 'lm_head.layer_norm.weight', 'lm_head.dense.bias', 'lm_head.bias', 'lm_head.dense.weight']\n",
      "- This IS expected if you are initializing RobertaModel from the checkpoint of a model trained on another task or with another architecture (e.g. initializing a BertForSequenceClassification model from a BertForPreTraining model).\n",
      "- This IS NOT expected if you are initializing RobertaModel from the checkpoint of a model that you expect to be exactly identical (initializing a BertForSequenceClassification model from a BertForSequenceClassification model).\n",
      "Some weights of RobertaModel were not initialized from the model checkpoint at ./mlm_checkpoints/CoV-RoBERTa_2048 and are newly initialized: ['roberta.pooler.dense.weight', 'roberta.pooler.dense.bias']\n",
      "You should probably TRAIN this model on a down-stream task to be able to use it for predictions and inference.\n"
     ]
    },
    {
     "name": "stdout",
     "output_type": "stream",
     "text": [
      "SentenceTransformer(\n",
      "  (0): Transformer({'max_seq_length': 1280, 'do_lower_case': False}) with Transformer model: RobertaModel \n",
      "  (1): Pooling({'word_embedding_dimension': 768, 'pooling_mode_cls_token': False, 'pooling_mode_mean_tokens': False, 'pooling_mode_max_tokens': True, 'pooling_mode_global_max': False, 'pooling_mode_global_avg': False, 'pooling_mode_attention': False, 'pooling_mode_mean_sqrt_len_tokens': False, 'pooling_mode_weightedmean_tokens': False, 'pooling_mode_lasttoken': False})\n",
      "  (2): Dense({'in_features': 768, 'out_features': 192, 'bias': True, 'activation_function': 'torch.nn.modules.activation.ReLU'})\n",
      ")\n"
     ]
    }
   ],
   "source": [
    "#word_embedding_model = models.Transformer(model_name_or_path=\"Rostlab/prot_bert\", max_seq_length=1280)\n",
    "\n",
    "encoder = models.Transformer(model_name_or_path=\"./mlm_checkpoints/CoV-RoBERTa_2048\",\n",
    "                                          max_seq_length=1280,\n",
    "                                          tokenizer_name_or_path=\"tok/\")\n",
    "\n",
    "dim = encoder.get_word_embedding_dimension() # 768\n",
    "\n",
    "pooler = models.Pooling(dim, pooling_mode = CONSTANTS[\"POOLING_MODE\"])\n",
    "\n",
    "modules = [encoder, pooler]\n",
    "\n",
    "if CONSTANTS[\"RELU\"] > 0:\n",
    "    dense = models.Dense(in_features=dim, out_features=int(dim*CONSTANTS[\"RELU\"]), activation_function=nn.ReLU())\n",
    "    modules.append(dense)\n",
    "\n",
    "if CONSTANTS[\"DROPOUT\"] > 0:\n",
    "    dropout = models.Dropout(CONSTANTS[\"DROPOUT\"])\n",
    "    modules.append(dropout)\n",
    "\n",
    "model = SentenceTransformer(modules=modules)\n",
    "\n",
    "# # Freeze initial transformer layers\n",
    "# for param in model[0].auto_model.embeddings.parameters():\n",
    "#     param.requires_grad = False\n",
    "# for param in model[0].auto_model.encoder.layer[:6].parameters():\n",
    "#     param.requires_grad = False\n",
    "\n",
    "print(model)"
   ]
  },
  {
   "attachments": {},
   "cell_type": "markdown",
   "id": "5073d929",
   "metadata": {},
   "source": [
    "# Generate Pairs for Training"
   ]
  },
  {
   "cell_type": "code",
   "execution_count": 3,
   "id": "8feefe76",
   "metadata": {},
   "outputs": [
    {
     "name": "stdout",
     "output_type": "stream",
     "text": [
      "Training set length: 16000\n"
     ]
    }
   ],
   "source": [
    "omicron_sequences = pd.read_csv(\"data/unique_Omicron_2k.csv\")[\"sequence\"].tolist()\n",
    "alpha_sequences = pd.read_csv(\"data/unique_Alpha_2k.csv\")[\"sequence\"].tolist()\n",
    "beta_sequences = pd.read_csv(\"data/unique_Beta_2k.csv\")[\"sequence\"].tolist()\n",
    "delta_sequences = pd.read_csv(\"data/unique_Delta_2k.csv\")[\"sequence\"].tolist()\n",
    "gamma_sequences = pd.read_csv(\"data/unique_Gamma_2k.csv\")[\"sequence\"].tolist()\n",
    "\n",
    "examples = []\n",
    "\n",
    "if CONSTANTS[\"NEG_SET\"] == \"other\":\n",
    "    others = [alpha_sequences, beta_sequences, delta_sequences, gamma_sequences]\n",
    "    for i, anc in enumerate(omicron_sequences):\n",
    "        # get 4 random omicron sequences\n",
    "        positives = random.sample(omicron_sequences, 4)\n",
    "        for p, pos in enumerate(positives):\n",
    "            neg = others[p][i]\n",
    "            examples.append(InputExample(texts=[anc, pos], label=1))\n",
    "            examples.append(InputExample(texts=[anc, neg], label=0))\n",
    "elif CONSTANTS[\"NEG_SET\"] == \"delta\":\n",
    "    for i, anc in enumerate(omicron_sequences):\n",
    "        # get 4 random omicron sequences\n",
    "        positives = random.sample(omicron_sequences, 4)\n",
    "        # get 4 random delta sequences\n",
    "        negatives = random.sample(delta_sequences, 4)\n",
    "        for pos, neg in zip(positives, negatives):\n",
    "            examples.append(InputExample(texts=[anc, pos], label=1))\n",
    "            examples.append(InputExample(texts=[anc, neg], label=0))\n",
    "\n",
    "print(\"Training set length:\", len(examples))\n",
    "\n",
    "# split examples list into train, validation and test sets\n",
    "random.shuffle(examples)\n",
    "train_size = int(len(examples) * 0.8)\n",
    "val_size = int(len(examples) * 0.1)\n",
    "train_examples = examples[:train_size]\n",
    "val_examples = examples[train_size:train_size + val_size]\n",
    "test_examples = examples[train_size + val_size:]\n",
    "\n",
    "train_dataloader = DataLoader(train_examples, shuffle=True, batch_size=CONSTANTS[\"BATCH_SIZE\"])\n",
    "# val_dataloader = DataLoader(val_examples, shuffle=False, batch_size=CONSTANTS[\"BATCH_SIZE\"])\n",
    "# test_dataloader = DataLoader(test_examples, shuffle=False, batch_size=CONSTANTS[\"BATCH_SIZE\"])"
   ]
  },
  {
   "attachments": {},
   "cell_type": "markdown",
   "id": "48aac034",
   "metadata": {},
   "source": [
    "# Generate Pairs for Zero-shot Test"
   ]
  },
  {
   "cell_type": "code",
   "execution_count": 4,
   "id": "0ee47a3e",
   "metadata": {},
   "outputs": [
    {
     "name": "stdout",
     "output_type": "stream",
     "text": [
      "Zero-shot test set length:  4000\n"
     ]
    }
   ],
   "source": [
    "o = pd.read_csv(\"data/unique_Omicron_2k.csv\")[\"sequence\"].tolist()\n",
    "e = pd.read_csv(\"data/unique_Eris_2k.csv\")[\"sequence\"].tolist()[:2000]\n",
    "n = pd.read_csv(\"data/unique_New_2k.csv\")[\"sequence\"].tolist()[:2000]\n",
    "\n",
    "zero_test_examples = []\n",
    "\n",
    "for i in range(len(omicron_sequences)):\n",
    "        pos = n[i]\n",
    "        neg = e[i]\n",
    "        zero_test_examples.append(InputExample(texts=[anc, pos], label=1))\n",
    "        zero_test_examples.append(InputExample(texts=[anc, neg], label=0))\n",
    "\n",
    "print(\"Zero-shot test set length: \", len(zero_test_examples))"
   ]
  },
  {
   "attachments": {},
   "cell_type": "markdown",
   "id": "496e2710",
   "metadata": {},
   "source": [
    "# Define Loss"
   ]
  },
  {
   "cell_type": "code",
   "execution_count": 5,
   "id": "075fce6a",
   "metadata": {},
   "outputs": [],
   "source": [
    "if CONSTANTS[\"LOSS_NAME\"] == \"ContrastiveLoss\":\n",
    "    train_loss = losses.ContrastiveLoss(model=model,\n",
    "                                        distance_metric=SiameseDistanceMetric.EUCLIDEAN,\n",
    "                                        margin = CONSTANTS[\"MARGIN\"])\n",
    "elif CONSTANTS[\"LOSS_NAME\"] == \"OnlineContrastiveLoss\":\n",
    "    train_loss = losses.OnlineContrastiveLoss(model=model,\n",
    "                                              distance_metric=SiameseDistanceMetric.EUCLIDEAN,\n",
    "                                              margin = CONSTANTS[\"MARGIN\"])"
   ]
  },
  {
   "attachments": {},
   "cell_type": "markdown",
   "id": "0157f63b",
   "metadata": {},
   "source": [
    "# Construct Evaluators"
   ]
  },
  {
   "cell_type": "code",
   "execution_count": 6,
   "id": "e6ba708b",
   "metadata": {},
   "outputs": [],
   "source": [
    "evaluator = evaluation.BinaryClassificationEvaluator(\n",
    "    sentences1=[val_example.texts[0] for val_example in val_examples],\n",
    "    sentences2=[val_example.texts[1] for val_example in val_examples],\n",
    "    labels=[val_example.label for val_example in val_examples],\n",
    "    distance_metric=SiameseDistanceMetric.EUCLIDEAN,\n",
    "    batch_size=CONSTANTS[\"BATCH_SIZE\"],\n",
    "    margin = CONSTANTS[\"MARGIN\"],\n",
    "    show_progress_bar=False,\n",
    "    write_csv=True,\n",
    "    name='Eval')\n",
    "\n",
    "test_evaluator = evaluation.BinaryClassificationEvaluator(\n",
    "    sentences1=[test_example.texts[0] for test_example in test_examples],\n",
    "    sentences2=[test_example.texts[1] for test_example in test_examples],\n",
    "    labels=[test_example.label for test_example in test_examples],\n",
    "    batch_size=CONSTANTS['BATCH_SIZE'],\n",
    "    margin=CONSTANTS['MARGIN'],\n",
    "    show_progress_bar=False,\n",
    "    name=\"Test\")\n",
    "\n",
    "zero_test_evaluator = evaluation.BinaryClassificationEvaluator(\n",
    "    sentences1=[zero_test_example.texts[0] for zero_test_example in zero_test_examples],\n",
    "    sentences2=[zero_test_example.texts[1] for zero_test_example in zero_test_examples],\n",
    "    labels=[zero_test_example.label for zero_test_example in zero_test_examples],\n",
    "    batch_size=CONSTANTS['BATCH_SIZE'],\n",
    "    margin=CONSTANTS['MARGIN'],\n",
    "    show_progress_bar=False,\n",
    "    name=\"Zero\")"
   ]
  },
  {
   "attachments": {},
   "cell_type": "markdown",
   "id": "24b92670",
   "metadata": {},
   "source": [
    "# Prepare Folders"
   ]
  },
  {
   "cell_type": "code",
   "execution_count": 7,
   "id": "ef4038e3",
   "metadata": {},
   "outputs": [
    {
     "name": "stdout",
     "output_type": "stream",
     "text": [
      "Created directory: ./outputs/ContrastiveLoss_omicron_vs_delta_Pmax_R0.25_D0.0_E10_LR_0.001_B32_M2.0/checkpoints\n",
      "Created directory: ./outputs/ContrastiveLoss_omicron_vs_delta_Pmax_R0.25_D0.0_E10_LR_0.001_B32_M2.0/stats\n"
     ]
    }
   ],
   "source": [
    "import os\n",
    "import shutil\n",
    "\n",
    "# Create output directory if needed\n",
    "output_dir = f\"./outputs/{CONSTANTS['LOSS_NAME']}_omicron_vs_{CONSTANTS['NEG_SET']}_\" \\\n",
    "                f\"P{CONSTANTS['POOLING_MODE']}_\" \\\n",
    "                f\"R{CONSTANTS['RELU']}_\" \\\n",
    "                f\"D{CONSTANTS['DROPOUT']}_\" \\\n",
    "                f\"E{CONSTANTS['EPOCHS']}_\" \\\n",
    "                f\"LR_{CONSTANTS['LR']}_\" \\\n",
    "                f\"B{CONSTANTS['BATCH_SIZE']}_\" \\\n",
    "                f\"M{CONSTANTS['MARGIN']}\"\n",
    "\n",
    "if os.path.exists(output_dir):\n",
    "    shutil.rmtree(output_dir)\n",
    "    print(f\"Removed directory: {output_dir}\")\n",
    "\n",
    "checkpoint_dir = f\"{output_dir}/checkpoints\"\n",
    "stats_dir = f\"{output_dir}/stats\"\n",
    "\n",
    "for d in [checkpoint_dir, stats_dir]:\n",
    "    if not os.path.exists(d):\n",
    "        os.makedirs(d)\n",
    "        print(f\"Created directory: {d}\")"
   ]
  },
  {
   "attachments": {},
   "cell_type": "markdown",
   "id": "267e2c8d",
   "metadata": {},
   "source": [
    "# Run Training & Test"
   ]
  },
  {
   "cell_type": "code",
   "execution_count": 8,
   "id": "25a6df7f",
   "metadata": {},
   "outputs": [
    {
     "name": "stdout",
     "output_type": "stream",
     "text": [
      "VOC_NAMES: ['Alpha', 'Beta', 'Delta', 'Gamma', 'Omicron']\n",
      "LOSS_NAME: ContrastiveLoss\n",
      "NEG_SET: delta\n",
      "POOLING_MODE: max\n",
      "CONCAT: None\n",
      "NUM_LABELS: None\n",
      "CONF_THRESHOLD: None\n",
      "BATCH_SIZE: 32\n",
      "EPOCHS: 10\n",
      "LR: 0.001\n",
      "RELU: 0.25\n",
      "DROPOUT: 0.0\n",
      "MARGIN: 2.0\n"
     ]
    },
    {
     "data": {
      "application/vnd.jupyter.widget-view+json": {
       "model_id": "b809a4cbc21c49609301748aac79ac15",
       "version_major": 2,
       "version_minor": 0
      },
      "text/plain": [
       "Epoch:   0%|          | 0/10 [00:00<?, ?it/s]"
      ]
     },
     "metadata": {},
     "output_type": "display_data"
    },
    {
     "data": {
      "application/vnd.jupyter.widget-view+json": {
       "model_id": "ae53810d1401452ca3e0b4c79c9439b1",
       "version_major": 2,
       "version_minor": 0
      },
      "text/plain": [
       "Iteration:   0%|          | 0/400 [00:00<?, ?it/s]"
      ]
     },
     "metadata": {},
     "output_type": "display_data"
    },
    {
     "name": "stdout",
     "output_type": "stream",
     "text": [
      "--- Epoch 0 ---\n",
      "Train Loss = 0.0888   Train Accuracy = 0.9688\n",
      "Eval Loss  = 0.0552   Eval Accuracy  = 0.9794    (using best distance threshold   = 0.8558)\n",
      "Eval Loss  = 0.0552   Eval Accuracy  = 0.9613    (using median distance threshold = 0.4365)\n",
      "Test Loss  = 0.0565   Test Accuracy  = 0.9781    (using best distance threshold   = 1.1250)\n",
      "Test Loss  = 0.0565   Test Accuracy  = 0.9663    (using median distance threshold = 0.5925)\n",
      "Zero Loss  = 0.4621   Zero Accuracy  = 0.7655    (using best distance threshold   = 0.7017)\n",
      "Zero Loss  = 0.4621   Zero Accuracy  = 0.6335    (using median distance threshold = 0.2233)\n"
     ]
    },
    {
     "data": {
      "application/vnd.jupyter.widget-view+json": {
       "model_id": "fd41067935b84498a76a5c1b20398450",
       "version_major": 2,
       "version_minor": 0
      },
      "text/plain": [
       "Iteration:   0%|          | 0/400 [00:00<?, ?it/s]"
      ]
     },
     "metadata": {},
     "output_type": "display_data"
    },
    {
     "name": "stdout",
     "output_type": "stream",
     "text": [
      "--- Epoch 1 ---\n",
      "Train Loss = 0.0038   Train Accuracy = 1.0000\n",
      "Eval Loss  = 0.0090   Eval Accuracy  = 0.9994    (using best distance threshold   = 0.1436)\n",
      "Eval Loss  = 0.0090   Eval Accuracy  = 0.9738    (using median distance threshold = 0.0315)\n",
      "Test Loss  = 0.0082   Test Accuracy  = 0.9981    (using best distance threshold   = 0.0738)\n",
      "Test Loss  = 0.0082   Test Accuracy  = 0.9850    (using median distance threshold = 0.0357)\n",
      "Zero Loss  = 0.4486   Zero Accuracy  = 0.8175    (using best distance threshold   = 0.0229)\n",
      "Zero Loss  = 0.4486   Zero Accuracy  = 0.8125    (using median distance threshold = 0.0256)\n"
     ]
    },
    {
     "data": {
      "application/vnd.jupyter.widget-view+json": {
       "model_id": "391d2c406bd548189cbe322ad1f97de4",
       "version_major": 2,
       "version_minor": 0
      },
      "text/plain": [
       "Iteration:   0%|          | 0/400 [00:00<?, ?it/s]"
      ]
     },
     "metadata": {},
     "output_type": "display_data"
    },
    {
     "name": "stdout",
     "output_type": "stream",
     "text": [
      "--- Epoch 2 ---\n",
      "Train Loss = 0.0006   Train Accuracy = 1.0000\n",
      "Eval Loss  = 0.0001   Eval Accuracy  = 1.0000    (using best distance threshold   = 1.6795)\n",
      "Eval Loss  = 0.0001   Eval Accuracy  = 0.9750    (using median distance threshold = 0.0278)\n",
      "Test Loss  = 0.0004   Test Accuracy  = 1.0000    (using best distance threshold   = 2.7554)\n",
      "Test Loss  = 0.0004   Test Accuracy  = 0.9875    (using median distance threshold = 0.0337)\n",
      "Zero Loss  = 0.5744   Zero Accuracy  = 0.7920    (using best distance threshold   = 0.0266)\n",
      "Zero Loss  = 0.5744   Zero Accuracy  = 0.7790    (using median distance threshold = 0.0163)\n"
     ]
    },
    {
     "data": {
      "application/vnd.jupyter.widget-view+json": {
       "model_id": "0c9546617dae4e97936ebb619b262e89",
       "version_major": 2,
       "version_minor": 0
      },
      "text/plain": [
       "Iteration:   0%|          | 0/400 [00:00<?, ?it/s]"
      ]
     },
     "metadata": {},
     "output_type": "display_data"
    },
    {
     "name": "stdout",
     "output_type": "stream",
     "text": [
      "--- Epoch 3 ---\n",
      "Train Loss = 0.0060   Train Accuracy = 1.0000\n",
      "Eval Loss  = 0.0289   Eval Accuracy  = 0.9981    (using best distance threshold   = 4.2797)\n",
      "Eval Loss  = 0.0289   Eval Accuracy  = 0.9750    (using median distance threshold = 0.0180)\n",
      "Test Loss  = 0.1771   Test Accuracy  = 0.9962    (using best distance threshold   = 1.1801)\n",
      "Test Loss  = 0.1771   Test Accuracy  = 0.9875    (using median distance threshold = 0.0225)\n",
      "Zero Loss  = 1.3864   Zero Accuracy  = 0.7605    (using best distance threshold   = 0.0221)\n",
      "Zero Loss  = 1.3864   Zero Accuracy  = 0.6685    (using median distance threshold = 0.0101)\n"
     ]
    },
    {
     "data": {
      "application/vnd.jupyter.widget-view+json": {
       "model_id": "765a9aa4506f450581e609d3f5d8f80e",
       "version_major": 2,
       "version_minor": 0
      },
      "text/plain": [
       "Iteration:   0%|          | 0/400 [00:00<?, ?it/s]"
      ]
     },
     "metadata": {},
     "output_type": "display_data"
    },
    {
     "name": "stdout",
     "output_type": "stream",
     "text": [
      "--- Epoch 4 ---\n",
      "Train Loss = 0.0982   Train Accuracy = 1.0000\n",
      "Eval Loss  = 0.0895   Eval Accuracy  = 0.9888    (using best distance threshold   = 0.0228)\n",
      "Eval Loss  = 0.0895   Eval Accuracy  = 0.9688    (using median distance threshold = 0.0066)\n",
      "Test Loss  = 0.1255   Test Accuracy  = 0.9850    (using best distance threshold   = 0.0119)\n",
      "Test Loss  = 0.1255   Test Accuracy  = 0.9788    (using median distance threshold = 0.0086)\n",
      "Zero Loss  = 1.0324   Zero Accuracy  = 0.7210    (using best distance threshold   = 0.0072)\n",
      "Zero Loss  = 1.0324   Zero Accuracy  = 0.7065    (using median distance threshold = 0.0036)\n"
     ]
    },
    {
     "data": {
      "application/vnd.jupyter.widget-view+json": {
       "model_id": "cd2af9e79aee4bafaad102c6245ee4ec",
       "version_major": 2,
       "version_minor": 0
      },
      "text/plain": [
       "Iteration:   0%|          | 0/400 [00:00<?, ?it/s]"
      ]
     },
     "metadata": {},
     "output_type": "display_data"
    },
    {
     "name": "stdout",
     "output_type": "stream",
     "text": [
      "--- Epoch 5 ---\n",
      "Train Loss = 0.0000   Train Accuracy = 1.0000\n",
      "Eval Loss  = 0.0050   Eval Accuracy  = 0.9981    (using best distance threshold   = 0.0222)\n",
      "Eval Loss  = 0.0050   Eval Accuracy  = 0.9750    (using median distance threshold = 0.0020)\n",
      "Test Loss  = 0.0131   Test Accuracy  = 0.9969    (using best distance threshold   = 0.0203)\n",
      "Test Loss  = 0.0131   Test Accuracy  = 0.9850    (using median distance threshold = 0.0038)\n",
      "Zero Loss  = 0.6728   Zero Accuracy  = 0.7650    (using best distance threshold   = 0.0147)\n",
      "Zero Loss  = 0.6728   Zero Accuracy  = 0.6520    (using median distance threshold = 0.0010)\n"
     ]
    },
    {
     "data": {
      "application/vnd.jupyter.widget-view+json": {
       "model_id": "597a1d8a93a44d1eb45ce4dcef759a27",
       "version_major": 2,
       "version_minor": 0
      },
      "text/plain": [
       "Iteration:   0%|          | 0/400 [00:00<?, ?it/s]"
      ]
     },
     "metadata": {},
     "output_type": "display_data"
    },
    {
     "name": "stdout",
     "output_type": "stream",
     "text": [
      "--- Epoch 6 ---\n",
      "Train Loss = 0.1550   Train Accuracy = 0.9688\n",
      "Eval Loss  = 0.0060   Eval Accuracy  = 0.9975    (using best distance threshold   = 0.8876)\n",
      "Eval Loss  = 0.0060   Eval Accuracy  = 0.9738    (using median distance threshold = 0.0072)\n",
      "Test Loss  = 0.0067   Test Accuracy  = 0.9969    (using best distance threshold   = 1.2083)\n",
      "Test Loss  = 0.0067   Test Accuracy  = 0.9850    (using median distance threshold = 0.0122)\n",
      "Zero Loss  = 0.9065   Zero Accuracy  = 0.7147    (using best distance threshold   = 0.0100)\n",
      "Zero Loss  = 0.9065   Zero Accuracy  = 0.6075    (using median distance threshold = 0.0018)\n"
     ]
    },
    {
     "data": {
      "application/vnd.jupyter.widget-view+json": {
       "model_id": "6c0e059499f14676a08dcb89245ae5a5",
       "version_major": 2,
       "version_minor": 0
      },
      "text/plain": [
       "Iteration:   0%|          | 0/400 [00:00<?, ?it/s]"
      ]
     },
     "metadata": {},
     "output_type": "display_data"
    },
    {
     "name": "stdout",
     "output_type": "stream",
     "text": [
      "--- Epoch 7 ---\n",
      "Train Loss = 0.6015   Train Accuracy = 0.7188\n",
      "Eval Loss  = 0.6046   Eval Accuracy  = 0.7937    (using best distance threshold   = 0.0000)\n",
      "Eval Loss  = 0.6046   Eval Accuracy  = 0.7719    (using median distance threshold = 1.2722)\n",
      "Test Loss  = 0.6047   Test Accuracy  = 0.7894    (using best distance threshold   = 0.0000)\n",
      "Test Loss  = 0.6047   Test Accuracy  = 0.7700    (using median distance threshold = 1.2722)\n",
      "Zero Loss  = 0.6555   Zero Accuracy  = 0.7345    (using best distance threshold   = 2.2268)\n",
      "Zero Loss  = 0.6555   Zero Accuracy  = 0.6783    (using median distance threshold = 0.0000)\n"
     ]
    },
    {
     "data": {
      "application/vnd.jupyter.widget-view+json": {
       "model_id": "19edea07a08c46fea369b97e437c886a",
       "version_major": 2,
       "version_minor": 0
      },
      "text/plain": [
       "Iteration:   0%|          | 0/400 [00:00<?, ?it/s]"
      ]
     },
     "metadata": {},
     "output_type": "display_data"
    },
    {
     "name": "stdout",
     "output_type": "stream",
     "text": [
      "--- Epoch 8 ---\n",
      "Train Loss = 0.4238   Train Accuracy = 0.7500\n",
      "Eval Loss  = 0.6281   Eval Accuracy  = 0.6175    (using best distance threshold   = 1.0349)\n",
      "Eval Loss  = 0.6281   Eval Accuracy  = 0.6162    (using median distance threshold = 1.0349)\n",
      "Test Loss  = 0.6410   Test Accuracy  = 0.6175    (using best distance threshold   = 1.0349)\n",
      "Test Loss  = 0.6410   Test Accuracy  = 0.6100    (using median distance threshold = 0.0001)\n",
      "Zero Loss  = 1.1331   Zero Accuracy  = 0.5000    (using best distance threshold   = 0.0000)\n",
      "Zero Loss  = 1.1331   Zero Accuracy  = 0.2745    (using median distance threshold = 0.0000)\n"
     ]
    },
    {
     "data": {
      "application/vnd.jupyter.widget-view+json": {
       "model_id": "8b9a40dfe5304dceb91ed15bf3cb4dee",
       "version_major": 2,
       "version_minor": 0
      },
      "text/plain": [
       "Iteration:   0%|          | 0/400 [00:00<?, ?it/s]"
      ]
     },
     "metadata": {},
     "output_type": "display_data"
    },
    {
     "name": "stdout",
     "output_type": "stream",
     "text": [
      "--- Epoch 9 ---\n",
      "Train Loss = 0.5099   Train Accuracy = 0.6562\n",
      "Eval Loss  = 0.9443   Eval Accuracy  = 0.5250    (using best distance threshold   = 0.4751)\n",
      "Eval Loss  = 0.9443   Eval Accuracy  = 0.4750    (using median distance threshold = 0.0000)\n",
      "Test Loss  = 0.9678   Test Accuracy  = 0.5119    (using best distance threshold   = 0.4751)\n",
      "Test Loss  = 0.9678   Test Accuracy  = 0.4844    (using median distance threshold = 0.0000)\n",
      "Zero Loss  = 0.7387   Zero Accuracy  = 0.8105    (using best distance threshold   = 0.0000)\n",
      "Zero Loss  = 0.7387   Zero Accuracy  = 0.8010    (using median distance threshold = 0.0000)\n"
     ]
    }
   ],
   "source": [
    "# print CONSTANTS\n",
    "for k, v in CONSTANTS.items():\n",
    "    print(f\"{k}: {v}\")\n",
    "\n",
    "model.fit(train_objectives=[(train_dataloader, train_loss)],\n",
    "          evaluator=evaluator,\n",
    "          tester=test_evaluator,\n",
    "          zero_shot_tester=zero_test_evaluator,\n",
    "          epochs=CONSTANTS['EPOCHS'],\n",
    "          optimizer_class=torch.optim.AdamW,\n",
    "          optimizer_params= {'lr': CONSTANTS['LR']}, # 1e-3 for CoV-RoBERTa, 1e-6 for ProtBERT\n",
    "          weight_decay=0.1, # 0.1 for CoV-RoBERTa, 0.01 for ProtBERT\n",
    "          # evaluation_steps=64,\n",
    "          output_path=output_dir,\n",
    "          save_best_model=True,\n",
    "          #checkpoint_path=checkpoint_dir,\n",
    "          #checkpoint_save_steps=len(train_dataloader),\n",
    "          #checkpoint_save_total_limit=1000000,\n",
    "          show_progress_bar=True,\n",
    "          loss_name=CONSTANTS['LOSS_NAME'])"
   ]
  },
  {
   "attachments": {},
   "cell_type": "markdown",
   "id": "ea87d514",
   "metadata": {},
   "source": [
    "# Display Stats"
   ]
  },
  {
   "cell_type": "code",
   "execution_count": 9,
   "id": "8c7ff037",
   "metadata": {},
   "outputs": [
    {
     "data": {
      "text/html": [
       "<div>\n",
       "<style scoped>\n",
       "    .dataframe tbody tr th:only-of-type {\n",
       "        vertical-align: middle;\n",
       "    }\n",
       "\n",
       "    .dataframe tbody tr th {\n",
       "        vertical-align: top;\n",
       "    }\n",
       "\n",
       "    .dataframe thead th {\n",
       "        text-align: right;\n",
       "    }\n",
       "</style>\n",
       "<table border=\"1\" class=\"dataframe\">\n",
       "  <thead>\n",
       "    <tr style=\"text-align: right;\">\n",
       "      <th></th>\n",
       "      <th>LOSS_NAME</th>\n",
       "      <th>NEG_SET</th>\n",
       "      <th>POOLING_MODE</th>\n",
       "      <th>CONCAT</th>\n",
       "      <th>NUM_LABELS</th>\n",
       "      <th>CONF_THRESHOLD</th>\n",
       "      <th>BATCH_SIZE</th>\n",
       "      <th>EPOCHS</th>\n",
       "      <th>LR</th>\n",
       "      <th>RELU</th>\n",
       "      <th>DROPOUT</th>\n",
       "      <th>MARGIN</th>\n",
       "      <th>MAX_TEST_ACC</th>\n",
       "      <th>MAX_ZERO_ACC</th>\n",
       "    </tr>\n",
       "  </thead>\n",
       "  <tbody>\n",
       "    <tr>\n",
       "      <th>0</th>\n",
       "      <td>ContrastiveLoss</td>\n",
       "      <td>delta</td>\n",
       "      <td>max</td>\n",
       "      <td>None</td>\n",
       "      <td>None</td>\n",
       "      <td>None</td>\n",
       "      <td>32</td>\n",
       "      <td>10</td>\n",
       "      <td>0.001</td>\n",
       "      <td>0.25</td>\n",
       "      <td>0.0</td>\n",
       "      <td>2.0</td>\n",
       "      <td>1.0</td>\n",
       "      <td>0.8175</td>\n",
       "    </tr>\n",
       "  </tbody>\n",
       "</table>\n",
       "</div>"
      ],
      "text/plain": [
       "         LOSS_NAME NEG_SET POOLING_MODE CONCAT NUM_LABELS CONF_THRESHOLD  \\\n",
       "0  ContrastiveLoss   delta          max   None       None           None   \n",
       "\n",
       "   BATCH_SIZE  EPOCHS     LR  RELU  DROPOUT  MARGIN  MAX_TEST_ACC  \\\n",
       "0          32      10  0.001  0.25      0.0     2.0           1.0   \n",
       "\n",
       "   MAX_ZERO_ACC  \n",
       "0        0.8175  "
      ]
     },
     "metadata": {},
     "output_type": "display_data"
    }
   ],
   "source": [
    "# read loss values from csv:\n",
    "f_train_stats = os.path.join(stats_dir, 'Train.csv')\n",
    "f_eval_stats = os.path.join(stats_dir, 'Eval.csv')\n",
    "f_test_stats = os.path.join(stats_dir, 'Test.csv')\n",
    "f_zero_stats = os.path.join(stats_dir, 'Zero.csv')\n",
    "\n",
    "train_stats = pd.read_csv(f_train_stats)\n",
    "eval_stats = pd.read_csv(f_eval_stats)\n",
    "test_stats = pd.read_csv(f_test_stats)\n",
    "zero_stats = pd.read_csv(f_zero_stats)\n",
    "\n",
    "best_test_acc = test_stats[\"accuracy\"].max()\n",
    "best_zero_acc = zero_stats[\"accuracy\"].max()\n",
    "\n",
    "# create a dataframe with CONSTANTS and best accuracies\n",
    "df = pd.DataFrame()\n",
    "for k, v in CONSTANTS.items():\n",
    "    if k not in [\"VOC_NAMES\"]:\n",
    "        df[k] = [v] # if v is not None else [\"N/A\"]\n",
    "\n",
    "df[\"MAX_TEST_ACC\"] = best_test_acc\n",
    "df[\"MAX_ZERO_ACC\"] = best_zero_acc\n",
    "\n",
    "display(df)\n",
    "\n",
    "# save the dataframe to a csv file under stats_dir\n",
    "df.to_csv(os.path.join(stats_dir, \"summary.csv\"), index=False)\n",
    "\n",
    "# append row to global_stats.csv\n",
    "if not os.path.exists(\"global_stats.csv\") or os.path.getsize(\"global_stats.csv\") == 0:\n",
    "    df.to_csv(\"global_stats.csv\", index=False)\n",
    "else:\n",
    "    global_stats = pd.read_csv(\"global_stats.csv\")\n",
    "    global_stats = pd.concat([global_stats, df], ignore_index=True)\n",
    "    global_stats.to_csv(\"global_stats.csv\", index=False)"
   ]
  },
  {
   "cell_type": "code",
   "execution_count": 10,
   "id": "84a08004",
   "metadata": {},
   "outputs": [
    {
     "data": {
      "image/png": "[encoded data removed]",
      "text/plain": [
       "<Figure size 1080x360 with 2 Axes>"
      ]
     },
     "metadata": {
      "needs_background": "light"
     },
     "output_type": "display_data"
    },
    {
     "ename": "",
     "evalue": "",
     "output_type": "error",
     "traceback": [
      "\u001b[1;31mThe Kernel crashed while executing code in the the current cell or a previous cell. Please review the code in the cell(s) to identify a possible cause of the failure. Click <a href='https://aka.ms/vscodeJupyterKernelCrash'>here</a> for more info. View Jupyter <a href='command:jupyter.viewOutput'>log</a> for further details."
     ]
    }
   ],
   "source": [
    "# Plot the training and validation loss and accuracy\n",
    "import matplotlib.pyplot as plt\n",
    "\n",
    "# plot loss and accuracy figures side by side\n",
    "fig, axs = plt.subplots(1, 2, figsize=(15, 5))\n",
    "axs[0].plot(train_stats[\"epoch\"], train_stats[\"loss\"], label=\"Training\")\n",
    "axs[0].plot(eval_stats[\"epoch\"], eval_stats[\"loss\"], label=\"Validation\")\n",
    "axs[0].plot(test_stats[\"epoch\"], test_stats[\"loss\"], label=\"Test\")\n",
    "axs[0].plot(zero_stats[\"epoch\"], zero_stats[\"loss\"], label=\"Zero-shot\")\n",
    "\n",
    "axs[0].set_xlabel(\"Epoch\")\n",
    "axs[0].set_ylabel(\"Loss\")\n",
    "axs[0].legend()\n",
    "axs[1].plot(train_stats[\"epoch\"], train_stats[\"accuracy\"], label=\"Training\")\n",
    "axs[1].plot(eval_stats[\"epoch\"], eval_stats[\"accuracy\"], label=\"Validation\")\n",
    "axs[1].plot(test_stats[\"epoch\"], test_stats[\"accuracy\"], label=\"Test\")\n",
    "axs[1].plot(zero_stats[\"epoch\"], zero_stats[\"accuracy\"], label=\"Zero-shot\")\n",
    "\n",
    "axs[1].set_xlabel(\"Epoch\")\n",
    "axs[1].set_ylabel(\"Accuracy\")\n",
    "axs[1].legend()\n",
    "plt.tight_layout()\n",
    "#save as pdf\n",
    "plt.savefig(os.path.join(stats_dir, \"plot.pdf\"))\n",
    "plt.show()"
   ]
  },
  {
   "cell_type": "code",
   "execution_count": null,
   "id": "d0027ca6",
   "metadata": {},
   "outputs": [],
   "source": []
  }
 ],
 "metadata": {
  "kernelspec": {
   "display_name": "Python 3",
   "language": "python",
   "name": "python3"
  },
  "language_info": {
   "codemirror_mode": {
    "name": "ipython",
    "version": 3
   },
   "file_extension": ".py",
   "mimetype": "text/x-python",
   "name": "python",
   "nbconvert_exporter": "python",
   "pygments_lexer": "ipython3",
   "version": "3.8.16"
  }
 },
 "nbformat": 4,
 "nbformat_minor": 5
}
