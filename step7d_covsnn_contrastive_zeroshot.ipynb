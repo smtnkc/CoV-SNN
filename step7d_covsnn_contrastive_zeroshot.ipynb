{
 "cells": [
  {
   "cell_type": "code",
   "execution_count": 1,
   "id": "b5e3bf08",
   "metadata": {},
   "outputs": [],
   "source": [
    "import os\n",
    "import pandas as pd\n",
    "import torch\n",
    "from torch import nn\n",
    "from torch.utils.data import DataLoader\n",
    "from tqdm.notebook import tqdm\n",
    "from sentence_transformers import SentenceTransformer, models, LoggingHandler, InputExample, losses, evaluation\n",
    "from sentence_transformers.losses import SiameseDistanceMetric\n",
    "import numpy as np\n",
    "import random\n",
    "seed = 42\n",
    "torch.manual_seed(seed)\n",
    "random.seed(seed)\n",
    "np.random.seed(seed)\n",
    "torch.backends.cudnn.deterministic = True\n",
    "torch.backends.cudnn.benchmark = False\n",
    "\n",
    "VOC_NAMES = [\"Alpha\", \"Beta\", \"Delta\", \"Gamma\", \"Omicron\"]\n",
    "LOSS_NAME = \"ContrastiveLoss\"\n",
    "POOLING_MODE = \"max\""
   ]
  },
  {
   "cell_type": "code",
   "execution_count": 2,
   "id": "805e9f14",
   "metadata": {},
   "outputs": [
    {
     "name": "stderr",
     "output_type": "stream",
     "text": [
      "Some weights of the model checkpoint at ./mlm_checkpoints/CoV-RoBERTa_2048 were not used when initializing RobertaModel: ['lm_head.dense.weight', 'lm_head.dense.bias', 'lm_head.layer_norm.bias', 'lm_head.layer_norm.weight', 'lm_head.bias']\n",
      "- This IS expected if you are initializing RobertaModel from the checkpoint of a model trained on another task or with another architecture (e.g. initializing a BertForSequenceClassification model from a BertForPreTraining model).\n",
      "- This IS NOT expected if you are initializing RobertaModel from the checkpoint of a model that you expect to be exactly identical (initializing a BertForSequenceClassification model from a BertForSequenceClassification model).\n",
      "Some weights of RobertaModel were not initialized from the model checkpoint at ./mlm_checkpoints/CoV-RoBERTa_2048 and are newly initialized: ['roberta.pooler.dense.bias', 'roberta.pooler.dense.weight']\n",
      "You should probably TRAIN this model on a down-stream task to be able to use it for predictions and inference.\n"
     ]
    }
   ],
   "source": [
    "#word_embedding_model = models.Transformer(model_name_or_path=\"Rostlab/prot_bert\", max_seq_length=1280)\n",
    "\n",
    "encoder = models.Transformer(model_name_or_path=\"./mlm_checkpoints/CoV-RoBERTa_2048\",\n",
    "                                          max_seq_length=1280,\n",
    "                                          tokenizer_name_or_path=\"tok/\")\n",
    "\n",
    "pooler = models.Pooling(encoder.get_word_embedding_dimension(), pooling_mode = POOLING_MODE)\n",
    "\n",
    "\n",
    "model = SentenceTransformer(modules=[encoder, pooler])"
   ]
  },
  {
   "attachments": {},
   "cell_type": "markdown",
   "id": "5073d929",
   "metadata": {},
   "source": [
    "# Construct Contrastive Dataset"
   ]
  },
  {
   "cell_type": "code",
   "execution_count": 3,
   "id": "8feefe76",
   "metadata": {},
   "outputs": [
    {
     "name": "stdout",
     "output_type": "stream",
     "text": [
      "len(examples):  8448\n",
      "len(sequences[0]):  96\n",
      "len(sequences[1]):  100\n",
      "len(sequences[2]):  100\n",
      "len(sequences[3]):  100\n",
      "len(sequences[4]):  100\n"
     ]
    }
   ],
   "source": [
    "sequences = []\n",
    "for voc_name in VOC_NAMES:\n",
    "    sequences.append(pd.read_csv(f\"data/unique_{voc_name}_2k.csv\")[\"sequence\"].tolist())\n",
    "\n",
    "# sequences = [[\"00\" + str(i) for i in range(10, 34)],\n",
    "#              [\"10\" + str(i) for i in range(10, 34)],\n",
    "#              [\"20\" + str(i) for i in range(10, 34)],\n",
    "#              [\"30\" + str(i) for i in range(10, 34)],\n",
    "#              [\"40\" + str(i) for i in range(10, 34)]]\n",
    "\n",
    "examples = []\n",
    "iter = 1\n",
    "done = False\n",
    "rs = 100 # remaining sequences\n",
    "while not done:\n",
    "    #print(\"round\", iter)\n",
    "    for a_p_list_id in range(len(sequences)):\n",
    "        n_list_ids = list(range(len(sequences))).copy()\n",
    "        n_list_ids.remove(a_p_list_id)\n",
    "        anchor_positive_list = sequences[a_p_list_id]\n",
    "        anchor_positives = random.sample(anchor_positive_list, 5)\n",
    "        anchor = anchor_positives[0]\n",
    "        positives = anchor_positives[1:]\n",
    "        anchor_positive_list.remove(anchor)\n",
    "        for positive in positives:\n",
    "            examples.append(InputExample(texts=[anchor, positive], label=1))\n",
    "            #print(f\"[{anchor}, {positive}, 1]\")\n",
    "            anchor_positive_list.remove(positive)\n",
    "        \n",
    "\n",
    "        for n_list_id in n_list_ids:\n",
    "            negative_list = sequences[n_list_id]\n",
    "            negative = random.choice(negative_list)\n",
    "            negative_list.remove(negative)\n",
    "            examples.append(InputExample(texts=[anchor, negative], label=0))\n",
    "            #print(f\"[{anchor}, {negative}, 0]\")\n",
    "        \n",
    "        \n",
    "        if len(sequences[0]) < rs or len(sequences[1]) < rs or len(sequences[2]) < rs or len(sequences[3]) < rs or len(sequences[4]) < rs:\n",
    "            done = True\n",
    "            break\n",
    "    iter += 1\n",
    "\n",
    "print(\"len(examples): \", len(examples))\n",
    "print(\"len(sequences[0]): \", len(sequences[0]))\n",
    "print(\"len(sequences[1]): \", len(sequences[1]))\n",
    "print(\"len(sequences[2]): \", len(sequences[2]))\n",
    "print(\"len(sequences[3]): \", len(sequences[3]))\n",
    "print(\"len(sequences[4]): \", len(sequences[4]))"
   ]
  },
  {
   "cell_type": "code",
   "execution_count": 4,
   "id": "721d8dcf",
   "metadata": {},
   "outputs": [
    {
     "name": "stdout",
     "output_type": "stream",
     "text": [
      "len(eris_examples):  496\n"
     ]
    }
   ],
   "source": [
    "# create random eris examples with the remaining VOC sequences\n",
    "eris_sequences = pd.read_csv(\"data/unique_Eris_2081.csv\")[\"sequence\"].tolist()[:2000]\n",
    "eris_examples = []\n",
    "variant_name = []\n",
    "for i, seqs in enumerate(sequences):\n",
    "    for seq in seqs:\n",
    "        eris_seq = random.choice(eris_sequences)\n",
    "        eris_examples.append(InputExample(texts=[seq, eris_seq], label=0))\n",
    "        variant_name.append(VOC_NAMES[i])\n",
    "\n",
    "print(\"len(eris_examples): \", len(eris_examples))\n",
    "\n",
    "train_examples = examples[:int(len(examples)*0.8)]\n",
    "dev_examples = examples[int(len(examples)*0.8):int(len(examples)*0.9)]\n",
    "test_examples = examples[int(len(examples)*0.9):]\n",
    "\n",
    "test_examples_with_eris = test_examples + eris_examples"
   ]
  },
  {
   "cell_type": "code",
   "execution_count": 5,
   "id": "229a24f6",
   "metadata": {},
   "outputs": [],
   "source": [
    "batch_size = 200\n",
    "train_dataloader = DataLoader(train_examples, shuffle=True, batch_size=batch_size)\n",
    "dev_dataloader = DataLoader(dev_examples, shuffle=False, batch_size=batch_size)\n",
    "test_dataloader = DataLoader(test_examples, shuffle=False, batch_size=batch_size)\n",
    "test_dataloader_with_eris = DataLoader(test_examples_with_eris, shuffle=False, batch_size=batch_size)"
   ]
  },
  {
   "cell_type": "code",
   "execution_count": 6,
   "id": "075fce6a",
   "metadata": {},
   "outputs": [],
   "source": [
    "train_loss = losses.ContrastiveLoss(model=model, distance_metric=SiameseDistanceMetric.EUCLIDEAN, margin=5)"
   ]
  },
  {
   "cell_type": "code",
   "execution_count": 7,
   "id": "e6ba708b",
   "metadata": {},
   "outputs": [],
   "source": [
    "evaluator = evaluation.BinaryClassificationEvaluator(sentences1=[dev_example.texts[0] for dev_example in dev_examples],\n",
    "                                                     sentences2=[dev_example.texts[1] for dev_example in dev_examples],\n",
    "                                                     labels=[dev_example.label for dev_example in dev_examples],\n",
    "                                                     batch_size=batch_size,\n",
    "                                                     show_progress_bar=False,\n",
    "                                                     write_csv=True,\n",
    "                                                     name=\"validation\")"
   ]
  },
  {
   "cell_type": "code",
   "execution_count": 8,
   "id": "ef4038e3",
   "metadata": {},
   "outputs": [],
   "source": [
    "import os\n",
    "\n",
    "# Create output directory if needed\n",
    "output_dir = f\"./{LOSS_NAME}_output_{POOLING_MODE}_zeroshot\"\n",
    "checkpoint_dir = f\"./{LOSS_NAME}_output_{POOLING_MODE}/checkpoints\"\n",
    "evaluator_dir = f\"./{LOSS_NAME}_output_{POOLING_MODE}/eval\"\n",
    "\n",
    "if not os.path.exists(output_dir):\n",
    "    os.makedirs(output_dir)\n",
    "if not os.path.exists(checkpoint_dir):\n",
    "    os.makedirs(checkpoint_dir)\n",
    "if not os.path.exists(evaluator_dir):\n",
    "    os.makedirs(evaluator_dir)\n",
    "\n",
    "# read loss values from csv:\n",
    "train_results_file = os.path.join(output_dir, 'eval', 'training_results.csv')\n",
    "val_results_file = os.path.join(output_dir, 'eval', 'validation_results.csv')"
   ]
  },
  {
   "cell_type": "code",
   "execution_count": 9,
   "id": "1d1ff512",
   "metadata": {},
   "outputs": [
    {
     "name": "stdout",
     "output_type": "stream",
     "text": [
      "File ./ContrastiveLoss_output_max_zeroshot/eval/training_results.csv deleted successfully.\n",
      "File ./ContrastiveLoss_output_max_zeroshot/eval/validation_results.csv deleted successfully.\n"
     ]
    }
   ],
   "source": [
    "# Check if the file exists before attempting to delete\n",
    "if os.path.exists(train_results_file):\n",
    "    try:\n",
    "        # Attempt to remove the file\n",
    "        os.remove(train_results_file)\n",
    "        print(f\"File {train_results_file} deleted successfully.\")\n",
    "    except Exception as e:\n",
    "        print(f\"An error occurred: {e}\")\n",
    "else:\n",
    "    print(f\"File {train_results_file} does not exist.\")\n",
    "\n",
    "# Check if the file exists before attempting to delete\n",
    "if os.path.exists(val_results_file):\n",
    "    try:\n",
    "        # Attempt to remove the file\n",
    "        os.remove(val_results_file)\n",
    "        print(f\"File {val_results_file} deleted successfully.\")\n",
    "    except Exception as e:\n",
    "        print(f\"An error occurred: {e}\")\n",
    "else:\n",
    "    print(f\"File {val_results_file} does not exist.\")"
   ]
  },
  {
   "cell_type": "code",
   "execution_count": 10,
   "id": "25a6df7f",
   "metadata": {},
   "outputs": [
    {
     "data": {
      "application/vnd.jupyter.widget-view+json": {
       "model_id": "7af9595ae8414c1f99024b80801d4053",
       "version_major": 2,
       "version_minor": 0
      },
      "text/plain": [
       "Epoch:   0%|          | 0/30 [00:00<?, ?it/s]"
      ]
     },
     "metadata": {},
     "output_type": "display_data"
    },
    {
     "data": {
      "application/vnd.jupyter.widget-view+json": {
       "model_id": "4eb73fb5b602442e9f165f06d8fc63a9",
       "version_major": 2,
       "version_minor": 0
      },
      "text/plain": [
       "Iteration:   0%|          | 0/34 [00:00<?, ?it/s]"
      ]
     },
     "metadata": {},
     "output_type": "display_data"
    },
    {
     "name": "stdout",
     "output_type": "stream",
     "text": [
      "--- Epoch 0 ---\n",
      "Train Loss = 38.9582   Train Accuracy = 54.4304\n",
      "Valid Loss = 26.32   Valid Accuracy = 51.12\n"
     ]
    },
    {
     "data": {
      "application/vnd.jupyter.widget-view+json": {
       "model_id": "147615a93eaa4dcab07e51b7ac37d545",
       "version_major": 2,
       "version_minor": 0
      },
      "text/plain": [
       "Iteration:   0%|          | 0/34 [00:00<?, ?it/s]"
      ]
     },
     "metadata": {},
     "output_type": "display_data"
    },
    {
     "name": "stdout",
     "output_type": "stream",
     "text": [
      "--- Epoch 1 ---\n",
      "Train Loss = 4.9604   Train Accuracy = 60.1266\n",
      "Valid Loss = 3.92   Valid Accuracy = 51.83\n"
     ]
    },
    {
     "data": {
      "application/vnd.jupyter.widget-view+json": {
       "model_id": "d551fa51a0ac4da789945f3d6b14d278",
       "version_major": 2,
       "version_minor": 0
      },
      "text/plain": [
       "Iteration:   0%|          | 0/34 [00:00<?, ?it/s]"
      ]
     },
     "metadata": {},
     "output_type": "display_data"
    },
    {
     "name": "stdout",
     "output_type": "stream",
     "text": [
      "--- Epoch 2 ---\n",
      "Train Loss = 3.1473   Train Accuracy = 54.4304\n",
      "Valid Loss = 5.30   Valid Accuracy = 51.72\n"
     ]
    },
    {
     "data": {
      "application/vnd.jupyter.widget-view+json": {
       "model_id": "7d4c4b7f75b64cbc94625c3b3c8fa6be",
       "version_major": 2,
       "version_minor": 0
      },
      "text/plain": [
       "Iteration:   0%|          | 0/34 [00:00<?, ?it/s]"
      ]
     },
     "metadata": {},
     "output_type": "display_data"
    },
    {
     "name": "stdout",
     "output_type": "stream",
     "text": [
      "--- Epoch 3 ---\n",
      "Train Loss = 3.1233   Train Accuracy = 58.8608\n",
      "Valid Loss = 5.34   Valid Accuracy = 52.90\n"
     ]
    },
    {
     "data": {
      "application/vnd.jupyter.widget-view+json": {
       "model_id": "c085707e45b34a13ab48d7d7a03f1e7a",
       "version_major": 2,
       "version_minor": 0
      },
      "text/plain": [
       "Iteration:   0%|          | 0/34 [00:00<?, ?it/s]"
      ]
     },
     "metadata": {},
     "output_type": "display_data"
    },
    {
     "name": "stdout",
     "output_type": "stream",
     "text": [
      "--- Epoch 4 ---\n",
      "Train Loss = 3.1834   Train Accuracy = 54.4304\n",
      "Valid Loss = 5.24   Valid Accuracy = 53.85\n"
     ]
    },
    {
     "data": {
      "application/vnd.jupyter.widget-view+json": {
       "model_id": "9fa63f84bb284963b9d5dfe2fc27b6b9",
       "version_major": 2,
       "version_minor": 0
      },
      "text/plain": [
       "Iteration:   0%|          | 0/34 [00:00<?, ?it/s]"
      ]
     },
     "metadata": {},
     "output_type": "display_data"
    },
    {
     "name": "stdout",
     "output_type": "stream",
     "text": [
      "--- Epoch 5 ---\n",
      "Train Loss = 3.0216   Train Accuracy = 64.5570\n",
      "Valid Loss = 3.59   Valid Accuracy = 61.54\n"
     ]
    },
    {
     "data": {
      "application/vnd.jupyter.widget-view+json": {
       "model_id": "3a81eca255b24371b96cb8da3dff1c1f",
       "version_major": 2,
       "version_minor": 0
      },
      "text/plain": [
       "Iteration:   0%|          | 0/34 [00:00<?, ?it/s]"
      ]
     },
     "metadata": {},
     "output_type": "display_data"
    },
    {
     "name": "stdout",
     "output_type": "stream",
     "text": [
      "--- Epoch 6 ---\n",
      "Train Loss = 2.3259   Train Accuracy = 77.8481\n",
      "Valid Loss = 2.92   Valid Accuracy = 68.17\n"
     ]
    },
    {
     "data": {
      "application/vnd.jupyter.widget-view+json": {
       "model_id": "1a288fa698ec44188d3f8c5b614fea33",
       "version_major": 2,
       "version_minor": 0
      },
      "text/plain": [
       "Iteration:   0%|          | 0/34 [00:00<?, ?it/s]"
      ]
     },
     "metadata": {},
     "output_type": "display_data"
    },
    {
     "name": "stdout",
     "output_type": "stream",
     "text": [
      "--- Epoch 7 ---\n",
      "Train Loss = 2.4353   Train Accuracy = 74.6835\n",
      "Valid Loss = 2.46   Valid Accuracy = 68.99\n"
     ]
    },
    {
     "data": {
      "application/vnd.jupyter.widget-view+json": {
       "model_id": "a1fe0fc07562474b91993ea62557fe12",
       "version_major": 2,
       "version_minor": 0
      },
      "text/plain": [
       "Iteration:   0%|          | 0/34 [00:00<?, ?it/s]"
      ]
     },
     "metadata": {},
     "output_type": "display_data"
    },
    {
     "name": "stdout",
     "output_type": "stream",
     "text": [
      "--- Epoch 8 ---\n",
      "Train Loss = 1.4976   Train Accuracy = 89.2405\n",
      "Valid Loss = 1.88   Valid Accuracy = 78.82\n"
     ]
    },
    {
     "data": {
      "application/vnd.jupyter.widget-view+json": {
       "model_id": "6061f35e4a724c37abcc5439aa8d93cf",
       "version_major": 2,
       "version_minor": 0
      },
      "text/plain": [
       "Iteration:   0%|          | 0/34 [00:00<?, ?it/s]"
      ]
     },
     "metadata": {},
     "output_type": "display_data"
    },
    {
     "name": "stdout",
     "output_type": "stream",
     "text": [
      "--- Epoch 9 ---\n",
      "Train Loss = 1.1389   Train Accuracy = 93.0380\n",
      "Valid Loss = 1.58   Valid Accuracy = 83.67\n"
     ]
    },
    {
     "data": {
      "application/vnd.jupyter.widget-view+json": {
       "model_id": "f64df9e614094824a30ab0e64afcb53f",
       "version_major": 2,
       "version_minor": 0
      },
      "text/plain": [
       "Iteration:   0%|          | 0/34 [00:00<?, ?it/s]"
      ]
     },
     "metadata": {},
     "output_type": "display_data"
    },
    {
     "name": "stdout",
     "output_type": "stream",
     "text": [
      "--- Epoch 10 ---\n",
      "Train Loss = 0.9611   Train Accuracy = 96.8354\n",
      "Valid Loss = 1.37   Valid Accuracy = 86.04\n"
     ]
    },
    {
     "data": {
      "application/vnd.jupyter.widget-view+json": {
       "model_id": "c4301b1c1e5f4c4a997d03779d2f1ffd",
       "version_major": 2,
       "version_minor": 0
      },
      "text/plain": [
       "Iteration:   0%|          | 0/34 [00:00<?, ?it/s]"
      ]
     },
     "metadata": {},
     "output_type": "display_data"
    },
    {
     "name": "stdout",
     "output_type": "stream",
     "text": [
      "--- Epoch 11 ---\n",
      "Train Loss = 0.7666   Train Accuracy = 97.4684\n",
      "Valid Loss = 1.28   Valid Accuracy = 87.10\n"
     ]
    },
    {
     "data": {
      "application/vnd.jupyter.widget-view+json": {
       "model_id": "83c7c266e3e6470e974e03b7be4ffe47",
       "version_major": 2,
       "version_minor": 0
      },
      "text/plain": [
       "Iteration:   0%|          | 0/34 [00:00<?, ?it/s]"
      ]
     },
     "metadata": {},
     "output_type": "display_data"
    },
    {
     "name": "stdout",
     "output_type": "stream",
     "text": [
      "--- Epoch 12 ---\n",
      "Train Loss = 0.5761   Train Accuracy = 98.7342\n",
      "Valid Loss = 1.28   Valid Accuracy = 86.27\n"
     ]
    },
    {
     "data": {
      "application/vnd.jupyter.widget-view+json": {
       "model_id": "998dccbc698b4931a66f5ba31cae6af0",
       "version_major": 2,
       "version_minor": 0
      },
      "text/plain": [
       "Iteration:   0%|          | 0/34 [00:00<?, ?it/s]"
      ]
     },
     "metadata": {},
     "output_type": "display_data"
    },
    {
     "name": "stdout",
     "output_type": "stream",
     "text": [
      "--- Epoch 13 ---\n",
      "Train Loss = 0.5060   Train Accuracy = 98.7342\n",
      "Valid Loss = 1.22   Valid Accuracy = 87.22\n"
     ]
    },
    {
     "data": {
      "application/vnd.jupyter.widget-view+json": {
       "model_id": "c549a6d2fc674e1fbd8ca6cd6a5dafbf",
       "version_major": 2,
       "version_minor": 0
      },
      "text/plain": [
       "Iteration:   0%|          | 0/34 [00:00<?, ?it/s]"
      ]
     },
     "metadata": {},
     "output_type": "display_data"
    },
    {
     "name": "stdout",
     "output_type": "stream",
     "text": [
      "--- Epoch 14 ---\n",
      "Train Loss = 0.4279   Train Accuracy = 100.0000\n",
      "Valid Loss = 1.24   Valid Accuracy = 87.69\n"
     ]
    },
    {
     "data": {
      "application/vnd.jupyter.widget-view+json": {
       "model_id": "3941f489ae01477aa66eadc17b3a691a",
       "version_major": 2,
       "version_minor": 0
      },
      "text/plain": [
       "Iteration:   0%|          | 0/34 [00:00<?, ?it/s]"
      ]
     },
     "metadata": {},
     "output_type": "display_data"
    },
    {
     "name": "stdout",
     "output_type": "stream",
     "text": [
      "--- Epoch 15 ---\n",
      "Train Loss = 0.3193   Train Accuracy = 100.0000\n",
      "Valid Loss = 1.26   Valid Accuracy = 87.46\n"
     ]
    },
    {
     "data": {
      "application/vnd.jupyter.widget-view+json": {
       "model_id": "b304991db4fd4893989fbc1262e5a298",
       "version_major": 2,
       "version_minor": 0
      },
      "text/plain": [
       "Iteration:   0%|          | 0/34 [00:00<?, ?it/s]"
      ]
     },
     "metadata": {},
     "output_type": "display_data"
    },
    {
     "name": "stdout",
     "output_type": "stream",
     "text": [
      "--- Epoch 16 ---\n",
      "Train Loss = 0.3010   Train Accuracy = 100.0000\n",
      "Valid Loss = 1.14   Valid Accuracy = 88.40\n"
     ]
    },
    {
     "data": {
      "application/vnd.jupyter.widget-view+json": {
       "model_id": "b27873b8066b487e9d1b93e76a455b24",
       "version_major": 2,
       "version_minor": 0
      },
      "text/plain": [
       "Iteration:   0%|          | 0/34 [00:00<?, ?it/s]"
      ]
     },
     "metadata": {},
     "output_type": "display_data"
    },
    {
     "name": "stdout",
     "output_type": "stream",
     "text": [
      "--- Epoch 17 ---\n",
      "Train Loss = 0.2273   Train Accuracy = 100.0000\n",
      "Valid Loss = 1.16   Valid Accuracy = 88.28\n"
     ]
    },
    {
     "data": {
      "application/vnd.jupyter.widget-view+json": {
       "model_id": "f0efe7c47d4a4b8abc1f678694cf62c7",
       "version_major": 2,
       "version_minor": 0
      },
      "text/plain": [
       "Iteration:   0%|          | 0/34 [00:00<?, ?it/s]"
      ]
     },
     "metadata": {},
     "output_type": "display_data"
    },
    {
     "name": "stdout",
     "output_type": "stream",
     "text": [
      "--- Epoch 18 ---\n",
      "Train Loss = 0.1845   Train Accuracy = 100.0000\n",
      "Valid Loss = 1.24   Valid Accuracy = 88.28\n"
     ]
    },
    {
     "data": {
      "application/vnd.jupyter.widget-view+json": {
       "model_id": "c09fdb7555b94f3f93e1f38f701d1a86",
       "version_major": 2,
       "version_minor": 0
      },
      "text/plain": [
       "Iteration:   0%|          | 0/34 [00:00<?, ?it/s]"
      ]
     },
     "metadata": {},
     "output_type": "display_data"
    },
    {
     "name": "stdout",
     "output_type": "stream",
     "text": [
      "--- Epoch 19 ---\n",
      "Train Loss = 0.1780   Train Accuracy = 100.0000\n",
      "Valid Loss = 1.13   Valid Accuracy = 88.17\n"
     ]
    },
    {
     "data": {
      "application/vnd.jupyter.widget-view+json": {
       "model_id": "980922d231eb4311ab647c6423d76937",
       "version_major": 2,
       "version_minor": 0
      },
      "text/plain": [
       "Iteration:   0%|          | 0/34 [00:00<?, ?it/s]"
      ]
     },
     "metadata": {},
     "output_type": "display_data"
    },
    {
     "name": "stdout",
     "output_type": "stream",
     "text": [
      "--- Epoch 20 ---\n",
      "Train Loss = 0.1996   Train Accuracy = 100.0000\n",
      "Valid Loss = 1.16   Valid Accuracy = 88.17\n"
     ]
    },
    {
     "data": {
      "application/vnd.jupyter.widget-view+json": {
       "model_id": "d722a3d6350e40d08e6ed85f4861ce65",
       "version_major": 2,
       "version_minor": 0
      },
      "text/plain": [
       "Iteration:   0%|          | 0/34 [00:00<?, ?it/s]"
      ]
     },
     "metadata": {},
     "output_type": "display_data"
    },
    {
     "name": "stdout",
     "output_type": "stream",
     "text": [
      "--- Epoch 21 ---\n",
      "Train Loss = 0.1572   Train Accuracy = 100.0000\n",
      "Valid Loss = 1.18   Valid Accuracy = 88.99\n"
     ]
    },
    {
     "data": {
      "application/vnd.jupyter.widget-view+json": {
       "model_id": "d272953b3b8b4ac2ad67822183335031",
       "version_major": 2,
       "version_minor": 0
      },
      "text/plain": [
       "Iteration:   0%|          | 0/34 [00:00<?, ?it/s]"
      ]
     },
     "metadata": {},
     "output_type": "display_data"
    },
    {
     "name": "stdout",
     "output_type": "stream",
     "text": [
      "--- Epoch 22 ---\n",
      "Train Loss = 0.1354   Train Accuracy = 100.0000\n",
      "Valid Loss = 1.35   Valid Accuracy = 87.93\n"
     ]
    },
    {
     "data": {
      "application/vnd.jupyter.widget-view+json": {
       "model_id": "4f1702d876984270992405efbbf58092",
       "version_major": 2,
       "version_minor": 0
      },
      "text/plain": [
       "Iteration:   0%|          | 0/34 [00:00<?, ?it/s]"
      ]
     },
     "metadata": {},
     "output_type": "display_data"
    },
    {
     "name": "stdout",
     "output_type": "stream",
     "text": [
      "--- Epoch 23 ---\n",
      "Train Loss = 5.0752   Train Accuracy = 99.3671\n",
      "Valid Loss = 3.32   Valid Accuracy = 86.39\n"
     ]
    },
    {
     "data": {
      "application/vnd.jupyter.widget-view+json": {
       "model_id": "87d1771cc1ec4b7aa6b1ca218267fac6",
       "version_major": 2,
       "version_minor": 0
      },
      "text/plain": [
       "Iteration:   0%|          | 0/34 [00:00<?, ?it/s]"
      ]
     },
     "metadata": {},
     "output_type": "display_data"
    },
    {
     "name": "stdout",
     "output_type": "stream",
     "text": [
      "--- Epoch 24 ---\n",
      "Train Loss = 0.1436   Train Accuracy = 100.0000\n",
      "Valid Loss = 1.22   Valid Accuracy = 88.64\n"
     ]
    },
    {
     "data": {
      "application/vnd.jupyter.widget-view+json": {
       "model_id": "b7c05c3208e6481fb3c4f3a2f9f294c8",
       "version_major": 2,
       "version_minor": 0
      },
      "text/plain": [
       "Iteration:   0%|          | 0/34 [00:00<?, ?it/s]"
      ]
     },
     "metadata": {},
     "output_type": "display_data"
    },
    {
     "name": "stdout",
     "output_type": "stream",
     "text": [
      "--- Epoch 25 ---\n",
      "Train Loss = 0.1485   Train Accuracy = 99.3671\n",
      "Valid Loss = 1.84   Valid Accuracy = 88.28\n"
     ]
    },
    {
     "data": {
      "application/vnd.jupyter.widget-view+json": {
       "model_id": "822ab5f44316456f9e55169a0658eec9",
       "version_major": 2,
       "version_minor": 0
      },
      "text/plain": [
       "Iteration:   0%|          | 0/34 [00:00<?, ?it/s]"
      ]
     },
     "metadata": {},
     "output_type": "display_data"
    },
    {
     "name": "stdout",
     "output_type": "stream",
     "text": [
      "--- Epoch 26 ---\n",
      "Train Loss = 0.1403   Train Accuracy = 100.0000\n",
      "Valid Loss = 2.26   Valid Accuracy = 86.98\n"
     ]
    },
    {
     "data": {
      "application/vnd.jupyter.widget-view+json": {
       "model_id": "b8cd3f3511b74f56a29b0c32fb86c2f7",
       "version_major": 2,
       "version_minor": 0
      },
      "text/plain": [
       "Iteration:   0%|          | 0/34 [00:00<?, ?it/s]"
      ]
     },
     "metadata": {},
     "output_type": "display_data"
    },
    {
     "name": "stdout",
     "output_type": "stream",
     "text": [
      "--- Epoch 27 ---\n",
      "Train Loss = 0.1094   Train Accuracy = 100.0000\n",
      "Valid Loss = 1.41   Valid Accuracy = 88.52\n"
     ]
    },
    {
     "data": {
      "application/vnd.jupyter.widget-view+json": {
       "model_id": "f0092d55c0fa4b628b505b596a5d4b7d",
       "version_major": 2,
       "version_minor": 0
      },
      "text/plain": [
       "Iteration:   0%|          | 0/34 [00:00<?, ?it/s]"
      ]
     },
     "metadata": {},
     "output_type": "display_data"
    },
    {
     "name": "stdout",
     "output_type": "stream",
     "text": [
      "--- Epoch 28 ---\n",
      "Train Loss = 0.7422   Train Accuracy = 99.3671\n",
      "Valid Loss = 1.32   Valid Accuracy = 88.28\n"
     ]
    },
    {
     "data": {
      "application/vnd.jupyter.widget-view+json": {
       "model_id": "9f2ada2e1413458b87f70e41ee50ce05",
       "version_major": 2,
       "version_minor": 0
      },
      "text/plain": [
       "Iteration:   0%|          | 0/34 [00:00<?, ?it/s]"
      ]
     },
     "metadata": {},
     "output_type": "display_data"
    },
    {
     "name": "stdout",
     "output_type": "stream",
     "text": [
      "--- Epoch 29 ---\n",
      "Train Loss = 0.1547   Train Accuracy = 100.0000\n",
      "Valid Loss = 4.32   Valid Accuracy = 87.93\n"
     ]
    }
   ],
   "source": [
    "model.fit(train_objectives=[(train_dataloader, train_loss)],\n",
    "          evaluator=evaluator,\n",
    "          epochs=30,\n",
    "          optimizer_params= {'lr': 1e-3}, # 1e-3 for CoV-RoBERTa, 1e-6 for ProtBERT\n",
    "          weight_decay=0.1, # 0.1 for CoV-RoBERTa, 0.01 for ProtBERT\n",
    "          #evaluation_steps=eval_iter, # run an evalution in every 10% \n",
    "          output_path=output_dir,\n",
    "          save_best_model=True,\n",
    "          checkpoint_path=checkpoint_dir,\n",
    "          checkpoint_save_steps=500,\n",
    "          checkpoint_save_total_limit=2,\n",
    "          show_progress_bar=True,\n",
    "          loss_name=LOSS_NAME)"
   ]
  },
  {
   "cell_type": "code",
   "execution_count": 13,
   "id": "c3819296",
   "metadata": {},
   "outputs": [
    {
     "name": "stdout",
     "output_type": "stream",
     "text": [
      "Valid Loss = 1.71   Valid Accuracy = 86.73\n",
      "Test duration: 0.36971044540405273 seconds\n",
      "1341\n",
      "0.43752715432432276 ms per example\n"
     ]
    }
   ],
   "source": [
    "test_evaluator_with_eris = evaluation.BinaryClassificationEvaluator(sentences1=[test_example.texts[0] for test_example in test_examples_with_eris],\n",
    "                                                     sentences2=[test_example.texts[1] for test_example in test_examples_with_eris],\n",
    "                                                     labels=[test_example.label for test_example in test_examples_with_eris],\n",
    "                                                     batch_size=100,\n",
    "                                                     show_progress_bar=False,\n",
    "                                                     name=\"test\")\n",
    "\n",
    "# load best model\n",
    "best_model = SentenceTransformer(output_dir)\n",
    "best_model.to(\"cuda\")\n",
    "\n",
    "# print test duration\n",
    "\n",
    "import time\n",
    "start_time = time.time()\n",
    "test_acc, preds_and_trues = best_model.evaluate(test_evaluator_with_eris)\n",
    "duration = time.time() - start_time\n",
    "print(f\"Test duration: {duration} seconds\")\n",
    "\n",
    "# write test accuracy to file\n",
    "with open(os.path.join(output_dir, \"eval\", \"test_results_with_eris.txt\"), \"w\") as f:\n",
    "    f.write(f\"Test accuracy: {test_acc}\\n\")\n",
    "\n",
    "print(len(preds_and_trues))\n",
    "\n",
    "print(duration * 1000 / len(test_examples), \"ms per example\")\n"
   ]
  },
  {
   "cell_type": "code",
   "execution_count": 14,
   "id": "4176d579",
   "metadata": {},
   "outputs": [
    {
     "name": "stdout",
     "output_type": "stream",
     "text": [
      "Valid Loss = 1.33   Valid Accuracy = 91.36\n",
      "Test duration: 0.1879873275756836 seconds\n",
      "845\n",
      "0.22247021014873797 ms per example\n"
     ]
    }
   ],
   "source": [
    "test_evaluator = evaluation.BinaryClassificationEvaluator(sentences1=[test_example.texts[0] for test_example in test_examples],\n",
    "                                                     sentences2=[test_example.texts[1] for test_example in test_examples],\n",
    "                                                     labels=[test_example.label for test_example in test_examples],\n",
    "                                                     batch_size=100,\n",
    "                                                     show_progress_bar=False,\n",
    "                                                     name=\"test\")\n",
    "\n",
    "# load best model\n",
    "best_model = SentenceTransformer(output_dir)\n",
    "best_model.to(\"cuda\")\n",
    "\n",
    "# print test duration\n",
    "\n",
    "\n",
    "import time\n",
    "start_time = time.time()\n",
    "test_acc, preds_and_trues = best_model.evaluate(test_evaluator)\n",
    "duration = time.time() - start_time\n",
    "print(f\"Test duration: {duration} seconds\")\n",
    "\n",
    "print(len(preds_and_trues))\n",
    "\n",
    "# write test accuracy to file\n",
    "if not os.path.exists(os.path.join(output_dir, \"eval\")):\n",
    "    os.makedirs(os.path.join(output_dir, \"eval\"))\n",
    "with open(os.path.join(output_dir, \"eval\", \"test_results.txt\"), \"w\") as f:\n",
    "    f.write(f\"Test accuracy: {test_acc}\\n\")\n",
    "\n",
    "print(duration * 1000 / len(test_examples), \"ms per example\")"
   ]
  },
  {
   "cell_type": "code",
   "execution_count": 28,
   "id": "fb167405",
   "metadata": {},
   "outputs": [
    {
     "data": {
      "image/png": "[encoded data removed]",
      "text/plain": [
       "<Figure size 1080x360 with 2 Axes>"
      ]
     },
     "metadata": {
      "needs_background": "light"
     },
     "output_type": "display_data"
    }
   ],
   "source": [
    "# Plot the training and validation loss and accuracy\n",
    "import matplotlib.pyplot as plt\n",
    "\n",
    "# read loss values from csv:\n",
    "train_results = pd.read_csv(train_results_file)\n",
    "val_results = pd.read_csv(val_results_file)\n",
    "\n",
    "# plot loss and accuracy figures side by side\n",
    "fig, axs = plt.subplots(1, 2, figsize=(15, 5))\n",
    "axs[0].plot(train_results[\"epoch\"], train_results[\"loss\"], label=\"Training\")\n",
    "axs[0].plot(val_results[\"epoch\"], val_results[\"loss\"], label=\"Validation\")\n",
    "axs[0].set_xlabel(\"Epoch\")\n",
    "axs[0].set_ylabel(\"Loss\")\n",
    "axs[0].legend()\n",
    "axs[1].plot(train_results[\"epoch\"], train_results[\"accuracy\"], label=\"Training\")\n",
    "axs[1].plot(val_results[\"epoch\"], val_results[\"accuracy\"], label=\"Validation\")\n",
    "axs[1].set_xlabel(\"Epoch\")\n",
    "axs[1].set_ylabel(\"Accuracy\")\n",
    "axs[1].legend()\n",
    "plt.tight_layout()\n",
    "#save as pdf\n",
    "plt.savefig(os.path.join(output_dir, \"eval\", f'plot_{LOSS_NAME}_{POOLING_MODE}_zeroshot.pdf'))\n",
    "plt.show()"
   ]
  }
 ],
 "metadata": {
  "kernelspec": {
   "display_name": "Python 3",
   "language": "python",
   "name": "python3"
  },
  "language_info": {
   "codemirror_mode": {
    "name": "ipython",
    "version": 3
   },
   "file_extension": ".py",
   "mimetype": "text/x-python",
   "name": "python",
   "nbconvert_exporter": "python",
   "pygments_lexer": "ipython3",
   "version": "3.8.16"
  }
 },
 "nbformat": 4,
 "nbformat_minor": 5
}
