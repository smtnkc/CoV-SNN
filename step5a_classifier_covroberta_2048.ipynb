{
 "cells": [
  {
   "cell_type": "code",
   "execution_count": 1,
   "id": "0cc19703",
   "metadata": {},
   "outputs": [],
   "source": [
    "import numpy as np\n",
    "import scanpy as sc\n",
    "import pandas as pd\n",
    "import evaluate\n",
    "import pickle\n",
    "import torch\n",
    "import random\n",
    "import os\n",
    "import matplotlib.pyplot as plt\n",
    "import seaborn as sns\n",
    "from torch.utils.data import DataLoader\n",
    "from torch_optimizer import Lamb\n",
    "from torch.optim import AdamW\n",
    "from sklearn.model_selection import train_test_split\n",
    "from datasets import Dataset\n",
    "from transformers import RobertaForSequenceClassification, RobertaTokenizerFast, RobertaConfig, get_scheduler\n",
    "from sklearn.metrics import f1_score, classification_report, confusion_matrix\n",
    "from Bio import SeqIO\n",
    "import tqdm as tq\n",
    "import time\n",
    "from datetime import timedelta\n",
    "\n",
    "os.environ[\"TOKENIZERS_PARALLELISM\"] = \"false\"\n",
    "np.set_printoptions(threshold=2200)\n",
    "torch.set_printoptions(threshold=2200)\n",
    "seed = 42\n",
    "torch.manual_seed(seed)\n",
    "random.seed(seed)\n",
    "np.random.seed(seed)\n",
    "torch.backends.cudnn.deterministic = True\n",
    "torch.backends.cudnn.benchmark = False"
   ]
  },
  {
   "cell_type": "code",
   "execution_count": 2,
   "id": "aa1fc757",
   "metadata": {},
   "outputs": [],
   "source": [
    "EMBED_SIZE = 2048\n",
    "MODEL_NAME, MODEL_PRINT_NAME = f\"./mlm_checkpoints/CoV-RoBERTa_{EMBED_SIZE}\", \"CoV-RoBERTa\"\n",
    "VOC_NAMES = [\"Alpha\", \"Beta\", \"Delta\", \"Gamma\", \"Omicron\"]"
   ]
  },
  {
   "cell_type": "code",
   "execution_count": 3,
   "id": "cf7093e2",
   "metadata": {},
   "outputs": [
    {
     "name": "stderr",
     "output_type": "stream",
     "text": [
      "Some weights of the model checkpoint at ./cov-roberta-2048/checkpoint-11000 were not used when initializing RobertaForSequenceClassification: ['lm_head.bias', 'lm_head.layer_norm.weight', 'lm_head.layer_norm.bias', 'lm_head.dense.weight', 'lm_head.dense.bias']\n",
      "- This IS expected if you are initializing RobertaForSequenceClassification from the checkpoint of a model trained on another task or with another architecture (e.g. initializing a BertForSequenceClassification model from a BertForPreTraining model).\n",
      "- This IS NOT expected if you are initializing RobertaForSequenceClassification from the checkpoint of a model that you expect to be exactly identical (initializing a BertForSequenceClassification model from a BertForSequenceClassification model).\n",
      "Some weights of RobertaForSequenceClassification were not initialized from the model checkpoint at ./cov-roberta-2048/checkpoint-11000 and are newly initialized: ['classifier.out_proj.bias', 'classifier.dense.weight', 'classifier.out_proj.weight', 'classifier.dense.bias']\n",
      "You should probably TRAIN this model on a down-stream task to be able to use it for predictions and inference.\n"
     ]
    },
    {
     "name": "stdout",
     "output_type": "stream",
     "text": [
      "Number of parameters in model:  52376837\n"
     ]
    }
   ],
   "source": [
    "# Load the weights from the binary file\n",
    "\n",
    "tok = RobertaTokenizerFast.from_pretrained(\"tok/\")\n",
    "model = RobertaForSequenceClassification.from_pretrained(MODEL_NAME, num_labels=len(VOC_NAMES))\n",
    "\n",
    "num_params = sum(p.numel() for p in model.parameters())\n",
    "print(\"Number of parameters in model: \", num_params)"
   ]
  },
  {
   "cell_type": "code",
   "execution_count": 4,
   "id": "42a105ae",
   "metadata": {},
   "outputs": [
    {
     "data": {
      "text/html": [
       "<div>\n",
       "<style scoped>\n",
       "    .dataframe tbody tr th:only-of-type {\n",
       "        vertical-align: middle;\n",
       "    }\n",
       "\n",
       "    .dataframe tbody tr th {\n",
       "        vertical-align: top;\n",
       "    }\n",
       "\n",
       "    .dataframe thead th {\n",
       "        text-align: right;\n",
       "    }\n",
       "</style>\n",
       "<table border=\"1\" class=\"dataframe\">\n",
       "  <thead>\n",
       "    <tr style=\"text-align: right;\">\n",
       "      <th></th>\n",
       "      <th>sequence</th>\n",
       "      <th>label</th>\n",
       "    </tr>\n",
       "  </thead>\n",
       "  <tbody>\n",
       "    <tr>\n",
       "      <th>0</th>\n",
       "      <td>MFVFLVLLPLVSSQCVNLTTRTQLPPAYTNSFTRGVYYPDKVFRSS...</td>\n",
       "      <td>0</td>\n",
       "    </tr>\n",
       "    <tr>\n",
       "      <th>1</th>\n",
       "      <td>MFVFLVLLPLVSSQCVNLTTRTQLPPAYTNSFTRGVYYPDKVFRSS...</td>\n",
       "      <td>0</td>\n",
       "    </tr>\n",
       "    <tr>\n",
       "      <th>2</th>\n",
       "      <td>MFVFLVLLPLVSSQCVNLTTRTQLPPAYTNSFTRGVYYPDKVFRSS...</td>\n",
       "      <td>0</td>\n",
       "    </tr>\n",
       "    <tr>\n",
       "      <th>3</th>\n",
       "      <td>MFVFLVLLPLVSSQCVNLTTRTQLPPAYTNSFTRGVYYPDKVFRSS...</td>\n",
       "      <td>0</td>\n",
       "    </tr>\n",
       "    <tr>\n",
       "      <th>4</th>\n",
       "      <td>MFVFLVLLPLVSSQCVNLTTRTQLPPAYTNSFTRGVYYPDKVFRSS...</td>\n",
       "      <td>0</td>\n",
       "    </tr>\n",
       "    <tr>\n",
       "      <th>...</th>\n",
       "      <td>...</td>\n",
       "      <td>...</td>\n",
       "    </tr>\n",
       "    <tr>\n",
       "      <th>9995</th>\n",
       "      <td>MFVFLVLLPLVSSQCVNLITRTQSYTNSFTRGVYYPDKVFRSSVXX...</td>\n",
       "      <td>4</td>\n",
       "    </tr>\n",
       "    <tr>\n",
       "      <th>9996</th>\n",
       "      <td>TQLPPAYTNSFTRGVYYPDKVFRSSVLHSTQDLFLPFFSNVTWFHA...</td>\n",
       "      <td>4</td>\n",
       "    </tr>\n",
       "    <tr>\n",
       "      <th>9997</th>\n",
       "      <td>TQLPPAYTNSFTRGVYYPDKVFRSSVLHSTQDLFLPFFSNVTWFHA...</td>\n",
       "      <td>4</td>\n",
       "    </tr>\n",
       "    <tr>\n",
       "      <th>9998</th>\n",
       "      <td>MFVFLVLLPLVSSQCVNLITRTQSYTNSFTRGVYYPDKVFRSSVLH...</td>\n",
       "      <td>4</td>\n",
       "    </tr>\n",
       "    <tr>\n",
       "      <th>9999</th>\n",
       "      <td>MFVFLVLLPLVSSQCVNLITRTQSYTNSFTRGVYYPDKVFRSSVLH...</td>\n",
       "      <td>4</td>\n",
       "    </tr>\n",
       "  </tbody>\n",
       "</table>\n",
       "<p>10000 rows × 2 columns</p>\n",
       "</div>"
      ],
      "text/plain": [
       "                                               sequence  label\n",
       "0     MFVFLVLLPLVSSQCVNLTTRTQLPPAYTNSFTRGVYYPDKVFRSS...      0\n",
       "1     MFVFLVLLPLVSSQCVNLTTRTQLPPAYTNSFTRGVYYPDKVFRSS...      0\n",
       "2     MFVFLVLLPLVSSQCVNLTTRTQLPPAYTNSFTRGVYYPDKVFRSS...      0\n",
       "3     MFVFLVLLPLVSSQCVNLTTRTQLPPAYTNSFTRGVYYPDKVFRSS...      0\n",
       "4     MFVFLVLLPLVSSQCVNLTTRTQLPPAYTNSFTRGVYYPDKVFRSS...      0\n",
       "...                                                 ...    ...\n",
       "9995  MFVFLVLLPLVSSQCVNLITRTQSYTNSFTRGVYYPDKVFRSSVXX...      4\n",
       "9996  TQLPPAYTNSFTRGVYYPDKVFRSSVLHSTQDLFLPFFSNVTWFHA...      4\n",
       "9997  TQLPPAYTNSFTRGVYYPDKVFRSSVLHSTQDLFLPFFSNVTWFHA...      4\n",
       "9998  MFVFLVLLPLVSSQCVNLITRTQSYTNSFTRGVYYPDKVFRSSVLH...      4\n",
       "9999  MFVFLVLLPLVSSQCVNLITRTQSYTNSFTRGVYYPDKVFRSSVLH...      4\n",
       "\n",
       "[10000 rows x 2 columns]"
      ]
     },
     "execution_count": 4,
     "metadata": {},
     "output_type": "execute_result"
    }
   ],
   "source": [
    "df = pd.DataFrame()\n",
    "\n",
    "for i, voc_name in enumerate(VOC_NAMES):\n",
    "    voc_df = pd.read_csv(f\"data/unique_{voc_name}_2k.csv\")\n",
    "    voc_df['label'] = i\n",
    "    df = pd.concat([df, voc_df])\n",
    "\n",
    "df = df.drop(['accession_id', 'date'], axis=1)\n",
    "df = df.reset_index(drop=True)\n",
    "df"
   ]
  },
  {
   "cell_type": "code",
   "execution_count": 5,
   "id": "10273657",
   "metadata": {},
   "outputs": [],
   "source": [
    "X_train, X_test, y_train, y_test = train_test_split(df['sequence'],\n",
    "                                                    df['label'],\n",
    "                                                    test_size=0.2,\n",
    "                                                    random_state=42,\n",
    "                                                    stratify=df['label'])"
   ]
  },
  {
   "cell_type": "code",
   "execution_count": 6,
   "id": "9664940f",
   "metadata": {},
   "outputs": [],
   "source": [
    "df_train = pd.DataFrame({'sequence': X_train, 'label': y_train}).reset_index(drop=True)\n",
    "df_test = pd.DataFrame({'sequence': X_test, 'label': y_test}).reset_index(drop=True)"
   ]
  },
  {
   "cell_type": "code",
   "execution_count": 7,
   "id": "d0e538ee",
   "metadata": {},
   "outputs": [],
   "source": [
    "ds_train = Dataset.from_pandas(df_train)\n",
    "ds_test = Dataset.from_pandas(df_test)"
   ]
  },
  {
   "cell_type": "markdown",
   "id": "0327523c",
   "metadata": {},
   "source": [
    "# TOKENIZE"
   ]
  },
  {
   "cell_type": "code",
   "execution_count": 8,
   "id": "388304fa",
   "metadata": {},
   "outputs": [
    {
     "data": {
      "application/vnd.jupyter.widget-view+json": {
       "model_id": "80784e5b4a7c48b591a444f583ab0442",
       "version_major": 2,
       "version_minor": 0
      },
      "text/plain": [
       "Map:   0%|          | 0/8000 [00:00<?, ? examples/s]"
      ]
     },
     "metadata": {},
     "output_type": "display_data"
    },
    {
     "data": {
      "application/vnd.jupyter.widget-view+json": {
       "model_id": "ff62bab988204ad19199a9d0b4047d82",
       "version_major": 2,
       "version_minor": 0
      },
      "text/plain": [
       "Map:   0%|          | 0/2000 [00:00<?, ? examples/s]"
      ]
     },
     "metadata": {},
     "output_type": "display_data"
    }
   ],
   "source": [
    "# Funtion to tokenize data\n",
    "def tokenize_dataset(dataset, tok, embedding_size):\n",
    "    return tok(\n",
    "        \" \".join(dataset['sequence']),\n",
    "        max_length=embedding_size,\n",
    "        truncation=True,\n",
    "        padding=\"max_length\")\n",
    "    \n",
    "\n",
    "# Tokenize the dataset\n",
    "dataset_train = ds_train.map(tokenize_dataset, fn_kwargs={'tok': tok, 'embedding_size': EMBED_SIZE})\n",
    "dataset_test = ds_test.map(tokenize_dataset, fn_kwargs={'tok': tok, 'embedding_size': EMBED_SIZE})"
   ]
  },
  {
   "cell_type": "code",
   "execution_count": 9,
   "id": "27d5345e",
   "metadata": {},
   "outputs": [
    {
     "name": "stdout",
     "output_type": "stream",
     "text": [
      "Dataset({\n",
      "    features: ['sequence', 'label', 'input_ids', 'attention_mask'],\n",
      "    num_rows: 8000\n",
      "})\n",
      "Dataset({\n",
      "    features: ['sequence', 'label', 'input_ids', 'attention_mask'],\n",
      "    num_rows: 2000\n",
      "})\n"
     ]
    }
   ],
   "source": [
    "print(dataset_train)\n",
    "print(dataset_test)"
   ]
  },
  {
   "cell_type": "code",
   "execution_count": 10,
   "id": "b7b6ccc5",
   "metadata": {},
   "outputs": [
    {
     "name": "stdout",
     "output_type": "stream",
     "text": [
      "Dataset({\n",
      "    features: ['labels', 'input_ids', 'attention_mask'],\n",
      "    num_rows: 8000\n",
      "})\n",
      "Dataset({\n",
      "    features: ['labels', 'input_ids', 'attention_mask'],\n",
      "    num_rows: 2000\n",
      "})\n"
     ]
    }
   ],
   "source": [
    "# Remove the sequence column because it will not be used in the model\n",
    "dataset_train = dataset_train.remove_columns(['sequence'])\n",
    "dataset_test = dataset_test.remove_columns(['sequence'])\n",
    "\n",
    "# Rename label to labels because the model expects the name labels\n",
    "dataset_train = dataset_train.rename_column(\"label\", \"labels\")\n",
    "dataset_test = dataset_test.rename_column(\"label\", \"labels\")\n",
    "\n",
    "# Change the format to PyTorch tensors\n",
    "dataset_train.set_format(\"torch\")\n",
    "dataset_test.set_format(\"torch\")\n",
    "\n",
    "# Take a look at the data\n",
    "print(dataset_train)\n",
    "print(dataset_test)"
   ]
  },
  {
   "cell_type": "code",
   "execution_count": 11,
   "id": "ce0511dc",
   "metadata": {},
   "outputs": [],
   "source": [
    "# Empty cache\n",
    "torch.cuda.empty_cache()\n",
    "\n",
    "# DataLoader\n",
    "train_dataloader = DataLoader(dataset=dataset_train, shuffle=True, batch_size=12)\n",
    "eval_dataloader = DataLoader(dataset=dataset_test, batch_size=12)"
   ]
  },
  {
   "cell_type": "code",
   "execution_count": 12,
   "id": "c0fee43e",
   "metadata": {},
   "outputs": [
    {
     "name": "stdout",
     "output_type": "stream",
     "text": [
      "2048\n",
      "tensor([   0, 2513, 6448, 4995, 6910, 1937, 5147, 3269,    2,    1,    1,    1,\n",
      "           1,    1,    1,    1,    1,    1,    1,    1,    1,    1,    1,    1,\n",
      "           1,    1,    1,    1,    1,    1,    1,    1,    1,    1,    1,    1,\n",
      "           1,    1,    1,    1,    1,    1,    1,    1,    1,    1,    1,    1,\n",
      "           1,    1,    1,    1,    1,    1,    1,    1,    1,    1,    1,    1,\n",
      "           1,    1,    1,    1,    1,    1,    1,    1,    1,    1,    1,    1,\n",
      "           1,    1,    1,    1,    1,    1,    1,    1,    1,    1,    1,    1,\n",
      "           1,    1,    1,    1,    1,    1,    1,    1,    1,    1,    1,    1,\n",
      "           1,    1,    1,    1,    1,    1,    1,    1,    1,    1,    1,    1,\n",
      "           1,    1,    1,    1,    1,    1,    1,    1,    1,    1,    1,    1,\n",
      "           1,    1,    1,    1,    1,    1,    1,    1,    1,    1,    1,    1,\n",
      "           1,    1,    1,    1,    1,    1,    1,    1,    1,    1,    1,    1,\n",
      "           1,    1,    1,    1,    1,    1,    1,    1,    1,    1,    1,    1,\n",
      "           1,    1,    1,    1,    1,    1,    1,    1,    1,    1,    1,    1,\n",
      "           1,    1,    1,    1,    1,    1,    1,    1,    1,    1,    1,    1,\n",
      "           1,    1,    1,    1,    1,    1,    1,    1,    1,    1,    1,    1,\n",
      "           1,    1,    1,    1,    1,    1,    1,    1,    1,    1,    1,    1,\n",
      "           1,    1,    1,    1,    1,    1,    1,    1,    1,    1,    1,    1,\n",
      "           1,    1,    1,    1,    1,    1,    1,    1,    1,    1,    1,    1,\n",
      "           1,    1,    1,    1,    1,    1,    1,    1,    1,    1,    1,    1,\n",
      "           1,    1,    1,    1,    1,    1,    1,    1,    1,    1,    1,    1,\n",
      "           1,    1,    1,    1,    1,    1,    1,    1,    1,    1,    1,    1,\n",
      "           1,    1,    1,    1,    1,    1,    1,    1,    1,    1,    1,    1,\n",
      "           1,    1,    1,    1,    1,    1,    1,    1,    1,    1,    1,    1,\n",
      "           1,    1,    1,    1,    1,    1,    1,    1,    1,    1,    1,    1,\n",
      "           1,    1,    1,    1,    1,    1,    1,    1,    1,    1,    1,    1,\n",
      "           1,    1,    1,    1,    1,    1,    1,    1,    1,    1,    1,    1,\n",
      "           1,    1,    1,    1,    1,    1,    1,    1,    1,    1,    1,    1,\n",
      "           1,    1,    1,    1,    1,    1,    1,    1,    1,    1,    1,    1,\n",
      "           1,    1,    1,    1,    1,    1,    1,    1,    1,    1,    1,    1,\n",
      "           1,    1,    1,    1,    1,    1,    1,    1,    1,    1,    1,    1,\n",
      "           1,    1,    1,    1,    1,    1,    1,    1,    1,    1,    1,    1,\n",
      "           1,    1,    1,    1,    1,    1,    1,    1,    1,    1,    1,    1,\n",
      "           1,    1,    1,    1,    1,    1,    1,    1,    1,    1,    1,    1,\n",
      "           1,    1,    1,    1,    1,    1,    1,    1,    1,    1,    1,    1,\n",
      "           1,    1,    1,    1,    1,    1,    1,    1,    1,    1,    1,    1,\n",
      "           1,    1,    1,    1,    1,    1,    1,    1,    1,    1,    1,    1,\n",
      "           1,    1,    1,    1,    1,    1,    1,    1,    1,    1,    1,    1,\n",
      "           1,    1,    1,    1,    1,    1,    1,    1,    1,    1,    1,    1,\n",
      "           1,    1,    1,    1,    1,    1,    1,    1,    1,    1,    1,    1,\n",
      "           1,    1,    1,    1,    1,    1,    1,    1,    1,    1,    1,    1,\n",
      "           1,    1,    1,    1,    1,    1,    1,    1,    1,    1,    1,    1,\n",
      "           1,    1,    1,    1,    1,    1,    1,    1,    1,    1,    1,    1,\n",
      "           1,    1,    1,    1,    1,    1,    1,    1,    1,    1,    1,    1,\n",
      "           1,    1,    1,    1,    1,    1,    1,    1,    1,    1,    1,    1,\n",
      "           1,    1,    1,    1,    1,    1,    1,    1,    1,    1,    1,    1,\n",
      "           1,    1,    1,    1,    1,    1,    1,    1,    1,    1,    1,    1,\n",
      "           1,    1,    1,    1,    1,    1,    1,    1,    1,    1,    1,    1,\n",
      "           1,    1,    1,    1,    1,    1,    1,    1,    1,    1,    1,    1,\n",
      "           1,    1,    1,    1,    1,    1,    1,    1,    1,    1,    1,    1,\n",
      "           1,    1,    1,    1,    1,    1,    1,    1,    1,    1,    1,    1,\n",
      "           1,    1,    1,    1,    1,    1,    1,    1,    1,    1,    1,    1,\n",
      "           1,    1,    1,    1,    1,    1,    1,    1,    1,    1,    1,    1,\n",
      "           1,    1,    1,    1,    1,    1,    1,    1,    1,    1,    1,    1,\n",
      "           1,    1,    1,    1,    1,    1,    1,    1,    1,    1,    1,    1,\n",
      "           1,    1,    1,    1,    1,    1,    1,    1,    1,    1,    1,    1,\n",
      "           1,    1,    1,    1,    1,    1,    1,    1,    1,    1,    1,    1,\n",
      "           1,    1,    1,    1,    1,    1,    1,    1,    1,    1,    1,    1,\n",
      "           1,    1,    1,    1,    1,    1,    1,    1,    1,    1,    1,    1,\n",
      "           1,    1,    1,    1,    1,    1,    1,    1,    1,    1,    1,    1,\n",
      "           1,    1,    1,    1,    1,    1,    1,    1,    1,    1,    1,    1,\n",
      "           1,    1,    1,    1,    1,    1,    1,    1,    1,    1,    1,    1,\n",
      "           1,    1,    1,    1,    1,    1,    1,    1,    1,    1,    1,    1,\n",
      "           1,    1,    1,    1,    1,    1,    1,    1,    1,    1,    1,    1,\n",
      "           1,    1,    1,    1,    1,    1,    1,    1,    1,    1,    1,    1,\n",
      "           1,    1,    1,    1,    1,    1,    1,    1,    1,    1,    1,    1,\n",
      "           1,    1,    1,    1,    1,    1,    1,    1,    1,    1,    1,    1,\n",
      "           1,    1,    1,    1,    1,    1,    1,    1,    1,    1,    1,    1,\n",
      "           1,    1,    1,    1,    1,    1,    1,    1,    1,    1,    1,    1,\n",
      "           1,    1,    1,    1,    1,    1,    1,    1,    1,    1,    1,    1,\n",
      "           1,    1,    1,    1,    1,    1,    1,    1,    1,    1,    1,    1,\n",
      "           1,    1,    1,    1,    1,    1,    1,    1,    1,    1,    1,    1,\n",
      "           1,    1,    1,    1,    1,    1,    1,    1,    1,    1,    1,    1,\n",
      "           1,    1,    1,    1,    1,    1,    1,    1,    1,    1,    1,    1,\n",
      "           1,    1,    1,    1,    1,    1,    1,    1,    1,    1,    1,    1,\n",
      "           1,    1,    1,    1,    1,    1,    1,    1,    1,    1,    1,    1,\n",
      "           1,    1,    1,    1,    1,    1,    1,    1,    1,    1,    1,    1,\n",
      "           1,    1,    1,    1,    1,    1,    1,    1,    1,    1,    1,    1,\n",
      "           1,    1,    1,    1,    1,    1,    1,    1,    1,    1,    1,    1,\n",
      "           1,    1,    1,    1,    1,    1,    1,    1,    1,    1,    1,    1,\n",
      "           1,    1,    1,    1,    1,    1,    1,    1,    1,    1,    1,    1,\n",
      "           1,    1,    1,    1,    1,    1,    1,    1,    1,    1,    1,    1,\n",
      "           1,    1,    1,    1,    1,    1,    1,    1,    1,    1,    1,    1,\n",
      "           1,    1,    1,    1,    1,    1,    1,    1,    1,    1,    1,    1,\n",
      "           1,    1,    1,    1,    1,    1,    1,    1,    1,    1,    1,    1,\n",
      "           1,    1,    1,    1,    1,    1,    1,    1,    1,    1,    1,    1,\n",
      "           1,    1,    1,    1,    1,    1,    1,    1,    1,    1,    1,    1,\n",
      "           1,    1,    1,    1,    1,    1,    1,    1,    1,    1,    1,    1,\n",
      "           1,    1,    1,    1,    1,    1,    1,    1,    1,    1,    1,    1,\n",
      "           1,    1,    1,    1,    1,    1,    1,    1,    1,    1,    1,    1,\n",
      "           1,    1,    1,    1,    1,    1,    1,    1,    1,    1,    1,    1,\n",
      "           1,    1,    1,    1,    1,    1,    1,    1,    1,    1,    1,    1,\n",
      "           1,    1,    1,    1,    1,    1,    1,    1,    1,    1,    1,    1,\n",
      "           1,    1,    1,    1,    1,    1,    1,    1,    1,    1,    1,    1,\n",
      "           1,    1,    1,    1,    1,    1,    1,    1,    1,    1,    1,    1,\n",
      "           1,    1,    1,    1,    1,    1,    1,    1,    1,    1,    1,    1,\n",
      "           1,    1,    1,    1,    1,    1,    1,    1,    1,    1,    1,    1,\n",
      "           1,    1,    1,    1,    1,    1,    1,    1,    1,    1,    1,    1,\n",
      "           1,    1,    1,    1,    1,    1,    1,    1,    1,    1,    1,    1,\n",
      "           1,    1,    1,    1,    1,    1,    1,    1,    1,    1,    1,    1,\n",
      "           1,    1,    1,    1,    1,    1,    1,    1,    1,    1,    1,    1,\n",
      "           1,    1,    1,    1,    1,    1,    1,    1,    1,    1,    1,    1,\n",
      "           1,    1,    1,    1,    1,    1,    1,    1,    1,    1,    1,    1,\n",
      "           1,    1,    1,    1,    1,    1,    1,    1,    1,    1,    1,    1,\n",
      "           1,    1,    1,    1,    1,    1,    1,    1,    1,    1,    1,    1,\n",
      "           1,    1,    1,    1,    1,    1,    1,    1,    1,    1,    1,    1,\n",
      "           1,    1,    1,    1,    1,    1,    1,    1,    1,    1,    1,    1,\n",
      "           1,    1,    1,    1,    1,    1,    1,    1,    1,    1,    1,    1,\n",
      "           1,    1,    1,    1,    1,    1,    1,    1,    1,    1,    1,    1,\n",
      "           1,    1,    1,    1,    1,    1,    1,    1,    1,    1,    1,    1,\n",
      "           1,    1,    1,    1,    1,    1,    1,    1,    1,    1,    1,    1,\n",
      "           1,    1,    1,    1,    1,    1,    1,    1,    1,    1,    1,    1,\n",
      "           1,    1,    1,    1,    1,    1,    1,    1,    1,    1,    1,    1,\n",
      "           1,    1,    1,    1,    1,    1,    1,    1,    1,    1,    1,    1,\n",
      "           1,    1,    1,    1,    1,    1,    1,    1,    1,    1,    1,    1,\n",
      "           1,    1,    1,    1,    1,    1,    1,    1,    1,    1,    1,    1,\n",
      "           1,    1,    1,    1,    1,    1,    1,    1,    1,    1,    1,    1,\n",
      "           1,    1,    1,    1,    1,    1,    1,    1,    1,    1,    1,    1,\n",
      "           1,    1,    1,    1,    1,    1,    1,    1,    1,    1,    1,    1,\n",
      "           1,    1,    1,    1,    1,    1,    1,    1,    1,    1,    1,    1,\n",
      "           1,    1,    1,    1,    1,    1,    1,    1,    1,    1,    1,    1,\n",
      "           1,    1,    1,    1,    1,    1,    1,    1,    1,    1,    1,    1,\n",
      "           1,    1,    1,    1,    1,    1,    1,    1,    1,    1,    1,    1,\n",
      "           1,    1,    1,    1,    1,    1,    1,    1,    1,    1,    1,    1,\n",
      "           1,    1,    1,    1,    1,    1,    1,    1,    1,    1,    1,    1,\n",
      "           1,    1,    1,    1,    1,    1,    1,    1,    1,    1,    1,    1,\n",
      "           1,    1,    1,    1,    1,    1,    1,    1,    1,    1,    1,    1,\n",
      "           1,    1,    1,    1,    1,    1,    1,    1,    1,    1,    1,    1,\n",
      "           1,    1,    1,    1,    1,    1,    1,    1,    1,    1,    1,    1,\n",
      "           1,    1,    1,    1,    1,    1,    1,    1,    1,    1,    1,    1,\n",
      "           1,    1,    1,    1,    1,    1,    1,    1,    1,    1,    1,    1,\n",
      "           1,    1,    1,    1,    1,    1,    1,    1,    1,    1,    1,    1,\n",
      "           1,    1,    1,    1,    1,    1,    1,    1,    1,    1,    1,    1,\n",
      "           1,    1,    1,    1,    1,    1,    1,    1,    1,    1,    1,    1,\n",
      "           1,    1,    1,    1,    1,    1,    1,    1,    1,    1,    1,    1,\n",
      "           1,    1,    1,    1,    1,    1,    1,    1,    1,    1,    1,    1,\n",
      "           1,    1,    1,    1,    1,    1,    1,    1,    1,    1,    1,    1,\n",
      "           1,    1,    1,    1,    1,    1,    1,    1,    1,    1,    1,    1,\n",
      "           1,    1,    1,    1,    1,    1,    1,    1,    1,    1,    1,    1,\n",
      "           1,    1,    1,    1,    1,    1,    1,    1,    1,    1,    1,    1,\n",
      "           1,    1,    1,    1,    1,    1,    1,    1,    1,    1,    1,    1,\n",
      "           1,    1,    1,    1,    1,    1,    1,    1,    1,    1,    1,    1,\n",
      "           1,    1,    1,    1,    1,    1,    1,    1,    1,    1,    1,    1,\n",
      "           1,    1,    1,    1,    1,    1,    1,    1,    1,    1,    1,    1,\n",
      "           1,    1,    1,    1,    1,    1,    1,    1,    1,    1,    1,    1,\n",
      "           1,    1,    1,    1,    1,    1,    1,    1,    1,    1,    1,    1,\n",
      "           1,    1,    1,    1,    1,    1,    1,    1,    1,    1,    1,    1,\n",
      "           1,    1,    1,    1,    1,    1,    1,    1,    1,    1,    1,    1,\n",
      "           1,    1,    1,    1,    1,    1,    1,    1,    1,    1,    1,    1,\n",
      "           1,    1,    1,    1,    1,    1,    1,    1,    1,    1,    1,    1,\n",
      "           1,    1,    1,    1,    1,    1,    1,    1,    1,    1,    1,    1,\n",
      "           1,    1,    1,    1,    1,    1,    1,    1,    1,    1,    1,    1,\n",
      "           1,    1,    1,    1,    1,    1,    1,    1,    1,    1,    1,    1,\n",
      "           1,    1,    1,    1,    1,    1,    1,    1,    1,    1,    1,    1,\n",
      "           1,    1,    1,    1,    1,    1,    1,    1,    1,    1,    1,    1,\n",
      "           1,    1,    1,    1,    1,    1,    1,    1,    1,    1,    1,    1,\n",
      "           1,    1,    1,    1,    1,    1,    1,    1,    1,    1,    1,    1,\n",
      "           1,    1,    1,    1,    1,    1,    1,    1,    1,    1,    1,    1,\n",
      "           1,    1,    1,    1,    1,    1,    1,    1,    1,    1,    1,    1,\n",
      "           1,    1,    1,    1,    1,    1,    1,    1,    1,    1,    1,    1,\n",
      "           1,    1,    1,    1,    1,    1,    1,    1,    1,    1,    1,    1,\n",
      "           1,    1,    1,    1,    1,    1,    1,    1,    1,    1,    1,    1,\n",
      "           1,    1,    1,    1,    1,    1,    1,    1,    1,    1,    1,    1,\n",
      "           1,    1,    1,    1,    1,    1,    1,    1,    1,    1,    1,    1,\n",
      "           1,    1,    1,    1,    1,    1,    1,    1,    1,    1,    1,    1,\n",
      "           1,    1,    1,    1,    1,    1,    1,    1,    1,    1,    1,    1,\n",
      "           1,    1,    1,    1,    1,    1,    1,    1,    1,    1,    1,    1,\n",
      "           1,    1,    1,    1,    1,    1,    1,    1,    1,    1,    1,    1,\n",
      "           1,    1,    1,    1,    1,    1,    1,    1,    1,    1,    1,    1,\n",
      "           1,    1,    1,    1,    1,    1,    1,    1,    1,    1,    1,    1,\n",
      "           1,    1,    1,    1,    1,    1,    1,    1])\n"
     ]
    }
   ],
   "source": [
    "for batch in eval_dataloader:\n",
    "    item = batch[\"input_ids\"][0]\n",
    "    print(len(item))\n",
    "    print(item)\n",
    "    break"
   ]
  },
  {
   "cell_type": "markdown",
   "id": "c18f66d2",
   "metadata": {},
   "source": [
    "# SET PARAMETERS"
   ]
  },
  {
   "cell_type": "code",
   "execution_count": 13,
   "id": "62b8dff1",
   "metadata": {},
   "outputs": [
    {
     "name": "stdout",
     "output_type": "stream",
     "text": [
      "cuda\n"
     ]
    }
   ],
   "source": [
    "# Number of epochs\n",
    "num_epochs = 3\n",
    "\n",
    "# Number of training steps\n",
    "num_training_steps = num_epochs * len(train_dataloader)\n",
    "\n",
    "# Optimizer\n",
    "optimizer = AdamW(params=model.parameters(), lr=1e-4)\n",
    "\n",
    "# Set up the learning rate scheduler\n",
    "lr_scheduler = get_scheduler(name=\"linear\", \n",
    "                             optimizer=optimizer, \n",
    "                             num_warmup_steps=0, \n",
    "                             num_training_steps=num_training_steps)\n",
    "\n",
    "# Use GPU if it is available\n",
    "device = torch.device(\"cuda\") if torch.cuda.is_available() else torch.device(\"cpu\")\n",
    "model.to(device)\n",
    "print(device)"
   ]
  },
  {
   "cell_type": "markdown",
   "id": "25b42afe",
   "metadata": {},
   "source": [
    "## TRAINING"
   ]
  },
  {
   "cell_type": "code",
   "execution_count": 14,
   "id": "79b09050",
   "metadata": {},
   "outputs": [
    {
     "name": "stderr",
     "output_type": "stream",
     "text": [
      "Loss=0.7916 Predictions=[4, 3, 3, 0, 1]:  33%|███▎      | 667/2001 [08:03<14:36,  1.52it/s]"
     ]
    },
    {
     "name": "stdout",
     "output_type": "stream",
     "text": [
      "Epoch 1/3 Loss: 0.7916\n"
     ]
    },
    {
     "name": "stderr",
     "output_type": "stream",
     "text": [
      "Loss=0.0037 Predictions=[2, 3, 4, 3, 2]:  67%|██████▋   | 1334/2001 [16:12<07:17,  1.53it/s]"
     ]
    },
    {
     "name": "stdout",
     "output_type": "stream",
     "text": [
      "Epoch 2/3 Loss: 0.0037\n"
     ]
    },
    {
     "name": "stderr",
     "output_type": "stream",
     "text": [
      "Loss=0.0019 Predictions=[1, 0, 0, 4, 2]: 100%|██████████| 2001/2001 [24:19<00:00,  1.52it/s]"
     ]
    },
    {
     "name": "stdout",
     "output_type": "stream",
     "text": [
      "Epoch 3/3 Loss: 0.0019\n",
      "Elapsed time: 0:24:19.893451\n"
     ]
    }
   ],
   "source": [
    "# Set the progress bar\n",
    "pb_train = tq.tqdm(range(num_training_steps))\n",
    "\n",
    "# Tells the model that we are training the model\n",
    "model.train()\n",
    "\n",
    "start_time = time.time()\n",
    "# Loop through the epochs\n",
    "for epoch in range(num_epochs):\n",
    "    # Loop through the batches\n",
    "    for batch in train_dataloader:\n",
    "        # Get the batch\n",
    "        batch = {k: v.to(device) for k, v in batch.items()}\n",
    "        # Compute the model output for the batch\n",
    "        outputs = model(**batch)\n",
    "        # Get the logits\n",
    "        logits = outputs.logits\n",
    "        # Get the predicted labels for the batch\n",
    "        predictions = torch.argmax(logits, dim=-1)\n",
    "        # Loss computed by the model\n",
    "        loss = outputs.loss\n",
    "        # backpropagates the error to calculate gradients\n",
    "        loss.backward()\n",
    "        # Update the model weights\n",
    "        optimizer.step()\n",
    "        # Learning rate scheduler\n",
    "        lr_scheduler.step()\n",
    "        # Clear the gradients\n",
    "        optimizer.zero_grad()\n",
    "        # Update the progress bar\n",
    "        pb_train.update(1)   \n",
    "        pb_train.set_description(\"Loss={:.4f} Predictions={}\".format(loss.item(), predictions.tolist()[0:5]))\n",
    "    print('Epoch {}/{} Loss: {:.4f}'.format(epoch+1, num_epochs, loss.item()))\n",
    "    \n",
    "elapsed_time = time.time() - start_time\n",
    "formatted_time = str(timedelta(seconds=elapsed_time))\n",
    "\n",
    "print(f\"Elapsed time: {formatted_time}\")"
   ]
  },
  {
   "cell_type": "markdown",
   "id": "f9326c51",
   "metadata": {},
   "source": [
    "# EVALUATE"
   ]
  },
  {
   "cell_type": "code",
   "execution_count": 15,
   "id": "57285407",
   "metadata": {},
   "outputs": [
    {
     "name": "stderr",
     "output_type": "stream",
     "text": [
      "\n",
      "  0%|          | 0/167 [00:00<?, ?it/s]\u001b[A\n",
      "  1%|          | 2/167 [00:00<00:20,  8.16it/s]\u001b[A\n",
      "  2%|▏         | 3/167 [00:00<00:28,  5.68it/s]\u001b[A\n",
      "  2%|▏         | 4/167 [00:00<00:33,  4.91it/s]\u001b[A\n",
      "  3%|▎         | 5/167 [00:00<00:35,  4.53it/s]\u001b[A\n",
      "  4%|▎         | 6/167 [00:01<00:37,  4.35it/s]\u001b[A\n",
      "  4%|▍         | 7/167 [00:01<00:37,  4.25it/s]\u001b[A\n",
      "  5%|▍         | 8/167 [00:01<00:38,  4.15it/s]\u001b[A\n",
      "  5%|▌         | 9/167 [00:02<00:38,  4.08it/s]\u001b[A\n",
      "  6%|▌         | 10/167 [00:02<00:38,  4.07it/s]\u001b[A\n",
      "  7%|▋         | 11/167 [00:02<00:38,  4.05it/s]\u001b[A\n",
      "  7%|▋         | 12/167 [00:02<00:38,  4.04it/s]\u001b[A\n",
      "  8%|▊         | 13/167 [00:03<00:38,  4.01it/s]\u001b[A\n",
      "  8%|▊         | 14/167 [00:03<00:37,  4.03it/s]\u001b[A\n",
      "  9%|▉         | 15/167 [00:03<00:37,  4.03it/s]\u001b[A\n",
      " 10%|▉         | 16/167 [00:03<00:37,  4.01it/s]\u001b[A\n",
      " 10%|█         | 17/167 [00:03<00:37,  4.00it/s]\u001b[A\n",
      " 11%|█         | 18/167 [00:04<00:37,  4.00it/s]\u001b[A\n",
      " 11%|█▏        | 19/167 [00:04<00:37,  3.99it/s]\u001b[A\n",
      " 12%|█▏        | 20/167 [00:04<00:36,  4.01it/s]\u001b[A\n",
      " 13%|█▎        | 21/167 [00:04<00:36,  4.00it/s]\u001b[A\n",
      " 13%|█▎        | 22/167 [00:05<00:36,  3.98it/s]\u001b[A\n",
      " 14%|█▍        | 23/167 [00:05<00:36,  3.97it/s]\u001b[A\n",
      " 14%|█▍        | 24/167 [00:05<00:36,  3.96it/s]\u001b[A\n",
      " 15%|█▍        | 25/167 [00:06<00:35,  3.99it/s]\u001b[A\n",
      " 16%|█▌        | 26/167 [00:06<00:35,  3.99it/s]\u001b[A\n",
      " 16%|█▌        | 27/167 [00:06<00:35,  3.99it/s]\u001b[A\n",
      " 17%|█▋        | 28/167 [00:06<00:34,  3.98it/s]\u001b[A\n",
      " 17%|█▋        | 29/167 [00:07<00:34,  4.00it/s]\u001b[A\n",
      " 18%|█▊        | 30/167 [00:07<00:34,  3.99it/s]\u001b[A\n",
      " 19%|█▊        | 31/167 [00:07<00:34,  4.00it/s]\u001b[A\n",
      " 19%|█▉        | 32/167 [00:07<00:33,  3.98it/s]\u001b[A\n",
      " 20%|█▉        | 33/167 [00:08<00:33,  3.99it/s]\u001b[A\n",
      " 20%|██        | 34/167 [00:08<00:33,  3.97it/s]\u001b[A\n",
      " 21%|██        | 35/167 [00:08<00:33,  3.95it/s]\u001b[A\n",
      " 22%|██▏       | 36/167 [00:08<00:33,  3.93it/s]\u001b[A\n",
      " 22%|██▏       | 37/167 [00:09<00:32,  3.96it/s]\u001b[A\n",
      " 23%|██▎       | 38/167 [00:09<00:32,  3.97it/s]\u001b[A\n",
      " 23%|██▎       | 39/167 [00:09<00:32,  3.97it/s]\u001b[A\n",
      " 24%|██▍       | 40/167 [00:09<00:32,  3.96it/s]\u001b[A\n",
      " 25%|██▍       | 41/167 [00:10<00:31,  3.96it/s]\u001b[A\n",
      " 25%|██▌       | 42/167 [00:10<00:31,  3.97it/s]\u001b[A\n",
      " 26%|██▌       | 43/167 [00:10<00:31,  3.96it/s]\u001b[A\n",
      " 26%|██▋       | 44/167 [00:10<00:30,  3.99it/s]\u001b[A\n",
      " 27%|██▋       | 45/167 [00:11<00:30,  3.99it/s]\u001b[A\n",
      " 28%|██▊       | 46/167 [00:11<00:30,  4.00it/s]\u001b[A\n",
      " 28%|██▊       | 47/167 [00:11<00:30,  3.98it/s]\u001b[A\n",
      " 29%|██▊       | 48/167 [00:11<00:29,  4.00it/s]\u001b[A\n",
      " 29%|██▉       | 49/167 [00:12<00:29,  4.00it/s]\u001b[A\n",
      " 30%|██▉       | 50/167 [00:12<00:29,  4.00it/s]\u001b[A\n",
      " 31%|███       | 51/167 [00:12<00:29,  3.99it/s]\u001b[A\n",
      " 31%|███       | 52/167 [00:12<00:28,  4.00it/s]\u001b[A\n",
      " 32%|███▏      | 53/167 [00:13<00:28,  4.00it/s]\u001b[A\n",
      " 32%|███▏      | 54/167 [00:13<00:28,  4.00it/s]\u001b[A\n",
      " 33%|███▎      | 55/167 [00:13<00:28,  3.99it/s]\u001b[A\n",
      " 34%|███▎      | 56/167 [00:13<00:27,  4.01it/s]\u001b[A\n",
      " 34%|███▍      | 57/167 [00:14<00:27,  4.02it/s]\u001b[A\n",
      " 35%|███▍      | 58/167 [00:14<00:27,  4.00it/s]\u001b[A\n",
      " 35%|███▌      | 59/167 [00:14<00:27,  3.98it/s]\u001b[A\n",
      " 36%|███▌      | 60/167 [00:14<00:27,  3.96it/s]\u001b[A\n",
      " 37%|███▋      | 61/167 [00:15<00:26,  3.97it/s]\u001b[A\n",
      " 37%|███▋      | 62/167 [00:15<00:26,  3.95it/s]\u001b[A\n",
      " 38%|███▊      | 63/167 [00:15<00:26,  3.94it/s]\u001b[A\n",
      " 38%|███▊      | 64/167 [00:15<00:25,  3.97it/s]\u001b[A\n",
      " 39%|███▉      | 65/167 [00:16<00:25,  3.97it/s]\u001b[A\n",
      " 40%|███▉      | 66/167 [00:16<00:25,  3.99it/s]\u001b[A\n",
      " 40%|████      | 67/167 [00:16<00:25,  3.98it/s]\u001b[A\n",
      " 41%|████      | 68/167 [00:16<00:24,  3.99it/s]\u001b[A\n",
      " 41%|████▏     | 69/167 [00:17<00:24,  3.98it/s]\u001b[A\n",
      " 42%|████▏     | 70/167 [00:17<00:24,  4.00it/s]\u001b[A\n",
      " 43%|████▎     | 71/167 [00:17<00:24,  3.99it/s]\u001b[A\n",
      " 43%|████▎     | 72/167 [00:17<00:23,  4.01it/s]\u001b[A\n",
      " 44%|████▎     | 73/167 [00:18<00:23,  3.99it/s]\u001b[A\n",
      " 44%|████▍     | 74/167 [00:18<00:23,  4.00it/s]\u001b[A\n",
      " 45%|████▍     | 75/167 [00:18<00:23,  4.00it/s]\u001b[A\n",
      " 46%|████▌     | 76/167 [00:18<00:22,  4.01it/s]\u001b[A\n",
      " 46%|████▌     | 77/167 [00:19<00:22,  4.00it/s]\u001b[A\n",
      " 47%|████▋     | 78/167 [00:19<00:22,  4.00it/s]\u001b[A\n",
      " 47%|████▋     | 79/167 [00:19<00:22,  3.99it/s]\u001b[A\n",
      " 48%|████▊     | 80/167 [00:19<00:21,  4.00it/s]\u001b[A\n",
      " 49%|████▊     | 81/167 [00:20<00:21,  3.99it/s]\u001b[A\n",
      " 49%|████▉     | 82/167 [00:20<00:21,  4.01it/s]\u001b[A\n",
      " 50%|████▉     | 83/167 [00:20<00:20,  4.00it/s]\u001b[A\n",
      " 50%|█████     | 84/167 [00:20<00:20,  3.99it/s]\u001b[A\n",
      " 51%|█████     | 85/167 [00:21<00:20,  3.97it/s]\u001b[A\n",
      " 51%|█████▏    | 86/167 [00:21<00:20,  3.96it/s]\u001b[A\n",
      " 52%|█████▏    | 87/167 [00:21<00:20,  3.95it/s]\u001b[A\n",
      " 53%|█████▎    | 88/167 [00:21<00:20,  3.94it/s]\u001b[A\n",
      " 53%|█████▎    | 89/167 [00:22<00:19,  3.94it/s]\u001b[A\n",
      " 54%|█████▍    | 90/167 [00:22<00:19,  3.93it/s]\u001b[A\n",
      " 54%|█████▍    | 91/167 [00:22<00:19,  3.96it/s]\u001b[A\n",
      " 55%|█████▌    | 92/167 [00:22<00:18,  3.95it/s]\u001b[A\n",
      " 56%|█████▌    | 93/167 [00:23<00:18,  3.96it/s]\u001b[A\n",
      " 56%|█████▋    | 94/167 [00:23<00:18,  3.96it/s]\u001b[A\n",
      " 57%|█████▋    | 95/167 [00:23<00:18,  3.94it/s]\u001b[A\n",
      " 57%|█████▋    | 96/167 [00:23<00:17,  3.95it/s]\u001b[A\n",
      " 58%|█████▊    | 97/167 [00:24<00:17,  3.95it/s]\u001b[A\n",
      " 59%|█████▊    | 98/167 [00:24<00:17,  3.95it/s]\u001b[A\n",
      " 59%|█████▉    | 99/167 [00:24<00:17,  3.95it/s]\u001b[A\n",
      " 60%|█████▉    | 100/167 [00:24<00:16,  3.95it/s]\u001b[A\n",
      " 60%|██████    | 101/167 [00:25<00:16,  3.95it/s]\u001b[A\n",
      " 61%|██████    | 102/167 [00:25<00:16,  3.98it/s]\u001b[A\n",
      " 62%|██████▏   | 103/167 [00:25<00:16,  3.97it/s]\u001b[A\n",
      " 62%|██████▏   | 104/167 [00:25<00:15,  4.00it/s]\u001b[A\n",
      " 63%|██████▎   | 105/167 [00:26<00:15,  3.99it/s]\u001b[A\n",
      " 63%|██████▎   | 106/167 [00:26<00:15,  4.00it/s]\u001b[A\n",
      " 64%|██████▍   | 107/167 [00:26<00:15,  3.99it/s]\u001b[A\n",
      " 65%|██████▍   | 108/167 [00:26<00:14,  4.00it/s]\u001b[A\n",
      " 65%|██████▌   | 109/167 [00:27<00:14,  3.99it/s]\u001b[A\n",
      " 66%|██████▌   | 110/167 [00:27<00:14,  4.01it/s]\u001b[A\n",
      " 66%|██████▋   | 111/167 [00:27<00:14,  4.00it/s]\u001b[A\n",
      " 67%|██████▋   | 112/167 [00:27<00:13,  4.01it/s]\u001b[A\n",
      " 68%|██████▊   | 113/167 [00:28<00:13,  4.00it/s]\u001b[A\n",
      " 68%|██████▊   | 114/167 [00:28<00:13,  3.98it/s]\u001b[A\n",
      " 69%|██████▉   | 115/167 [00:28<00:13,  3.97it/s]\u001b[A\n",
      " 69%|██████▉   | 116/167 [00:28<00:12,  3.95it/s]\u001b[A\n",
      " 70%|███████   | 117/167 [00:29<00:12,  3.92it/s]\u001b[A\n",
      " 71%|███████   | 118/167 [00:29<00:12,  3.93it/s]\u001b[A\n",
      " 71%|███████▏  | 119/167 [00:29<00:12,  3.94it/s]\u001b[A\n",
      " 72%|███████▏  | 120/167 [00:29<00:11,  3.93it/s]\u001b[A\n",
      " 72%|███████▏  | 121/167 [00:30<00:11,  3.94it/s]\u001b[A\n",
      " 73%|███████▎  | 122/167 [00:30<00:11,  3.95it/s]\u001b[A\n",
      " 74%|███████▎  | 123/167 [00:30<00:11,  3.94it/s]\u001b[A\n",
      " 74%|███████▍  | 124/167 [00:30<00:10,  3.92it/s]\u001b[A\n",
      " 75%|███████▍  | 125/167 [00:31<00:10,  3.94it/s]\u001b[A\n",
      " 75%|███████▌  | 126/167 [00:31<00:10,  3.94it/s]\u001b[A\n",
      " 76%|███████▌  | 127/167 [00:31<00:10,  3.92it/s]\u001b[A\n",
      " 77%|███████▋  | 128/167 [00:31<00:09,  3.91it/s]\u001b[A\n",
      " 77%|███████▋  | 129/167 [00:32<00:09,  3.93it/s]\u001b[A\n",
      " 78%|███████▊  | 130/167 [00:32<00:09,  3.93it/s]\u001b[A\n",
      " 78%|███████▊  | 131/167 [00:32<00:09,  3.93it/s]\u001b[A\n",
      " 79%|███████▉  | 132/167 [00:32<00:08,  3.92it/s]\u001b[A\n",
      " 80%|███████▉  | 133/167 [00:33<00:08,  3.93it/s]\u001b[A\n",
      " 80%|████████  | 134/167 [00:33<00:08,  3.93it/s]\u001b[A\n",
      " 81%|████████  | 135/167 [00:33<00:08,  3.92it/s]\u001b[A\n",
      " 81%|████████▏ | 136/167 [00:33<00:07,  3.92it/s]\u001b[A\n",
      " 82%|████████▏ | 137/167 [00:34<00:07,  3.93it/s]\u001b[A\n",
      " 83%|████████▎ | 138/167 [00:34<00:07,  3.92it/s]\u001b[A\n",
      " 83%|████████▎ | 139/167 [00:34<00:07,  3.92it/s]\u001b[A\n",
      " 84%|████████▍ | 140/167 [00:34<00:06,  3.93it/s]\u001b[A\n",
      " 84%|████████▍ | 141/167 [00:35<00:06,  3.94it/s]\u001b[A\n",
      " 85%|████████▌ | 142/167 [00:35<00:06,  3.94it/s]\u001b[A\n",
      " 86%|████████▌ | 143/167 [00:35<00:06,  3.97it/s]\u001b[A\n",
      " 86%|████████▌ | 144/167 [00:35<00:05,  3.96it/s]\u001b[A\n",
      " 87%|████████▋ | 145/167 [00:36<00:05,  3.99it/s]\u001b[A\n",
      " 87%|████████▋ | 146/167 [00:36<00:05,  3.99it/s]\u001b[A\n",
      " 88%|████████▊ | 147/167 [00:36<00:05,  4.00it/s]\u001b[A\n",
      " 89%|████████▊ | 148/167 [00:36<00:04,  3.99it/s]\u001b[A\n",
      " 89%|████████▉ | 149/167 [00:37<00:04,  4.00it/s]\u001b[A\n",
      " 90%|████████▉ | 150/167 [00:37<00:04,  3.98it/s]\u001b[A\n",
      " 90%|█████████ | 151/167 [00:37<00:04,  3.96it/s]\u001b[A\n",
      " 91%|█████████ | 152/167 [00:37<00:03,  3.98it/s]\u001b[A\n",
      " 92%|█████████▏| 153/167 [00:38<00:03,  3.97it/s]\u001b[A\n",
      " 92%|█████████▏| 154/167 [00:38<00:03,  3.99it/s]\u001b[A\n",
      " 93%|█████████▎| 155/167 [00:38<00:03,  3.99it/s]\u001b[A\n",
      " 93%|█████████▎| 156/167 [00:38<00:02,  4.00it/s]\u001b[A\n",
      " 94%|█████████▍| 157/167 [00:39<00:02,  3.99it/s]\u001b[A\n",
      " 95%|█████████▍| 158/167 [00:39<00:02,  4.01it/s]\u001b[A\n",
      " 95%|█████████▌| 159/167 [00:39<00:01,  4.04it/s]\u001b[A\n",
      " 96%|█████████▌| 160/167 [00:39<00:01,  4.01it/s]\u001b[A\n",
      " 96%|█████████▋| 161/167 [00:40<00:01,  3.97it/s]\u001b[A\n",
      " 97%|█████████▋| 162/167 [00:40<00:01,  3.99it/s]\u001b[A\n",
      " 98%|█████████▊| 163/167 [00:40<00:01,  3.98it/s]\u001b[A\n",
      " 98%|█████████▊| 164/167 [00:40<00:00,  4.01it/s]\u001b[A\n",
      " 99%|█████████▉| 165/167 [00:41<00:00,  4.00it/s]\u001b[A\n",
      " 99%|█████████▉| 166/167 [00:41<00:00,  4.00it/s]\u001b[A\n",
      "100%|██████████| 167/167 [00:41<00:00,  3.99it/s]\u001b[A"
     ]
    }
   ],
   "source": [
    "# Tells the model that we are evaluting the model performance\n",
    "model.eval()\n",
    "\n",
    "#  A list for all logits\n",
    "logits_all = []\n",
    "\n",
    "# A list for all predicted probabilities\n",
    "predicted_prob_all = []\n",
    "\n",
    "# A list for all predicted labels\n",
    "predictions_all = []\n",
    "\n",
    "# A list for all actual labels\n",
    "labels_all = []\n",
    "\n",
    "\n",
    "# Set the progress bar\n",
    "pb_eval = tq.tqdm(range(len(eval_dataloader)))\n",
    "\n",
    "# Loop through the batches in the evaluation dataloader\n",
    "for batch in eval_dataloader:\n",
    "    # Get the batch\n",
    "    batch = {k: v.to(device) for k, v in batch.items()}\n",
    "    # Disable the gradient calculation\n",
    "    with torch.no_grad():\n",
    "        # Compute the model output\n",
    "        outputs = model(**batch)\n",
    "    # Get the logits\n",
    "    logits = outputs.logits\n",
    "    # Append the logits batch to the list\n",
    "    logits_all.append(logits) \n",
    "    # Get the predicted probabilities for the batch\n",
    "    predicted_prob = torch.softmax(logits, dim=1)\n",
    "    # Append the predicted probabilities for the batch to all the predicted probabilities\n",
    "    predicted_prob_all.append(predicted_prob)\n",
    "    # Get the predicted labels for the batch\n",
    "    predictions = torch.argmax(logits, dim=-1)\n",
    "    # Append the predicted labels for the batch to all the predictions\n",
    "    predictions_all.append(predictions)\n",
    "    # Append the actual labels for the batch to all labels\n",
    "    labels_all.append(batch[\"labels\"])\n",
    "    pb_eval.update(1)"
   ]
  },
  {
   "cell_type": "code",
   "execution_count": 16,
   "id": "bf72b7e2",
   "metadata": {},
   "outputs": [
    {
     "name": "stdout",
     "output_type": "stream",
     "text": [
      "              precision    recall  f1-score   support\n",
      "\n",
      "           0     0.9825    0.9825    0.9825       400\n",
      "           1     0.9975    1.0000    0.9988       400\n",
      "           2     0.9749    0.9700    0.9724       400\n",
      "           3     0.9975    0.9975    0.9975       400\n",
      "           4     0.9800    0.9825    0.9813       400\n",
      "\n",
      "    accuracy                         0.9865      2000\n",
      "   macro avg     0.9865    0.9865    0.9865      2000\n",
      "weighted avg     0.9865    0.9865    0.9865      2000\n",
      "\n",
      "CONFUSION = [[393, 1, 2, 1, 3], [0, 400, 0, 0, 0], [7, 0, 388, 0, 5], [0, 0, 1, 399, 0], [0, 0, 7, 0, 393]]\n"
     ]
    }
   ],
   "source": [
    "all_preds = torch.cat(predictions_all, dim=0).cpu().numpy()\n",
    "all_labels = torch.cat(labels_all, dim=0).cpu().numpy()\n",
    "\n",
    "cr = classification_report(all_labels, all_preds, labels=[0,1,2,3,4], digits=4)\n",
    "print(cr)\n",
    "cm = confusion_matrix(all_labels, all_preds, labels=[0,1,2,3,4])\n",
    "print('CONFUSION = {}'.format(cm.tolist()))"
   ]
  },
  {
   "cell_type": "code",
   "execution_count": 17,
   "id": "2c5eb69b",
   "metadata": {},
   "outputs": [],
   "source": [
    "np.savetxt(f'results/{MODEL_PRINT_NAME}_{EMBED_SIZE}_all_preds.txt', all_preds, fmt='%d')\n",
    "np.savetxt(f'results/{MODEL_PRINT_NAME}_{EMBED_SIZE}_all_labels.txt', all_labels, fmt='%d')"
   ]
  },
  {
   "cell_type": "code",
   "execution_count": 18,
   "id": "5b090703",
   "metadata": {},
   "outputs": [
    {
     "data": {
      "image/png": "[encoded data removed]",
      "text/plain": [
       "<Figure size 576x432 with 2 Axes>"
      ]
     },
     "metadata": {
      "needs_background": "light"
     },
     "output_type": "display_data"
    }
   ],
   "source": [
    "# Create a normalized confusion matrix\n",
    "cm_norm = cm.astype('float') / cm.sum(axis=1)[:, np.newaxis]\n",
    "\n",
    "# Plot the heatmap\n",
    "plt.figure(figsize=(8, 6))\n",
    "heatmap=sns.heatmap(cm, annot=True, fmt=\"d\", cmap='Blues', xticklabels=VOC_NAMES,\n",
    "            yticklabels=VOC_NAMES,\n",
    "            annot_kws={\"fontsize\": 14})\n",
    "\n",
    "# Customize the x-axis and y-axis tick label font size\n",
    "heatmap.set_xticklabels(heatmap.get_xticklabels(), fontsize=14)  # Increase the x-axis tick label font size here\n",
    "heatmap.set_yticklabels(heatmap.get_yticklabels(), fontsize=14)  # Increase the y-axis tick label font size here\n",
    "\n",
    "# Customize the plot\n",
    "plt.title(f'Misclassification Analysis ({MODEL_PRINT_NAME}-{EMBED_SIZE})', fontsize=14)\n",
    "plt.xlabel('Predicted Labels', fontsize=14)\n",
    "plt.ylabel('True Labels' , fontsize=14)\n",
    "plt.savefig(f'figures/missclassification_{MODEL_PRINT_NAME}_{EMBED_SIZE}.pdf', bbox_inches='tight')\n",
    "plt.show()"
   ]
  },
  {
   "cell_type": "markdown",
   "id": "77e67902",
   "metadata": {},
   "source": [
    "# SAVE AND LOAD MODEL"
   ]
  },
  {
   "cell_type": "code",
   "execution_count": null,
   "id": "6f158eea",
   "metadata": {},
   "outputs": [],
   "source": [
    "ckpt_dir = f\"./checkpoints/{MODEL_PRINT_NAME}_{EMBED_SIZE}\"\n",
    "if not os.path.exists(ckpt_dir):\n",
    "    os.makedirs(ckpt_dir)\n",
    "\n",
    "# Save tokenizer\n",
    "tok.save_pretrained(ckpt_dir)\n",
    "\n",
    "# Save model\n",
    "model.save_pretrained(ckpt_dir)"
   ]
  },
  {
   "cell_type": "code",
   "execution_count": 21,
   "id": "523610fd",
   "metadata": {},
   "outputs": [],
   "source": [
    "# Load tokenizer\n",
    "tok = AutoTokenizer.from_pretrained(ckpt_dir)\n",
    "\n",
    "# Load model\n",
    "loaded_model = AutoModelForSequenceClassification.from_pretrained(ckpt_dir)"
   ]
  },
  {
   "cell_type": "markdown",
   "id": "3283aed9",
   "metadata": {},
   "source": [
    "# REFERENCES:"
   ]
  },
  {
   "cell_type": "markdown",
   "id": "9b1ce50c",
   "metadata": {},
   "source": [
    "https://grabngoinfo.com/transfer-learning-for-text-classification-using-pytorch/"
   ]
  }
 ],
 "metadata": {
  "kernelspec": {
   "display_name": "Python 3",
   "language": "python",
   "name": "python3"
  },
  "language_info": {
   "codemirror_mode": {
    "name": "ipython",
    "version": 3
   },
   "file_extension": ".py",
   "mimetype": "text/x-python",
   "name": "python",
   "nbconvert_exporter": "python",
   "pygments_lexer": "ipython3",
   "version": "3.8.16"
  }
 },
 "nbformat": 4,
 "nbformat_minor": 5
}
