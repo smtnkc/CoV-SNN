{
 "cells": [
  {
   "cell_type": "code",
   "execution_count": 2,
   "id": "a74f39d8",
   "metadata": {},
   "outputs": [],
   "source": [
    "import pandas as pd\n",
    "from Bio import SeqIO\n",
    "import os\n",
    "import numpy as np"
   ]
  },
  {
   "cell_type": "code",
   "execution_count": 1,
   "id": "0e55b545",
   "metadata": {},
   "outputs": [
    {
     "name": "stdout",
     "output_type": "stream",
     "text": [
      "Writing mutations to exp_data/sig_seq_esc.csv\n",
      "Mutation count: 2039\n",
      "Sequence count: 2039\n",
      "Writing mutations to exp_data/sig_seq_greaney.csv\n",
      "Mutation count: 181\n",
      "Sequence count: 181\n",
      "Writing mutations to exp_data/sig_seq_baum.csv\n",
      "Mutation count: 19\n",
      "Sequence count: 19\n",
      "Writing mutations to exp_data/sig_seq_esc_filtered.csv\n",
      "Mutation count: 2010\n",
      "Sequence count: 2010\n",
      "Writing mutations to exp_data/non_sig_seq_baum.csv\n",
      "Mutation count: 24168\n",
      "Sequence count: 24168\n",
      "Writing mutations to exp_data/non_sig_seq_greaney.csv\n",
      "Mutation count: 2185\n",
      "Sequence count: 2185\n",
      "Writing mutations to exp_data/non_sig_seq_baum_filtered.csv\n",
      "Mutation count: 22143\n",
      "Sequence count: 22143\n"
     ]
    }
   ],
   "source": [
    "# Create output directory if it doesn't exist\n",
    "os.makedirs('data', exist_ok=True)\n",
    "\n",
    "# Read mutation files - no header\n",
    "sig_mut_esc = pd.read_csv('exp_data//sig_mut_esc.csv', header=None, names=['mutation']) # 2039 mutations\n",
    "sig_mut_greaney = pd.read_csv('exp_data/sig_mut_greaney.csv', header=None, names=['mutation']) # 181 mutations\n",
    "sig_mut_baum = pd.read_csv('exp_data/sig_mut_baum.csv', header=None, names=['mutation']) # 19 mutations\n",
    "\n",
    "non_sig_mut_greaney = pd.read_csv('exp_data/non_sig_mut_greaney.csv', header=None, names=['mutation']) # 2185 mutations\n",
    "non_sig_mut_baum = pd.read_csv('exp_data/non_sig_mut_baum.csv', header=None, names=['mutation']) # 24168 mutations (all possible non-escape mutations)\n",
    "# All possible non-escape mutations = (20 possible AA - 1 actual AA) x 1273 positions - 19 significant mutations = 24168\n",
    "\n",
    "# Filter sig_mut_esc to remove mutations present in sig_mut_greaney or sig_mut_baum\n",
    "# Because we are using them for testing the model.\n",
    "sig_mut_esc_filtered = sig_mut_esc[~sig_mut_esc['mutation'].isin(sig_mut_greaney['mutation'].tolist() + sig_mut_baum['mutation'].tolist())]\n",
    "sig_mut_esc_filtered.to_csv('exp_data/sig_mut_esc_filtered.csv', index=False, header=False) # 2010 mutations\n",
    "\n",
    "# Filter non_sig_mut_baum to remove mutations present in sig_mut_greaney or sig_mut_esc\n",
    "# Bist et. al. stated that some computationally generated non-escape mutantions are false negatives. \n",
    "# It means that they are listed as significant in the Greaney and ESC dataset.\n",
    "sig_mutations = set(sig_mut_greaney['mutation'].tolist() + sig_mut_esc['mutation'].tolist()) # 2025 mutations\n",
    "non_sig_mut_baum_filtered = non_sig_mut_baum[~non_sig_mut_baum['mutation'].isin(sig_mutations)]\n",
    "non_sig_mut_baum_filtered.to_csv('exp_data/non_sig_mut_baum_filtered.csv', index=False, header=False) # 22143 mutations\n",
    "\n",
    "# Read wild type sequence\n",
    "wild_type_seq = str(SeqIO.read('exp_data/wild_type.fasta', 'fasta').seq)\n",
    "\n",
    "def apply_mutations(mutations_df, output_file, is_greaney=False):\n",
    "\n",
    "    print(f\"Writing mutations to {output_file}\")\n",
    "    print(f\"Mutation count: {len(mutations_df)}\")\n",
    "\n",
    "    \"\"\"Apply mutations to wild type sequence and save results\"\"\"\n",
    "    mutated_sequences = []\n",
    "    valid_mutations = []\n",
    "    \n",
    "    for i, row in mutations_df.iterrows():\n",
    "        mutation = row['mutation']\n",
    "        orig_aa = mutation[0]\n",
    "        pos = int(mutation[1:-1])\n",
    "        new_aa = mutation[-1]\n",
    "        \n",
    "        # Convert to 0-based index if not greaney\n",
    "        if not is_greaney:\n",
    "            pos = pos - 1\n",
    "        \n",
    "        # Check if original amino acid matches\n",
    "        if wild_type_seq[pos] != orig_aa:\n",
    "            print(f\"Warning {output_file} line {i}: Original amino acid mismatch for mutation {mutation}. Expected {wild_type_seq[pos]}, got {orig_aa}\")\n",
    "            continue\n",
    "            \n",
    "        mutated_seq = list(wild_type_seq)\n",
    "        mutated_seq[pos] = new_aa\n",
    "        mutated_sequences.append(''.join(mutated_seq))\n",
    "        valid_mutations.append(mutation)\n",
    "    \n",
    "    # Create output DataFrame\n",
    "    output_df = pd.DataFrame({\n",
    "        'mutation': valid_mutations,\n",
    "        'sequence': mutated_sequences\n",
    "    })\n",
    "    output_df.to_csv(output_file, index=False, header=False)\n",
    "\n",
    "    # Print name and length of output dataframe\n",
    "    print(f\"Sequence count: {len(output_df)}\")\n",
    "\n",
    "# Apply mutations and create sequence files\n",
    "apply_mutations(sig_mut_esc, 'exp_data/sig_seq_esc.csv', is_greaney=False)\n",
    "apply_mutations(sig_mut_greaney, 'exp_data/sig_seq_greaney.csv', is_greaney=True)\n",
    "apply_mutations(sig_mut_baum, 'exp_data/sig_seq_baum.csv', is_greaney=False)\n",
    "apply_mutations(sig_mut_esc_filtered, 'exp_data/sig_seq_esc_filtered.csv', is_greaney=False)\n",
    "apply_mutations(non_sig_mut_baum, 'exp_data/non_sig_seq_baum.csv', is_greaney=False)\n",
    "apply_mutations(non_sig_mut_greaney, 'exp_data/non_sig_seq_greaney.csv', is_greaney=True)\n",
    "apply_mutations(non_sig_mut_baum_filtered, 'exp_data/non_sig_seq_baum_filtered.csv', is_greaney=False)"
   ]
  },
  {
   "cell_type": "code",
   "execution_count": 2,
   "id": "94bb7d4f",
   "metadata": {},
   "outputs": [
    {
     "name": "stdout",
     "output_type": "stream",
     "text": [
      "non_sig_train_val: 2010\n",
      "sig_train_val: 2010\n"
     ]
    }
   ],
   "source": [
    "# SPLIT THE DATA INTO TRAIN/VAL AND TEST SETS\n",
    "\n",
    "# Read the sequence files\n",
    "sig_seq_esc_filtered = pd.read_csv('exp_data/sig_seq_esc_filtered.csv', header=None, names=['mutation', 'sequence'])\n",
    "non_sig_seq_baum_filtered = pd.read_csv('exp_data/non_sig_seq_baum_filtered.csv', header=None, names=['mutation', 'sequence'])\n",
    "\n",
    "# Select the same number of non-escape sequences from non_sig_seq_baum_filtered as the number of escape sequences from sig_seq_esc_filtered\n",
    "np.random.seed(42)\n",
    "non_sig_train_val = non_sig_seq_baum_filtered.sample(n=len(sig_seq_esc_filtered))\n",
    "non_sig_train_val.to_csv('exp_data/non_sig_train_val.csv', index=False, header=False)\n",
    "print(f\"non_sig_train_val: {len(non_sig_train_val)}\")\n",
    "\n",
    "# sig_train_val will be the same as sig_seq_esc_filtered\n",
    "sig_train_val = sig_seq_esc_filtered\n",
    "sig_train_val.to_csv('exp_data/sig_train_val.csv', index=False, header=False)\n",
    "print(f\"sig_train_val: {len(sig_train_val)}\")"
   ]
  },
  {
   "cell_type": "code",
   "execution_count": 3,
   "id": "593e6bd6",
   "metadata": {},
   "outputs": [
    {
     "name": "stdout",
     "output_type": "stream",
     "text": [
      "sig_gisaid_seqs: 395\n",
      "sig_train_val_seqs: 2010\n"
     ]
    },
    {
     "name": "stdout",
     "output_type": "stream",
     "text": [
      "sig_gisaid_seqs after removing sig_train_val_seqs: 394\n",
      "sig_train_val_seqs after adding sig_gisaid_seqs: 2404\n",
      "non_sig_gisaid_seqs: 745\n",
      "non_sig_train_val_seqs: 2010\n",
      "non_sig_gisaid_seqs after removing non_sig_train_val_seqs: 688\n",
      "non_sig_train_val_seqs after adding non_sig_gisaid_seqs: 2698\n"
     ]
    }
   ],
   "source": [
    "import pandas as pd\n",
    "from Bio import SeqIO\n",
    "import os\n",
    "import numpy as np\n",
    "\n",
    "# EXTEND TRAINING DATA WITH GISAID SEQUENCES\n",
    "\n",
    "sig_gisaid_seqs = []\n",
    "\n",
    "# Parse the FASTA file and extract sequences\n",
    "for record in SeqIO.parse('exp_data/GISAID_SIG_SAMPLES.fa', 'fasta'):\n",
    "    sig_gisaid_seqs.append(str(record.seq))\n",
    "\n",
    "# remove sequences with X and len != 1273\n",
    "sig_gisaid_seqs = [seq for seq in sig_gisaid_seqs if 'X' not in seq and len(seq) == 1273]\n",
    "print(f\"sig_gisaid_seqs: {len(sig_gisaid_seqs)}\")\n",
    "\n",
    "# check if any of the sequences are in the sig_train_val_seqs\n",
    "sig_train_val_seqs = pd.read_csv('exp_data/sig_train_val.csv', header=None, names=['mutation', 'sequence'])\n",
    "print(f\"sig_train_val_seqs: {len(sig_train_val_seqs)}\")\n",
    "sig_gisaid_seqs = [seq for seq in sig_gisaid_seqs if seq not in sig_train_val_seqs['sequence'].tolist()]\n",
    "print(f\"sig_gisaid_seqs after removing sig_train_val_seqs: {len(sig_gisaid_seqs)}\")\n",
    "\n",
    "# Add sig_gisaid_seqs to the sig_train_val_seqs dataframe\n",
    "sig_train_val_seqs_extended = pd.concat(\n",
    "    [sig_train_val_seqs, pd.DataFrame({'mutation': [''] * len(sig_gisaid_seqs), 'sequence': sig_gisaid_seqs})],\n",
    "    ignore_index=True\n",
    ")\n",
    "\n",
    "# Shuffle the dataframe\n",
    "sig_train_val_seqs_extended = sig_train_val_seqs_extended.sample(frac=1, random_state=42).reset_index(drop=True)\n",
    "sig_train_val_seqs_extended.to_csv('exp_data/sig_train_val_extended.csv', index=False, header=False)\n",
    "print(f\"sig_train_val_seqs after adding sig_gisaid_seqs: {len(sig_train_val_seqs_extended)}\")\n",
    "\n",
    "##########################\n",
    "\n",
    "non_sig_gisaid_seqs = []\n",
    "\n",
    "# Parse the FASTA file and extract sequences\n",
    "for record in SeqIO.parse('exp_data/GISAID_NON_SIG.fa', 'fasta'):\n",
    "    non_sig_gisaid_seqs.append(str(record.seq))\n",
    "\n",
    "# remove sequences with X and len != 1273\n",
    "non_sig_gisaid_seqs = [seq for seq in non_sig_gisaid_seqs if 'X' not in seq and len(seq) == 1273]\n",
    "print(f\"non_sig_gisaid_seqs: {len(non_sig_gisaid_seqs)}\")\n",
    "\n",
    "# check if any of the sequences are in the non_sig_train_val_seqs\n",
    "non_sig_train_val_seqs = pd.read_csv('exp_data/non_sig_train_val.csv', header=None, names=['mutation', 'sequence'])\n",
    "print(f\"non_sig_train_val_seqs: {len(non_sig_train_val_seqs)}\")\n",
    "non_sig_gisaid_seqs = [seq for seq in non_sig_gisaid_seqs if seq not in non_sig_train_val_seqs['sequence'].tolist()]\n",
    "print(f\"non_sig_gisaid_seqs after removing non_sig_train_val_seqs: {len(non_sig_gisaid_seqs)}\") \n",
    "\n",
    "# Add the sequences to the non_sig_train_val_seqs dataframe\n",
    "non_sig_train_val_seqs_extended = pd.concat(\n",
    "    [non_sig_train_val_seqs, pd.DataFrame({'mutation': [''] * len(non_sig_gisaid_seqs), 'sequence': non_sig_gisaid_seqs})],\n",
    "    ignore_index=True\n",
    ")\n",
    "\n",
    "# Shuffle the dataframe\n",
    "non_sig_train_val_seqs_extended = non_sig_train_val_seqs_extended.sample(frac=1, random_state=42).reset_index(drop=True)\n",
    "non_sig_train_val_seqs_extended.to_csv('exp_data/non_sig_train_val_extended.csv', index=False, header=False)\n",
    "print(f\"non_sig_train_val_seqs after adding non_sig_gisaid_seqs: {len(non_sig_train_val_seqs_extended)}\")\n"
   ]
  },
  {
   "cell_type": "code",
   "execution_count": 4,
   "id": "968995c0",
   "metadata": {},
   "outputs": [
    {
     "name": "stdout",
     "output_type": "stream",
     "text": [
      "non_sig_seq_baum_filtered: 20133\n"
     ]
    }
   ],
   "source": [
    "# Update non_sig_mut_baum_filtered to remove mutations present in non_sig_train_val_seqs_extended\n",
    "# Because we are using them for training the model\n",
    "non_sig_train_val_seqs_extended = pd.read_csv('exp_data/non_sig_train_val_extended.csv', header=None, names=['mutation', 'sequence'])\n",
    "non_sig_mut_baum_filtered = non_sig_mut_baum_filtered[~non_sig_mut_baum_filtered['mutation'].isin(non_sig_train_val_seqs_extended['mutation'].tolist())]\n",
    "non_sig_seq_baum_filtered = non_sig_seq_baum_filtered[~non_sig_seq_baum_filtered['mutation'].isin(non_sig_train_val_seqs_extended['mutation'].tolist())]\n",
    "non_sig_mut_baum_filtered.to_csv('exp_data/non_sig_mut_baum_filtered.csv', index=False, header=False)\n",
    "non_sig_seq_baum_filtered.to_csv('exp_data/non_sig_seq_baum_filtered.csv', index=False, header=False)\n",
    "\n",
    "print(f\"non_sig_seq_baum_filtered: {len(non_sig_seq_baum_filtered)}\")"
   ]
  },
  {
   "cell_type": "code",
   "execution_count": 27,
   "id": "66c27479",
   "metadata": {},
   "outputs": [
    {
     "name": "stdout",
     "output_type": "stream",
     "text": [
      "non_sig_greaney_seqs: 2185\n",
      "non_sig_greaney_seqs unique: 2185\n",
      "sig_train_val_extended: 2404\n",
      "sig_train_val_extended unique: 2404\n",
      "non_sig_greaney_seqs after removing sig_train_val_seqs: 407\n",
      "non_sig_greaney_seqs_df_filtered: 407\n"
     ]
    }
   ],
   "source": [
    "# check if non_sig_greaney_seqs and sig_train_val_seqs_extended have any common sequences\n",
    "non_sig_greaney_seqs_df = pd.read_csv('exp_data/non_sig_seq_greaney.csv', header=None, names=['mutation', 'sequence'])\n",
    "non_sig_greaney_seqs_list = non_sig_greaney_seqs_df['sequence'].tolist()\n",
    "print(f\"non_sig_greaney_seqs: {len(set(non_sig_greaney_seqs_df['sequence'].tolist()))}\")\n",
    "\n",
    "non_sig_greaney_seqs_list_unique = list(set(non_sig_greaney_seqs_list))\n",
    "print(f\"non_sig_greaney_seqs unique: {len(non_sig_greaney_seqs_list_unique)}\")\n",
    "\n",
    "sig_train_val_extended_df = pd.read_csv('exp_data/sig_train_val_extended.csv', header=None, names=['mutation', 'sequence'])\n",
    "sig_train_val_extended_list = sig_train_val_extended_df['sequence'].tolist()\n",
    "print(f\"sig_train_val_extended: {len(sig_train_val_seqs)}\")\n",
    "sig_train_val_extended_list_unique = list(set(sig_train_val_extended_list))\n",
    "print(f\"sig_train_val_extended unique: {len(sig_train_val_extended_list_unique)}\")\n",
    "\n",
    "# Remove non_sig_greaney_seqs that are in sig_train_val_extended.\n",
    "# These are false negatives. It means that they are listed as significant in the ESC dataset.\n",
    "non_sig_greaney_seqs_list_filtered = [seq for seq in non_sig_greaney_seqs_list_unique if seq not in sig_train_val_extended_list_unique]\n",
    "print(f\"non_sig_greaney_seqs after removing sig_train_val_seqs: {len(non_sig_greaney_seqs_list_filtered)}\")\n",
    "\n",
    "# filter non_sig_greaney_seqs df using the remaining sequences\n",
    "non_sig_greaney_seqs_df_filtered = non_sig_greaney_seqs_df[non_sig_greaney_seqs_df['sequence'].isin(non_sig_greaney_seqs_list_filtered)]\n",
    "print(f\"non_sig_greaney_seqs_df_filtered: {len(non_sig_greaney_seqs_df_filtered)}\")\n",
    "\n",
    "# Save the filtered sequences to a new file\n",
    "non_sig_greaney_seqs_df_filtered.to_csv('exp_data/non_sig_seq_greaney_filtered.csv', index=False, header=False)\n"
   ]
  },
  {
   "cell_type": "code",
   "execution_count": null,
   "id": "c6fac19a",
   "metadata": {},
   "outputs": [],
   "source": []
  }
 ],
 "metadata": {
  "kernelspec": {
   "display_name": "Python 3",
   "language": "python",
   "name": "python3"
  },
  "language_info": {
   "codemirror_mode": {
    "name": "ipython",
    "version": 3
   },
   "file_extension": ".py",
   "mimetype": "text/x-python",
   "name": "python",
   "nbconvert_exporter": "python",
   "pygments_lexer": "ipython3",
   "version": "3.8.16"
  }
 },
 "nbformat": 4,
 "nbformat_minor": 5
}
