{
 "cells": [
  {
   "cell_type": "code",
   "execution_count": 1,
   "id": "b5e3bf08",
   "metadata": {},
   "outputs": [],
   "source": [
    "import os\n",
    "import pandas as pd\n",
    "import torch\n",
    "from torch import nn\n",
    "from torch.utils.data import DataLoader\n",
    "from tqdm.notebook import tqdm\n",
    "from sentence_transformers import SentenceTransformer, models, LoggingHandler, InputExample, losses, evaluation\n",
    "from sentence_transformers.losses import SiameseDistanceMetric\n",
    "import numpy as np\n",
    "import random\n",
    "seed = 42\n",
    "torch.manual_seed(seed)\n",
    "random.seed(seed)\n",
    "np.random.seed(seed)\n",
    "torch.backends.cudnn.deterministic = True\n",
    "torch.backends.cudnn.benchmark = False\n",
    "\n",
    "VOC_NAMES = [\"Alpha\", \"Beta\", \"Delta\", \"Gamma\", \"Omicron\"]\n",
    "LOSS_NAME = \"ContrastiveLoss\"\n",
    "POOLING_MODE = \"max\""
   ]
  },
  {
   "cell_type": "code",
   "execution_count": 2,
   "id": "805e9f14",
   "metadata": {},
   "outputs": [
    {
     "name": "stderr",
     "output_type": "stream",
     "text": [
      "Some weights of the model checkpoint at ./mlm_checkpoints/CoV-RoBERTa_2048 were not used when initializing RobertaModel: ['lm_head.dense.weight', 'lm_head.bias', 'lm_head.layer_norm.weight', 'lm_head.layer_norm.bias', 'lm_head.dense.bias']\n",
      "- This IS expected if you are initializing RobertaModel from the checkpoint of a model trained on another task or with another architecture (e.g. initializing a BertForSequenceClassification model from a BertForPreTraining model).\n",
      "- This IS NOT expected if you are initializing RobertaModel from the checkpoint of a model that you expect to be exactly identical (initializing a BertForSequenceClassification model from a BertForSequenceClassification model).\n",
      "Some weights of RobertaModel were not initialized from the model checkpoint at ./mlm_checkpoints/CoV-RoBERTa_2048 and are newly initialized: ['roberta.pooler.dense.bias', 'roberta.pooler.dense.weight']\n",
      "You should probably TRAIN this model on a down-stream task to be able to use it for predictions and inference.\n"
     ]
    }
   ],
   "source": [
    "#word_embedding_model = models.Transformer(model_name_or_path=\"Rostlab/prot_bert\", max_seq_length=1280)\n",
    "\n",
    "encoder = models.Transformer(model_name_or_path=\"./mlm_checkpoints/CoV-RoBERTa_2048\",\n",
    "                                          max_seq_length=1280,\n",
    "                                          tokenizer_name_or_path=\"tok/\")\n",
    "\n",
    "pooler = models.Pooling(encoder.get_word_embedding_dimension(), pooling_mode = POOLING_MODE)\n",
    "\n",
    "\n",
    "model = SentenceTransformer(modules=[encoder, pooler])"
   ]
  },
  {
   "attachments": {},
   "cell_type": "markdown",
   "id": "5073d929",
   "metadata": {},
   "source": [
    "# Construct Contrastive Dataset"
   ]
  },
  {
   "cell_type": "code",
   "execution_count": 3,
   "id": "8feefe76",
   "metadata": {},
   "outputs": [
    {
     "name": "stdout",
     "output_type": "stream",
     "text": [
      "len(examples):  8864\n",
      "len(sequences[0]):  4\n",
      "len(sequences[1]):  4\n",
      "len(sequences[2]):  4\n",
      "len(sequences[3]):  8\n",
      "len(sequences[4]):  8\n"
     ]
    }
   ],
   "source": [
    "sequences = []\n",
    "for voc_name in VOC_NAMES:\n",
    "    sequences.append(pd.read_csv(f\"data/unique_{voc_name}_2k.csv\")[\"sequence\"].tolist())\n",
    "\n",
    "# sequences = [[\"00\" + str(i) for i in range(10, 34)],\n",
    "#              [\"10\" + str(i) for i in range(10, 34)],\n",
    "#              [\"20\" + str(i) for i in range(10, 34)],\n",
    "#              [\"30\" + str(i) for i in range(10, 34)],\n",
    "#              [\"40\" + str(i) for i in range(10, 34)]]\n",
    "\n",
    "examples = []\n",
    "r = 1\n",
    "done = False\n",
    "while not done:\n",
    "    #print(\"round\", r)\n",
    "    for a_p_list_id in range(len(sequences)):\n",
    "        n_list_ids = list(range(len(sequences))).copy()\n",
    "        n_list_ids.remove(a_p_list_id)\n",
    "        anchor_positive_list = sequences[a_p_list_id]\n",
    "        anchor_positives = random.sample(anchor_positive_list, 5)\n",
    "        anchor = anchor_positives[0]\n",
    "        positives = anchor_positives[1:]\n",
    "        anchor_positive_list.remove(anchor)\n",
    "        for positive in positives:\n",
    "            examples.append(InputExample(texts=[anchor, positive], label=1))\n",
    "            #print(f\"[{anchor}, {positive}, 1]\")\n",
    "            anchor_positive_list.remove(positive)\n",
    "        \n",
    "\n",
    "        for n_list_id in n_list_ids:\n",
    "            negative_list = sequences[n_list_id]\n",
    "            negative = random.choice(negative_list)\n",
    "            negative_list.remove(negative)\n",
    "            examples.append(InputExample(texts=[anchor, negative], label=0))\n",
    "            #print(f\"[{anchor}, {negative}, 0]\")\n",
    "        if len(sequences[0]) < 5 or len(sequences[1]) < 5 or len(sequences[2]) < 5 or len(sequences[3]) < 5 or len(sequences[4]) < 5:\n",
    "            done = True\n",
    "            break\n",
    "    r += 1\n",
    "\n",
    "# shuffle examples\n",
    "random.shuffle(examples)\n",
    "\n",
    "print(\"len(examples): \", len(examples))\n",
    "print(\"len(sequences[0]): \", len(sequences[0]))\n",
    "print(\"len(sequences[1]): \", len(sequences[1]))\n",
    "print(\"len(sequences[2]): \", len(sequences[2]))\n",
    "print(\"len(sequences[3]): \", len(sequences[3]))\n",
    "print(\"len(sequences[4]): \", len(sequences[4]))"
   ]
  },
  {
   "cell_type": "code",
   "execution_count": 4,
   "id": "deaa04a9",
   "metadata": {},
   "outputs": [
    {
     "name": "stdout",
     "output_type": "stream",
     "text": [
      "len(train_examples):  7091\n",
      "len(dev_examples):  1773\n"
     ]
    }
   ],
   "source": [
    "train_examples = examples[:int(len(examples)*0.8)]\n",
    "dev_examples = examples[int(len(examples)*0.8):]\n",
    "\n",
    "print(\"len(train_examples): \", len(train_examples))\n",
    "print(\"len(dev_examples): \", len(dev_examples))"
   ]
  },
  {
   "cell_type": "code",
   "execution_count": 5,
   "id": "721d8dcf",
   "metadata": {},
   "outputs": [],
   "source": [
    "batch_size = 200\n",
    "train_dataloader = DataLoader(train_examples, shuffle=True, batch_size=batch_size)\n",
    "dev_dataloader = DataLoader(dev_examples, shuffle=False, batch_size=batch_size)"
   ]
  },
  {
   "cell_type": "code",
   "execution_count": 6,
   "id": "075fce6a",
   "metadata": {},
   "outputs": [],
   "source": [
    "train_loss = losses.ContrastiveLoss(model=model, distance_metric=SiameseDistanceMetric.EUCLIDEAN, margin=5)"
   ]
  },
  {
   "cell_type": "code",
   "execution_count": 7,
   "id": "e6ba708b",
   "metadata": {},
   "outputs": [],
   "source": [
    "evaluator = evaluation.BinaryClassificationEvaluator(sentences1=[dev_example.texts[0] for dev_example in dev_examples],\n",
    "                                                     sentences2=[dev_example.texts[1] for dev_example in dev_examples],\n",
    "                                                     labels=[dev_example.label for dev_example in dev_examples],\n",
    "                                                     batch_size=batch_size,\n",
    "                                                     show_progress_bar=False,\n",
    "                                                     write_csv=True,\n",
    "                                                     name=\"validation\")"
   ]
  },
  {
   "cell_type": "code",
   "execution_count": 8,
   "id": "ef4038e3",
   "metadata": {},
   "outputs": [],
   "source": [
    "import os\n",
    "\n",
    "# Create output directory if needed\n",
    "output_dir = f\"./{LOSS_NAME}_output_{POOLING_MODE}_eris_omicron_self\"\n",
    "checkpoint_dir = f\"{output_dir}/checkpoints\"\n",
    "evaluator_dir = f\"{output_dir}/eval\"\n",
    "\n",
    "if not os.path.exists(output_dir):\n",
    "    os.makedirs(output_dir)\n",
    "if not os.path.exists(checkpoint_dir):\n",
    "    os.makedirs(checkpoint_dir)\n",
    "if not os.path.exists(evaluator_dir):\n",
    "    os.makedirs(evaluator_dir)\n",
    "\n",
    "# read loss values from csv:\n",
    "train_results_file = os.path.join(output_dir, 'eval', 'training_results.csv')\n",
    "val_results_file = os.path.join(output_dir, 'eval', 'validation_results.csv')"
   ]
  },
  {
   "cell_type": "code",
   "execution_count": 9,
   "id": "1d1ff512",
   "metadata": {},
   "outputs": [
    {
     "name": "stdout",
     "output_type": "stream",
     "text": [
      "File ./ContrastiveLoss_output_max_eris_omicron_self/eval/training_results.csv deleted successfully.\n",
      "File ./ContrastiveLoss_output_max_eris_omicron_self/eval/validation_results.csv deleted successfully.\n"
     ]
    }
   ],
   "source": [
    "# Check if the file exists before attempting to delete\n",
    "if os.path.exists(train_results_file):\n",
    "    try:\n",
    "        # Attempt to remove the file\n",
    "        os.remove(train_results_file)\n",
    "        print(f\"File {train_results_file} deleted successfully.\")\n",
    "    except Exception as e:\n",
    "        print(f\"An error occurred: {e}\")\n",
    "else:\n",
    "    print(f\"File {train_results_file} does not exist.\")\n",
    "\n",
    "# Check if the file exists before attempting to delete\n",
    "if os.path.exists(val_results_file):\n",
    "    try:\n",
    "        # Attempt to remove the file\n",
    "        os.remove(val_results_file)\n",
    "        print(f\"File {val_results_file} deleted successfully.\")\n",
    "    except Exception as e:\n",
    "        print(f\"An error occurred: {e}\")\n",
    "else:\n",
    "    print(f\"File {val_results_file} does not exist.\")"
   ]
  },
  {
   "cell_type": "code",
   "execution_count": 10,
   "id": "25a6df7f",
   "metadata": {},
   "outputs": [
    {
     "data": {
      "application/vnd.jupyter.widget-view+json": {
       "model_id": "5dec15993e9c427d9ba6ddad8e68a111",
       "version_major": 2,
       "version_minor": 0
      },
      "text/plain": [
       "Epoch:   0%|          | 0/10 [00:00<?, ?it/s]"
      ]
     },
     "metadata": {},
     "output_type": "display_data"
    },
    {
     "data": {
      "application/vnd.jupyter.widget-view+json": {
       "model_id": "27183b43911e4a54992af0bcbdddbcbd",
       "version_major": 2,
       "version_minor": 0
      },
      "text/plain": [
       "Iteration:   0%|          | 0/36 [00:00<?, ?it/s]"
      ]
     },
     "metadata": {},
     "output_type": "display_data"
    },
    {
     "name": "stdout",
     "output_type": "stream",
     "text": [
      "--- Epoch 0 ---\n",
      "Train Loss = 36.9489   Train Accuracy = 54.9451\n",
      "Threshold for highest accuracy = 7.4011\n",
      "Valid Loss = 19.83   Valid Accuracy = 54.43\n"
     ]
    },
    {
     "data": {
      "application/vnd.jupyter.widget-view+json": {
       "model_id": "0f66f96533d84384997f14b2c8f7648a",
       "version_major": 2,
       "version_minor": 0
      },
      "text/plain": [
       "Iteration:   0%|          | 0/36 [00:00<?, ?it/s]"
      ]
     },
     "metadata": {},
     "output_type": "display_data"
    },
    {
     "name": "stdout",
     "output_type": "stream",
     "text": [
      "--- Epoch 1 ---\n",
      "Train Loss = 5.5159   Train Accuracy = 58.2418\n",
      "Threshold for highest accuracy = 0.8602\n",
      "Valid Loss = 4.38   Valid Accuracy = 54.77\n"
     ]
    },
    {
     "data": {
      "application/vnd.jupyter.widget-view+json": {
       "model_id": "668fa750ef1244df895afba3f8d686d8",
       "version_major": 2,
       "version_minor": 0
      },
      "text/plain": [
       "Iteration:   0%|          | 0/36 [00:00<?, ?it/s]"
      ]
     },
     "metadata": {},
     "output_type": "display_data"
    },
    {
     "name": "stdout",
     "output_type": "stream",
     "text": [
      "--- Epoch 2 ---\n",
      "Train Loss = 3.0340   Train Accuracy = 64.8352\n",
      "Threshold for highest accuracy = 0.3085\n",
      "Valid Loss = 5.61   Valid Accuracy = 55.39\n"
     ]
    },
    {
     "data": {
      "application/vnd.jupyter.widget-view+json": {
       "model_id": "0c76eebdb497447fa3f164a0f79c2852",
       "version_major": 2,
       "version_minor": 0
      },
      "text/plain": [
       "Iteration:   0%|          | 0/36 [00:00<?, ?it/s]"
      ]
     },
     "metadata": {},
     "output_type": "display_data"
    },
    {
     "name": "stdout",
     "output_type": "stream",
     "text": [
      "--- Epoch 3 ---\n",
      "Train Loss = 3.1434   Train Accuracy = 54.9451\n",
      "Threshold for highest accuracy = 0.3209\n",
      "Valid Loss = 5.60   Valid Accuracy = 56.01\n"
     ]
    },
    {
     "data": {
      "application/vnd.jupyter.widget-view+json": {
       "model_id": "a4bc3b7eb4444102a8dfc72af8dd4c74",
       "version_major": 2,
       "version_minor": 0
      },
      "text/plain": [
       "Iteration:   0%|          | 0/36 [00:00<?, ?it/s]"
      ]
     },
     "metadata": {},
     "output_type": "display_data"
    },
    {
     "name": "stdout",
     "output_type": "stream",
     "text": [
      "--- Epoch 4 ---\n",
      "Train Loss = 3.2903   Train Accuracy = 51.6484\n",
      "Threshold for highest accuracy = 0.3897\n",
      "Valid Loss = 5.45   Valid Accuracy = 56.85\n"
     ]
    },
    {
     "data": {
      "application/vnd.jupyter.widget-view+json": {
       "model_id": "5e4e4af9fdb742f08d5f4ee33b9329e8",
       "version_major": 2,
       "version_minor": 0
      },
      "text/plain": [
       "Iteration:   0%|          | 0/36 [00:00<?, ?it/s]"
      ]
     },
     "metadata": {},
     "output_type": "display_data"
    },
    {
     "name": "stdout",
     "output_type": "stream",
     "text": [
      "--- Epoch 5 ---\n",
      "Train Loss = 2.9072   Train Accuracy = 60.4396\n",
      "Threshold for highest accuracy = 1.6928\n",
      "Valid Loss = 3.34   Valid Accuracy = 61.70\n"
     ]
    },
    {
     "data": {
      "application/vnd.jupyter.widget-view+json": {
       "model_id": "8451122cbc2a45e8a0deff9ae3d52528",
       "version_major": 2,
       "version_minor": 0
      },
      "text/plain": [
       "Iteration:   0%|          | 0/36 [00:00<?, ?it/s]"
      ]
     },
     "metadata": {},
     "output_type": "display_data"
    },
    {
     "name": "stdout",
     "output_type": "stream",
     "text": [
      "--- Epoch 6 ---\n",
      "Train Loss = 2.4295   Train Accuracy = 73.6264\n",
      "Threshold for highest accuracy = 1.7234\n",
      "Valid Loss = 2.75   Valid Accuracy = 69.49\n"
     ]
    },
    {
     "data": {
      "application/vnd.jupyter.widget-view+json": {
       "model_id": "f18dc1856f134d9e8478f3b644545d01",
       "version_major": 2,
       "version_minor": 0
      },
      "text/plain": [
       "Iteration:   0%|          | 0/36 [00:00<?, ?it/s]"
      ]
     },
     "metadata": {},
     "output_type": "display_data"
    },
    {
     "name": "stdout",
     "output_type": "stream",
     "text": [
      "--- Epoch 7 ---\n",
      "Train Loss = 1.9338   Train Accuracy = 84.6154\n",
      "Threshold for highest accuracy = 2.3321\n",
      "Valid Loss = 1.87   Valid Accuracy = 79.13\n"
     ]
    },
    {
     "data": {
      "application/vnd.jupyter.widget-view+json": {
       "model_id": "cf4ba2e530e846a2bcc5fe69b42f3b31",
       "version_major": 2,
       "version_minor": 0
      },
      "text/plain": [
       "Iteration:   0%|          | 0/36 [00:00<?, ?it/s]"
      ]
     },
     "metadata": {},
     "output_type": "display_data"
    },
    {
     "name": "stdout",
     "output_type": "stream",
     "text": [
      "--- Epoch 8 ---\n",
      "Train Loss = 1.4516   Train Accuracy = 90.1099\n",
      "Threshold for highest accuracy = 2.0225\n",
      "Valid Loss = 1.59   Valid Accuracy = 83.31\n"
     ]
    },
    {
     "data": {
      "application/vnd.jupyter.widget-view+json": {
       "model_id": "4cc2a1a7f5264f928c669826fa28474f",
       "version_major": 2,
       "version_minor": 0
      },
      "text/plain": [
       "Iteration:   0%|          | 0/36 [00:00<?, ?it/s]"
      ]
     },
     "metadata": {},
     "output_type": "display_data"
    },
    {
     "name": "stdout",
     "output_type": "stream",
     "text": [
      "--- Epoch 9 ---\n",
      "Train Loss = 0.9370   Train Accuracy = 97.8022\n",
      "Threshold for highest accuracy = 2.4197\n",
      "Valid Loss = 1.31   Valid Accuracy = 86.13\n"
     ]
    }
   ],
   "source": [
    "model.fit(train_objectives=[(train_dataloader, train_loss)],\n",
    "          evaluator=evaluator,\n",
    "          epochs=10,\n",
    "          optimizer_params= {'lr': 1e-3}, # 1e-3 for CoV-RoBERTa, 1e-6 for ProtBERT\n",
    "          weight_decay=0.1, # 0.1 for CoV-RoBERTa, 0.01 for ProtBERT\n",
    "          #evaluation_steps=eval_iter, # run an evalution in every 10% \n",
    "          output_path=output_dir,\n",
    "          save_best_model=True,\n",
    "          checkpoint_path=checkpoint_dir,\n",
    "          checkpoint_save_steps=10000000000,\n",
    "          checkpoint_save_total_limit=2,\n",
    "          show_progress_bar=True,\n",
    "          loss_name=LOSS_NAME)"
   ]
  },
  {
   "attachments": {},
   "cell_type": "markdown",
   "id": "12f394ca",
   "metadata": {},
   "source": [
    "# TESTING"
   ]
  },
  {
   "cell_type": "code",
   "execution_count": 11,
   "id": "229a24f6",
   "metadata": {},
   "outputs": [
    {
     "name": "stdout",
     "output_type": "stream",
     "text": [
      "len(test_examples):  4000\n"
     ]
    }
   ],
   "source": [
    "# create test set with omicron and eris pairs\n",
    "eris_sequences = pd.read_csv(\"data/unique_Eris_2081.csv\")[\"sequence\"].tolist()[:2000]\n",
    "omicron_sequences = pd.read_csv(\"data/unique_Omicron_2k.csv\")[\"sequence\"].tolist()\n",
    "test_examples = []\n",
    "for i, eris in enumerate(eris_sequences):\n",
    "        test_examples.append(InputExample(texts=[omicron_sequences[i], omicron_sequences[i]], label=1))\n",
    "        test_examples.append(InputExample(texts=[omicron_sequences[i], eris], label=0))\n",
    "print(\"len(test_examples): \", len(test_examples))\n",
    "# shuffle test examples\n",
    "#random.shuffle(test_examples)"
   ]
  },
  {
   "cell_type": "code",
   "execution_count": 12,
   "id": "c3819296",
   "metadata": {},
   "outputs": [
    {
     "name": "stdout",
     "output_type": "stream",
     "text": [
      "Threshold for highest accuracy = 0.2016\n",
      "Valid Loss = 2.89   Valid Accuracy = 100.00\n",
      "Test duration: 0.9316 seconds\n",
      "4000 test examples\n",
      "0 incorrect predictions\n",
      "0.2329 ms per example\n"
     ]
    }
   ],
   "source": [
    "test_evaluator = evaluation.BinaryClassificationEvaluator(sentences1=[test_example.texts[0] for test_example in test_examples],\n",
    "                                                     sentences2=[test_example.texts[1] for test_example in test_examples],\n",
    "                                                     labels=[test_example.label for test_example in test_examples],\n",
    "                                                     batch_size=100,\n",
    "                                                     show_progress_bar=False,\n",
    "                                                     name=\"test\")\n",
    "\n",
    "\n",
    "best_model_dir = \"ContrastiveLoss_output_max_best_model\"\n",
    "\n",
    "best_model = SentenceTransformer(output_dir)\n",
    "best_model.to(\"cuda\")\n",
    "\n",
    "# print test duration\n",
    "\n",
    "import time\n",
    "start_time = time.time()\n",
    "test_acc, preds_and_trues = best_model.evaluate(test_evaluator)\n",
    "duration = time.time() - start_time\n",
    "print(f\"Test duration: {duration:.4f} seconds\")\n",
    "\n",
    "# write test accuracy to file\n",
    "with open(os.path.join(output_dir, \"eval\", \"test_results_eris_omicron.txt\"), \"w\") as f:\n",
    "    f.write(f\"Test accuracy: {test_acc}\\n\")\n",
    "\n",
    "print(len(preds_and_trues), \"test examples\")\n",
    "\n",
    "# print number of incorrect predictions\n",
    "print(len([pred_true for pred_true in preds_and_trues if pred_true[0] != pred_true[1]]), \"incorrect predictions\")\n",
    "\n",
    "print(f\"{(duration * 1000 / len(test_examples)):.4f} ms per example\")\n",
    "\n",
    "# write preds and trues to file\n",
    "with open(os.path.join(output_dir, \"eval\", \"preds_and_trues_eris_omicron.txt\"), \"w\") as f:\n",
    "    for pred, true in preds_and_trues:\n",
    "        f.write(f\"{pred}, {true}\\n\")\n"
   ]
  },
  {
   "cell_type": "code",
   "execution_count": 13,
   "id": "267dde74",
   "metadata": {},
   "outputs": [],
   "source": [
    "# write a "
   ]
  },
  {
   "cell_type": "code",
   "execution_count": null,
   "id": "9aecb9d8",
   "metadata": {},
   "outputs": [],
   "source": []
  },
  {
   "cell_type": "code",
   "execution_count": 14,
   "id": "fb167405",
   "metadata": {},
   "outputs": [
    {
     "data": {
      "image/png": "[encoded data removed]",
      "text/plain": [
       "<Figure size 1080x360 with 2 Axes>"
      ]
     },
     "metadata": {
      "needs_background": "light"
     },
     "output_type": "display_data"
    }
   ],
   "source": [
    "# Plot the training and validation loss and accuracy\n",
    "import matplotlib.pyplot as plt\n",
    "\n",
    "# read loss values from csv:\n",
    "train_results = pd.read_csv(train_results_file)\n",
    "val_results = pd.read_csv(val_results_file)\n",
    "\n",
    "# plot loss and accuracy figures side by side\n",
    "fig, axs = plt.subplots(1, 2, figsize=(15, 5))\n",
    "axs[0].plot(train_results[\"epoch\"], train_results[\"loss\"], label=\"Training\")\n",
    "axs[0].plot(val_results[\"epoch\"], val_results[\"loss\"], label=\"Validation\")\n",
    "axs[0].set_xlabel(\"Epoch\")\n",
    "axs[0].set_ylabel(\"Loss\")\n",
    "axs[0].legend()\n",
    "axs[1].plot(train_results[\"epoch\"], train_results[\"accuracy\"], label=\"Training\")\n",
    "axs[1].plot(val_results[\"epoch\"], val_results[\"accuracy\"], label=\"Validation\")\n",
    "axs[1].set_xlabel(\"Epoch\")\n",
    "axs[1].set_ylabel(\"Accuracy\")\n",
    "axs[1].legend()\n",
    "plt.tight_layout()\n",
    "#save as pdf\n",
    "plt.savefig(os.path.join(output_dir, \"eval\", f'plot_{LOSS_NAME}_{POOLING_MODE}_zeroshot.pdf'))\n",
    "plt.show()"
   ]
  }
 ],
 "metadata": {
  "kernelspec": {
   "display_name": "Python 3",
   "language": "python",
   "name": "python3"
  },
  "language_info": {
   "codemirror_mode": {
    "name": "ipython",
    "version": 3
   },
   "file_extension": ".py",
   "mimetype": "text/x-python",
   "name": "python",
   "nbconvert_exporter": "python",
   "pygments_lexer": "ipython3",
   "version": "3.8.16"
  }
 },
 "nbformat": 4,
 "nbformat_minor": 5
}
