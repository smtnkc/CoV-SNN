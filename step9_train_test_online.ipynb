{
 "cells": [
  {
   "cell_type": "code",
   "execution_count": 1,
   "id": "b5e3bf08",
   "metadata": {},
   "outputs": [],
   "source": [
    "import os\n",
    "import pandas as pd\n",
    "import torch\n",
    "from torch import nn\n",
    "from torch.utils.data import DataLoader\n",
    "from tqdm.notebook import tqdm\n",
    "from sentence_transformers import SentenceTransformer, models, InputExample, losses, evaluation\n",
    "from sentence_transformers.util import SiameseDistanceMetric\n",
    "import numpy as np\n",
    "import random\n",
    "seed = 42\n",
    "torch.manual_seed(seed)\n",
    "random.seed(seed)\n",
    "np.random.seed(seed)\n",
    "torch.backends.cudnn.deterministic = True\n",
    "torch.backends.cudnn.benchmark = False\n",
    "\n",
    "CONSTANTS = {\n",
    "    \"VOC_NAMES\": [\"Alpha\", \"Beta\", \"Delta\", \"Gamma\", \"Omicron\"],\n",
    "    \"LOSS_NAME\": \"OnlineContrastiveLoss\",\n",
    "    \"NEG_SET\": \"delta\", # \"other\" or \"delta\"\n",
    "    \"POOLING_MODE\": \"max\",\n",
    "    \"CONCAT\": None, # \"C\" for concat-only, \"CD\" for concat+diff, or \"CDM\" for concat+diff+mult\n",
    "    \"NUM_LABELS\": None,\n",
    "    \"CONF_THRESHOLD\": None,\n",
    "    \"BATCH_SIZE\": 32,\n",
    "    \"EPOCHS\": 10,\n",
    "    \"LR\": 1e-3,\n",
    "    \"RELU\": 0.0,\n",
    "    \"DROPOUT\": 0.0,\n",
    "    \"MARGIN\": 1.0\n",
    "}"
   ]
  },
  {
   "cell_type": "code",
   "execution_count": 2,
   "id": "805e9f14",
   "metadata": {},
   "outputs": [
    {
     "name": "stderr",
     "output_type": "stream",
     "text": [
      "Some weights of the model checkpoint at ./mlm_checkpoints/CoV-RoBERTa_2048 were not used when initializing RobertaModel: ['lm_head.dense.bias', 'lm_head.layer_norm.bias', 'lm_head.dense.weight', 'lm_head.layer_norm.weight', 'lm_head.bias']\n",
      "- This IS expected if you are initializing RobertaModel from the checkpoint of a model trained on another task or with another architecture (e.g. initializing a BertForSequenceClassification model from a BertForPreTraining model).\n",
      "- This IS NOT expected if you are initializing RobertaModel from the checkpoint of a model that you expect to be exactly identical (initializing a BertForSequenceClassification model from a BertForSequenceClassification model).\n",
      "Some weights of RobertaModel were not initialized from the model checkpoint at ./mlm_checkpoints/CoV-RoBERTa_2048 and are newly initialized: ['roberta.pooler.dense.weight', 'roberta.pooler.dense.bias']\n",
      "You should probably TRAIN this model on a down-stream task to be able to use it for predictions and inference.\n"
     ]
    },
    {
     "name": "stdout",
     "output_type": "stream",
     "text": [
      "SentenceTransformer(\n",
      "  (0): Transformer({'max_seq_length': 1280, 'do_lower_case': False}) with Transformer model: RobertaModel \n",
      "  (1): Pooling({'word_embedding_dimension': 768, 'pooling_mode_cls_token': False, 'pooling_mode_mean_tokens': False, 'pooling_mode_max_tokens': True, 'pooling_mode_global_max': False, 'pooling_mode_global_avg': False, 'pooling_mode_attention': False, 'pooling_mode_mean_sqrt_len_tokens': False, 'pooling_mode_weightedmean_tokens': False, 'pooling_mode_lasttoken': False})\n",
      ")\n"
     ]
    }
   ],
   "source": [
    "#word_embedding_model = models.Transformer(model_name_or_path=\"Rostlab/prot_bert\", max_seq_length=1280)\n",
    "\n",
    "encoder = models.Transformer(model_name_or_path=\"./mlm_checkpoints/CoV-RoBERTa_2048\",\n",
    "                                          max_seq_length=1280,\n",
    "                                          tokenizer_name_or_path=\"tok/\")\n",
    "\n",
    "dim = encoder.get_word_embedding_dimension() # 768\n",
    "\n",
    "pooler = models.Pooling(dim, pooling_mode = CONSTANTS[\"POOLING_MODE\"])\n",
    "\n",
    "modules = [encoder, pooler]\n",
    "\n",
    "if CONSTANTS[\"RELU\"] > 0:\n",
    "    dense = models.Dense(in_features=dim, out_features=int(dim*CONSTANTS[\"RELU\"]), activation_function=nn.ReLU())\n",
    "    modules.append(dense)\n",
    "\n",
    "if CONSTANTS[\"DROPOUT\"] > 0:\n",
    "    dropout = models.Dropout(CONSTANTS[\"DROPOUT\"])\n",
    "    modules.append(dropout)\n",
    "\n",
    "model = SentenceTransformer(modules=modules)\n",
    "\n",
    "# # Freeze initial transformer layers\n",
    "# for param in model[0].auto_model.embeddings.parameters():\n",
    "#     param.requires_grad = False\n",
    "# for param in model[0].auto_model.encoder.layer[:6].parameters():\n",
    "#     param.requires_grad = False\n",
    "\n",
    "print(model)"
   ]
  },
  {
   "attachments": {},
   "cell_type": "markdown",
   "id": "5073d929",
   "metadata": {},
   "source": [
    "# Generate Pairs for Training"
   ]
  },
  {
   "cell_type": "code",
   "execution_count": 3,
   "id": "8feefe76",
   "metadata": {},
   "outputs": [
    {
     "name": "stdout",
     "output_type": "stream",
     "text": [
      "Training set length: 16000\n"
     ]
    }
   ],
   "source": [
    "omicron_sequences = pd.read_csv(\"data/unique_Omicron_2k.csv\")[\"sequence\"].tolist()\n",
    "alpha_sequences = pd.read_csv(\"data/unique_Alpha_2k.csv\")[\"sequence\"].tolist()\n",
    "beta_sequences = pd.read_csv(\"data/unique_Beta_2k.csv\")[\"sequence\"].tolist()\n",
    "delta_sequences = pd.read_csv(\"data/unique_Delta_2k.csv\")[\"sequence\"].tolist()\n",
    "gamma_sequences = pd.read_csv(\"data/unique_Gamma_2k.csv\")[\"sequence\"].tolist()\n",
    "\n",
    "examples = []\n",
    "\n",
    "if CONSTANTS[\"NEG_SET\"] == \"other\":\n",
    "    others = [alpha_sequences, beta_sequences, delta_sequences, gamma_sequences]\n",
    "    for i, anc in enumerate(omicron_sequences):\n",
    "        # get 4 random omicron sequences\n",
    "        positives = random.sample(omicron_sequences, 4)\n",
    "        for p, pos in enumerate(positives):\n",
    "            neg = others[p][i]\n",
    "            examples.append(InputExample(texts=[anc, pos], label=1))\n",
    "            examples.append(InputExample(texts=[anc, neg], label=0))\n",
    "elif CONSTANTS[\"NEG_SET\"] == \"delta\":\n",
    "    for i, anc in enumerate(omicron_sequences):\n",
    "        # get 4 random omicron sequences\n",
    "        positives = random.sample(omicron_sequences, 4)\n",
    "        # get 4 random delta sequences\n",
    "        negatives = random.sample(delta_sequences, 4)\n",
    "        for pos, neg in zip(positives, negatives):\n",
    "            examples.append(InputExample(texts=[anc, pos], label=1))\n",
    "            examples.append(InputExample(texts=[anc, neg], label=0))\n",
    "\n",
    "print(\"Training set length:\", len(examples))\n",
    "\n",
    "# split examples list into train, validation and test sets\n",
    "random.shuffle(examples)\n",
    "train_size = int(len(examples) * 0.8)\n",
    "val_size = int(len(examples) * 0.1)\n",
    "train_examples = examples[:train_size]\n",
    "val_examples = examples[train_size:train_size + val_size]\n",
    "test_examples = examples[train_size + val_size:]\n",
    "\n",
    "train_dataloader = DataLoader(train_examples, shuffle=True, batch_size=CONSTANTS[\"BATCH_SIZE\"])\n",
    "# val_dataloader = DataLoader(val_examples, shuffle=False, batch_size=CONSTANTS[\"BATCH_SIZE\"])\n",
    "# test_dataloader = DataLoader(test_examples, shuffle=False, batch_size=CONSTANTS[\"BATCH_SIZE\"])"
   ]
  },
  {
   "attachments": {},
   "cell_type": "markdown",
   "id": "48aac034",
   "metadata": {},
   "source": [
    "# Generate Pairs for Zero-shot Test"
   ]
  },
  {
   "cell_type": "code",
   "execution_count": 4,
   "id": "0ee47a3e",
   "metadata": {},
   "outputs": [
    {
     "name": "stdout",
     "output_type": "stream",
     "text": [
      "Zero-shot test set length:  4000\n"
     ]
    }
   ],
   "source": [
    "o = pd.read_csv(\"data/unique_Omicron_2k.csv\")[\"sequence\"].tolist()\n",
    "e = pd.read_csv(\"data/unique_Eris_2k.csv\")[\"sequence\"].tolist()[:2000]\n",
    "n = pd.read_csv(\"data/unique_New_2k.csv\")[\"sequence\"].tolist()[:2000]\n",
    "\n",
    "zero_test_examples = []\n",
    "\n",
    "for i in range(len(omicron_sequences)):\n",
    "        pos = n[i]\n",
    "        neg = e[i]\n",
    "        zero_test_examples.append(InputExample(texts=[anc, pos], label=1))\n",
    "        zero_test_examples.append(InputExample(texts=[anc, neg], label=0))\n",
    "\n",
    "print(\"Zero-shot test set length: \", len(zero_test_examples))"
   ]
  },
  {
   "attachments": {},
   "cell_type": "markdown",
   "id": "496e2710",
   "metadata": {},
   "source": [
    "# Define Loss"
   ]
  },
  {
   "cell_type": "code",
   "execution_count": 5,
   "id": "075fce6a",
   "metadata": {},
   "outputs": [],
   "source": [
    "if CONSTANTS[\"LOSS_NAME\"] == \"ContrastiveLoss\":\n",
    "    train_loss = losses.ContrastiveLoss(model=model,\n",
    "                                        distance_metric=SiameseDistanceMetric.EUCLIDEAN,\n",
    "                                        margin = CONSTANTS[\"MARGIN\"])\n",
    "elif CONSTANTS[\"LOSS_NAME\"] == \"OnlineContrastiveLoss\":\n",
    "    train_loss = losses.OnlineContrastiveLoss(model=model,\n",
    "                                              distance_metric=SiameseDistanceMetric.EUCLIDEAN,\n",
    "                                              margin = CONSTANTS[\"MARGIN\"])"
   ]
  },
  {
   "attachments": {},
   "cell_type": "markdown",
   "id": "0157f63b",
   "metadata": {},
   "source": [
    "# Construct Evaluators"
   ]
  },
  {
   "cell_type": "code",
   "execution_count": 6,
   "id": "e6ba708b",
   "metadata": {},
   "outputs": [],
   "source": [
    "evaluator = evaluation.BinaryClassificationEvaluator(\n",
    "    sentences1=[val_example.texts[0] for val_example in val_examples],\n",
    "    sentences2=[val_example.texts[1] for val_example in val_examples],\n",
    "    labels=[val_example.label for val_example in val_examples],\n",
    "    distance_metric=SiameseDistanceMetric.EUCLIDEAN,\n",
    "    batch_size=CONSTANTS[\"BATCH_SIZE\"],\n",
    "    margin = CONSTANTS[\"MARGIN\"],\n",
    "    show_progress_bar=False,\n",
    "    write_csv=True,\n",
    "    name='Eval')\n",
    "\n",
    "test_evaluator = evaluation.BinaryClassificationEvaluator(\n",
    "    sentences1=[test_example.texts[0] for test_example in test_examples],\n",
    "    sentences2=[test_example.texts[1] for test_example in test_examples],\n",
    "    labels=[test_example.label for test_example in test_examples],\n",
    "    batch_size=CONSTANTS['BATCH_SIZE'],\n",
    "    margin=CONSTANTS['MARGIN'],\n",
    "    show_progress_bar=False,\n",
    "    name=\"Test\")\n",
    "\n",
    "zero_test_evaluator = evaluation.BinaryClassificationEvaluator(\n",
    "    sentences1=[zero_test_example.texts[0] for zero_test_example in zero_test_examples],\n",
    "    sentences2=[zero_test_example.texts[1] for zero_test_example in zero_test_examples],\n",
    "    labels=[zero_test_example.label for zero_test_example in zero_test_examples],\n",
    "    batch_size=CONSTANTS['BATCH_SIZE'],\n",
    "    margin=CONSTANTS['MARGIN'],\n",
    "    show_progress_bar=False,\n",
    "    name=\"Zero\")"
   ]
  },
  {
   "attachments": {},
   "cell_type": "markdown",
   "id": "24b92670",
   "metadata": {},
   "source": [
    "# Prepare Folders"
   ]
  },
  {
   "cell_type": "code",
   "execution_count": 7,
   "id": "ef4038e3",
   "metadata": {},
   "outputs": [
    {
     "name": "stdout",
     "output_type": "stream",
     "text": [
      "Created directory: ./outputs/OnlineContrastiveLoss_omicron_vs_delta_Pmax_R0.0_D0.0_E10_LR_0.001_B32_M1.0/checkpoints\n",
      "Created directory: ./outputs/OnlineContrastiveLoss_omicron_vs_delta_Pmax_R0.0_D0.0_E10_LR_0.001_B32_M1.0/stats\n"
     ]
    }
   ],
   "source": [
    "import os\n",
    "import shutil\n",
    "\n",
    "# Create output directory if needed\n",
    "output_dir = f\"./outputs/{CONSTANTS['LOSS_NAME']}_omicron_vs_{CONSTANTS['NEG_SET']}_\" \\\n",
    "                f\"P{CONSTANTS['POOLING_MODE']}_\" \\\n",
    "                f\"R{CONSTANTS['RELU']}_\" \\\n",
    "                f\"D{CONSTANTS['DROPOUT']}_\" \\\n",
    "                f\"E{CONSTANTS['EPOCHS']}_\" \\\n",
    "                f\"LR_{CONSTANTS['LR']}_\" \\\n",
    "                f\"B{CONSTANTS['BATCH_SIZE']}_\" \\\n",
    "                f\"M{CONSTANTS['MARGIN']}\"\n",
    "\n",
    "if os.path.exists(output_dir):\n",
    "    shutil.rmtree(output_dir)\n",
    "    print(f\"Removed directory: {output_dir}\")\n",
    "\n",
    "checkpoint_dir = f\"{output_dir}/checkpoints\"\n",
    "stats_dir = f\"{output_dir}/stats\"\n",
    "\n",
    "for d in [checkpoint_dir, stats_dir]:\n",
    "    if not os.path.exists(d):\n",
    "        os.makedirs(d)\n",
    "        print(f\"Created directory: {d}\")"
   ]
  },
  {
   "attachments": {},
   "cell_type": "markdown",
   "id": "267e2c8d",
   "metadata": {},
   "source": [
    "# Run Training & Test"
   ]
  },
  {
   "cell_type": "code",
   "execution_count": 8,
   "id": "25a6df7f",
   "metadata": {},
   "outputs": [
    {
     "name": "stdout",
     "output_type": "stream",
     "text": [
      "VOC_NAMES: ['Alpha', 'Beta', 'Delta', 'Gamma', 'Omicron']\n",
      "LOSS_NAME: OnlineContrastiveLoss\n",
      "NEG_SET: delta\n",
      "POOLING_MODE: max\n",
      "CONCAT: None\n",
      "NUM_LABELS: None\n",
      "CONF_THRESHOLD: None\n",
      "BATCH_SIZE: 32\n",
      "EPOCHS: 10\n",
      "LR: 0.001\n",
      "RELU: 0.0\n",
      "DROPOUT: 0.0\n",
      "MARGIN: 1.0\n"
     ]
    },
    {
     "data": {
      "application/vnd.jupyter.widget-view+json": {
       "model_id": "762785e570ca4c549cd4c3fb794378b6",
       "version_major": 2,
       "version_minor": 0
      },
      "text/plain": [
       "Epoch:   0%|          | 0/10 [00:00<?, ?it/s]"
      ]
     },
     "metadata": {},
     "output_type": "display_data"
    },
    {
     "data": {
      "application/vnd.jupyter.widget-view+json": {
       "model_id": "39a81205ba7545429dda8d590c5365e3",
       "version_major": 2,
       "version_minor": 0
      },
      "text/plain": [
       "Iteration:   0%|          | 0/400 [00:00<?, ?it/s]"
      ]
     },
     "metadata": {},
     "output_type": "display_data"
    },
    {
     "name": "stdout",
     "output_type": "stream",
     "text": [
      "--- Epoch 0 ---\n",
      "Train Loss = 3.6170   Train Accuracy = 0.7188\n",
      "Eval Loss  = 0.2254   Eval Accuracy  = 0.5312    (using best distance threshold   = 0.0366)\n",
      "Eval Loss  = 0.2254   Eval Accuracy  = 0.5062    (using median distance threshold = 0.0255)\n",
      "Test Loss  = 0.2312   Test Accuracy  = 0.5350    (using best distance threshold   = 0.0323)\n",
      "Test Loss  = 0.2312   Test Accuracy  = 0.5212    (using median distance threshold = 0.0256)\n",
      "Zero Loss  = 0.2331   Zero Accuracy  = 0.8510    (using best distance threshold   = 0.0308)\n",
      "Zero Loss  = 0.2331   Zero Accuracy  = 0.7905    (using median distance threshold = 0.0324)\n"
     ]
    },
    {
     "data": {
      "application/vnd.jupyter.widget-view+json": {
       "model_id": "641a2b76e4c54b288b046ad4303de49a",
       "version_major": 2,
       "version_minor": 0
      },
      "text/plain": [
       "Iteration:   0%|          | 0/400 [00:00<?, ?it/s]"
      ]
     },
     "metadata": {},
     "output_type": "display_data"
    },
    {
     "name": "stdout",
     "output_type": "stream",
     "text": [
      "--- Epoch 1 ---\n",
      "Train Loss = 4.8436   Train Accuracy = 0.5000\n",
      "Eval Loss  = 0.2329   Eval Accuracy  = 0.5619    (using best distance threshold   = 0.0112)\n",
      "Eval Loss  = 0.2329   Eval Accuracy  = 0.5363    (using median distance threshold = 0.0093)\n",
      "Test Loss  = 0.2390   Test Accuracy  = 0.5650    (using best distance threshold   = 0.0100)\n",
      "Test Loss  = 0.2390   Test Accuracy  = 0.5587    (using median distance threshold = 0.0094)\n",
      "Zero Loss  = 0.2439   Zero Accuracy  = 0.8662    (using best distance threshold   = 0.0109)\n",
      "Zero Loss  = 0.2439   Zero Accuracy  = 0.8045    (using median distance threshold = 0.0114)\n"
     ]
    },
    {
     "data": {
      "application/vnd.jupyter.widget-view+json": {
       "model_id": "1b65156514e240188ef4bdcd0d680380",
       "version_major": 2,
       "version_minor": 0
      },
      "text/plain": [
       "Iteration:   0%|          | 0/400 [00:00<?, ?it/s]"
      ]
     },
     "metadata": {},
     "output_type": "display_data"
    },
    {
     "name": "stdout",
     "output_type": "stream",
     "text": [
      "--- Epoch 2 ---\n",
      "Train Loss = 4.6368   Train Accuracy = 0.5625\n",
      "Eval Loss  = 0.2346   Eval Accuracy  = 0.5569    (using best distance threshold   = 0.0065)\n",
      "Eval Loss  = 0.2346   Eval Accuracy  = 0.5400    (using median distance threshold = 0.0057)\n",
      "Test Loss  = 0.2407   Test Accuracy  = 0.5656    (using best distance threshold   = 0.0057)\n",
      "Test Loss  = 0.2407   Test Accuracy  = 0.5613    (using median distance threshold = 0.0058)\n",
      "Zero Loss  = 0.2463   Zero Accuracy  = 0.8373    (using best distance threshold   = 0.0066)\n",
      "Zero Loss  = 0.2463   Zero Accuracy  = 0.7835    (using median distance threshold = 0.0070)\n"
     ]
    },
    {
     "data": {
      "application/vnd.jupyter.widget-view+json": {
       "model_id": "0f2d5549603a46abace97e92d19c5ed5",
       "version_major": 2,
       "version_minor": 0
      },
      "text/plain": [
       "Iteration:   0%|          | 0/400 [00:00<?, ?it/s]"
      ]
     },
     "metadata": {},
     "output_type": "display_data"
    },
    {
     "name": "stdout",
     "output_type": "stream",
     "text": [
      "--- Epoch 3 ---\n",
      "Train Loss = 4.2173   Train Accuracy = 0.6250\n",
      "Eval Loss  = 0.2360   Eval Accuracy  = 0.5450    (using best distance threshold   = 0.0039)\n",
      "Eval Loss  = 0.2360   Eval Accuracy  = 0.5375    (using median distance threshold = 0.0027)\n",
      "Test Loss  = 0.2423   Test Accuracy  = 0.5519    (using best distance threshold   = 0.0022)\n",
      "Test Loss  = 0.2423   Test Accuracy  = 0.5413    (using median distance threshold = 0.0027)\n",
      "Zero Loss  = 0.2482   Zero Accuracy  = 0.8040    (using best distance threshold   = 0.0032)\n",
      "Zero Loss  = 0.2482   Zero Accuracy  = 0.7515    (using median distance threshold = 0.0034)\n"
     ]
    },
    {
     "data": {
      "application/vnd.jupyter.widget-view+json": {
       "model_id": "6f2be03145e948a492f058de74767bf8",
       "version_major": 2,
       "version_minor": 0
      },
      "text/plain": [
       "Iteration:   0%|          | 0/400 [00:00<?, ?it/s]"
      ]
     },
     "metadata": {},
     "output_type": "display_data"
    },
    {
     "name": "stdout",
     "output_type": "stream",
     "text": [
      "--- Epoch 4 ---\n",
      "Train Loss = 5.0215   Train Accuracy = 0.6875\n",
      "Eval Loss  = 0.2364   Eval Accuracy  = 0.5331    (using best distance threshold   = 0.0045)\n",
      "Eval Loss  = 0.2364   Eval Accuracy  = 0.5112    (using median distance threshold = 0.0020)\n",
      "Test Loss  = 0.2426   Test Accuracy  = 0.5175    (using best distance threshold   = 0.0057)\n",
      "Test Loss  = 0.2426   Test Accuracy  = 0.5012    (using median distance threshold = 0.0020)\n",
      "Zero Loss  = 0.2483   Zero Accuracy  = 0.8183    (using best distance threshold   = 0.0029)\n",
      "Zero Loss  = 0.2483   Zero Accuracy  = 0.7635    (using median distance threshold = 0.0032)\n"
     ]
    },
    {
     "data": {
      "application/vnd.jupyter.widget-view+json": {
       "model_id": "190d12797d044acb82ce8aed2a7d5bcb",
       "version_major": 2,
       "version_minor": 0
      },
      "text/plain": [
       "Iteration:   0%|          | 0/400 [00:00<?, ?it/s]"
      ]
     },
     "metadata": {},
     "output_type": "display_data"
    },
    {
     "name": "stdout",
     "output_type": "stream",
     "text": [
      "--- Epoch 5 ---\n",
      "Train Loss = 3.8738   Train Accuracy = 0.6250\n",
      "Eval Loss  = 0.2375   Eval Accuracy  = 0.5531    (using best distance threshold   = 0.0000)\n",
      "Eval Loss  = 0.2375   Eval Accuracy  = 0.5487    (using median distance threshold = 0.0000)\n",
      "Test Loss  = 0.2437   Test Accuracy  = 0.6262    (using best distance threshold   = 0.0000)\n",
      "Test Loss  = 0.2437   Test Accuracy  = 0.5988    (using median distance threshold = 0.0000)\n",
      "Zero Loss  = 0.2500   Zero Accuracy  = 0.5460    (using best distance threshold   = 0.0000)\n",
      "Zero Loss  = 0.2500   Zero Accuracy  = 0.5005    (using median distance threshold = 0.0000)\n"
     ]
    },
    {
     "data": {
      "application/vnd.jupyter.widget-view+json": {
       "model_id": "bb0730d68f1c4e63b974063ddc9ceb42",
       "version_major": 2,
       "version_minor": 0
      },
      "text/plain": [
       "Iteration:   0%|          | 0/400 [00:00<?, ?it/s]"
      ]
     },
     "metadata": {},
     "output_type": "display_data"
    },
    {
     "name": "stdout",
     "output_type": "stream",
     "text": [
      "--- Epoch 6 ---\n",
      "Train Loss = 4.3243   Train Accuracy = 0.5938\n",
      "Eval Loss  = 0.2375   Eval Accuracy  = 0.5563    (using best distance threshold   = 0.0000)\n",
      "Eval Loss  = 0.2375   Eval Accuracy  = 0.5463    (using median distance threshold = 0.0000)\n",
      "Test Loss  = 0.2437   Test Accuracy  = 0.6294    (using best distance threshold   = 0.0000)\n",
      "Test Loss  = 0.2437   Test Accuracy  = 0.6125    (using median distance threshold = 0.0000)\n",
      "Zero Loss  = 0.2500   Zero Accuracy  = 0.5357    (using best distance threshold   = 0.0000)\n",
      "Zero Loss  = 0.2500   Zero Accuracy  = 0.4980    (using median distance threshold = 0.0000)\n"
     ]
    },
    {
     "data": {
      "application/vnd.jupyter.widget-view+json": {
       "model_id": "e3fb28008ee741d189a9169d9d83e603",
       "version_major": 2,
       "version_minor": 0
      },
      "text/plain": [
       "Iteration:   0%|          | 0/400 [00:00<?, ?it/s]"
      ]
     },
     "metadata": {},
     "output_type": "display_data"
    },
    {
     "name": "stdout",
     "output_type": "stream",
     "text": [
      "--- Epoch 7 ---\n",
      "Train Loss = 4.0616   Train Accuracy = 0.5625\n",
      "Eval Loss  = 0.2375   Eval Accuracy  = 0.5500    (using best distance threshold   = 0.0000)\n",
      "Eval Loss  = 0.2375   Eval Accuracy  = 0.5463    (using median distance threshold = 0.0000)\n",
      "Test Loss  = 0.2437   Test Accuracy  = 0.6125    (using best distance threshold   = 0.0000)\n",
      "Test Loss  = 0.2437   Test Accuracy  = 0.5913    (using median distance threshold = 0.0000)\n",
      "Zero Loss  = 0.2500   Zero Accuracy  = 0.5380    (using best distance threshold   = 0.0000)\n",
      "Zero Loss  = 0.2500   Zero Accuracy  = 0.5215    (using median distance threshold = 0.0000)\n"
     ]
    },
    {
     "data": {
      "application/vnd.jupyter.widget-view+json": {
       "model_id": "eec116923f004b5cb2d94d9c8affd297",
       "version_major": 2,
       "version_minor": 0
      },
      "text/plain": [
       "Iteration:   0%|          | 0/400 [00:00<?, ?it/s]"
      ]
     },
     "metadata": {},
     "output_type": "display_data"
    },
    {
     "name": "stdout",
     "output_type": "stream",
     "text": [
      "--- Epoch 8 ---\n",
      "Train Loss = 3.4299   Train Accuracy = 0.6875\n",
      "Eval Loss  = 0.2375   Eval Accuracy  = 0.5487    (using best distance threshold   = 0.0000)\n",
      "Eval Loss  = 0.2375   Eval Accuracy  = 0.5437    (using median distance threshold = 0.0000)\n",
      "Test Loss  = 0.2437   Test Accuracy  = 0.6062    (using best distance threshold   = 0.0000)\n",
      "Test Loss  = 0.2437   Test Accuracy  = 0.5675    (using median distance threshold = 0.0000)\n",
      "Zero Loss  = 0.2500   Zero Accuracy  = 0.5323    (using best distance threshold   = 0.0000)\n",
      "Zero Loss  = 0.2500   Zero Accuracy  = 0.5275    (using median distance threshold = 0.0000)\n"
     ]
    },
    {
     "data": {
      "application/vnd.jupyter.widget-view+json": {
       "model_id": "8d2adadf512040eb87acaf6fc1d78e76",
       "version_major": 2,
       "version_minor": 0
      },
      "text/plain": [
       "Iteration:   0%|          | 0/400 [00:00<?, ?it/s]"
      ]
     },
     "metadata": {},
     "output_type": "display_data"
    },
    {
     "name": "stdout",
     "output_type": "stream",
     "text": [
      "--- Epoch 9 ---\n",
      "Train Loss = 4.4939   Train Accuracy = 0.5625\n",
      "Eval Loss  = 0.2375   Eval Accuracy  = 0.5513    (using best distance threshold   = 0.0000)\n",
      "Eval Loss  = 0.2375   Eval Accuracy  = 0.5450    (using median distance threshold = 0.0000)\n",
      "Test Loss  = 0.2437   Test Accuracy  = 0.6269    (using best distance threshold   = 0.0000)\n",
      "Test Loss  = 0.2437   Test Accuracy  = 0.6050    (using median distance threshold = 0.0000)\n",
      "Zero Loss  = 0.2500   Zero Accuracy  = 0.5460    (using best distance threshold   = 0.0000)\n",
      "Zero Loss  = 0.2500   Zero Accuracy  = 0.4985    (using median distance threshold = 0.0000)\n"
     ]
    }
   ],
   "source": [
    "# print CONSTANTS\n",
    "for k, v in CONSTANTS.items():\n",
    "    print(f\"{k}: {v}\")\n",
    "\n",
    "model.fit(train_objectives=[(train_dataloader, train_loss)],\n",
    "          evaluator=evaluator,\n",
    "          tester=test_evaluator,\n",
    "          zero_shot_tester=zero_test_evaluator,\n",
    "          epochs=CONSTANTS['EPOCHS'],\n",
    "          optimizer_class=torch.optim.AdamW,\n",
    "          optimizer_params= {'lr': CONSTANTS['LR']}, # 1e-3 for CoV-RoBERTa, 1e-6 for ProtBERT\n",
    "          weight_decay=0.1, # 0.1 for CoV-RoBERTa, 0.01 for ProtBERT\n",
    "          # evaluation_steps=64,\n",
    "          output_path=output_dir,\n",
    "          save_best_model=True,\n",
    "          #checkpoint_path=checkpoint_dir,\n",
    "          #checkpoint_save_steps=len(train_dataloader),\n",
    "          #checkpoint_save_total_limit=1000000,\n",
    "          show_progress_bar=True,\n",
    "          loss_name=CONSTANTS['LOSS_NAME'])"
   ]
  },
  {
   "attachments": {},
   "cell_type": "markdown",
   "id": "ea87d514",
   "metadata": {},
   "source": [
    "# Display Stats"
   ]
  },
  {
   "cell_type": "code",
   "execution_count": 9,
   "id": "8c7ff037",
   "metadata": {},
   "outputs": [
    {
     "data": {
      "text/html": [
       "<div>\n",
       "<style scoped>\n",
       "    .dataframe tbody tr th:only-of-type {\n",
       "        vertical-align: middle;\n",
       "    }\n",
       "\n",
       "    .dataframe tbody tr th {\n",
       "        vertical-align: top;\n",
       "    }\n",
       "\n",
       "    .dataframe thead th {\n",
       "        text-align: right;\n",
       "    }\n",
       "</style>\n",
       "<table border=\"1\" class=\"dataframe\">\n",
       "  <thead>\n",
       "    <tr style=\"text-align: right;\">\n",
       "      <th></th>\n",
       "      <th>LOSS_NAME</th>\n",
       "      <th>NEG_SET</th>\n",
       "      <th>POOLING_MODE</th>\n",
       "      <th>CONCAT</th>\n",
       "      <th>NUM_LABELS</th>\n",
       "      <th>CONF_THRESHOLD</th>\n",
       "      <th>BATCH_SIZE</th>\n",
       "      <th>EPOCHS</th>\n",
       "      <th>LR</th>\n",
       "      <th>RELU</th>\n",
       "      <th>DROPOUT</th>\n",
       "      <th>MARGIN</th>\n",
       "      <th>MAX_TEST_ACC</th>\n",
       "      <th>MAX_ZERO_ACC</th>\n",
       "    </tr>\n",
       "  </thead>\n",
       "  <tbody>\n",
       "    <tr>\n",
       "      <th>0</th>\n",
       "      <td>OnlineContrastiveLoss</td>\n",
       "      <td>delta</td>\n",
       "      <td>max</td>\n",
       "      <td>None</td>\n",
       "      <td>None</td>\n",
       "      <td>None</td>\n",
       "      <td>32</td>\n",
       "      <td>10</td>\n",
       "      <td>0.001</td>\n",
       "      <td>0.0</td>\n",
       "      <td>0.0</td>\n",
       "      <td>1.0</td>\n",
       "      <td>0.6294</td>\n",
       "      <td>0.8662</td>\n",
       "    </tr>\n",
       "  </tbody>\n",
       "</table>\n",
       "</div>"
      ],
      "text/plain": [
       "               LOSS_NAME NEG_SET POOLING_MODE CONCAT NUM_LABELS  \\\n",
       "0  OnlineContrastiveLoss   delta          max   None       None   \n",
       "\n",
       "  CONF_THRESHOLD  BATCH_SIZE  EPOCHS     LR  RELU  DROPOUT  MARGIN  \\\n",
       "0           None          32      10  0.001   0.0      0.0     1.0   \n",
       "\n",
       "   MAX_TEST_ACC  MAX_ZERO_ACC  \n",
       "0        0.6294        0.8662  "
      ]
     },
     "metadata": {},
     "output_type": "display_data"
    }
   ],
   "source": [
    "# read loss values from csv:\n",
    "f_train_stats = os.path.join(stats_dir, 'Train.csv')\n",
    "f_eval_stats = os.path.join(stats_dir, 'Eval.csv')\n",
    "f_test_stats = os.path.join(stats_dir, 'Test.csv')\n",
    "f_zero_stats = os.path.join(stats_dir, 'Zero.csv')\n",
    "\n",
    "train_stats = pd.read_csv(f_train_stats)\n",
    "eval_stats = pd.read_csv(f_eval_stats)\n",
    "test_stats = pd.read_csv(f_test_stats)\n",
    "zero_stats = pd.read_csv(f_zero_stats)\n",
    "\n",
    "best_test_acc = test_stats[\"accuracy\"].max()\n",
    "best_zero_acc = zero_stats[\"accuracy\"].max()\n",
    "\n",
    "# create a dataframe with CONSTANTS and best accuracies\n",
    "df = pd.DataFrame()\n",
    "for k, v in CONSTANTS.items():\n",
    "    if k not in [\"VOC_NAMES\"]:\n",
    "        df[k] = [v] # if v is not None else [\"N/A\"]\n",
    "\n",
    "df[\"MAX_TEST_ACC\"] = best_test_acc\n",
    "df[\"MAX_ZERO_ACC\"] = best_zero_acc\n",
    "\n",
    "display(df)\n",
    "\n",
    "# save the dataframe to a csv file under stats_dir\n",
    "df.to_csv(os.path.join(stats_dir, \"summary.csv\"), index=False)\n",
    "\n",
    "# append row to global_stats.csv\n",
    "if not os.path.exists(\"global_stats.csv\") or os.path.getsize(\"global_stats.csv\") == 0:\n",
    "    df.to_csv(\"global_stats.csv\", index=False)\n",
    "else:\n",
    "    global_stats = pd.read_csv(\"global_stats.csv\")\n",
    "    global_stats = pd.concat([global_stats, df], ignore_index=True)\n",
    "    global_stats.to_csv(\"global_stats.csv\", index=False)"
   ]
  },
  {
   "cell_type": "code",
   "execution_count": 10,
   "id": "84a08004",
   "metadata": {},
   "outputs": [
    {
     "data": {
      "image/png": "[encoded data removed]",
      "text/plain": [
       "<Figure size 1080x360 with 2 Axes>"
      ]
     },
     "metadata": {
      "needs_background": "light"
     },
     "output_type": "display_data"
    }
   ],
   "source": [
    "# Plot the training and validation loss and accuracy\n",
    "import matplotlib.pyplot as plt\n",
    "\n",
    "# plot loss and accuracy figures side by side\n",
    "fig, axs = plt.subplots(1, 2, figsize=(15, 5))\n",
    "axs[0].plot(train_stats[\"epoch\"], train_stats[\"loss\"], label=\"Training\")\n",
    "axs[0].plot(eval_stats[\"epoch\"], eval_stats[\"loss\"], label=\"Validation\")\n",
    "axs[0].plot(test_stats[\"epoch\"], test_stats[\"loss\"], label=\"Test\")\n",
    "axs[0].plot(zero_stats[\"epoch\"], zero_stats[\"loss\"], label=\"Zero-shot\")\n",
    "\n",
    "axs[0].set_xlabel(\"Epoch\")\n",
    "axs[0].set_ylabel(\"Loss\")\n",
    "axs[0].legend()\n",
    "axs[1].plot(train_stats[\"epoch\"], train_stats[\"accuracy\"], label=\"Training\")\n",
    "axs[1].plot(eval_stats[\"epoch\"], eval_stats[\"accuracy\"], label=\"Validation\")\n",
    "axs[1].plot(test_stats[\"epoch\"], test_stats[\"accuracy\"], label=\"Test\")\n",
    "axs[1].plot(zero_stats[\"epoch\"], zero_stats[\"accuracy\"], label=\"Zero-shot\")\n",
    "\n",
    "axs[1].set_xlabel(\"Epoch\")\n",
    "axs[1].set_ylabel(\"Accuracy\")\n",
    "axs[1].legend()\n",
    "plt.tight_layout()\n",
    "#save as pdf\n",
    "plt.savefig(os.path.join(stats_dir, \"plot.pdf\"))\n",
    "plt.show()"
   ]
  },
  {
   "cell_type": "code",
   "execution_count": null,
   "id": "d0027ca6",
   "metadata": {},
   "outputs": [],
   "source": []
  }
 ],
 "metadata": {
  "kernelspec": {
   "display_name": "Python 3",
   "language": "python",
   "name": "python3"
  },
  "language_info": {
   "codemirror_mode": {
    "name": "ipython",
    "version": 3
   },
   "file_extension": ".py",
   "mimetype": "text/x-python",
   "name": "python",
   "nbconvert_exporter": "python",
   "pygments_lexer": "ipython3",
   "version": "3.8.16"
  }
 },
 "nbformat": 4,
 "nbformat_minor": 5
}
