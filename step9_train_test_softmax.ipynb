{
 "cells": [
  {
   "cell_type": "code",
   "execution_count": 1,
   "id": "b5e3bf08",
   "metadata": {},
   "outputs": [],
   "source": [
    "import os\n",
    "import pandas as pd\n",
    "import torch\n",
    "from torch import nn\n",
    "from torch.utils.data import DataLoader\n",
    "from tqdm.notebook import tqdm\n",
    "from sentence_transformers import SentenceTransformer, models, InputExample, losses, evaluation\n",
    "import numpy as np\n",
    "import random\n",
    "seed = 42\n",
    "torch.manual_seed(seed)\n",
    "random.seed(seed)\n",
    "np.random.seed(seed)\n",
    "torch.backends.cudnn.deterministic = True\n",
    "torch.backends.cudnn.benchmark = False\n",
    "\n",
    "CONSTANTS = {\n",
    "    \"VOC_NAMES\": [\"Alpha\", \"Beta\", \"Delta\", \"Gamma\", \"Omicron\"],\n",
    "    \"LOSS_NAME\": \"SoftmaxLoss\",\n",
    "    \"NEG_SET\": \"other\", # \"other\" or \"delta\"\n",
    "    \"POOLING_MODE\": \"max\",\n",
    "    \"CONCAT\": \"CD\", # \"C\" for concat-only, \"CD\" for concat+diff, or \"CDM\" for concat+diff+mult\n",
    "    \"NUM_LABELS\": 5,\n",
    "    \"CONF_THRESHOLD\": 0.0,\n",
    "    \"BATCH_SIZE\": 32,\n",
    "    \"EPOCHS\": 10,\n",
    "    \"LR\": 1e-5,\n",
    "    \"RELU\": 0.0,\n",
    "    \"DROPOUT\": 0.0,\n",
    "    \"MARGIN\": None\n",
    "}\n",
    "\n",
    "if CONSTANTS[\"CONF_THRESHOLD\"] is not None and CONSTANTS[\"CONF_THRESHOLD\"] > 0: \n",
    "    CONSTANTS[\"NUM_LABELS\"] += 1 # for the 'other' class"
   ]
  },
  {
   "cell_type": "code",
   "execution_count": 2,
   "id": "805e9f14",
   "metadata": {},
   "outputs": [
    {
     "name": "stderr",
     "output_type": "stream",
     "text": [
      "Some weights of the model checkpoint at ./mlm_checkpoints/CoV-RoBERTa_2048 were not used when initializing RobertaModel: ['lm_head.layer_norm.bias', 'lm_head.bias', 'lm_head.layer_norm.weight', 'lm_head.dense.weight', 'lm_head.dense.bias']\n",
      "- This IS expected if you are initializing RobertaModel from the checkpoint of a model trained on another task or with another architecture (e.g. initializing a BertForSequenceClassification model from a BertForPreTraining model).\n",
      "- This IS NOT expected if you are initializing RobertaModel from the checkpoint of a model that you expect to be exactly identical (initializing a BertForSequenceClassification model from a BertForSequenceClassification model).\n",
      "Some weights of RobertaModel were not initialized from the model checkpoint at ./mlm_checkpoints/CoV-RoBERTa_2048 and are newly initialized: ['roberta.pooler.dense.bias', 'roberta.pooler.dense.weight']\n",
      "You should probably TRAIN this model on a down-stream task to be able to use it for predictions and inference.\n"
     ]
    },
    {
     "name": "stdout",
     "output_type": "stream",
     "text": [
      "SentenceTransformer(\n",
      "  (0): Transformer({'max_seq_length': 1280, 'do_lower_case': False}) with Transformer model: RobertaModel \n",
      "  (1): Pooling({'word_embedding_dimension': 768, 'pooling_mode_cls_token': False, 'pooling_mode_mean_tokens': False, 'pooling_mode_max_tokens': True, 'pooling_mode_global_max': False, 'pooling_mode_global_avg': False, 'pooling_mode_attention': False, 'pooling_mode_mean_sqrt_len_tokens': False, 'pooling_mode_weightedmean_tokens': False, 'pooling_mode_lasttoken': False})\n",
      ")\n"
     ]
    }
   ],
   "source": [
    "#word_embedding_model = models.Transformer(model_name_or_path=\"Rostlab/prot_bert\", max_seq_length=1280)\n",
    "\n",
    "encoder = models.Transformer(model_name_or_path=\"./mlm_checkpoints/CoV-RoBERTa_2048\",\n",
    "                                          max_seq_length=1280,\n",
    "                                          tokenizer_name_or_path=\"tok/\")\n",
    "\n",
    "dim = encoder.get_word_embedding_dimension() # 768\n",
    "\n",
    "pooler = models.Pooling(dim, pooling_mode = CONSTANTS[\"POOLING_MODE\"])\n",
    "\n",
    "modules = [encoder, pooler]\n",
    "\n",
    "if CONSTANTS[\"RELU\"] > 0:\n",
    "    dense = models.Dense(in_features=dim, out_features=int(dim*CONSTANTS[\"RELU\"]), activation_function=nn.ReLU())\n",
    "    modules.append(dense)\n",
    "\n",
    "if CONSTANTS[\"DROPOUT\"] > 0:\n",
    "    dropout = models.Dropout(CONSTANTS[\"DROPOUT\"])\n",
    "    modules.append(dropout)\n",
    "\n",
    "model = SentenceTransformer(modules=modules)\n",
    "\n",
    "# # Freeze initial transformer layers\n",
    "# for param in model[0].auto_model.embeddings.parameters():\n",
    "#     param.requires_grad = False\n",
    "# for param in model[0].auto_model.encoder.layer[:6].parameters():\n",
    "#     param.requires_grad = False\n",
    "\n",
    "print(model)"
   ]
  },
  {
   "attachments": {},
   "cell_type": "markdown",
   "id": "5073d929",
   "metadata": {},
   "source": [
    "# Construct Pairs for Training"
   ]
  },
  {
   "cell_type": "code",
   "execution_count": 3,
   "id": "8feefe76",
   "metadata": {},
   "outputs": [
    {
     "name": "stdout",
     "output_type": "stream",
     "text": [
      "Training set length: 16000\n"
     ]
    }
   ],
   "source": [
    "TASK = \"OMICRON_VS_ALL\" # \"OMICRON_VS_ALL\" or \"ALL_VS_ALL\"\n",
    "\n",
    "VOC_NAMES = [\"Alpha\", \"Beta\", \"Delta\", \"Gamma\", \"Omicron\"]\n",
    "sequences = []\n",
    "for voc_name in VOC_NAMES:\n",
    "    sequences.append(pd.read_csv(f\"data/unique_{voc_name}_2k.csv\")[\"sequence\"].tolist())\n",
    "\n",
    "alpha_sequences = sequences[0].copy()\n",
    "beta_sequences = sequences[1].copy()\n",
    "delta_sequences = sequences[2].copy()\n",
    "gamma_sequences = sequences[3].copy()\n",
    "omicron_sequences = sequences[4].copy()\n",
    "examples = []\n",
    "\n",
    "if TASK == \"OMICRON_VS_ALL\":\n",
    "    refs = []\n",
    "    seqs = []\n",
    "    labels = []\n",
    "    L = len(omicron_sequences)\n",
    "    if CONSTANTS[\"NEG_SET\"] == \"delta\":\n",
    "        for i in range(L):\n",
    "            steps = [k*L//4 for k in range(1)] # range 1 means only one step, increase for more steps\n",
    "            positives = [omicron_sequences[(i+step) % L] for step in steps]\n",
    "            negatives = [delta_sequences[(i+step) % L] for step in steps]\n",
    "            for neg, pos in zip(negatives, positives):\n",
    "                refs.append(omicron_sequences[i])\n",
    "                seqs.append(pos)\n",
    "                labels.append(0) # 0 means omicron-omicron\n",
    "                refs.append(omicron_sequences[i])\n",
    "                seqs.append(neg)\n",
    "                labels.append(1) # 1 means omicron-delta\n",
    "\n",
    "    elif CONSTANTS[\"NEG_SET\"] == \"other\":\n",
    "        NEGS = [delta_sequences, alpha_sequences, beta_sequences, gamma_sequences]\n",
    "        for i in range(len(omicron_sequences)):\n",
    "            for n_i, other_sequences in enumerate(NEGS):\n",
    "                refs.append(omicron_sequences[i])\n",
    "                seqs.append(omicron_sequences[(i+1) % len(omicron_sequences)])\n",
    "                labels.append(0) # label = 0 means omicron-omicron\n",
    "                refs.append(omicron_sequences[i])\n",
    "                seqs.append(other_sequences[i])\n",
    "                if CONSTANTS[\"NUM_LABELS\"] == 2:\n",
    "                    labels.append(1) # label = 1 means omicron-other\n",
    "                else:\n",
    "                    labels.append(n_i + 1) # label > 0 means omicron-other\n",
    "\n",
    "    df = pd.DataFrame({\"reference\": refs, \"sequence\": seqs, \"label\": labels})\n",
    "    for i, row in df.iterrows():\n",
    "        examples.append(InputExample(texts=[row[\"reference\"], row[\"sequence\"]], label=row[\"label\"]))\n",
    "\n",
    "if TASK == \"ALL_VS_ALL\":\n",
    "    r = 1\n",
    "    done = False\n",
    "    while not done:\n",
    "        #print(\"round\", r)\n",
    "        for a_p_list_id in range(len(sequences)):\n",
    "            n_list_ids = list(range(len(sequences))).copy()\n",
    "            n_list_ids.remove(a_p_list_id)\n",
    "            anchor_positive_list = sequences[a_p_list_id]\n",
    "            anchor_positives = random.sample(anchor_positive_list, 5)\n",
    "            anchor = anchor_positives[0]\n",
    "            positives = anchor_positives[1:]\n",
    "            anchor_positive_list.remove(anchor)\n",
    "            for positive in positives:\n",
    "                examples.append(InputExample(texts=[anchor, positive], label=1))\n",
    "                anchor_positive_list.remove(positive)\n",
    "            for n_list_id in n_list_ids:\n",
    "                negative_list = sequences[n_list_id]\n",
    "                negative = random.choice(negative_list)\n",
    "                negative_list.remove(negative)\n",
    "                examples.append(InputExample(texts=[anchor, negative], label=0))\n",
    "            if len(sequences[0]) < 5 or len(sequences[1]) < 5 or len(sequences[2]) < 5 or len(sequences[3]) < 5 or len(sequences[4]) < 5:\n",
    "                done = True\n",
    "                break\n",
    "        r += 1\n",
    "\n",
    "print(\"Training set length:\", len(examples))\n",
    "\n",
    "# Split data into train, validation, and test sets\n",
    "train_size = int(len(examples) * 0.8)\n",
    "val_size = int(len(examples) * 0.1)\n",
    "train_examples = examples[:train_size]\n",
    "val_examples = examples[train_size:train_size + val_size]\n",
    "test_examples = examples[train_size + val_size:]\n",
    "# create dataloaders\n",
    "train_dataloader = DataLoader(train_examples, shuffle=True, batch_size=CONSTANTS[\"BATCH_SIZE\"])\n",
    "val_dataloader = DataLoader(val_examples, shuffle=False, batch_size=CONSTANTS[\"BATCH_SIZE\"])\n",
    "test_dataloader = DataLoader(test_examples, shuffle=False, batch_size=CONSTANTS[\"BATCH_SIZE\"])"
   ]
  },
  {
   "attachments": {},
   "cell_type": "markdown",
   "id": "3935c579",
   "metadata": {},
   "source": [
    "# Generate Pairs for Zero-shot Test"
   ]
  },
  {
   "cell_type": "code",
   "execution_count": 4,
   "id": "38c2f151",
   "metadata": {},
   "outputs": [
    {
     "name": "stdout",
     "output_type": "stream",
     "text": [
      "Zero-shot test set length:  4000\n"
     ]
    }
   ],
   "source": [
    "o = pd.read_csv(\"data/unique_Omicron_2k.csv\")[\"sequence\"].tolist()\n",
    "e = pd.read_csv(\"data/unique_Eris_2k.csv\")[\"sequence\"].tolist()[:2000]\n",
    "n = pd.read_csv(\"data/unique_New_2k.csv\")[\"sequence\"].tolist()[:2000]\n",
    "\n",
    "refs = []\n",
    "seqs = []\n",
    "labels = []\n",
    "\n",
    "for i in range(len(omicron_sequences)):\n",
    "        refs.append(o[i])\n",
    "        seqs.append(e[i])\n",
    "        labels.append(CONSTANTS[\"NUM_LABELS\"]-1)\n",
    "        refs.append(o[i])\n",
    "        seqs.append(n[i])\n",
    "        labels.append(0) # 0 means both are omicron\n",
    "                \n",
    "df = pd.DataFrame({\"reference\": refs, \"sequence\": seqs, \"label\": labels})\n",
    "\n",
    "zero_test_examples = []\n",
    "for i, row in df.iterrows():\n",
    "    zero_test_examples.append(InputExample(texts=[row[\"reference\"], row[\"sequence\"]], label=row[\"label\"]))\n",
    "\n",
    "print(\"Zero-shot test set length: \", len(zero_test_examples))\n",
    "\n",
    "# create dataloader for zero-shot test set\n",
    "zero_test_dataloader = DataLoader(zero_test_examples, shuffle=False, batch_size=CONSTANTS[\"BATCH_SIZE\"])"
   ]
  },
  {
   "attachments": {},
   "cell_type": "markdown",
   "id": "0515d4ad",
   "metadata": {},
   "source": [
    "# Define Loss"
   ]
  },
  {
   "cell_type": "code",
   "execution_count": 5,
   "id": "075fce6a",
   "metadata": {},
   "outputs": [
    {
     "name": "stdout",
     "output_type": "stream",
     "text": [
      "SoftmaxLoss(\n",
      "  (model): SentenceTransformer(\n",
      "    (0): Transformer({'max_seq_length': 1280, 'do_lower_case': False}) with Transformer model: RobertaModel \n",
      "    (1): Pooling({'word_embedding_dimension': 768, 'pooling_mode_cls_token': False, 'pooling_mode_mean_tokens': False, 'pooling_mode_max_tokens': True, 'pooling_mode_global_max': False, 'pooling_mode_global_avg': False, 'pooling_mode_attention': False, 'pooling_mode_mean_sqrt_len_tokens': False, 'pooling_mode_weightedmean_tokens': False, 'pooling_mode_lasttoken': False})\n",
      "  )\n",
      "  (classifier): Linear(in_features=2304, out_features=5, bias=True)\n",
      "  (loss_fct): CrossEntropyLoss()\n",
      ")\n"
     ]
    }
   ],
   "source": [
    "train_loss = losses.SoftmaxLoss(model=model, sentence_embedding_dimension=model.get_sentence_embedding_dimension(),\n",
    "                                num_labels=CONSTANTS[\"NUM_LABELS\"],\n",
    "                                conf_threshold=CONSTANTS[\"CONF_THRESHOLD\"],\n",
    "                                concatenation_sent_rep = True if \"C\" in CONSTANTS[\"CONCAT\"] else False,\n",
    "                                concatenation_sent_difference = True if \"D\" in CONSTANTS[\"CONCAT\"] else False,\n",
    "                                concatenation_sent_multiplication = True if \"M\" in CONSTANTS[\"CONCAT\"] else False)\n",
    "\n",
    "print(train_loss)"
   ]
  },
  {
   "attachments": {},
   "cell_type": "markdown",
   "id": "da1d395d",
   "metadata": {},
   "source": [
    "# Construct Evaluators"
   ]
  },
  {
   "cell_type": "code",
   "execution_count": 6,
   "id": "e6ba708b",
   "metadata": {},
   "outputs": [],
   "source": [
    "evaluator = evaluation.LabelAccuracyEvaluator(val_dataloader, softmax_model=train_loss, name=\"Eval\")\n",
    "test_evaluator = evaluation.LabelAccuracyEvaluator(test_dataloader, softmax_model=train_loss, name=\"Test\")\n",
    "zero_test_evaluator = evaluation.LabelAccuracyEvaluator(zero_test_dataloader, softmax_model=train_loss, name=\"Zero\")"
   ]
  },
  {
   "attachments": {},
   "cell_type": "markdown",
   "id": "c2f34a95",
   "metadata": {},
   "source": [
    "# Prepare Folders"
   ]
  },
  {
   "cell_type": "code",
   "execution_count": 7,
   "id": "cba622aa",
   "metadata": {},
   "outputs": [
    {
     "name": "stdout",
     "output_type": "stream",
     "text": [
      "Removed directory: ./outputs/SoftmaxLoss_omicron_vs_other_Pmax_R0.0_D0.0_E10_LR_1e-05_B32_T0.0_CD\n",
      "Created directory: ./outputs/SoftmaxLoss_omicron_vs_other_Pmax_R0.0_D0.0_E10_LR_1e-05_B32_T0.0_CD/checkpoints\n",
      "Created directory: ./outputs/SoftmaxLoss_omicron_vs_other_Pmax_R0.0_D0.0_E10_LR_1e-05_B32_T0.0_CD/stats\n"
     ]
    }
   ],
   "source": [
    "import os\n",
    "import shutil\n",
    "\n",
    "# Create output directory if needed\n",
    "output_dir = f\"./outputs/{CONSTANTS['LOSS_NAME']}_omicron_vs_{CONSTANTS['NEG_SET']}_\" \\\n",
    "                f\"P{CONSTANTS['POOLING_MODE']}_\" \\\n",
    "                f\"R{CONSTANTS['RELU']}_\" \\\n",
    "                f\"D{CONSTANTS['DROPOUT']}_\" \\\n",
    "                f\"E{CONSTANTS['EPOCHS']}_\" \\\n",
    "                f\"LR_{CONSTANTS['LR']}_\" \\\n",
    "                f\"B{CONSTANTS['BATCH_SIZE']}_\" \\\n",
    "                f\"T{CONSTANTS['CONF_THRESHOLD']}_\" \\\n",
    "                f\"{CONSTANTS['CONCAT']}\"\n",
    "\n",
    "if os.path.exists(output_dir):\n",
    "    shutil.rmtree(output_dir)\n",
    "    print(f\"Removed directory: {output_dir}\")\n",
    "\n",
    "checkpoint_dir = f\"{output_dir}/checkpoints\"\n",
    "stats_dir = f\"{output_dir}/stats\"\n",
    "\n",
    "for d in [checkpoint_dir, stats_dir]:\n",
    "    if not os.path.exists(d):\n",
    "        os.makedirs(d)\n",
    "        print(f\"Created directory: {d}\")"
   ]
  },
  {
   "attachments": {},
   "cell_type": "markdown",
   "id": "f112ebb9",
   "metadata": {},
   "source": [
    "# Run Training & Test"
   ]
  },
  {
   "cell_type": "code",
   "execution_count": 8,
   "id": "25a6df7f",
   "metadata": {},
   "outputs": [
    {
     "name": "stdout",
     "output_type": "stream",
     "text": [
      "VOC_NAMES: ['Alpha', 'Beta', 'Delta', 'Gamma', 'Omicron']\n",
      "LOSS_NAME: SoftmaxLoss\n",
      "NEG_SET: other\n",
      "POOLING_MODE: max\n",
      "CONCAT: CD\n",
      "NUM_LABELS: 5\n",
      "CONF_THRESHOLD: 0.0\n",
      "BATCH_SIZE: 32\n",
      "EPOCHS: 10\n",
      "LR: 1e-05\n",
      "RELU: 0.0\n",
      "DROPOUT: 0.0\n",
      "MARGIN: None\n"
     ]
    },
    {
     "data": {
      "application/vnd.jupyter.widget-view+json": {
       "model_id": "f1b2e564afc343b2adbf8887313d2884",
       "version_major": 2,
       "version_minor": 0
      },
      "text/plain": [
       "Epoch:   0%|          | 0/10 [00:00<?, ?it/s]"
      ]
     },
     "metadata": {},
     "output_type": "display_data"
    },
    {
     "data": {
      "application/vnd.jupyter.widget-view+json": {
       "model_id": "0fd7ce1657d64ca2acf8a21cc8a8a531",
       "version_major": 2,
       "version_minor": 0
      },
      "text/plain": [
       "Iteration:   0%|          | 0/400 [00:00<?, ?it/s]"
      ]
     },
     "metadata": {},
     "output_type": "display_data"
    },
    {
     "name": "stdout",
     "output_type": "stream",
     "text": [
      "--- Epoch 0 ---\n",
      "Train Loss = 1.3460   Train Accuracy = 0.5625\n",
      "Eval Loss  = 1.4037   Eval Accuracy  = 0.4994\n",
      "Test Loss  = 1.4043   Test Accuracy  = 0.5019\n"
     ]
    },
    {
     "data": {
      "application/vnd.jupyter.widget-view+json": {
       "model_id": "55f2db3ee1a84dfbb8a4db418c57f3ac",
       "version_major": 2,
       "version_minor": 0
      },
      "text/plain": [
       "Iteration:   0%|          | 0/400 [00:00<?, ?it/s]"
      ]
     },
     "metadata": {},
     "output_type": "display_data"
    },
    {
     "name": "stdout",
     "output_type": "stream",
     "text": [
      "--- Epoch 1 ---\n",
      "Train Loss = 1.4734   Train Accuracy = 0.3750\n",
      "Eval Loss  = 1.3401   Eval Accuracy  = 0.5069\n",
      "Test Loss  = 1.3300   Test Accuracy  = 0.5025\n"
     ]
    },
    {
     "data": {
      "application/vnd.jupyter.widget-view+json": {
       "model_id": "6f4925ae1cea4ba0bd81491ea8bb0794",
       "version_major": 2,
       "version_minor": 0
      },
      "text/plain": [
       "Iteration:   0%|          | 0/400 [00:00<?, ?it/s]"
      ]
     },
     "metadata": {},
     "output_type": "display_data"
    },
    {
     "name": "stdout",
     "output_type": "stream",
     "text": [
      "--- Epoch 2 ---\n",
      "Train Loss = 1.3011   Train Accuracy = 0.5000\n",
      "Eval Loss  = 1.1859   Eval Accuracy  = 0.5781\n",
      "Test Loss  = 1.1580   Test Accuracy  = 0.5938\n"
     ]
    },
    {
     "data": {
      "application/vnd.jupyter.widget-view+json": {
       "model_id": "bafd4ffae45e4e1ab7d96a317e2c9c64",
       "version_major": 2,
       "version_minor": 0
      },
      "text/plain": [
       "Iteration:   0%|          | 0/400 [00:00<?, ?it/s]"
      ]
     },
     "metadata": {},
     "output_type": "display_data"
    },
    {
     "name": "stdout",
     "output_type": "stream",
     "text": [
      "--- Epoch 3 ---\n",
      "Train Loss = 0.7637   Train Accuracy = 0.7500\n",
      "Eval Loss  = 0.8801   Eval Accuracy  = 0.7200\n",
      "Test Loss  = 0.8756   Test Accuracy  = 0.7113\n"
     ]
    },
    {
     "data": {
      "application/vnd.jupyter.widget-view+json": {
       "model_id": "8351a9c2db1249d4b19f2352850400f4",
       "version_major": 2,
       "version_minor": 0
      },
      "text/plain": [
       "Iteration:   0%|          | 0/400 [00:00<?, ?it/s]"
      ]
     },
     "metadata": {},
     "output_type": "display_data"
    },
    {
     "name": "stdout",
     "output_type": "stream",
     "text": [
      "--- Epoch 4 ---\n",
      "Train Loss = 0.5603   Train Accuracy = 0.8750\n",
      "Eval Loss  = 0.6048   Eval Accuracy  = 0.8275\n",
      "Test Loss  = 0.6379   Test Accuracy  = 0.8237\n"
     ]
    },
    {
     "data": {
      "application/vnd.jupyter.widget-view+json": {
       "model_id": "fc9225df09324bed8630fbdf61949f76",
       "version_major": 2,
       "version_minor": 0
      },
      "text/plain": [
       "Iteration:   0%|          | 0/400 [00:00<?, ?it/s]"
      ]
     },
     "metadata": {},
     "output_type": "display_data"
    },
    {
     "name": "stdout",
     "output_type": "stream",
     "text": [
      "--- Epoch 5 ---\n",
      "Train Loss = 0.3056   Train Accuracy = 0.9375\n",
      "Eval Loss  = 0.4252   Eval Accuracy  = 0.9000\n",
      "Test Loss  = 0.4808   Test Accuracy  = 0.8881\n"
     ]
    },
    {
     "data": {
      "application/vnd.jupyter.widget-view+json": {
       "model_id": "ff50a863b70448aab2d8b4aefa8c53ac",
       "version_major": 2,
       "version_minor": 0
      },
      "text/plain": [
       "Iteration:   0%|          | 0/400 [00:00<?, ?it/s]"
      ]
     },
     "metadata": {},
     "output_type": "display_data"
    },
    {
     "name": "stdout",
     "output_type": "stream",
     "text": [
      "--- Epoch 6 ---\n",
      "Train Loss = 0.3019   Train Accuracy = 0.9688\n",
      "Eval Loss  = 0.3294   Eval Accuracy  = 0.9369\n",
      "Test Loss  = 0.4021   Test Accuracy  = 0.9081\n"
     ]
    },
    {
     "data": {
      "application/vnd.jupyter.widget-view+json": {
       "model_id": "7c83132923104199b63d4edb4f88924c",
       "version_major": 2,
       "version_minor": 0
      },
      "text/plain": [
       "Iteration:   0%|          | 0/400 [00:00<?, ?it/s]"
      ]
     },
     "metadata": {},
     "output_type": "display_data"
    },
    {
     "name": "stdout",
     "output_type": "stream",
     "text": [
      "--- Epoch 7 ---\n",
      "Train Loss = 0.1642   Train Accuracy = 0.9688\n",
      "Eval Loss  = 0.2634   Eval Accuracy  = 0.9500\n",
      "Test Loss  = 0.3451   Test Accuracy  = 0.9156\n"
     ]
    },
    {
     "data": {
      "application/vnd.jupyter.widget-view+json": {
       "model_id": "d03cb36129e64cefb3b34564ad8a9378",
       "version_major": 2,
       "version_minor": 0
      },
      "text/plain": [
       "Iteration:   0%|          | 0/400 [00:00<?, ?it/s]"
      ]
     },
     "metadata": {},
     "output_type": "display_data"
    },
    {
     "name": "stdout",
     "output_type": "stream",
     "text": [
      "--- Epoch 8 ---\n",
      "Train Loss = 0.0893   Train Accuracy = 1.0000\n",
      "Eval Loss  = 0.2359   Eval Accuracy  = 0.9513\n",
      "Test Loss  = 0.3349   Test Accuracy  = 0.9313\n"
     ]
    },
    {
     "data": {
      "application/vnd.jupyter.widget-view+json": {
       "model_id": "b2f7a5c636a949ef9b94d8337e564820",
       "version_major": 2,
       "version_minor": 0
      },
      "text/plain": [
       "Iteration:   0%|          | 0/400 [00:00<?, ?it/s]"
      ]
     },
     "metadata": {},
     "output_type": "display_data"
    },
    {
     "name": "stdout",
     "output_type": "stream",
     "text": [
      "--- Epoch 9 ---\n",
      "Train Loss = 0.0143   Train Accuracy = 1.0000\n",
      "Eval Loss  = 0.1938   Eval Accuracy  = 0.9563\n",
      "Test Loss  = 0.3036   Test Accuracy  = 0.9363\n"
     ]
    }
   ],
   "source": [
    "# print CONSTANTS\n",
    "for k, v in CONSTANTS.items():\n",
    "    print(f\"{k}: {v}\")\n",
    "\n",
    "model.fit(train_objectives=[(train_dataloader, train_loss)],\n",
    "          evaluator=evaluator,\n",
    "          tester=test_evaluator,\n",
    "          #zero_shot_tester=zero_test_evaluator,\n",
    "          epochs=CONSTANTS[\"EPOCHS\"],\n",
    "          optimizer_params= {'lr': CONSTANTS[\"LR\"]}, # 1e-3 for CoV-RoBERTa, 1e-6 for ProtBERT\n",
    "          weight_decay=0.1, # 0.1 for CoV-RoBERTa, 0.01 for ProtBERT\n",
    "          #evaluation_steps=eval_iter,\n",
    "          output_path=output_dir,\n",
    "          save_best_model=True,\n",
    "          #checkpoint_path=checkpoint_dir,\n",
    "          #checkpoint_save_steps=len(train_dataloader), # save a checkpoint every epoch\n",
    "          #checkpoint_save_total_limit=10000,\n",
    "          show_progress_bar=True,\n",
    "          loss_name=CONSTANTS[\"LOSS_NAME\"])"
   ]
  },
  {
   "attachments": {},
   "cell_type": "markdown",
   "id": "ce2b738f",
   "metadata": {},
   "source": [
    "# Display Stats"
   ]
  },
  {
   "cell_type": "code",
   "execution_count": 9,
   "id": "e7921a11",
   "metadata": {},
   "outputs": [
    {
     "data": {
      "text/html": [
       "<div>\n",
       "<style scoped>\n",
       "    .dataframe tbody tr th:only-of-type {\n",
       "        vertical-align: middle;\n",
       "    }\n",
       "\n",
       "    .dataframe tbody tr th {\n",
       "        vertical-align: top;\n",
       "    }\n",
       "\n",
       "    .dataframe thead th {\n",
       "        text-align: right;\n",
       "    }\n",
       "</style>\n",
       "<table border=\"1\" class=\"dataframe\">\n",
       "  <thead>\n",
       "    <tr style=\"text-align: right;\">\n",
       "      <th></th>\n",
       "      <th>LOSS_NAME</th>\n",
       "      <th>NEG_SET</th>\n",
       "      <th>POOLING_MODE</th>\n",
       "      <th>CONCAT</th>\n",
       "      <th>NUM_LABELS</th>\n",
       "      <th>CONF_THRESHOLD</th>\n",
       "      <th>BATCH_SIZE</th>\n",
       "      <th>EPOCHS</th>\n",
       "      <th>LR</th>\n",
       "      <th>RELU</th>\n",
       "      <th>DROPOUT</th>\n",
       "      <th>MARGIN</th>\n",
       "      <th>MAX_TEST_ACC</th>\n",
       "    </tr>\n",
       "  </thead>\n",
       "  <tbody>\n",
       "    <tr>\n",
       "      <th>0</th>\n",
       "      <td>SoftmaxLoss</td>\n",
       "      <td>other</td>\n",
       "      <td>max</td>\n",
       "      <td>CD</td>\n",
       "      <td>5</td>\n",
       "      <td>0.0</td>\n",
       "      <td>32</td>\n",
       "      <td>10</td>\n",
       "      <td>0.00001</td>\n",
       "      <td>0.0</td>\n",
       "      <td>0.0</td>\n",
       "      <td>None</td>\n",
       "      <td>0.9363</td>\n",
       "    </tr>\n",
       "  </tbody>\n",
       "</table>\n",
       "</div>"
      ],
      "text/plain": [
       "     LOSS_NAME NEG_SET POOLING_MODE CONCAT  NUM_LABELS  CONF_THRESHOLD  \\\n",
       "0  SoftmaxLoss   other          max     CD           5             0.0   \n",
       "\n",
       "   BATCH_SIZE  EPOCHS       LR  RELU  DROPOUT MARGIN  MAX_TEST_ACC  \n",
       "0          32      10  0.00001   0.0      0.0   None        0.9363  "
      ]
     },
     "metadata": {},
     "output_type": "display_data"
    }
   ],
   "source": [
    "# read loss values from csv:\n",
    "f_train_stats = os.path.join(stats_dir, 'Train.csv')\n",
    "f_eval_stats = os.path.join(stats_dir, 'Eval.csv')\n",
    "f_test_stats = os.path.join(stats_dir, 'Test.csv')\n",
    "#f_zero_stats = os.path.join(stats_dir, 'Zero.csv')\n",
    "\n",
    "train_stats = pd.read_csv(f_train_stats)\n",
    "eval_stats = pd.read_csv(f_eval_stats)\n",
    "test_stats = pd.read_csv(f_test_stats)\n",
    "#zero_stats = pd.read_csv(f_zero_stats)\n",
    "\n",
    "best_test_acc = test_stats[\"accuracy\"].max()\n",
    "#best_zero_acc = zero_stats[\"accuracy\"].max()\n",
    "\n",
    "# create a dataframe with CONSTANTS and best accuracies\n",
    "df = pd.DataFrame()\n",
    "for k, v in CONSTANTS.items():\n",
    "    if k not in [\"VOC_NAMES\"]:\n",
    "        df[k] = [v] # if v is not None else [\"N/A\"]\n",
    "\n",
    "df[\"MAX_TEST_ACC\"] = best_test_acc\n",
    "#df[\"MAX_ZERO_ACC\"] = best_zero_acc\n",
    "\n",
    "display(df)\n",
    "\n",
    "# save the dataframe to a csv file under stats_dir\n",
    "df.to_csv(os.path.join(stats_dir, \"summary.csv\"), index=False)\n",
    "\n",
    "# append row to global_stats.csv\n",
    "if not os.path.exists(\"global_stats.csv\") or os.path.getsize(\"global_stats.csv\") == 0:\n",
    "    df.to_csv(\"global_stats.csv\", index=False)\n",
    "else:\n",
    "    global_stats = pd.read_csv(\"global_stats.csv\")\n",
    "    global_stats = pd.concat([global_stats, df], ignore_index=True)\n",
    "    global_stats.to_csv(\"global_stats.csv\", index=False)"
   ]
  },
  {
   "cell_type": "code",
   "execution_count": 10,
   "id": "34715b67",
   "metadata": {},
   "outputs": [
    {
     "data": {
      "image/png": "[encoded data removed]",
      "text/plain": [
       "<Figure size 1080x360 with 2 Axes>"
      ]
     },
     "metadata": {
      "needs_background": "light"
     },
     "output_type": "display_data"
    }
   ],
   "source": [
    "# Plot the training and validation loss and accuracy\n",
    "import matplotlib.pyplot as plt\n",
    "\n",
    "# plot loss and accuracy figures side by side\n",
    "fig, axs = plt.subplots(1, 2, figsize=(15, 5))\n",
    "axs[0].plot(train_stats[\"epoch\"]+1, train_stats[\"loss\"], label=\"Train\", color=\"blue\")\n",
    "axs[0].plot(eval_stats[\"epoch\"]+1, eval_stats[\"loss\"], label=\"Eval\", color=\"red\")\n",
    "axs[0].plot(test_stats[\"epoch\"]+1, test_stats[\"loss\"], label=\"Test\", color=\"orange\")\n",
    "#axs[0].plot(zero_stats[\"epoch\"], zero_stats[\"loss\"], label=\"Zero-shot\")\n",
    "\n",
    "axs[0].set_xlabel(\"Epoch\")\n",
    "axs[0].set_ylabel(\"Loss\")\n",
    "axs[0].legend()\n",
    "axs[0].set_xticks(train_stats[\"epoch\"]+1)  # Set x-ticks for each epoch\n",
    "\n",
    "axs[1].plot(train_stats[\"epoch\"]+1, train_stats[\"accuracy\"], label=\"Train\", color=\"blue\")\n",
    "axs[1].plot(eval_stats[\"epoch\"]+1, eval_stats[\"accuracy\"], label=\"Eval\", color=\"red\")\n",
    "axs[1].plot(test_stats[\"epoch\"]+1, test_stats[\"accuracy\"], label=\"Test\", color=\"orange\")\n",
    "#axs[1].plot(zero_stats[\"epoch\"], zero_stats[\"accuracy\"], label=\"Zero-shot\")\n",
    "\n",
    "axs[1].set_xlabel(\"Epoch\")\n",
    "axs[1].set_ylabel(\"Accuracy\")\n",
    "axs[1].legend()\n",
    "axs[1].set_xticks(train_stats[\"epoch\"]+1)  # Set x-ticks for each epoch\n",
    "\n",
    "\n",
    "font_size = 16\n",
    "plt.rc('font', size=font_size)\n",
    "plt.rc('axes', titlesize=font_size)\n",
    "plt.rc('axes', labelsize=font_size)\n",
    "plt.rc('xtick', labelsize=font_size-4)\n",
    "plt.rc('ytick', labelsize=font_size-4)\n",
    "plt.rc('legend', fontsize=font_size)\n",
    "plt.rc('figure', titlesize=font_size)\n",
    "plt.tight_layout()\n",
    "#save as pdf\n",
    "plt.savefig(os.path.join(stats_dir, \"plot.pdf\"))\n",
    "plt.show()"
   ]
  },
  {
   "attachments": {},
   "cell_type": "markdown",
   "id": "0edd3416",
   "metadata": {},
   "source": [
    "# Test Run Using Best Model"
   ]
  },
  {
   "cell_type": "code",
   "execution_count": 11,
   "id": "7e4f5fb7",
   "metadata": {},
   "outputs": [],
   "source": [
    "# # load best model\n",
    "# best_model = SentenceTransformer(f\"{output_dir}/best_model\")\n",
    "# loss_model = losses.SoftmaxLoss(model=best_model, sentence_embedding_dimension=best_model.get_sentence_embedding_dimension(),\n",
    "#                                 num_labels=CONSTANTS[\"NUM_LABELS\"],\n",
    "#                                 conf_threshold=CONSTANTS[\"CONF_THRESHOLD\"],\n",
    "#                                 concatenation_sent_rep = True if \"C\" in CONSTANTS[\"CONCAT\"] else False,\n",
    "#                                 concatenation_sent_difference = True if \"D\" in CONSTANTS[\"CONCAT\"] else False,\n",
    "#                                 concatenation_sent_multiplication = True if \"M\" in CONSTANTS[\"CONCAT\"] else False)\n",
    "\n",
    "# print(loss_model)\n",
    "\n",
    "# # Load the state dictionary from the file\n",
    "# state_dict = torch.load(f\"{output_dir}/softmax_model_checkpoints/best.pt\")\n",
    "\n",
    "# # Load the state dictionary into the model\n",
    "# loss_model.load_state_dict(state_dict, strict=True)\n",
    "\n",
    "# best_model.to(\"cuda\")\n",
    "# loss_model.to(\"cuda\")\n",
    "\n",
    "# test_acc = best_model.evaluate(test_evaluator)\n",
    "# zero_acc = best_model.evaluate(zero_test_evaluator)\n",
    "\n",
    "# print(f\"Test accuracy: {test_acc}\")\n",
    "# print(f\"Zero-shot accuracy: {zero_acc}\")\n"
   ]
  },
  {
   "cell_type": "code",
   "execution_count": null,
   "id": "deb54e5c",
   "metadata": {},
   "outputs": [],
   "source": []
  }
 ],
 "metadata": {
  "kernelspec": {
   "display_name": "Python 3",
   "language": "python",
   "name": "python3"
  },
  "language_info": {
   "codemirror_mode": {
    "name": "ipython",
    "version": 3
   },
   "file_extension": ".py",
   "mimetype": "text/x-python",
   "name": "python",
   "nbconvert_exporter": "python",
   "pygments_lexer": "ipython3",
   "version": "3.8.16"
  }
 },
 "nbformat": 4,
 "nbformat_minor": 5
}
