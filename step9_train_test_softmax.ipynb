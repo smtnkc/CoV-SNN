{
 "cells": [
  {
   "cell_type": "code",
   "execution_count": 1,
   "id": "b5e3bf08",
   "metadata": {},
   "outputs": [],
   "source": [
    "import os\n",
    "import pandas as pd\n",
    "import torch\n",
    "from torch import nn\n",
    "from torch.utils.data import DataLoader\n",
    "from tqdm.notebook import tqdm\n",
    "from sentence_transformers import SentenceTransformer, models, InputExample, losses, evaluation\n",
    "import numpy as np\n",
    "import random\n",
    "seed = 42\n",
    "torch.manual_seed(seed)\n",
    "random.seed(seed)\n",
    "np.random.seed(seed)\n",
    "torch.backends.cudnn.deterministic = True\n",
    "torch.backends.cudnn.benchmark = False\n",
    "\n",
    "CONSTANTS = {\n",
    "    \"VOC_NAMES\": [\"Alpha\", \"Beta\", \"Delta\", \"Gamma\", \"Omicron\"],\n",
    "    \"LOSS_NAME\": \"SoftmaxLoss\",\n",
    "    \"NEG_SET\": \"delta\", # \"other\" or \"delta\"\n",
    "    \"POOLING_MODE\": \"max\",\n",
    "    \"CONCAT\": \"CD\", # \"C\" for concat-only, \"CD\" for concat+diff, or \"CDM\" for concat+diff+mult\n",
    "    \"NUM_LABELS\": 2,\n",
    "    \"CONF_THRESHOLD\": 0.0,\n",
    "    \"BATCH_SIZE\": 32,\n",
    "    \"EPOCHS\": 10,\n",
    "    \"LR\": 1e-3,\n",
    "    \"RELU\": 0.1,\n",
    "    \"DROPOUT\": 0.8,\n",
    "    \"MARGIN\": None\n",
    "}\n",
    "\n",
    "if CONSTANTS[\"CONF_THRESHOLD\"] is not None and CONSTANTS[\"CONF_THRESHOLD\"] > 0: \n",
    "    CONSTANTS[\"NUM_LABELS\"] += 1 # for the 'other' class"
   ]
  },
  {
   "cell_type": "code",
   "execution_count": 2,
   "id": "805e9f14",
   "metadata": {},
   "outputs": [
    {
     "name": "stderr",
     "output_type": "stream",
     "text": [
      "Some weights of the model checkpoint at ./mlm_checkpoints/CoV-RoBERTa_2048 were not used when initializing RobertaModel: ['lm_head.layer_norm.weight', 'lm_head.dense.bias', 'lm_head.bias', 'lm_head.dense.weight', 'lm_head.layer_norm.bias']\n",
      "- This IS expected if you are initializing RobertaModel from the checkpoint of a model trained on another task or with another architecture (e.g. initializing a BertForSequenceClassification model from a BertForPreTraining model).\n",
      "- This IS NOT expected if you are initializing RobertaModel from the checkpoint of a model that you expect to be exactly identical (initializing a BertForSequenceClassification model from a BertForSequenceClassification model).\n",
      "Some weights of RobertaModel were not initialized from the model checkpoint at ./mlm_checkpoints/CoV-RoBERTa_2048 and are newly initialized: ['roberta.pooler.dense.bias', 'roberta.pooler.dense.weight']\n",
      "You should probably TRAIN this model on a down-stream task to be able to use it for predictions and inference.\n"
     ]
    },
    {
     "name": "stdout",
     "output_type": "stream",
     "text": [
      "SentenceTransformer(\n",
      "  (0): Transformer({'max_seq_length': 1280, 'do_lower_case': False}) with Transformer model: RobertaModel \n",
      "  (1): Pooling({'word_embedding_dimension': 768, 'pooling_mode_cls_token': False, 'pooling_mode_mean_tokens': False, 'pooling_mode_max_tokens': True, 'pooling_mode_global_max': False, 'pooling_mode_global_avg': False, 'pooling_mode_attention': False, 'pooling_mode_mean_sqrt_len_tokens': False, 'pooling_mode_weightedmean_tokens': False, 'pooling_mode_lasttoken': False})\n",
      "  (2): Dropout(\n",
      "    (dropout_layer): Dropout(p=0.8, inplace=False)\n",
      "  )\n",
      "  (3): Dense({'in_features': 768, 'out_features': 192, 'bias': True, 'activation_function': 'torch.nn.modules.activation.ReLU'})\n",
      ")\n"
     ]
    }
   ],
   "source": [
    "#word_embedding_model = models.Transformer(model_name_or_path=\"Rostlab/prot_bert\", max_seq_length=1280)\n",
    "\n",
    "encoder = models.Transformer(model_name_or_path=\"./mlm_checkpoints/CoV-RoBERTa_2048\",\n",
    "                                          max_seq_length=1280,\n",
    "                                          tokenizer_name_or_path=\"tok/\")\n",
    "\n",
    "dim = encoder.get_word_embedding_dimension() # 768\n",
    "\n",
    "pooler = models.Pooling(dim, pooling_mode = CONSTANTS[\"POOLING_MODE\"])\n",
    "\n",
    "modules = [encoder, pooler]\n",
    "\n",
    "if CONSTANTS[\"RELU\"] > 0:\n",
    "    dense = models.Dense(in_features=dim, out_features=int(dim*CONSTANTS[\"RELU\"]), activation_function=nn.ReLU())\n",
    "    modules.append(dense)\n",
    "\n",
    "if CONSTANTS[\"DROPOUT\"] > 0:\n",
    "    dropout = models.Dropout(CONSTANTS[\"DROPOUT\"])\n",
    "    modules.append(dropout)\n",
    "\n",
    "model = SentenceTransformer(modules=modules)\n",
    "\n",
    "# # Freeze initial transformer layers\n",
    "# for param in model[0].auto_model.embeddings.parameters():\n",
    "#     param.requires_grad = False\n",
    "# for param in model[0].auto_model.encoder.layer[:6].parameters():\n",
    "#     param.requires_grad = False\n",
    "\n",
    "print(model)"
   ]
  },
  {
   "attachments": {},
   "cell_type": "markdown",
   "id": "5073d929",
   "metadata": {},
   "source": [
    "# Construct Pairs for Training"
   ]
  },
  {
   "cell_type": "code",
   "execution_count": 3,
   "id": "8feefe76",
   "metadata": {},
   "outputs": [
    {
     "name": "stdout",
     "output_type": "stream",
     "text": [
      "Training set length: 4000\n"
     ]
    }
   ],
   "source": [
    "omicron_sequences = pd.read_csv(\"data/unique_Omicron_2k.csv\")[\"sequence\"].tolist()\n",
    "alpha_sequences = pd.read_csv(\"data/unique_Alpha_2k.csv\")[\"sequence\"].tolist()\n",
    "beta_sequences = pd.read_csv(\"data/unique_Beta_2k.csv\")[\"sequence\"].tolist()\n",
    "delta_sequences = pd.read_csv(\"data/unique_Delta_2k.csv\")[\"sequence\"].tolist()\n",
    "gamma_sequences = pd.read_csv(\"data/unique_Gamma_2k.csv\")[\"sequence\"].tolist()\n",
    "\n",
    "refs = []\n",
    "seqs = []\n",
    "labels = []\n",
    "L = len(omicron_sequences)\n",
    "if CONSTANTS[\"NEG_SET\"] == \"delta\":\n",
    "    for i in range(L):\n",
    "        steps = [k*L//4 for k in range(1)] # range 1 means only one step, increase for more steps\n",
    "        positives = [omicron_sequences[(i+step) % L] for step in steps]\n",
    "        negatives = [delta_sequences[(i+step) % L] for step in steps]\n",
    "        for neg, pos in zip(negatives, positives):\n",
    "            refs.append(omicron_sequences[i])\n",
    "            seqs.append(pos)\n",
    "            labels.append(0) # 0 means omicron-omicron\n",
    "            refs.append(omicron_sequences[i])\n",
    "            seqs.append(neg)\n",
    "            labels.append(1) # 1 means omicron-delta\n",
    "\n",
    "elif CONSTANTS[\"NEG_SET\"] == \"other\":\n",
    "    NEGS = [delta_sequences, alpha_sequences, beta_sequences, gamma_sequences]\n",
    "    for i in range(len(omicron_sequences)):\n",
    "        for n_i, other_sequences in enumerate(NEGS):\n",
    "            refs.append(omicron_sequences[i])\n",
    "            seqs.append(omicron_sequences[(i+1) % len(omicron_sequences)])\n",
    "            labels.append(0) # label = 0 means omicron-omicron\n",
    "            refs.append(omicron_sequences[i])\n",
    "            seqs.append(other_sequences[i])\n",
    "            if CONSTANTS[\"NUM_LABELS\"] == 2:\n",
    "                labels.append(1) # label = 1 means omicron-other\n",
    "            else:\n",
    "                labels.append(n_i + 1) # label > 0 means omicron-other\n",
    "\n",
    "\n",
    "df = pd.DataFrame({\"reference\": refs, \"sequence\": seqs, \"label\": labels})\n",
    "\n",
    "examples = []\n",
    "for i, row in df.iterrows():\n",
    "    examples.append(InputExample(texts=[row[\"reference\"], row[\"sequence\"]], label=row[\"label\"]))\n",
    "\n",
    "print(\"Training set length:\", len(examples))\n",
    "\n",
    "# Split data into train, validation, and test sets\n",
    "train_size = int(len(examples) * 0.8)\n",
    "val_size = int(len(examples) * 0.1)\n",
    "train_examples = examples[:train_size]\n",
    "val_examples = examples[train_size:train_size + val_size]\n",
    "test_examples = examples[train_size + val_size:]\n",
    "# create dataloaders\n",
    "train_dataloader = DataLoader(train_examples, shuffle=True, batch_size=CONSTANTS[\"BATCH_SIZE\"])\n",
    "val_dataloader = DataLoader(val_examples, shuffle=False, batch_size=CONSTANTS[\"BATCH_SIZE\"])\n",
    "test_dataloader = DataLoader(test_examples, shuffle=False, batch_size=CONSTANTS[\"BATCH_SIZE\"])"
   ]
  },
  {
   "attachments": {},
   "cell_type": "markdown",
   "id": "3935c579",
   "metadata": {},
   "source": [
    "# Generate Pairs for Zero-shot Test"
   ]
  },
  {
   "cell_type": "code",
   "execution_count": 4,
   "id": "38c2f151",
   "metadata": {},
   "outputs": [
    {
     "name": "stdout",
     "output_type": "stream",
     "text": [
      "Zero-shot test set length:  4000\n"
     ]
    }
   ],
   "source": [
    "o = pd.read_csv(\"data/unique_Omicron_2k.csv\")[\"sequence\"].tolist()\n",
    "e = pd.read_csv(\"data/unique_Eris_2k.csv\")[\"sequence\"].tolist()[:2000]\n",
    "n = pd.read_csv(\"data/unique_New_2k.csv\")[\"sequence\"].tolist()[:2000]\n",
    "\n",
    "refs = []\n",
    "seqs = []\n",
    "labels = []\n",
    "\n",
    "for i in range(len(omicron_sequences)):\n",
    "        refs.append(o[i])\n",
    "        seqs.append(e[i])\n",
    "        labels.append(CONSTANTS[\"NUM_LABELS\"]-1)\n",
    "        refs.append(o[i])\n",
    "        seqs.append(n[i])\n",
    "        labels.append(0) # 0 means both are omicron\n",
    "                \n",
    "df = pd.DataFrame({\"reference\": refs, \"sequence\": seqs, \"label\": labels})\n",
    "\n",
    "zero_test_examples = []\n",
    "for i, row in df.iterrows():\n",
    "    zero_test_examples.append(InputExample(texts=[row[\"reference\"], row[\"sequence\"]], label=row[\"label\"]))\n",
    "\n",
    "print(\"Zero-shot test set length: \", len(zero_test_examples))\n",
    "\n",
    "# create dataloader for zero-shot test set\n",
    "zero_test_dataloader = DataLoader(zero_test_examples, shuffle=False, batch_size=CONSTANTS[\"BATCH_SIZE\"])"
   ]
  },
  {
   "attachments": {},
   "cell_type": "markdown",
   "id": "0515d4ad",
   "metadata": {},
   "source": [
    "# Define Loss"
   ]
  },
  {
   "cell_type": "code",
   "execution_count": 5,
   "id": "075fce6a",
   "metadata": {},
   "outputs": [
    {
     "name": "stdout",
     "output_type": "stream",
     "text": [
      "SoftmaxLoss(\n",
      "  (model): SentenceTransformer(\n",
      "    (0): Transformer({'max_seq_length': 1280, 'do_lower_case': False}) with Transformer model: RobertaModel \n",
      "    (1): Pooling({'word_embedding_dimension': 768, 'pooling_mode_cls_token': False, 'pooling_mode_mean_tokens': False, 'pooling_mode_max_tokens': True, 'pooling_mode_global_max': False, 'pooling_mode_global_avg': False, 'pooling_mode_attention': False, 'pooling_mode_mean_sqrt_len_tokens': False, 'pooling_mode_weightedmean_tokens': False, 'pooling_mode_lasttoken': False})\n",
      "    (2): Dropout(\n",
      "      (dropout_layer): Dropout(p=0.8, inplace=False)\n",
      "    )\n",
      "    (3): Dense({'in_features': 768, 'out_features': 192, 'bias': True, 'activation_function': 'torch.nn.modules.activation.ReLU'})\n",
      "  )\n",
      "  (classifier): Linear(in_features=576, out_features=2, bias=True)\n",
      "  (loss_fct): CrossEntropyLoss()\n",
      ")\n"
     ]
    }
   ],
   "source": [
    "train_loss = losses.SoftmaxLoss(model=model, sentence_embedding_dimension=model.get_sentence_embedding_dimension(),\n",
    "                                num_labels=CONSTANTS[\"NUM_LABELS\"],\n",
    "                                conf_threshold=CONSTANTS[\"CONF_THRESHOLD\"],\n",
    "                                concatenation_sent_rep = True if \"C\" in CONSTANTS[\"CONCAT\"] else False,\n",
    "                                concatenation_sent_difference = True if \"D\" in CONSTANTS[\"CONCAT\"] else False,\n",
    "                                concatenation_sent_multiplication = True if \"M\" in CONSTANTS[\"CONCAT\"] else False)\n",
    "\n",
    "print(train_loss)"
   ]
  },
  {
   "attachments": {},
   "cell_type": "markdown",
   "id": "da1d395d",
   "metadata": {},
   "source": [
    "# Construct Evaluators"
   ]
  },
  {
   "cell_type": "code",
   "execution_count": 6,
   "id": "e6ba708b",
   "metadata": {},
   "outputs": [],
   "source": [
    "evaluator = evaluation.LabelAccuracyEvaluator(val_dataloader, softmax_model=train_loss, name=\"Eval\")\n",
    "test_evaluator = evaluation.LabelAccuracyEvaluator(test_dataloader, softmax_model=train_loss, name=\"Test\")\n",
    "zero_test_evaluator = evaluation.LabelAccuracyEvaluator(zero_test_dataloader, softmax_model=train_loss, name=\"Zero\")"
   ]
  },
  {
   "attachments": {},
   "cell_type": "markdown",
   "id": "c2f34a95",
   "metadata": {},
   "source": [
    "# Prepare Folders"
   ]
  },
  {
   "cell_type": "code",
   "execution_count": 7,
   "id": "cba622aa",
   "metadata": {},
   "outputs": [
    {
     "name": "stdout",
     "output_type": "stream",
     "text": [
      "Removed directory: ./outputs/SoftmaxLoss_omicron_vs_delta_Pmax_R0.25_D0.8_E10_LR_0.001_B32_T0.0_CD\n",
      "Created directory: ./outputs/SoftmaxLoss_omicron_vs_delta_Pmax_R0.25_D0.8_E10_LR_0.001_B32_T0.0_CD/checkpoints\n",
      "Created directory: ./outputs/SoftmaxLoss_omicron_vs_delta_Pmax_R0.25_D0.8_E10_LR_0.001_B32_T0.0_CD/stats\n"
     ]
    }
   ],
   "source": [
    "import os\n",
    "import shutil\n",
    "\n",
    "# Create output directory if needed\n",
    "output_dir = f\"./outputs/{CONSTANTS['LOSS_NAME']}_omicron_vs_{CONSTANTS['NEG_SET']}_\" \\\n",
    "                f\"P{CONSTANTS['POOLING_MODE']}_\" \\\n",
    "                f\"R{CONSTANTS['RELU']}_\" \\\n",
    "                f\"D{CONSTANTS['DROPOUT']}_\" \\\n",
    "                f\"E{CONSTANTS['EPOCHS']}_\" \\\n",
    "                f\"LR_{CONSTANTS['LR']}_\" \\\n",
    "                f\"B{CONSTANTS['BATCH_SIZE']}_\" \\\n",
    "                f\"T{CONSTANTS['CONF_THRESHOLD']}_\" \\\n",
    "                f\"{CONSTANTS['CONCAT']}\"\n",
    "\n",
    "if os.path.exists(output_dir):\n",
    "    shutil.rmtree(output_dir)\n",
    "    print(f\"Removed directory: {output_dir}\")\n",
    "\n",
    "checkpoint_dir = f\"{output_dir}/checkpoints\"\n",
    "stats_dir = f\"{output_dir}/stats\"\n",
    "\n",
    "for d in [checkpoint_dir, stats_dir]:\n",
    "    if not os.path.exists(d):\n",
    "        os.makedirs(d)\n",
    "        print(f\"Created directory: {d}\")"
   ]
  },
  {
   "attachments": {},
   "cell_type": "markdown",
   "id": "f112ebb9",
   "metadata": {},
   "source": [
    "# Run Training & Test"
   ]
  },
  {
   "cell_type": "code",
   "execution_count": 8,
   "id": "25a6df7f",
   "metadata": {},
   "outputs": [
    {
     "name": "stdout",
     "output_type": "stream",
     "text": [
      "VOC_NAMES: ['Alpha', 'Beta', 'Delta', 'Gamma', 'Omicron']\n",
      "LOSS_NAME: SoftmaxLoss\n",
      "NEG_SET: delta\n",
      "POOLING_MODE: max\n",
      "CONCAT: CD\n",
      "NUM_LABELS: 2\n",
      "CONF_THRESHOLD: 0.0\n",
      "BATCH_SIZE: 32\n",
      "EPOCHS: 10\n",
      "LR: 0.001\n",
      "RELU: 0.25\n",
      "DROPOUT: 0.8\n",
      "MARGIN: None\n"
     ]
    },
    {
     "data": {
      "application/vnd.jupyter.widget-view+json": {
       "model_id": "783382744bb74d2eb5e69042ba19fb74",
       "version_major": 2,
       "version_minor": 0
      },
      "text/plain": [
       "Epoch:   0%|          | 0/10 [00:00<?, ?it/s]"
      ]
     },
     "metadata": {},
     "output_type": "display_data"
    },
    {
     "data": {
      "application/vnd.jupyter.widget-view+json": {
       "model_id": "d1c6b599188f4193925755528312d76d",
       "version_major": 2,
       "version_minor": 0
      },
      "text/plain": [
       "Iteration:   0%|          | 0/100 [00:00<?, ?it/s]"
      ]
     },
     "metadata": {},
     "output_type": "display_data"
    },
    {
     "name": "stdout",
     "output_type": "stream",
     "text": [
      "--- Epoch 0 ---\n",
      "Train Loss = 0.6801   Train Accuracy = 0.6250\n",
      "Eval Loss  = 0.6750   Eval Accuracy  = 0.6150\n",
      "Test Loss  = 0.6747   Test Accuracy  = 0.6300\n",
      "Zero Loss  = 0.6671   Zero Accuracy  = 0.3510\n"
     ]
    },
    {
     "data": {
      "application/vnd.jupyter.widget-view+json": {
       "model_id": "189db19d3b314385bbd4e00247317877",
       "version_major": 2,
       "version_minor": 0
      },
      "text/plain": [
       "Iteration:   0%|          | 0/100 [00:00<?, ?it/s]"
      ]
     },
     "metadata": {},
     "output_type": "display_data"
    },
    {
     "name": "stdout",
     "output_type": "stream",
     "text": [
      "--- Epoch 1 ---\n",
      "Train Loss = 0.6522   Train Accuracy = 0.6875\n",
      "Eval Loss  = 0.5716   Eval Accuracy  = 0.6800\n",
      "Test Loss  = 0.5780   Test Accuracy  = 0.7150\n",
      "Zero Loss  = 0.6994   Zero Accuracy  = 0.2915\n"
     ]
    },
    {
     "data": {
      "application/vnd.jupyter.widget-view+json": {
       "model_id": "14ae155329854ee2a2a453abc75ce5d8",
       "version_major": 2,
       "version_minor": 0
      },
      "text/plain": [
       "Iteration:   0%|          | 0/100 [00:00<?, ?it/s]"
      ]
     },
     "metadata": {},
     "output_type": "display_data"
    },
    {
     "name": "stdout",
     "output_type": "stream",
     "text": [
      "--- Epoch 2 ---\n",
      "Train Loss = 0.3373   Train Accuracy = 0.9375\n",
      "Eval Loss  = 0.2835   Eval Accuracy  = 0.9075\n",
      "Test Loss  = 0.2209   Test Accuracy  = 0.8925\n",
      "Zero Loss  = 0.6423   Zero Accuracy  = 0.5600\n"
     ]
    },
    {
     "data": {
      "application/vnd.jupyter.widget-view+json": {
       "model_id": "dc2247c2ef164ab78c15e2c7d732cfbf",
       "version_major": 2,
       "version_minor": 0
      },
      "text/plain": [
       "Iteration:   0%|          | 0/100 [00:00<?, ?it/s]"
      ]
     },
     "metadata": {},
     "output_type": "display_data"
    },
    {
     "name": "stdout",
     "output_type": "stream",
     "text": [
      "--- Epoch 3 ---\n",
      "Train Loss = 0.0422   Train Accuracy = 1.0000\n",
      "Eval Loss  = 0.1372   Eval Accuracy  = 0.9600\n",
      "Test Loss  = 0.0401   Test Accuracy  = 0.9425\n",
      "Zero Loss  = 0.9939   Zero Accuracy  = 0.5700\n"
     ]
    },
    {
     "data": {
      "application/vnd.jupyter.widget-view+json": {
       "model_id": "2bca58d22f8b49ed890e30383ba00df2",
       "version_major": 2,
       "version_minor": 0
      },
      "text/plain": [
       "Iteration:   0%|          | 0/100 [00:00<?, ?it/s]"
      ]
     },
     "metadata": {},
     "output_type": "display_data"
    },
    {
     "name": "stdout",
     "output_type": "stream",
     "text": [
      "--- Epoch 4 ---\n",
      "Train Loss = 0.4047   Train Accuracy = 0.9062\n",
      "Eval Loss  = 0.4670   Eval Accuracy  = 0.9000\n",
      "Test Loss  = 0.5132   Test Accuracy  = 0.9025\n",
      "Zero Loss  = 2.1295   Zero Accuracy  = 0.4970\n"
     ]
    },
    {
     "data": {
      "application/vnd.jupyter.widget-view+json": {
       "model_id": "502fb1e81c9d45b393cad73bd147f9f3",
       "version_major": 2,
       "version_minor": 0
      },
      "text/plain": [
       "Iteration:   0%|          | 0/100 [00:00<?, ?it/s]"
      ]
     },
     "metadata": {},
     "output_type": "display_data"
    },
    {
     "name": "stdout",
     "output_type": "stream",
     "text": [
      "--- Epoch 5 ---\n",
      "Train Loss = 0.4039   Train Accuracy = 0.9375\n",
      "Eval Loss  = 0.1419   Eval Accuracy  = 0.9550\n",
      "Test Loss  = 0.2891   Test Accuracy  = 0.9500\n",
      "Zero Loss  = 0.9833   Zero Accuracy  = 0.7358\n"
     ]
    },
    {
     "data": {
      "application/vnd.jupyter.widget-view+json": {
       "model_id": "c806c6a8a4dc4efebb5579015bcc0e2d",
       "version_major": 2,
       "version_minor": 0
      },
      "text/plain": [
       "Iteration:   0%|          | 0/100 [00:00<?, ?it/s]"
      ]
     },
     "metadata": {},
     "output_type": "display_data"
    },
    {
     "name": "stdout",
     "output_type": "stream",
     "text": [
      "--- Epoch 6 ---\n",
      "Train Loss = 0.0007   Train Accuracy = 1.0000\n",
      "Eval Loss  = 0.0140   Eval Accuracy  = 0.9750\n",
      "Test Loss  = 0.3975   Test Accuracy  = 0.9625\n",
      "Zero Loss  = 1.3047   Zero Accuracy  = 0.5105\n"
     ]
    },
    {
     "data": {
      "application/vnd.jupyter.widget-view+json": {
       "model_id": "57bbff0b6f7a4a57bfde4a5bff2a30a7",
       "version_major": 2,
       "version_minor": 0
      },
      "text/plain": [
       "Iteration:   0%|          | 0/100 [00:00<?, ?it/s]"
      ]
     },
     "metadata": {},
     "output_type": "display_data"
    },
    {
     "name": "stdout",
     "output_type": "stream",
     "text": [
      "--- Epoch 7 ---\n",
      "Train Loss = 0.0007   Train Accuracy = 1.0000\n",
      "Eval Loss  = 0.0067   Eval Accuracy  = 0.9600\n",
      "Test Loss  = 0.4016   Test Accuracy  = 0.9550\n",
      "Zero Loss  = 2.0465   Zero Accuracy  = 0.5192\n"
     ]
    },
    {
     "data": {
      "application/vnd.jupyter.widget-view+json": {
       "model_id": "7ecfc1a8cc9b4e5d820f2e55ddb637a0",
       "version_major": 2,
       "version_minor": 0
      },
      "text/plain": [
       "Iteration:   0%|          | 0/100 [00:00<?, ?it/s]"
      ]
     },
     "metadata": {},
     "output_type": "display_data"
    },
    {
     "name": "stdout",
     "output_type": "stream",
     "text": [
      "--- Epoch 8 ---\n",
      "Train Loss = 0.0007   Train Accuracy = 1.0000\n",
      "Eval Loss  = 0.0375   Eval Accuracy  = 0.9575\n",
      "Test Loss  = 0.4095   Test Accuracy  = 0.9575\n",
      "Zero Loss  = 3.3009   Zero Accuracy  = 0.4878\n"
     ]
    },
    {
     "data": {
      "application/vnd.jupyter.widget-view+json": {
       "model_id": "75e64388a3014536a986c443147aefa1",
       "version_major": 2,
       "version_minor": 0
      },
      "text/plain": [
       "Iteration:   0%|          | 0/100 [00:00<?, ?it/s]"
      ]
     },
     "metadata": {},
     "output_type": "display_data"
    },
    {
     "name": "stdout",
     "output_type": "stream",
     "text": [
      "--- Epoch 9 ---\n",
      "Train Loss = 0.0004   Train Accuracy = 1.0000\n",
      "Eval Loss  = 0.0252   Eval Accuracy  = 0.9550\n",
      "Test Loss  = 0.4659   Test Accuracy  = 0.9475\n",
      "Zero Loss  = 1.7012   Zero Accuracy  = 0.6515\n"
     ]
    }
   ],
   "source": [
    "# print CONSTANTS\n",
    "for k, v in CONSTANTS.items():\n",
    "    print(f\"{k}: {v}\")\n",
    "\n",
    "model.fit(train_objectives=[(train_dataloader, train_loss)],\n",
    "          evaluator=evaluator,\n",
    "          tester=test_evaluator,\n",
    "          zero_shot_tester=zero_test_evaluator,\n",
    "          epochs=CONSTANTS[\"EPOCHS\"],\n",
    "          optimizer_params= {'lr': CONSTANTS[\"LR\"]}, # 1e-3 for CoV-RoBERTa, 1e-6 for ProtBERT\n",
    "          weight_decay=0.1, # 0.1 for CoV-RoBERTa, 0.01 for ProtBERT\n",
    "          #evaluation_steps=eval_iter,\n",
    "          output_path=output_dir,\n",
    "          save_best_model=True,\n",
    "          #checkpoint_path=checkpoint_dir,\n",
    "          #checkpoint_save_steps=len(train_dataloader), # save a checkpoint every epoch\n",
    "          #checkpoint_save_total_limit=10000,\n",
    "          show_progress_bar=True,\n",
    "          loss_name=CONSTANTS[\"LOSS_NAME\"])"
   ]
  },
  {
   "attachments": {},
   "cell_type": "markdown",
   "id": "ce2b738f",
   "metadata": {},
   "source": [
    "# Display Stats"
   ]
  },
  {
   "cell_type": "code",
   "execution_count": 9,
   "id": "e7921a11",
   "metadata": {},
   "outputs": [
    {
     "data": {
      "text/html": [
       "<div>\n",
       "<style scoped>\n",
       "    .dataframe tbody tr th:only-of-type {\n",
       "        vertical-align: middle;\n",
       "    }\n",
       "\n",
       "    .dataframe tbody tr th {\n",
       "        vertical-align: top;\n",
       "    }\n",
       "\n",
       "    .dataframe thead th {\n",
       "        text-align: right;\n",
       "    }\n",
       "</style>\n",
       "<table border=\"1\" class=\"dataframe\">\n",
       "  <thead>\n",
       "    <tr style=\"text-align: right;\">\n",
       "      <th></th>\n",
       "      <th>LOSS_NAME</th>\n",
       "      <th>NEG_SET</th>\n",
       "      <th>POOLING_MODE</th>\n",
       "      <th>CONCAT</th>\n",
       "      <th>NUM_LABELS</th>\n",
       "      <th>CONF_THRESHOLD</th>\n",
       "      <th>BATCH_SIZE</th>\n",
       "      <th>EPOCHS</th>\n",
       "      <th>LR</th>\n",
       "      <th>RELU</th>\n",
       "      <th>DROPOUT</th>\n",
       "      <th>MARGIN</th>\n",
       "      <th>MAX_TEST_ACC</th>\n",
       "      <th>MAX_ZERO_ACC</th>\n",
       "    </tr>\n",
       "  </thead>\n",
       "  <tbody>\n",
       "    <tr>\n",
       "      <th>0</th>\n",
       "      <td>SoftmaxLoss</td>\n",
       "      <td>delta</td>\n",
       "      <td>max</td>\n",
       "      <td>CD</td>\n",
       "      <td>2</td>\n",
       "      <td>0.0</td>\n",
       "      <td>32</td>\n",
       "      <td>10</td>\n",
       "      <td>0.001</td>\n",
       "      <td>0.25</td>\n",
       "      <td>0.8</td>\n",
       "      <td>None</td>\n",
       "      <td>0.9625</td>\n",
       "      <td>0.7358</td>\n",
       "    </tr>\n",
       "  </tbody>\n",
       "</table>\n",
       "</div>"
      ],
      "text/plain": [
       "     LOSS_NAME NEG_SET POOLING_MODE CONCAT  NUM_LABELS  CONF_THRESHOLD  \\\n",
       "0  SoftmaxLoss   delta          max     CD           2             0.0   \n",
       "\n",
       "   BATCH_SIZE  EPOCHS     LR  RELU  DROPOUT MARGIN  MAX_TEST_ACC  MAX_ZERO_ACC  \n",
       "0          32      10  0.001  0.25      0.8   None        0.9625        0.7358  "
      ]
     },
     "metadata": {},
     "output_type": "display_data"
    }
   ],
   "source": [
    "# read loss values from csv:\n",
    "f_train_stats = os.path.join(stats_dir, 'Train.csv')\n",
    "f_eval_stats = os.path.join(stats_dir, 'Eval.csv')\n",
    "f_test_stats = os.path.join(stats_dir, 'Test.csv')\n",
    "f_zero_stats = os.path.join(stats_dir, 'Zero.csv')\n",
    "\n",
    "train_stats = pd.read_csv(f_train_stats)\n",
    "eval_stats = pd.read_csv(f_eval_stats)\n",
    "test_stats = pd.read_csv(f_test_stats)\n",
    "zero_stats = pd.read_csv(f_zero_stats)\n",
    "\n",
    "best_test_acc = test_stats[\"accuracy\"].max()\n",
    "best_zero_acc = zero_stats[\"accuracy\"].max()\n",
    "\n",
    "# create a dataframe with CONSTANTS and best accuracies\n",
    "df = pd.DataFrame()\n",
    "for k, v in CONSTANTS.items():\n",
    "    if k not in [\"VOC_NAMES\"]:\n",
    "        df[k] = [v] # if v is not None else [\"N/A\"]\n",
    "\n",
    "df[\"MAX_TEST_ACC\"] = best_test_acc\n",
    "df[\"MAX_ZERO_ACC\"] = best_zero_acc\n",
    "\n",
    "display(df)\n",
    "\n",
    "# save the dataframe to a csv file under stats_dir\n",
    "df.to_csv(os.path.join(stats_dir, \"summary.csv\"), index=False)\n",
    "\n",
    "# append row to global_stats.csv\n",
    "if not os.path.exists(\"global_stats.csv\") or os.path.getsize(\"global_stats.csv\") == 0:\n",
    "    df.to_csv(\"global_stats.csv\", index=False)\n",
    "else:\n",
    "    global_stats = pd.read_csv(\"global_stats.csv\")\n",
    "    global_stats = pd.concat([global_stats, df], ignore_index=True)\n",
    "    global_stats.to_csv(\"global_stats.csv\", index=False)"
   ]
  },
  {
   "cell_type": "code",
   "execution_count": 10,
   "id": "34715b67",
   "metadata": {},
   "outputs": [
    {
     "data": {
      "image/png": "[encoded data removed]",
      "text/plain": [
       "<Figure size 1080x360 with 2 Axes>"
      ]
     },
     "metadata": {
      "needs_background": "light"
     },
     "output_type": "display_data"
    }
   ],
   "source": [
    "# Plot the training and validation loss and accuracy\n",
    "import matplotlib.pyplot as plt\n",
    "\n",
    "# plot loss and accuracy figures side by side\n",
    "fig, axs = plt.subplots(1, 2, figsize=(15, 5))\n",
    "axs[0].plot(train_stats[\"epoch\"], train_stats[\"loss\"], label=\"Training\")\n",
    "axs[0].plot(eval_stats[\"epoch\"], eval_stats[\"loss\"], label=\"Validation\")\n",
    "axs[0].plot(test_stats[\"epoch\"], test_stats[\"loss\"], label=\"Test\")\n",
    "axs[0].plot(zero_stats[\"epoch\"], zero_stats[\"loss\"], label=\"Zero-shot\")\n",
    "\n",
    "axs[0].set_xlabel(\"Epoch\")\n",
    "axs[0].set_ylabel(\"Loss\")\n",
    "axs[0].legend()\n",
    "axs[1].plot(train_stats[\"epoch\"], train_stats[\"accuracy\"], label=\"Training\")\n",
    "axs[1].plot(eval_stats[\"epoch\"], eval_stats[\"accuracy\"], label=\"Validation\")\n",
    "axs[1].plot(test_stats[\"epoch\"], test_stats[\"accuracy\"], label=\"Test\")\n",
    "axs[1].plot(zero_stats[\"epoch\"], zero_stats[\"accuracy\"], label=\"Zero-shot\")\n",
    "\n",
    "axs[1].set_xlabel(\"Epoch\")\n",
    "axs[1].set_ylabel(\"Accuracy\")\n",
    "axs[1].legend()\n",
    "plt.tight_layout()\n",
    "#save as pdf\n",
    "plt.savefig(os.path.join(stats_dir, \"plot.pdf\"))\n",
    "plt.show()"
   ]
  },
  {
   "attachments": {},
   "cell_type": "markdown",
   "id": "0edd3416",
   "metadata": {},
   "source": [
    "# Test Run Using Best Model"
   ]
  },
  {
   "cell_type": "code",
   "execution_count": 11,
   "id": "7e4f5fb7",
   "metadata": {},
   "outputs": [],
   "source": [
    "# # load best model\n",
    "# best_model = SentenceTransformer(f\"{output_dir}/best_model\")\n",
    "# loss_model = losses.SoftmaxLoss(model=best_model, sentence_embedding_dimension=best_model.get_sentence_embedding_dimension(),\n",
    "#                                 num_labels=CONSTANTS[\"NUM_LABELS\"],\n",
    "#                                 conf_threshold=CONSTANTS[\"CONF_THRESHOLD\"],\n",
    "#                                 concatenation_sent_rep = True if \"C\" in CONSTANTS[\"CONCAT\"] else False,\n",
    "#                                 concatenation_sent_difference = True if \"D\" in CONSTANTS[\"CONCAT\"] else False,\n",
    "#                                 concatenation_sent_multiplication = True if \"M\" in CONSTANTS[\"CONCAT\"] else False)\n",
    "\n",
    "# print(loss_model)\n",
    "\n",
    "# # Load the state dictionary from the file\n",
    "# state_dict = torch.load(f\"{output_dir}/softmax_model_checkpoints/best.pt\")\n",
    "\n",
    "# # Load the state dictionary into the model\n",
    "# loss_model.load_state_dict(state_dict, strict=True)\n",
    "\n",
    "# best_model.to(\"cuda\")\n",
    "# loss_model.to(\"cuda\")\n",
    "\n",
    "# test_acc = best_model.evaluate(test_evaluator)\n",
    "# zero_acc = best_model.evaluate(zero_test_evaluator)\n",
    "\n",
    "# print(f\"Test accuracy: {test_acc}\")\n",
    "# print(f\"Zero-shot accuracy: {zero_acc}\")\n"
   ]
  },
  {
   "cell_type": "code",
   "execution_count": null,
   "id": "deb54e5c",
   "metadata": {},
   "outputs": [],
   "source": []
  }
 ],
 "metadata": {
  "kernelspec": {
   "display_name": "Python 3",
   "language": "python",
   "name": "python3"
  },
  "language_info": {
   "codemirror_mode": {
    "name": "ipython",
    "version": 3
   },
   "file_extension": ".py",
   "mimetype": "text/x-python",
   "name": "python",
   "nbconvert_exporter": "python",
   "pygments_lexer": "ipython3",
   "version": "3.8.16"
  }
 },
 "nbformat": 4,
 "nbformat_minor": 5
}
