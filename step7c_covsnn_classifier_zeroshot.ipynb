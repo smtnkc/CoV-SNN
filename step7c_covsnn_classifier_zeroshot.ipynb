{
 "cells": [
  {
   "cell_type": "code",
   "execution_count": 1,
   "id": "b5e3bf08",
   "metadata": {},
   "outputs": [],
   "source": [
    "import os\n",
    "import pandas as pd\n",
    "import torch\n",
    "from torch import nn\n",
    "from torch.utils.data import DataLoader\n",
    "from tqdm.notebook import tqdm\n",
    "from sentence_transformers import SentenceTransformer, models, LoggingHandler, InputExample, losses, evaluation\n",
    "from sentence_transformers.losses import SiameseDistanceMetric\n",
    "import numpy as np\n",
    "import random\n",
    "seed = 42\n",
    "torch.manual_seed(seed)\n",
    "random.seed(seed)\n",
    "np.random.seed(seed)\n",
    "torch.backends.cudnn.deterministic = True\n",
    "torch.backends.cudnn.benchmark = False\n",
    "\n",
    "VOC_NAMES = [\"Alpha\", \"Beta\", \"Delta\", \"Gamma\", \"Omicron\"]\n",
    "LOSS_NAME = \"SoftmaxLoss\"\n",
    "POOLING_MODE = \"cls\""
   ]
  },
  {
   "cell_type": "code",
   "execution_count": 2,
   "id": "805e9f14",
   "metadata": {},
   "outputs": [
    {
     "name": "stderr",
     "output_type": "stream",
     "text": [
      "Some weights of the model checkpoint at ./mlm_checkpoints/CoV-RoBERTa_2048 were not used when initializing RobertaModel: ['lm_head.bias', 'lm_head.layer_norm.weight', 'lm_head.layer_norm.bias', 'lm_head.dense.weight', 'lm_head.dense.bias']\n",
      "- This IS expected if you are initializing RobertaModel from the checkpoint of a model trained on another task or with another architecture (e.g. initializing a BertForSequenceClassification model from a BertForPreTraining model).\n",
      "- This IS NOT expected if you are initializing RobertaModel from the checkpoint of a model that you expect to be exactly identical (initializing a BertForSequenceClassification model from a BertForSequenceClassification model).\n",
      "Some weights of RobertaModel were not initialized from the model checkpoint at ./mlm_checkpoints/CoV-RoBERTa_2048 and are newly initialized: ['roberta.pooler.dense.weight', 'roberta.pooler.dense.bias']\n",
      "You should probably TRAIN this model on a down-stream task to be able to use it for predictions and inference.\n"
     ]
    }
   ],
   "source": [
    "#word_embedding_model = models.Transformer(model_name_or_path=\"Rostlab/prot_bert\", max_seq_length=1280)\n",
    "\n",
    "encoder = models.Transformer(model_name_or_path=\"./mlm_checkpoints/CoV-RoBERTa_2048\",\n",
    "                                          max_seq_length=1280,\n",
    "                                          tokenizer_name_or_path=\"tok/\")\n",
    "\n",
    "pooler = models.Pooling(encoder.get_word_embedding_dimension(), pooling_mode = POOLING_MODE)\n",
    "\n",
    "\n",
    "model = SentenceTransformer(modules=[encoder, pooler])"
   ]
  },
  {
   "attachments": {},
   "cell_type": "markdown",
   "id": "5073d929",
   "metadata": {},
   "source": [
    "# Load Dataset"
   ]
  },
  {
   "cell_type": "code",
   "execution_count": 3,
   "id": "8feefe76",
   "metadata": {},
   "outputs": [
    {
     "name": "stdout",
     "output_type": "stream",
     "text": [
      "10000\n",
      "1623\n"
     ]
    }
   ],
   "source": [
    "sequences = []\n",
    "for voc_name in VOC_NAMES:\n",
    "    sequences.append(pd.read_csv(f\"data/unique_{voc_name}_2k.csv\")[\"sequence\"].tolist())\n",
    "\n",
    "# read a sequence from txt file\n",
    "with open(\"data/wildtype.txt\", \"r\") as file:\n",
    "    wildtype = file.read()\n",
    "\n",
    "# create dataframe using sequences\n",
    "df = pd.DataFrame()\n",
    "df[\"reference\"] = [wildtype for _ in range(10000)]\n",
    "df[\"sequence\"] = [item for sublist in sequences for item in sublist]\n",
    "df[\"label\"] = [i for i in range(len(VOC_NAMES)) for _ in range(2000)]\n",
    "\n",
    "# write to csv\n",
    "df.to_csv(\"data/combined_with_wt_10k.csv\", index=False)\n",
    "\n",
    "eris_sequences = pd.read_csv(\"data/unique_Eris_2k.csv\")[\"sequence\"].tolist()\n",
    "\n",
    "df_eris = pd.DataFrame()\n",
    "df_eris[\"reference\"] = [wildtype for _ in range(len(eris_sequences))]\n",
    "df_eris[\"sequence\"] = eris_sequences\n",
    "df_eris[\"label\"] = [5 for _ in range(len(eris_sequences))]\n",
    "\n",
    "print(len(df))\n",
    "print(len(df_eris))"
   ]
  },
  {
   "cell_type": "code",
   "execution_count": 4,
   "id": "f5b55166",
   "metadata": {},
   "outputs": [
    {
     "name": "stdout",
     "output_type": "stream",
     "text": [
      "8000\n",
      "1000\n",
      "1400\n"
     ]
    }
   ],
   "source": [
    "# split the data into train, dev, and test stratified by label\n",
    "from sklearn.model_selection import train_test_split\n",
    "\n",
    "df_train, df_dev = train_test_split(df, test_size=0.2, random_state=seed, stratify=df[\"label\"])\n",
    "df_dev, df_test = train_test_split(df_dev, test_size=0.5, random_state=seed, stratify=df_dev[\"label\"])\n",
    "\n",
    "train_examples = []\n",
    "for i, row in df_train.iterrows():\n",
    "    train_examples.append(InputExample(texts=[row[\"reference\"], row[\"sequence\"]], label=row[\"label\"]))\n",
    "\n",
    "dev_examples = []\n",
    "for i, row in df_dev.iterrows():\n",
    "    dev_examples.append(InputExample(texts=[row[\"reference\"], row[\"sequence\"]], label=row[\"label\"]))\n",
    "\n",
    "# sample 400 rows from eris and concat to df_test\n",
    "df_test = pd.concat([df_test, df_eris.sample(n=400, random_state=seed)])\n",
    "# shuffle the dataframe\n",
    "df_test = df_test.sample(frac=1, random_state=seed).reset_index(drop=True)\n",
    "\n",
    "test_examples = []\n",
    "for i, row in df_test.iterrows():\n",
    "    test_examples.append(InputExample(texts=[row[\"reference\"], row[\"sequence\"]], label=row[\"label\"]))\n",
    "\n",
    "print(len(train_examples))\n",
    "print(len(dev_examples))\n",
    "print(len(test_examples))"
   ]
  },
  {
   "cell_type": "code",
   "execution_count": 5,
   "id": "d49a89c8",
   "metadata": {},
   "outputs": [],
   "source": [
    "batch_size = 200\n",
    "train_dataloader = DataLoader(train_examples, shuffle=True, batch_size=batch_size)\n",
    "dev_dataloader = DataLoader(dev_examples, shuffle=False, batch_size=batch_size)\n",
    "test_dataloader = DataLoader(test_examples, shuffle=False, batch_size=batch_size)"
   ]
  },
  {
   "cell_type": "code",
   "execution_count": 6,
   "id": "075fce6a",
   "metadata": {},
   "outputs": [
    {
     "name": "stdout",
     "output_type": "stream",
     "text": [
      "Softmax loss: #Vectors concatenated: 3\n"
     ]
    }
   ],
   "source": [
    "train_loss = losses.SoftmaxLoss(model=model, sentence_embedding_dimension=model.get_sentence_embedding_dimension(), num_labels=6)"
   ]
  },
  {
   "cell_type": "code",
   "execution_count": 7,
   "id": "e6ba708b",
   "metadata": {},
   "outputs": [],
   "source": [
    "evaluator = evaluation.LabelAccuracyEvaluator(dev_dataloader, softmax_model=train_loss, name=\"validation\")"
   ]
  },
  {
   "cell_type": "code",
   "execution_count": 8,
   "id": "cba622aa",
   "metadata": {},
   "outputs": [],
   "source": [
    "import os\n",
    "\n",
    "# Create output directory if needed\n",
    "output_dir = f\"./{LOSS_NAME}_output_{POOLING_MODE}_zeroshot\"\n",
    "checkpoint_dir = f\"{output_dir}/checkpoints\"\n",
    "evaluator_dir = f\"{output_dir}/eval\"\n",
    "\n",
    "if not os.path.exists(output_dir):\n",
    "    os.makedirs(output_dir)\n",
    "if not os.path.exists(checkpoint_dir):\n",
    "    os.makedirs(checkpoint_dir)\n",
    "if not os.path.exists(evaluator_dir):\n",
    "    os.makedirs(evaluator_dir)\n",
    "\n",
    "# read loss values from csv:\n",
    "train_results_file = os.path.join(output_dir, 'eval', 'training_results.csv')\n",
    "val_results_file = os.path.join(output_dir, 'eval', 'validation_results.csv')"
   ]
  },
  {
   "cell_type": "code",
   "execution_count": 9,
   "id": "e690e22f",
   "metadata": {},
   "outputs": [
    {
     "name": "stdout",
     "output_type": "stream",
     "text": [
      "File ./SoftmaxLoss_output_cls_zeroshot/eval/training_results.csv deleted successfully.\n",
      "File ./SoftmaxLoss_output_cls_zeroshot/eval/validation_results.csv deleted successfully.\n",
      "File ./SoftmaxLoss_output_cls_zeroshot/eval/test_preds.csv deleted successfully.\n"
     ]
    }
   ],
   "source": [
    "# Check if the file exists before attempting to delete\n",
    "if os.path.exists(train_results_file):\n",
    "    try:\n",
    "        # Attempt to remove the file\n",
    "        os.remove(train_results_file)\n",
    "        print(f\"File {train_results_file} deleted successfully.\")\n",
    "    except Exception as e:\n",
    "        print(f\"An error occurred: {e}\")\n",
    "else:\n",
    "    print(f\"File {train_results_file} does not exist.\")\n",
    "\n",
    "# Check if the file exists before attempting to delete\n",
    "if os.path.exists(val_results_file):\n",
    "    try:\n",
    "        # Attempt to remove the file\n",
    "        os.remove(val_results_file)\n",
    "        print(f\"File {val_results_file} deleted successfully.\")\n",
    "    except Exception as e:\n",
    "        print(f\"An error occurred: {e}\")\n",
    "else:\n",
    "    print(f\"File {val_results_file} does not exist.\")\n",
    "\n",
    "\n",
    "if os.path.exists(os.path.join(output_dir, 'eval', 'test_preds.csv')):\n",
    "    try:\n",
    "        # Attempt to remove the file\n",
    "        os.remove(os.path.join(output_dir, 'eval', 'test_preds.csv'))\n",
    "        print(f\"File {os.path.join(output_dir, 'eval', 'test_preds.csv')} deleted successfully.\")\n",
    "    except Exception as e:\n",
    "        print(f\"An error occurred: {e}\")\n",
    "else:\n",
    "    print(f\"File {os.path.join(output_dir, 'eval', 'test_preds.csv')} does not exist.\")"
   ]
  },
  {
   "cell_type": "code",
   "execution_count": 10,
   "id": "25a6df7f",
   "metadata": {},
   "outputs": [
    {
     "data": {
      "application/vnd.jupyter.widget-view+json": {
       "model_id": "74941267f0ec4a1fb1e2bf38e010d487",
       "version_major": 2,
       "version_minor": 0
      },
      "text/plain": [
       "Epoch:   0%|          | 0/30 [00:00<?, ?it/s]"
      ]
     },
     "metadata": {},
     "output_type": "display_data"
    },
    {
     "data": {
      "application/vnd.jupyter.widget-view+json": {
       "model_id": "12cc562c1f164977ace65f44d16d2ff7",
       "version_major": 2,
       "version_minor": 0
      },
      "text/plain": [
       "Iteration:   0%|          | 0/40 [00:00<?, ?it/s]"
      ]
     },
     "metadata": {},
     "output_type": "display_data"
    },
    {
     "name": "stdout",
     "output_type": "stream",
     "text": [
      "--- Epoch 0 ---\n",
      "Train Loss = 1.5586   Train Accuracy = 37.0000\n",
      "Valid Loss = 0.01   Valid Accuracy = 37.20\n"
     ]
    },
    {
     "data": {
      "application/vnd.jupyter.widget-view+json": {
       "model_id": "f826c94fcd9947a5b0cd003c4bffee5c",
       "version_major": 2,
       "version_minor": 0
      },
      "text/plain": [
       "Iteration:   0%|          | 0/40 [00:00<?, ?it/s]"
      ]
     },
     "metadata": {},
     "output_type": "display_data"
    },
    {
     "name": "stdout",
     "output_type": "stream",
     "text": [
      "--- Epoch 1 ---\n",
      "Train Loss = 1.2594   Train Accuracy = 49.0000\n",
      "Valid Loss = 0.01   Valid Accuracy = 52.70\n"
     ]
    },
    {
     "data": {
      "application/vnd.jupyter.widget-view+json": {
       "model_id": "223500144e484417843e3a542fe71770",
       "version_major": 2,
       "version_minor": 0
      },
      "text/plain": [
       "Iteration:   0%|          | 0/40 [00:00<?, ?it/s]"
      ]
     },
     "metadata": {},
     "output_type": "display_data"
    },
    {
     "name": "stdout",
     "output_type": "stream",
     "text": [
      "--- Epoch 2 ---\n",
      "Train Loss = 0.7848   Train Accuracy = 71.5000\n",
      "Valid Loss = 0.00   Valid Accuracy = 72.50\n"
     ]
    },
    {
     "data": {
      "application/vnd.jupyter.widget-view+json": {
       "model_id": "0bff3bc998ef4217a7b70414d7b90761",
       "version_major": 2,
       "version_minor": 0
      },
      "text/plain": [
       "Iteration:   0%|          | 0/40 [00:00<?, ?it/s]"
      ]
     },
     "metadata": {},
     "output_type": "display_data"
    },
    {
     "name": "stdout",
     "output_type": "stream",
     "text": [
      "--- Epoch 3 ---\n",
      "Train Loss = 0.4654   Train Accuracy = 82.0000\n",
      "Valid Loss = 0.00   Valid Accuracy = 85.10\n"
     ]
    },
    {
     "data": {
      "application/vnd.jupyter.widget-view+json": {
       "model_id": "47aee10b8a3c4cd3afc1415304aae4db",
       "version_major": 2,
       "version_minor": 0
      },
      "text/plain": [
       "Iteration:   0%|          | 0/40 [00:00<?, ?it/s]"
      ]
     },
     "metadata": {},
     "output_type": "display_data"
    },
    {
     "name": "stdout",
     "output_type": "stream",
     "text": [
      "--- Epoch 4 ---\n",
      "Train Loss = 0.2239   Train Accuracy = 92.5000\n",
      "Valid Loss = 0.00   Valid Accuracy = 90.80\n"
     ]
    },
    {
     "data": {
      "application/vnd.jupyter.widget-view+json": {
       "model_id": "7e265537635347a5ad6c14ba7a785490",
       "version_major": 2,
       "version_minor": 0
      },
      "text/plain": [
       "Iteration:   0%|          | 0/40 [00:00<?, ?it/s]"
      ]
     },
     "metadata": {},
     "output_type": "display_data"
    },
    {
     "name": "stdout",
     "output_type": "stream",
     "text": [
      "--- Epoch 5 ---\n",
      "Train Loss = 0.0926   Train Accuracy = 97.0000\n",
      "Valid Loss = 0.00   Valid Accuracy = 92.00\n"
     ]
    },
    {
     "data": {
      "application/vnd.jupyter.widget-view+json": {
       "model_id": "15a9363daa77429fa0d99155048b0c2a",
       "version_major": 2,
       "version_minor": 0
      },
      "text/plain": [
       "Iteration:   0%|          | 0/40 [00:00<?, ?it/s]"
      ]
     },
     "metadata": {},
     "output_type": "display_data"
    },
    {
     "name": "stdout",
     "output_type": "stream",
     "text": [
      "--- Epoch 6 ---\n",
      "Train Loss = 0.0327   Train Accuracy = 99.0000\n",
      "Valid Loss = 0.00   Valid Accuracy = 95.70\n"
     ]
    },
    {
     "data": {
      "application/vnd.jupyter.widget-view+json": {
       "model_id": "d875674eb0e842d7ac8eb5ef8e8030c3",
       "version_major": 2,
       "version_minor": 0
      },
      "text/plain": [
       "Iteration:   0%|          | 0/40 [00:00<?, ?it/s]"
      ]
     },
     "metadata": {},
     "output_type": "display_data"
    },
    {
     "name": "stdout",
     "output_type": "stream",
     "text": [
      "--- Epoch 7 ---\n",
      "Train Loss = 0.0304   Train Accuracy = 99.0000\n",
      "Valid Loss = 0.00   Valid Accuracy = 95.30\n"
     ]
    },
    {
     "data": {
      "application/vnd.jupyter.widget-view+json": {
       "model_id": "650a60eb1e204a90b851ad13f17db59d",
       "version_major": 2,
       "version_minor": 0
      },
      "text/plain": [
       "Iteration:   0%|          | 0/40 [00:00<?, ?it/s]"
      ]
     },
     "metadata": {},
     "output_type": "display_data"
    },
    {
     "name": "stdout",
     "output_type": "stream",
     "text": [
      "--- Epoch 8 ---\n",
      "Train Loss = 0.0139   Train Accuracy = 99.5000\n",
      "Valid Loss = 0.00   Valid Accuracy = 96.10\n"
     ]
    },
    {
     "data": {
      "application/vnd.jupyter.widget-view+json": {
       "model_id": "a5ec74f7d109491284aacac86bee1c9e",
       "version_major": 2,
       "version_minor": 0
      },
      "text/plain": [
       "Iteration:   0%|          | 0/40 [00:00<?, ?it/s]"
      ]
     },
     "metadata": {},
     "output_type": "display_data"
    },
    {
     "name": "stdout",
     "output_type": "stream",
     "text": [
      "--- Epoch 9 ---\n",
      "Train Loss = 0.0044   Train Accuracy = 100.0000\n",
      "Valid Loss = 0.00   Valid Accuracy = 97.00\n"
     ]
    },
    {
     "data": {
      "application/vnd.jupyter.widget-view+json": {
       "model_id": "807f9111f4204a6f8ea34b24b40f5dcc",
       "version_major": 2,
       "version_minor": 0
      },
      "text/plain": [
       "Iteration:   0%|          | 0/40 [00:00<?, ?it/s]"
      ]
     },
     "metadata": {},
     "output_type": "display_data"
    },
    {
     "name": "stdout",
     "output_type": "stream",
     "text": [
      "--- Epoch 10 ---\n",
      "Train Loss = 0.0039   Train Accuracy = 100.0000\n",
      "Valid Loss = 0.00   Valid Accuracy = 97.70\n"
     ]
    },
    {
     "data": {
      "application/vnd.jupyter.widget-view+json": {
       "model_id": "e3f1728ce9ea4aa684ea9ae543fe0f56",
       "version_major": 2,
       "version_minor": 0
      },
      "text/plain": [
       "Iteration:   0%|          | 0/40 [00:00<?, ?it/s]"
      ]
     },
     "metadata": {},
     "output_type": "display_data"
    },
    {
     "name": "stdout",
     "output_type": "stream",
     "text": [
      "--- Epoch 11 ---\n",
      "Train Loss = 0.0051   Train Accuracy = 99.5000\n",
      "Valid Loss = 0.00   Valid Accuracy = 98.20\n"
     ]
    },
    {
     "data": {
      "application/vnd.jupyter.widget-view+json": {
       "model_id": "a932155e61e84222a40f4b4d242daa3d",
       "version_major": 2,
       "version_minor": 0
      },
      "text/plain": [
       "Iteration:   0%|          | 0/40 [00:00<?, ?it/s]"
      ]
     },
     "metadata": {},
     "output_type": "display_data"
    },
    {
     "name": "stdout",
     "output_type": "stream",
     "text": [
      "--- Epoch 12 ---\n",
      "Train Loss = 0.0011   Train Accuracy = 100.0000\n",
      "Valid Loss = 0.00   Valid Accuracy = 97.30\n"
     ]
    },
    {
     "data": {
      "application/vnd.jupyter.widget-view+json": {
       "model_id": "8a865f5afb1a457da28b6b7ab2e79749",
       "version_major": 2,
       "version_minor": 0
      },
      "text/plain": [
       "Iteration:   0%|          | 0/40 [00:00<?, ?it/s]"
      ]
     },
     "metadata": {},
     "output_type": "display_data"
    },
    {
     "name": "stdout",
     "output_type": "stream",
     "text": [
      "--- Epoch 13 ---\n",
      "Train Loss = 0.0009   Train Accuracy = 100.0000\n",
      "Valid Loss = 0.00   Valid Accuracy = 97.70\n"
     ]
    },
    {
     "data": {
      "application/vnd.jupyter.widget-view+json": {
       "model_id": "7be3e193d53548a089bf675b66dcf2f0",
       "version_major": 2,
       "version_minor": 0
      },
      "text/plain": [
       "Iteration:   0%|          | 0/40 [00:00<?, ?it/s]"
      ]
     },
     "metadata": {},
     "output_type": "display_data"
    },
    {
     "name": "stdout",
     "output_type": "stream",
     "text": [
      "--- Epoch 14 ---\n",
      "Train Loss = 0.0306   Train Accuracy = 99.5000\n",
      "Valid Loss = 0.00   Valid Accuracy = 97.60\n"
     ]
    },
    {
     "data": {
      "application/vnd.jupyter.widget-view+json": {
       "model_id": "b258ed6d8d1b40f6b239c4a86990c386",
       "version_major": 2,
       "version_minor": 0
      },
      "text/plain": [
       "Iteration:   0%|          | 0/40 [00:00<?, ?it/s]"
      ]
     },
     "metadata": {},
     "output_type": "display_data"
    },
    {
     "name": "stdout",
     "output_type": "stream",
     "text": [
      "--- Epoch 15 ---\n",
      "Train Loss = 0.0237   Train Accuracy = 99.0000\n",
      "Valid Loss = 0.00   Valid Accuracy = 97.30\n"
     ]
    },
    {
     "data": {
      "application/vnd.jupyter.widget-view+json": {
       "model_id": "59677b6f03964bc4bdf4f4649f974df7",
       "version_major": 2,
       "version_minor": 0
      },
      "text/plain": [
       "Iteration:   0%|          | 0/40 [00:00<?, ?it/s]"
      ]
     },
     "metadata": {},
     "output_type": "display_data"
    },
    {
     "name": "stdout",
     "output_type": "stream",
     "text": [
      "--- Epoch 16 ---\n",
      "Train Loss = 0.0187   Train Accuracy = 99.5000\n",
      "Valid Loss = 0.00   Valid Accuracy = 97.60\n"
     ]
    },
    {
     "data": {
      "application/vnd.jupyter.widget-view+json": {
       "model_id": "735d36793dc8479daadeca59ba3a70ba",
       "version_major": 2,
       "version_minor": 0
      },
      "text/plain": [
       "Iteration:   0%|          | 0/40 [00:00<?, ?it/s]"
      ]
     },
     "metadata": {},
     "output_type": "display_data"
    },
    {
     "name": "stdout",
     "output_type": "stream",
     "text": [
      "--- Epoch 17 ---\n",
      "Train Loss = 0.0009   Train Accuracy = 100.0000\n",
      "Valid Loss = 0.00   Valid Accuracy = 97.70\n"
     ]
    },
    {
     "data": {
      "application/vnd.jupyter.widget-view+json": {
       "model_id": "46ecc32ec01948f591c287523f604cb4",
       "version_major": 2,
       "version_minor": 0
      },
      "text/plain": [
       "Iteration:   0%|          | 0/40 [00:00<?, ?it/s]"
      ]
     },
     "metadata": {},
     "output_type": "display_data"
    },
    {
     "name": "stdout",
     "output_type": "stream",
     "text": [
      "--- Epoch 18 ---\n",
      "Train Loss = 0.0270   Train Accuracy = 99.5000\n",
      "Valid Loss = 0.00   Valid Accuracy = 97.40\n"
     ]
    },
    {
     "data": {
      "application/vnd.jupyter.widget-view+json": {
       "model_id": "59da020f73694796883bb08d94d833f4",
       "version_major": 2,
       "version_minor": 0
      },
      "text/plain": [
       "Iteration:   0%|          | 0/40 [00:00<?, ?it/s]"
      ]
     },
     "metadata": {},
     "output_type": "display_data"
    },
    {
     "name": "stdout",
     "output_type": "stream",
     "text": [
      "--- Epoch 19 ---\n",
      "Train Loss = 0.0043   Train Accuracy = 99.5000\n",
      "Valid Loss = 0.00   Valid Accuracy = 97.90\n"
     ]
    },
    {
     "data": {
      "application/vnd.jupyter.widget-view+json": {
       "model_id": "482376cec29949df8f9a194f25128365",
       "version_major": 2,
       "version_minor": 0
      },
      "text/plain": [
       "Iteration:   0%|          | 0/40 [00:00<?, ?it/s]"
      ]
     },
     "metadata": {},
     "output_type": "display_data"
    },
    {
     "name": "stdout",
     "output_type": "stream",
     "text": [
      "--- Epoch 20 ---\n",
      "Train Loss = 0.0008   Train Accuracy = 100.0000\n",
      "Valid Loss = 0.00   Valid Accuracy = 98.20\n"
     ]
    },
    {
     "data": {
      "application/vnd.jupyter.widget-view+json": {
       "model_id": "00e5aa9b48e34de4aba5ceb55f1231bf",
       "version_major": 2,
       "version_minor": 0
      },
      "text/plain": [
       "Iteration:   0%|          | 0/40 [00:00<?, ?it/s]"
      ]
     },
     "metadata": {},
     "output_type": "display_data"
    },
    {
     "name": "stdout",
     "output_type": "stream",
     "text": [
      "--- Epoch 21 ---\n",
      "Train Loss = 0.0001   Train Accuracy = 100.0000\n",
      "Valid Loss = 0.00   Valid Accuracy = 98.10\n"
     ]
    },
    {
     "data": {
      "application/vnd.jupyter.widget-view+json": {
       "model_id": "1c03bbb3eb604b7585a3d48be4f64623",
       "version_major": 2,
       "version_minor": 0
      },
      "text/plain": [
       "Iteration:   0%|          | 0/40 [00:00<?, ?it/s]"
      ]
     },
     "metadata": {},
     "output_type": "display_data"
    },
    {
     "name": "stdout",
     "output_type": "stream",
     "text": [
      "--- Epoch 22 ---\n",
      "Train Loss = 0.0002   Train Accuracy = 100.0000\n",
      "Valid Loss = 0.00   Valid Accuracy = 98.30\n"
     ]
    },
    {
     "data": {
      "application/vnd.jupyter.widget-view+json": {
       "model_id": "51838a2d21c947738c5b2a9b7f515da2",
       "version_major": 2,
       "version_minor": 0
      },
      "text/plain": [
       "Iteration:   0%|          | 0/40 [00:00<?, ?it/s]"
      ]
     },
     "metadata": {},
     "output_type": "display_data"
    },
    {
     "name": "stdout",
     "output_type": "stream",
     "text": [
      "--- Epoch 23 ---\n",
      "Train Loss = 0.0002   Train Accuracy = 100.0000\n",
      "Valid Loss = 0.00   Valid Accuracy = 97.10\n"
     ]
    },
    {
     "data": {
      "application/vnd.jupyter.widget-view+json": {
       "model_id": "830dd0fd02f3435c9505081ff144db1d",
       "version_major": 2,
       "version_minor": 0
      },
      "text/plain": [
       "Iteration:   0%|          | 0/40 [00:00<?, ?it/s]"
      ]
     },
     "metadata": {},
     "output_type": "display_data"
    },
    {
     "name": "stdout",
     "output_type": "stream",
     "text": [
      "--- Epoch 24 ---\n",
      "Train Loss = 0.0019   Train Accuracy = 100.0000\n",
      "Valid Loss = 0.00   Valid Accuracy = 97.90\n"
     ]
    },
    {
     "data": {
      "application/vnd.jupyter.widget-view+json": {
       "model_id": "6e00edf0663a47e1bb11779ea0926157",
       "version_major": 2,
       "version_minor": 0
      },
      "text/plain": [
       "Iteration:   0%|          | 0/40 [00:00<?, ?it/s]"
      ]
     },
     "metadata": {},
     "output_type": "display_data"
    },
    {
     "name": "stdout",
     "output_type": "stream",
     "text": [
      "--- Epoch 25 ---\n",
      "Train Loss = 0.0001   Train Accuracy = 100.0000\n",
      "Valid Loss = 0.00   Valid Accuracy = 98.80\n"
     ]
    },
    {
     "data": {
      "application/vnd.jupyter.widget-view+json": {
       "model_id": "010fc68fa54b4e0bbd4b4eaffb7defec",
       "version_major": 2,
       "version_minor": 0
      },
      "text/plain": [
       "Iteration:   0%|          | 0/40 [00:00<?, ?it/s]"
      ]
     },
     "metadata": {},
     "output_type": "display_data"
    },
    {
     "name": "stdout",
     "output_type": "stream",
     "text": [
      "--- Epoch 26 ---\n",
      "Train Loss = 0.0228   Train Accuracy = 99.5000\n",
      "Valid Loss = 0.00   Valid Accuracy = 98.00\n"
     ]
    },
    {
     "data": {
      "application/vnd.jupyter.widget-view+json": {
       "model_id": "cb728739dd6b478a908e3ae1dbb70af2",
       "version_major": 2,
       "version_minor": 0
      },
      "text/plain": [
       "Iteration:   0%|          | 0/40 [00:00<?, ?it/s]"
      ]
     },
     "metadata": {},
     "output_type": "display_data"
    },
    {
     "name": "stdout",
     "output_type": "stream",
     "text": [
      "--- Epoch 27 ---\n",
      "Train Loss = 0.0007   Train Accuracy = 100.0000\n",
      "Valid Loss = 0.00   Valid Accuracy = 98.20\n"
     ]
    },
    {
     "data": {
      "application/vnd.jupyter.widget-view+json": {
       "model_id": "9c88929db2cf4ae2a08c790bf846acf4",
       "version_major": 2,
       "version_minor": 0
      },
      "text/plain": [
       "Iteration:   0%|          | 0/40 [00:00<?, ?it/s]"
      ]
     },
     "metadata": {},
     "output_type": "display_data"
    },
    {
     "name": "stdout",
     "output_type": "stream",
     "text": [
      "--- Epoch 28 ---\n",
      "Train Loss = 0.0001   Train Accuracy = 100.0000\n",
      "Valid Loss = 0.00   Valid Accuracy = 97.60\n"
     ]
    },
    {
     "data": {
      "application/vnd.jupyter.widget-view+json": {
       "model_id": "222aecdeb0804ad6b49e357ecd4989ea",
       "version_major": 2,
       "version_minor": 0
      },
      "text/plain": [
       "Iteration:   0%|          | 0/40 [00:00<?, ?it/s]"
      ]
     },
     "metadata": {},
     "output_type": "display_data"
    },
    {
     "name": "stdout",
     "output_type": "stream",
     "text": [
      "--- Epoch 29 ---\n",
      "Train Loss = 0.0254   Train Accuracy = 99.5000\n",
      "Valid Loss = 0.00   Valid Accuracy = 98.20\n"
     ]
    }
   ],
   "source": [
    "model.fit(train_objectives=[(train_dataloader, train_loss)],\n",
    "          evaluator=evaluator,\n",
    "          epochs=30,\n",
    "          optimizer_params= {'lr': 1e-3}, # 1e-3 for CoV-RoBERTa, 1e-6 for ProtBERT\n",
    "          weight_decay=0.1, # 0.1 for CoV-RoBERTa, 0.01 for ProtBERT\n",
    "          #evaluation_steps=eval_iter, # run an evalution in every 10% \n",
    "          output_path=output_dir,\n",
    "          save_best_model=True,\n",
    "          checkpoint_path=checkpoint_dir,\n",
    "          checkpoint_save_steps=500,\n",
    "          checkpoint_save_total_limit=2,\n",
    "          show_progress_bar=True,\n",
    "          loss_name=LOSS_NAME)"
   ]
  },
  {
   "cell_type": "code",
   "execution_count": 11,
   "id": "34715b67",
   "metadata": {},
   "outputs": [
    {
     "data": {
      "image/png": "[encoded data removed]",
      "text/plain": [
       "<Figure size 1080x360 with 2 Axes>"
      ]
     },
     "metadata": {
      "needs_background": "light"
     },
     "output_type": "display_data"
    }
   ],
   "source": [
    "# Plot the training and validation loss and accuracy\n",
    "import matplotlib.pyplot as plt\n",
    "\n",
    "# read loss values from csv:\n",
    "train_results = pd.read_csv(train_results_file)\n",
    "val_results = pd.read_csv(val_results_file)\n",
    "\n",
    "# plot loss and accuracy figures side by side\n",
    "fig, axs = plt.subplots(1, 2, figsize=(15, 5))\n",
    "axs[0].plot(train_results[\"epoch\"], train_results[\"loss\"], label=\"Training\")\n",
    "axs[0].plot(val_results[\"epoch\"], val_results[\"loss\"], label=\"Validation\")\n",
    "axs[0].set_xlabel(\"Epoch\")\n",
    "axs[0].set_ylabel(\"Loss\")\n",
    "axs[0].legend()\n",
    "axs[1].plot(train_results[\"epoch\"], train_results[\"accuracy\"], label=\"Training\")\n",
    "axs[1].plot(val_results[\"epoch\"], val_results[\"accuracy\"], label=\"Validation\")\n",
    "axs[1].set_xlabel(\"Epoch\")\n",
    "axs[1].set_ylabel(\"Accuracy\")\n",
    "axs[1].legend()\n",
    "plt.tight_layout()\n",
    "#save as pdf\n",
    "plt.savefig(os.path.join(output_dir, \"eval\", f'plot_{LOSS_NAME}_{POOLING_MODE}.pdf'))\n",
    "plt.show()"
   ]
  },
  {
   "cell_type": "code",
   "execution_count": 12,
   "id": "7e4f5fb7",
   "metadata": {},
   "outputs": [
    {
     "name": "stdout",
     "output_type": "stream",
     "text": [
      "Valid Loss = 0.01   Valid Accuracy = 70.14\n",
      "Test duration: 0.3177635669708252 seconds\n",
      "0.2269739764077323 ms per example\n"
     ]
    }
   ],
   "source": [
    "test_evaluator = evaluation.LabelAccuracyEvaluator(test_dataloader, softmax_model=train_loss, name=\"test\")\n",
    "\n",
    "# load best model\n",
    "best_model = SentenceTransformer(output_dir)\n",
    "best_model.to(\"cuda\")\n",
    "\n",
    "# print test duration\n",
    "\n",
    "import time\n",
    "start_time = time.time()\n",
    "test_acc = best_model.evaluate(test_evaluator, output_path=os.path.join(output_dir, \"eval\"))\n",
    "duration = time.time() - start_time\n",
    "print(f\"Test duration: {duration} seconds\")\n",
    "\n",
    "# write test accuracy to file\n",
    "with open(os.path.join(output_dir, \"eval\", \"test_results.txt\"), \"w\") as f:\n",
    "    f.write(f\"Test accuracy: {test_acc}\\n\")\n",
    "\n",
    "print(duration * 1000 / len(test_examples), \"ms per example\")"
   ]
  },
  {
   "cell_type": "code",
   "execution_count": null,
   "id": "4000f435",
   "metadata": {},
   "outputs": [],
   "source": []
  }
 ],
 "metadata": {
  "kernelspec": {
   "display_name": "Python 3",
   "language": "python",
   "name": "python3"
  },
  "language_info": {
   "codemirror_mode": {
    "name": "ipython",
    "version": 3
   },
   "file_extension": ".py",
   "mimetype": "text/x-python",
   "name": "python",
   "nbconvert_exporter": "python",
   "pygments_lexer": "ipython3",
   "version": "3.8.16"
  }
 },
 "nbformat": 4,
 "nbformat_minor": 5
}
