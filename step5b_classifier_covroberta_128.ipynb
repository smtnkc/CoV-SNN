{
 "cells": [
  {
   "cell_type": "code",
   "execution_count": 1,
   "id": "0cc19703",
   "metadata": {},
   "outputs": [],
   "source": [
    "import numpy as np\n",
    "import scanpy as sc\n",
    "import pandas as pd\n",
    "import evaluate\n",
    "import pickle\n",
    "import torch\n",
    "import random\n",
    "import os\n",
    "import matplotlib.pyplot as plt\n",
    "import seaborn as sns\n",
    "from torch.utils.data import DataLoader\n",
    "from torch_optimizer import Lamb\n",
    "from torch.optim import AdamW\n",
    "from sklearn.model_selection import train_test_split\n",
    "from datasets import Dataset\n",
    "from transformers import RobertaForSequenceClassification, RobertaTokenizerFast, RobertaConfig, get_scheduler\n",
    "from sklearn.metrics import f1_score, classification_report, confusion_matrix\n",
    "from Bio import SeqIO\n",
    "from tqdm.autonotebook import tqdm as tq\n",
    "import time\n",
    "from datetime import timedelta\n",
    "\n",
    "os.environ[\"TOKENIZERS_PARALLELISM\"] = \"false\"\n",
    "np.set_printoptions(threshold=2200)\n",
    "torch.set_printoptions(threshold=2200)\n",
    "seed = 42\n",
    "torch.manual_seed(seed)\n",
    "random.seed(seed)\n",
    "np.random.seed(seed)\n",
    "torch.backends.cudnn.deterministic = True\n",
    "torch.backends.cudnn.benchmark = False"
   ]
  },
  {
   "cell_type": "code",
   "execution_count": 2,
   "id": "aa1fc757",
   "metadata": {},
   "outputs": [],
   "source": [
    "EMBED_SIZE = 128\n",
    "MODEL_NAME, MODEL_PRINT_NAME = f\"./mlm_checkpoints/CoV-RoBERTa_{EMBED_SIZE}\", \"CoV-RoBERTa\"\n",
    "VOC_NAMES = [\"Alpha\", \"Beta\", \"Delta\", \"Gamma\", \"Omicron\"]"
   ]
  },
  {
   "cell_type": "code",
   "execution_count": 3,
   "id": "cf7093e2",
   "metadata": {},
   "outputs": [
    {
     "name": "stderr",
     "output_type": "stream",
     "text": [
      "Some weights of the model checkpoint at ./mlm_checkpoints/CoV-RoBERTa_128 were not used when initializing RobertaForSequenceClassification: ['lm_head.layer_norm.weight', 'lm_head.layer_norm.bias', 'lm_head.dense.weight', 'lm_head.dense.bias', 'lm_head.bias']\n",
      "- This IS expected if you are initializing RobertaForSequenceClassification from the checkpoint of a model trained on another task or with another architecture (e.g. initializing a BertForSequenceClassification model from a BertForPreTraining model).\n",
      "- This IS NOT expected if you are initializing RobertaForSequenceClassification from the checkpoint of a model that you expect to be exactly identical (initializing a BertForSequenceClassification model from a BertForSequenceClassification model).\n",
      "Some weights of RobertaForSequenceClassification were not initialized from the model checkpoint at ./mlm_checkpoints/CoV-RoBERTa_128 and are newly initialized: ['classifier.dense.bias', 'classifier.dense.weight', 'classifier.out_proj.bias', 'classifier.out_proj.weight']\n",
      "You should probably TRAIN this model on a down-stream task to be able to use it for predictions and inference.\n"
     ]
    },
    {
     "name": "stdout",
     "output_type": "stream",
     "text": [
      "Number of parameters in model:  50902277\n"
     ]
    }
   ],
   "source": [
    "# Load the weights from the binary file\n",
    "\n",
    "tok = RobertaTokenizerFast.from_pretrained(\"tok/\")\n",
    "model = RobertaForSequenceClassification.from_pretrained(MODEL_NAME, num_labels=len(VOC_NAMES))\n",
    "\n",
    "num_params = sum(p.numel() for p in model.parameters())\n",
    "print(\"Number of parameters in model: \", num_params)"
   ]
  },
  {
   "cell_type": "code",
   "execution_count": 4,
   "id": "42a105ae",
   "metadata": {},
   "outputs": [
    {
     "data": {
      "text/html": [
       "<div>\n",
       "<style scoped>\n",
       "    .dataframe tbody tr th:only-of-type {\n",
       "        vertical-align: middle;\n",
       "    }\n",
       "\n",
       "    .dataframe tbody tr th {\n",
       "        vertical-align: top;\n",
       "    }\n",
       "\n",
       "    .dataframe thead th {\n",
       "        text-align: right;\n",
       "    }\n",
       "</style>\n",
       "<table border=\"1\" class=\"dataframe\">\n",
       "  <thead>\n",
       "    <tr style=\"text-align: right;\">\n",
       "      <th></th>\n",
       "      <th>sequence</th>\n",
       "      <th>label</th>\n",
       "    </tr>\n",
       "  </thead>\n",
       "  <tbody>\n",
       "    <tr>\n",
       "      <th>0</th>\n",
       "      <td>MFVFLVLLPLVSSQCVNLTTRTQLPPAYTNSFTRGVYYPDKVFRSS...</td>\n",
       "      <td>0</td>\n",
       "    </tr>\n",
       "    <tr>\n",
       "      <th>1</th>\n",
       "      <td>MFVFLVLLPLVSSQCVNLTTRTQLPPAYTNSFTRGVYYPDKVFRSS...</td>\n",
       "      <td>0</td>\n",
       "    </tr>\n",
       "    <tr>\n",
       "      <th>2</th>\n",
       "      <td>MFVFLVLLPLVSSQCVNLTTRTQLPPAYTNSFTRGVYYPDKVFRSS...</td>\n",
       "      <td>0</td>\n",
       "    </tr>\n",
       "    <tr>\n",
       "      <th>3</th>\n",
       "      <td>MFVFLVLLPLVSSQCVNLTTRTQLPPAYTNSFTRGVYYPDKVFRSS...</td>\n",
       "      <td>0</td>\n",
       "    </tr>\n",
       "    <tr>\n",
       "      <th>4</th>\n",
       "      <td>MFVFLVLLPLVSSQCVNLTTRTQLPPAYTNSFTRGVYYPDKVFRSS...</td>\n",
       "      <td>0</td>\n",
       "    </tr>\n",
       "    <tr>\n",
       "      <th>...</th>\n",
       "      <td>...</td>\n",
       "      <td>...</td>\n",
       "    </tr>\n",
       "    <tr>\n",
       "      <th>9995</th>\n",
       "      <td>MFVFLVLLPLVSSQCVNLITRTQSYTNSFTRGVYYPDKVFRSSVXX...</td>\n",
       "      <td>4</td>\n",
       "    </tr>\n",
       "    <tr>\n",
       "      <th>9996</th>\n",
       "      <td>TQLPPAYTNSFTRGVYYPDKVFRSSVLHSTQDLFLPFFSNVTWFHA...</td>\n",
       "      <td>4</td>\n",
       "    </tr>\n",
       "    <tr>\n",
       "      <th>9997</th>\n",
       "      <td>TQLPPAYTNSFTRGVYYPDKVFRSSVLHSTQDLFLPFFSNVTWFHA...</td>\n",
       "      <td>4</td>\n",
       "    </tr>\n",
       "    <tr>\n",
       "      <th>9998</th>\n",
       "      <td>MFVFLVLLPLVSSQCVNLITRTQSYTNSFTRGVYYPDKVFRSSVLH...</td>\n",
       "      <td>4</td>\n",
       "    </tr>\n",
       "    <tr>\n",
       "      <th>9999</th>\n",
       "      <td>MFVFLVLLPLVSSQCVNLITRTQSYTNSFTRGVYYPDKVFRSSVLH...</td>\n",
       "      <td>4</td>\n",
       "    </tr>\n",
       "  </tbody>\n",
       "</table>\n",
       "<p>10000 rows × 2 columns</p>\n",
       "</div>"
      ],
      "text/plain": [
       "                                               sequence  label\n",
       "0     MFVFLVLLPLVSSQCVNLTTRTQLPPAYTNSFTRGVYYPDKVFRSS...      0\n",
       "1     MFVFLVLLPLVSSQCVNLTTRTQLPPAYTNSFTRGVYYPDKVFRSS...      0\n",
       "2     MFVFLVLLPLVSSQCVNLTTRTQLPPAYTNSFTRGVYYPDKVFRSS...      0\n",
       "3     MFVFLVLLPLVSSQCVNLTTRTQLPPAYTNSFTRGVYYPDKVFRSS...      0\n",
       "4     MFVFLVLLPLVSSQCVNLTTRTQLPPAYTNSFTRGVYYPDKVFRSS...      0\n",
       "...                                                 ...    ...\n",
       "9995  MFVFLVLLPLVSSQCVNLITRTQSYTNSFTRGVYYPDKVFRSSVXX...      4\n",
       "9996  TQLPPAYTNSFTRGVYYPDKVFRSSVLHSTQDLFLPFFSNVTWFHA...      4\n",
       "9997  TQLPPAYTNSFTRGVYYPDKVFRSSVLHSTQDLFLPFFSNVTWFHA...      4\n",
       "9998  MFVFLVLLPLVSSQCVNLITRTQSYTNSFTRGVYYPDKVFRSSVLH...      4\n",
       "9999  MFVFLVLLPLVSSQCVNLITRTQSYTNSFTRGVYYPDKVFRSSVLH...      4\n",
       "\n",
       "[10000 rows x 2 columns]"
      ]
     },
     "execution_count": 4,
     "metadata": {},
     "output_type": "execute_result"
    }
   ],
   "source": [
    "df = pd.DataFrame()\n",
    "\n",
    "for i, voc_name in enumerate(VOC_NAMES):\n",
    "    voc_df = pd.read_csv(f\"data/unique_{voc_name}_2k.csv\")\n",
    "    voc_df['label'] = i\n",
    "    df = pd.concat([df, voc_df])\n",
    "\n",
    "df = df.drop(['accession_id', 'date'], axis=1)\n",
    "df = df.reset_index(drop=True)\n",
    "df"
   ]
  },
  {
   "cell_type": "code",
   "execution_count": 5,
   "id": "10273657",
   "metadata": {},
   "outputs": [
    {
     "name": "stdout",
     "output_type": "stream",
     "text": [
      "Train size:  8000\n",
      "Val size:  1000\n",
      "Test size:  1000\n"
     ]
    }
   ],
   "source": [
    "# stratified train val test split 80/10/10\n",
    "X_train, X_test, y_train, y_test = train_test_split(df['sequence'], df['label'], test_size=0.2, random_state=seed, stratify=df['label'])\n",
    "X_val, X_test, y_val, y_test = train_test_split(X_test, y_test, test_size=0.5, random_state=seed, stratify=y_test)\n",
    "\n",
    "df_train = pd.DataFrame({'sequence': X_train, 'label': y_train}).reset_index(drop=True)\n",
    "df_val = pd.DataFrame({'sequence': X_val, 'label': y_val}).reset_index(drop=True)\n",
    "df_test = pd.DataFrame({'sequence': X_test, 'label': y_test}).reset_index(drop=True)\n",
    "\n",
    "ds_train = Dataset.from_pandas(df_train)\n",
    "ds_val = Dataset.from_pandas(df_val)\n",
    "ds_test = Dataset.from_pandas(df_test)\n",
    "\n",
    "print(\"Train size: \", len(ds_train))\n",
    "print(\"Val size: \", len(ds_val))\n",
    "print(\"Test size: \", len(ds_test))"
   ]
  },
  {
   "attachments": {},
   "cell_type": "markdown",
   "id": "0327523c",
   "metadata": {},
   "source": [
    "# TOKENIZE"
   ]
  },
  {
   "cell_type": "code",
   "execution_count": 7,
   "id": "388304fa",
   "metadata": {},
   "outputs": [
    {
     "data": {
      "application/vnd.jupyter.widget-view+json": {
       "model_id": "5738fa3016a44603bf229c62233aed8c",
       "version_major": 2,
       "version_minor": 0
      },
      "text/plain": [
       "Map:   0%|          | 0/8000 [00:00<?, ? examples/s]"
      ]
     },
     "metadata": {},
     "output_type": "display_data"
    },
    {
     "data": {
      "application/vnd.jupyter.widget-view+json": {
       "model_id": "9fe360ac2ad446a3aacc2e2451e9a5b8",
       "version_major": 2,
       "version_minor": 0
      },
      "text/plain": [
       "Map:   0%|          | 0/1000 [00:00<?, ? examples/s]"
      ]
     },
     "metadata": {},
     "output_type": "display_data"
    },
    {
     "name": "stdout",
     "output_type": "stream",
     "text": [
      "Time per sample (ms):  0.2416856288909912\n"
     ]
    },
    {
     "data": {
      "application/vnd.jupyter.widget-view+json": {
       "model_id": "3874bad22f604dbca1f2dc56745dd29d",
       "version_major": 2,
       "version_minor": 0
      },
      "text/plain": [
       "Map:   0%|          | 0/1000 [00:00<?, ? examples/s]"
      ]
     },
     "metadata": {},
     "output_type": "display_data"
    }
   ],
   "source": [
    "# Funtion to tokenize data\n",
    "def tokenize_dataset(dataset, tok, embedding_size):\n",
    "    return tok(\n",
    "        dataset['sequence'],\n",
    "        max_length=embedding_size,\n",
    "        truncation=True,\n",
    "        padding=\"max_length\")\n",
    "    \n",
    "\n",
    "# Tokenize the dataset\n",
    "dataset_train = ds_train.map(tokenize_dataset, fn_kwargs={'tok': tok, 'embedding_size': EMBED_SIZE})\n",
    "start_time = time.time()\n",
    "dataset_val = ds_val.map(tokenize_dataset, fn_kwargs={'tok': tok, 'embedding_size': EMBED_SIZE})\n",
    "end_time = time.time()\n",
    "# avg time per sample (ms)\n",
    "print(\"Time per sample (ms): \", (end_time - start_time) * 1000 / len(dataset_val))\n",
    "dataset_test = ds_test.map(tokenize_dataset, fn_kwargs={'tok': tok, 'embedding_size': EMBED_SIZE})"
   ]
  },
  {
   "cell_type": "code",
   "execution_count": 8,
   "id": "b7b6ccc5",
   "metadata": {},
   "outputs": [
    {
     "name": "stdout",
     "output_type": "stream",
     "text": [
      "Dataset({\n",
      "    features: ['labels', 'input_ids', 'attention_mask'],\n",
      "    num_rows: 8000\n",
      "})\n",
      "Dataset({\n",
      "    features: ['labels', 'input_ids', 'attention_mask'],\n",
      "    num_rows: 1000\n",
      "})\n",
      "Dataset({\n",
      "    features: ['labels', 'input_ids', 'attention_mask'],\n",
      "    num_rows: 1000\n",
      "})\n"
     ]
    }
   ],
   "source": [
    "# Remove the sequence column because it will not be used in the model\n",
    "dataset_train = dataset_train.remove_columns(['sequence'])\n",
    "dataset_val = dataset_val.remove_columns(['sequence'])\n",
    "dataset_test = dataset_test.remove_columns(['sequence'])\n",
    "\n",
    "# Rename label to labels because the model expects the name labels\n",
    "dataset_train = dataset_train.rename_column(\"label\", \"labels\")\n",
    "dataset_val = dataset_val.rename_column(\"label\", \"labels\")\n",
    "dataset_test = dataset_test.rename_column(\"label\", \"labels\")\n",
    "\n",
    "# Change the format to PyTorch tensors\n",
    "dataset_train.set_format(\"torch\")\n",
    "dataset_val.set_format(\"torch\")\n",
    "dataset_test.set_format(\"torch\")\n",
    "\n",
    "# Take a look at the data\n",
    "print(dataset_train)\n",
    "print(dataset_val)\n",
    "print(dataset_test)"
   ]
  },
  {
   "cell_type": "code",
   "execution_count": 9,
   "id": "ce0511dc",
   "metadata": {},
   "outputs": [],
   "source": [
    "# Empty cache\n",
    "torch.cuda.empty_cache()\n",
    "\n",
    "# DataLoader\n",
    "train_dataloader = DataLoader(dataset=dataset_train, shuffle=True, batch_size=12)\n",
    "val_dataloader = DataLoader(dataset=dataset_val, shuffle=False, batch_size=100)\n",
    "test_dataloader = DataLoader(dataset=dataset_test, shuffle=False, batch_size=100)"
   ]
  },
  {
   "cell_type": "code",
   "execution_count": 10,
   "id": "c0fee43e",
   "metadata": {},
   "outputs": [
    {
     "name": "stdout",
     "output_type": "stream",
     "text": [
      "128\n",
      "tensor([   0, 6744, 1374, 3465,    2,    1,    1,    1,    1,    1,    1,    1,\n",
      "           1,    1,    1,    1,    1,    1,    1,    1,    1,    1,    1,    1,\n",
      "           1,    1,    1,    1,    1,    1,    1,    1,    1,    1,    1,    1,\n",
      "           1,    1,    1,    1,    1,    1,    1,    1,    1,    1,    1,    1,\n",
      "           1,    1,    1,    1,    1,    1,    1,    1,    1,    1,    1,    1,\n",
      "           1,    1,    1,    1,    1,    1,    1,    1,    1,    1,    1,    1,\n",
      "           1,    1,    1,    1,    1,    1,    1,    1,    1,    1,    1,    1,\n",
      "           1,    1,    1,    1,    1,    1,    1,    1,    1,    1,    1,    1,\n",
      "           1,    1,    1,    1,    1,    1,    1,    1,    1,    1,    1,    1,\n",
      "           1,    1,    1,    1,    1,    1,    1,    1,    1,    1,    1,    1,\n",
      "           1,    1,    1,    1,    1,    1,    1,    1])\n"
     ]
    }
   ],
   "source": [
    "for batch in val_dataloader:\n",
    "    item = batch[\"input_ids\"][0]\n",
    "    print(len(item))\n",
    "    print(item)\n",
    "    break"
   ]
  },
  {
   "attachments": {},
   "cell_type": "markdown",
   "id": "c18f66d2",
   "metadata": {},
   "source": [
    "# SET PARAMETERS"
   ]
  },
  {
   "cell_type": "code",
   "execution_count": 11,
   "id": "62b8dff1",
   "metadata": {},
   "outputs": [
    {
     "name": "stdout",
     "output_type": "stream",
     "text": [
      "cuda\n"
     ]
    }
   ],
   "source": [
    "# Number of epochs\n",
    "num_epochs = 3\n",
    "\n",
    "# Number of training steps\n",
    "num_training_steps = num_epochs * len(train_dataloader)\n",
    "\n",
    "# Optimizer\n",
    "optimizer = AdamW(params=model.parameters(), lr=1e-4)\n",
    "\n",
    "# Set up the learning rate scheduler\n",
    "lr_scheduler = get_scheduler(name=\"linear\", \n",
    "                             optimizer=optimizer, \n",
    "                             num_warmup_steps=0, \n",
    "                             num_training_steps=num_training_steps)\n",
    "\n",
    "# Use GPU if it is available\n",
    "device = torch.device(\"cuda\") if torch.cuda.is_available() else torch.device(\"cpu\")\n",
    "model.to(device)\n",
    "print(device)"
   ]
  },
  {
   "attachments": {},
   "cell_type": "markdown",
   "id": "25b42afe",
   "metadata": {},
   "source": [
    "## TRAINING"
   ]
  },
  {
   "cell_type": "code",
   "execution_count": 19,
   "id": "79b09050",
   "metadata": {},
   "outputs": [
    {
     "data": {
      "application/vnd.jupyter.widget-view+json": {
       "model_id": "2c96c0a602714a27b94d1cd12dc8adfb",
       "version_major": 2,
       "version_minor": 0
      },
      "text/plain": [
       "  0%|          | 0/2001 [00:00<?, ?it/s]"
      ]
     },
     "metadata": {},
     "output_type": "display_data"
    },
    {
     "name": "stdout",
     "output_type": "stream",
     "text": [
      "Epoch 1/3 Loss: 0.0116\n",
      "Epoch 2/3 Loss: 0.1747\n",
      "Epoch 3/3 Loss: 0.0027\n",
      "Elapsed time: 0:00:48.065392\n"
     ]
    }
   ],
   "source": [
    "# Set the progress bar\n",
    "pb_train = tq(total=range(num_training_steps))\n",
    "pb_train.reset(total=num_training_steps)\n",
    "# Tells the model that we are training the model\n",
    "model.train()\n",
    "\n",
    "start_time = time.time()\n",
    "# Loop through the epochs\n",
    "for epoch in range(num_epochs):\n",
    "    # Loop through the batches\n",
    "    for batch in train_dataloader:\n",
    "        # Get the batch\n",
    "        batch = {k: v.to(device) for k, v in batch.items()}\n",
    "        # Compute the model output for the batch\n",
    "        outputs = model(**batch)\n",
    "        # Get the logits\n",
    "        logits = outputs.logits\n",
    "        # Get the predicted labels for the batch\n",
    "        predictions = torch.argmax(logits, dim=-1)\n",
    "        # Loss computed by the model\n",
    "        loss = outputs.loss\n",
    "        # backpropagates the error to calculate gradients\n",
    "        loss.backward()\n",
    "        # Update the model weights\n",
    "        optimizer.step()\n",
    "        # Learning rate scheduler\n",
    "        lr_scheduler.step()\n",
    "        # Clear the gradients\n",
    "        optimizer.zero_grad()\n",
    "        # Update the progress bar\n",
    "        pb_train.update(1)\n",
    "        pb_train.set_description(\"Loss={:.4f} Predictions={}\".format(loss.item(), predictions.tolist()[0:5]))\n",
    "    print('Epoch {}/{} Loss: {:.4f}'.format(epoch+1, num_epochs, loss.item()))\n",
    "\n",
    "pb_train.close()\n",
    "elapsed_time = time.time() - start_time\n",
    "formatted_time = str(timedelta(seconds=elapsed_time))\n",
    "\n",
    "print(f\"Elapsed time: {formatted_time}\")"
   ]
  },
  {
   "attachments": {},
   "cell_type": "markdown",
   "id": "f9326c51",
   "metadata": {},
   "source": [
    "# EVALUATE"
   ]
  },
  {
   "cell_type": "code",
   "execution_count": 17,
   "id": "57285407",
   "metadata": {},
   "outputs": [
    {
     "data": {
      "application/vnd.jupyter.widget-view+json": {
       "model_id": "0d17447f341a40ea84952005a0b06b16",
       "version_major": 2,
       "version_minor": 0
      },
      "text/plain": [
       "  0%|          | 0/10 [00:00<?, ?it/s]"
      ]
     },
     "metadata": {},
     "output_type": "display_data"
    },
    {
     "name": "stdout",
     "output_type": "stream",
     "text": [
      "0.47288036346435547 ms per sample\n"
     ]
    }
   ],
   "source": [
    "start_time = time.time()\n",
    "# Tells the model that we are evaluting the model performance\n",
    "model.eval()\n",
    "\n",
    "#  A list for all logits\n",
    "logits_all = []\n",
    "\n",
    "# A list for all predicted probabilities\n",
    "predicted_prob_all = []\n",
    "\n",
    "# A list for all predicted labels\n",
    "predictions_all = []\n",
    "\n",
    "# A list for all actual labels\n",
    "labels_all = []\n",
    "\n",
    "\n",
    "# Set the progress bar\n",
    "pb_eval = tq(total=len(val_dataloader))\n",
    "pb_eval.reset(total=len(val_dataloader))\n",
    "\n",
    "# Loop through the batches in the evaluation dataloader\n",
    "for batch in val_dataloader:\n",
    "    # Get the batch\n",
    "    batch = {k: v.to(device) for k, v in batch.items()}\n",
    "    # Disable the gradient calculation\n",
    "    with torch.no_grad():\n",
    "        # Compute the model output\n",
    "        outputs = model(**batch)\n",
    "    # Get the logits\n",
    "    logits = outputs.logits\n",
    "    # Append the logits batch to the list\n",
    "    logits_all.append(logits) \n",
    "    # Get the predicted probabilities for the batch\n",
    "    predicted_prob = torch.softmax(logits, dim=1)\n",
    "    # Append the predicted probabilities for the batch to all the predicted probabilities\n",
    "    predicted_prob_all.append(predicted_prob)\n",
    "    # Get the predicted labels for the batch\n",
    "    predictions = torch.argmax(logits, dim=-1)\n",
    "    # Append the predicted labels for the batch to all the predictions\n",
    "    predictions_all.append(predictions)\n",
    "    # Append the actual labels for the batch to all labels\n",
    "    labels_all.append(batch[\"labels\"])\n",
    "    pb_eval.update(1)\n",
    "pb_eval.close()\n",
    "\n",
    "duration = time.time() - start_time\n",
    "\n",
    "print(duration * 1000 / (len(val_dataloader) * 100), \"ms per sample\")"
   ]
  },
  {
   "cell_type": "code",
   "execution_count": 44,
   "id": "bf72b7e2",
   "metadata": {},
   "outputs": [
    {
     "name": "stdout",
     "output_type": "stream",
     "text": [
      "              precision    recall  f1-score   support\n",
      "\n",
      "           0     0.9948    0.9600    0.9771       200\n",
      "           1     0.9950    1.0000    0.9975       200\n",
      "           2     0.9749    0.9700    0.9724       200\n",
      "           3     0.9901    1.0000    0.9950       200\n",
      "           4     0.9659    0.9900    0.9778       200\n",
      "\n",
      "    accuracy                         0.9840      1000\n",
      "   macro avg     0.9841    0.9840    0.9840      1000\n",
      "weighted avg     0.9841    0.9840    0.9840      1000\n",
      "\n",
      "CONFUSION = [[192, 0, 4, 2, 2], [0, 200, 0, 0, 0], [1, 0, 194, 0, 5], [0, 0, 0, 200, 0], [0, 1, 1, 0, 198]]\n"
     ]
    }
   ],
   "source": [
    "all_preds = torch.cat(predictions_all, dim=0).cpu().numpy()\n",
    "all_labels = torch.cat(labels_all, dim=0).cpu().numpy()\n",
    "\n",
    "cr = classification_report(all_labels, all_preds, labels=[0,1,2,3,4], digits=4)\n",
    "print(cr)\n",
    "cm = confusion_matrix(all_labels, all_preds, labels=[0,1,2,3,4])\n",
    "print('CONFUSION = {}'.format(cm.tolist()))"
   ]
  },
  {
   "cell_type": "code",
   "execution_count": 17,
   "id": "2c5eb69b",
   "metadata": {},
   "outputs": [],
   "source": [
    "np.savetxt(f'results/{MODEL_PRINT_NAME}_{EMBED_SIZE}_all_preds.txt', all_preds, fmt='%d')\n",
    "np.savetxt(f'results/{MODEL_PRINT_NAME}_{EMBED_SIZE}_all_labels.txt', all_labels, fmt='%d')"
   ]
  },
  {
   "cell_type": "code",
   "execution_count": 18,
   "id": "5b090703",
   "metadata": {},
   "outputs": [
    {
     "data": {
      "image/png": "[encoded data removed]",
      "text/plain": [
       "<Figure size 576x432 with 2 Axes>"
      ]
     },
     "metadata": {
      "needs_background": "light"
     },
     "output_type": "display_data"
    }
   ],
   "source": [
    "# Create a normalized confusion matrix\n",
    "cm_norm = cm.astype('float') / cm.sum(axis=1)[:, np.newaxis]\n",
    "\n",
    "# Plot the heatmap\n",
    "plt.figure(figsize=(8, 6))\n",
    "heatmap=sns.heatmap(cm, annot=True, fmt=\"d\", cmap='Blues', xticklabels=VOC_NAMES,\n",
    "            yticklabels=VOC_NAMES,\n",
    "            annot_kws={\"fontsize\": 14})\n",
    "\n",
    "# Customize the x-axis and y-axis tick label font size\n",
    "heatmap.set_xticklabels(heatmap.get_xticklabels(), fontsize=14)  # Increase the x-axis tick label font size here\n",
    "heatmap.set_yticklabels(heatmap.get_yticklabels(), fontsize=14)  # Increase the y-axis tick label font size here\n",
    "\n",
    "# Customize the plot\n",
    "plt.title(f'Misclassification Analysis ({MODEL_PRINT_NAME}-{EMBED_SIZE})', fontsize=14)\n",
    "plt.xlabel('Predicted Labels', fontsize=14)\n",
    "plt.ylabel('True Labels' , fontsize=14)\n",
    "plt.savefig(f'figures/missclassification_{MODEL_PRINT_NAME}_{EMBED_SIZE}.pdf', bbox_inches='tight')\n",
    "plt.show()"
   ]
  },
  {
   "attachments": {},
   "cell_type": "markdown",
   "id": "77e67902",
   "metadata": {},
   "source": [
    "# SAVE AND LOAD MODEL"
   ]
  },
  {
   "cell_type": "code",
   "execution_count": 46,
   "id": "03de52ab",
   "metadata": {},
   "outputs": [],
   "source": [
    "ckpt_dir = f\"./checkpoints/{MODEL_PRINT_NAME}_{EMBED_SIZE}\"\n",
    "if not os.path.exists(ckpt_dir):\n",
    "    os.makedirs(ckpt_dir)\n",
    "\n",
    "# Save tokenizer\n",
    "tok.save_pretrained(ckpt_dir)\n",
    "\n",
    "# Save model\n",
    "model.save_pretrained(ckpt_dir)"
   ]
  },
  {
   "cell_type": "code",
   "execution_count": 13,
   "id": "21f147eb",
   "metadata": {},
   "outputs": [
    {
     "name": "stdout",
     "output_type": "stream",
     "text": [
      "MFVFLVLLPLVSSQCVNLTTRTQLPPAYTNSFTRGVYYPDKVFRSSVLHSTQDLFLPFFSNVTWFHVISGTNGTKRFDNPVLPFNDGVYFASIEKSNIIRGWIFGTTLDSKTQSLLIVNNATNVVIKVCEFQFCNDPFLDHKNNKSWMESEFRVYSSANNCTFEYVSQPFLXDLEGKQGNFKNLREFVFKNIDGYFKIYSKHTPINLVRDLPQGFSALEPLVDLPIGINITRFQTLLALHRSYLTPGDSSSGWTAGAAAYYVGYLQPRTFLLKYNENGTITDAVDCALDPLSETKCTLKSFTVEKGIYQTSNFRVQPTESIVRFPNITNLCPFDEVFNATRFASVYAWNRKRISNCVADYSVLYNLAPFFTFKCYGVSPTKLNDLCFTNVYADSFVIRGDEVRQIAPGQTGNIADYNYKLPDDFTGCVIAWNSXXXXXXVSGNYNYLYRLFRKSNLKPFERDISTEIYQAGNKPCNGVAGFNCYFPLRSYSFRPTYGVGHQPYRVVVLSXELLHAPATVCGPKKSTNLVKNKCVNFNFNGLKGTGVLTESNKKFLPFQQFGRDIADTTDAVRDPQTLEILDITPCSFGGVSVITPGTNTSNQVAVLYQGVNCTEVPVAIHADQLTPTWRVYSTGSNVFQTRAGCLIGAEYVNNSYECDIPIGAGICASYQTQTKSHRRARSVASQSIIAYTMSLGAENSVAYSNNSIAIPTNFTISVTTEILPVSMTKTSVDCTMYICGDSTECSNLLLQYGSFCTQLKRALTGIAVEQDKNTQEVFAQVKQIYKTPPIKYFGGFNFSQILPDPSKPSKRSFIEDLLFNKVTLADAGFIKQYGDCLGDIAARDLICAQKFKGLTVLPPLLTDEMIAQYTSALLAGTITSGWTFGAGAALQIPFAMQMAYRFNGIGVTQNVLYENQKLIANQFNSAIGKIQDSLSSTASALGKLQDVVNHNAQALNTLVKQLSSKFGAISSVLNDIFSRLDKVEAEVQIDRLITGRLQSLQTYVTQQLIRAAEIRASANLAATKMSECVLGQSKRVDFCGKGYHLMSFPQSAPHGVVFLHVTYVPAQEKNFTTAPAICHDGKAHFPREGVFVSNGTHWFVTQRNFYEPQIITTDNTFVSGNCDVVIGIVNNTVYDPLQPELDSFKEELDKYFKNHTSPDVDLGDISGINASVVNIQKEIDRLNEVAKNLNESLIDLQELGKYEQYIKWPWYIWLGFIAGLIAIVMVTIMLCCMTSCCSCLKGCCSCGSCCKFDEDDSEPVLKGVKLHYT\n",
      "torch.Size([1, 15])\n",
      "Predicted label:  4\n",
      "Time elapsed:  0.004162788391113281\n"
     ]
    }
   ],
   "source": [
    "ckpt_dir = f\"./checkpoints/{MODEL_PRINT_NAME}_{EMBED_SIZE}\"\n",
    "\n",
    "# Load tokenizer\n",
    "tok = RobertaTokenizerFast.from_pretrained(ckpt_dir)\n",
    "\n",
    "# Load model\n",
    "model = RobertaForSequenceClassification.from_pretrained(ckpt_dir)\n",
    "\n",
    "model.to(device)\n",
    "model.eval()\n",
    "# read a sequence from txt file\n",
    "with open(\"data/omicron_test.txt\", \"r\") as f:\n",
    "    seq = f.read()\n",
    "print(seq)\n",
    "# predict for seq\n",
    "\n",
    "inputs = tok(seq, return_tensors=\"pt\")\n",
    "inputs = {k: v.to(device) for k, v in inputs.items()}\n",
    "print(inputs['input_ids'].shape)\n",
    "start_time = time.time()\n",
    "outputs = model(**inputs)\n",
    "logits = outputs.logits\n",
    "predicted_prob = torch.softmax(logits, dim=1)\n",
    "predictions = torch.argmax(logits, dim=-1)\n",
    "elapsed_time = time.time() - start_time\n",
    "print(\"Predicted label: \", predictions.item())\n",
    "print(\"Time elapsed: \", elapsed_time)\n"
   ]
  },
  {
   "attachments": {},
   "cell_type": "markdown",
   "id": "3283aed9",
   "metadata": {},
   "source": [
    "# REFERENCES:"
   ]
  },
  {
   "attachments": {},
   "cell_type": "markdown",
   "id": "9b1ce50c",
   "metadata": {},
   "source": [
    "https://grabngoinfo.com/transfer-learning-for-text-classification-using-pytorch/"
   ]
  }
 ],
 "metadata": {
  "kernelspec": {
   "display_name": "Python 3",
   "language": "python",
   "name": "python3"
  },
  "language_info": {
   "codemirror_mode": {
    "name": "ipython",
    "version": 3
   },
   "file_extension": ".py",
   "mimetype": "text/x-python",
   "name": "python",
   "nbconvert_exporter": "python",
   "pygments_lexer": "ipython3",
   "version": "3.8.16"
  }
 },
 "nbformat": 4,
 "nbformat_minor": 5
}
