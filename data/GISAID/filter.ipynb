{
 "cells": [
  {
   "attachments": {},
   "cell_type": "markdown",
   "id": "a47774ed",
   "metadata": {},
   "source": [
    "# FILTER METADATA"
   ]
  },
  {
   "cell_type": "code",
   "execution_count": 13,
   "id": "ff7022b1",
   "metadata": {},
   "outputs": [],
   "source": [
    "import pandas as pd\n",
    "def read_tsv(tsv_file):\n",
    "    df = pd.read_csv(tsv_file, sep='\\t')\n",
    "    return df"
   ]
  },
  {
   "cell_type": "code",
   "execution_count": null,
   "id": "58e12b43",
   "metadata": {},
   "outputs": [],
   "source": [
    "# takes around 1.5 minutes to read the file\n",
    "metadata = read_tsv('metadata-0615/metadata.tsv')"
   ]
  },
  {
   "cell_type": "code",
   "execution_count": null,
   "id": "66f7e80d",
   "metadata": {},
   "outputs": [],
   "source": [
    "metadata.head()\n",
    "# print colnames\n",
    "print(metadata.columns)"
   ]
  },
  {
   "cell_type": "code",
   "execution_count": null,
   "id": "e431d6e3",
   "metadata": {},
   "outputs": [],
   "source": [
    "# keep rows with complete and high coverage genome\n",
    "print(metadata.shape)\n",
    "metadata_filtered = metadata[(metadata['Is complete?'] == True) & (metadata['Is high coverage?'] == True)]\n",
    "print(metadata_filtered.shape)"
   ]
  },
  {
   "cell_type": "code",
   "execution_count": null,
   "id": "5c6e1748",
   "metadata": {},
   "outputs": [],
   "source": [
    "important_columns = ['Virus name', 'Accession ID', 'Variant', 'Pango lineage', 'Clade', 'Collection date', 'Submission date', 'Location', 'Host']\n",
    "metadata_filtered = metadata_filtered[important_columns].reset_index(drop=True)\n",
    "metadata_filtered.head()"
   ]
  },
  {
   "cell_type": "code",
   "execution_count": null,
   "id": "ee3a3284",
   "metadata": {},
   "outputs": [],
   "source": [
    "# write the filtered metadata to a tsv file\n",
    "metadata_filtered.to_csv('metadata-0615/metadata_filtered.tsv', sep='\\t', index=False)"
   ]
  },
  {
   "attachments": {},
   "cell_type": "markdown",
   "id": "a570f031",
   "metadata": {},
   "source": [
    "# FILTER SEQUENCES"
   ]
  },
  {
   "cell_type": "code",
   "execution_count": 83,
   "id": "9e6351f7",
   "metadata": {},
   "outputs": [],
   "source": [
    "selected_variant = 'Eris' # 'New_Omicron' or 'Eris'"
   ]
  },
  {
   "cell_type": "code",
   "execution_count": 84,
   "id": "72ee6d97",
   "metadata": {},
   "outputs": [],
   "source": [
    "import pandas as pd\n",
    "from Bio import SeqIO\n",
    "\n",
    "def read_fasta(fasta_file):\n",
    "    fasta_sequences = SeqIO.parse(open(fasta_file, encoding=\"iso-8859-1\"), 'fasta')\n",
    "    return fasta_sequences"
   ]
  },
  {
   "cell_type": "code",
   "execution_count": 85,
   "id": "d23ca320",
   "metadata": {},
   "outputs": [],
   "source": [
    "df_metadata = pd.read_csv(\"metadata-0615/metadata_filtered.tsv\", sep=\"\\t\")"
   ]
  },
  {
   "cell_type": "code",
   "execution_count": 86,
   "id": "34de028e",
   "metadata": {},
   "outputs": [
    {
     "name": "stdout",
     "output_type": "stream",
     "text": [
      "Former VOC Omicron GRA (B.1.1.529+BA.*) first detected in Botswana/Hong Kong/South Africa\n",
      "VOI GRA (EG.5+EG.5.*) first detected in Indonesia/France\n"
     ]
    }
   ],
   "source": [
    "omic_acc, eris_acc = '', ''\n",
    "# print variant names including Eris or Omicron words\n",
    "unique_variants = df_metadata['Variant'].unique().tolist()\n",
    "# print names including Eris or Omicron\n",
    "for variant in unique_variants:\n",
    "    acc = str(variant)\n",
    "    if 'B.1.1.529' in acc:\n",
    "        omic_acc = acc\n",
    "    if 'EG.5' in acc:\n",
    "        eris_acc = acc\n",
    "\n",
    "print(omic_acc)\n",
    "print(eris_acc)"
   ]
  },
  {
   "cell_type": "code",
   "execution_count": 87,
   "id": "04a65540",
   "metadata": {},
   "outputs": [
    {
     "name": "stdout",
     "output_type": "stream",
     "text": [
      "6363\n"
     ]
    }
   ],
   "source": [
    "if selected_variant == 'New_Omicron':\n",
    "    selected_acc = omic_acc\n",
    "elif selected_variant == 'Eris':\n",
    "    selected_acc =  eris_acc\n",
    "\n",
    "# get accession ids for a specific variant\n",
    "df_selected = df_metadata[df_metadata['Variant'] == selected_acc]\n",
    "print(len(df_selected))"
   ]
  },
  {
   "cell_type": "code",
   "execution_count": 88,
   "id": "bcd09e68",
   "metadata": {},
   "outputs": [
    {
     "name": "stdout",
     "output_type": "stream",
     "text": [
      "6363\n"
     ]
    }
   ],
   "source": [
    "# filter out rows with missing accession ids\n",
    "df_selected = df_selected[df_selected['Accession ID'].notnull()]\n",
    "print(len(df_selected))"
   ]
  },
  {
   "cell_type": "code",
   "execution_count": 89,
   "id": "f701d93a",
   "metadata": {},
   "outputs": [
    {
     "name": "stdout",
     "output_type": "stream",
     "text": [
      "6349\n"
     ]
    }
   ],
   "source": [
    "# sort by date and print the last 10 dates\n",
    "df_selected = df_selected.sort_values('Submission date')\n",
    "# keep rows only with collection date is newer than 2023-05-20\n",
    "if selected_variant == 'New_Omicron':\n",
    "    df_selected_date = df_selected[df_selected['Submission date'] > '2023-06-01']\n",
    "elif selected_variant == 'Eris':\n",
    "    df_selected_date = df_selected[df_selected['Submission date'] > '2023-06-01']\n",
    "print(len(df_selected_date))"
   ]
  },
  {
   "cell_type": "code",
   "execution_count": 90,
   "id": "d1ba9a2a",
   "metadata": {},
   "outputs": [],
   "source": [
    "# keep only the collection data is in yyyy-mm-dd format\n",
    "#df_selected_date = df_selected_date[df_selected_date['Collection date'].str.match(r'\\d{4}-\\d{2}-\\d{2}')]\n",
    "#df_selected_date = df_selected_date.reset_index(drop=True)"
   ]
  },
  {
   "cell_type": "code",
   "execution_count": 91,
   "id": "03acc64c",
   "metadata": {},
   "outputs": [],
   "source": [
    "fseq_acc_filtered = read_fasta('spikeprot0508/spikeprot0508_acc_filtered.fasta') # created by filter_fseq.py"
   ]
  },
  {
   "cell_type": "code",
   "execution_count": 92,
   "id": "6c4edb36",
   "metadata": {},
   "outputs": [
    {
     "name": "stderr",
     "output_type": "stream",
     "text": [
      "42515it [00:00, 213205.43it/s]"
     ]
    },
    {
     "name": "stderr",
     "output_type": "stream",
     "text": [
      "11445409it [00:54, 211152.20it/s]"
     ]
    },
    {
     "name": "stdout",
     "output_type": "stream",
     "text": [
      "4638\n"
     ]
    },
    {
     "name": "stderr",
     "output_type": "stream",
     "text": [
      "\n"
     ]
    }
   ],
   "source": [
    "# Variant selection (Takes around 1 minute)\n",
    "\n",
    "from tqdm import tqdm\n",
    "\n",
    "# Convert the list to a set for faster lookup\n",
    "selected_accs_set = set(df_selected_date['Accession ID'].tolist())\n",
    "\n",
    "# Filter sequences using list comprehension\n",
    "fseq_selected = [record for record in tqdm(fseq_acc_filtered) if record.id in selected_accs_set]\n",
    "\n",
    "print(len(fseq_selected))"
   ]
  },
  {
   "cell_type": "code",
   "execution_count": 95,
   "id": "77b4af6a",
   "metadata": {},
   "outputs": [
    {
     "name": "stdout",
     "output_type": "stream",
     "text": [
      "initial:       4638\n",
      "length filter: 4638\n",
      "X filter:      4638\n"
     ]
    }
   ],
   "source": [
    "print(\"initial:      \", len(fseq_selected))\n",
    "# remove sequences shorter than 1235\n",
    "fseq_selected_hq = [record for record in fseq_selected if len(record.seq) > 1235]\n",
    "print(\"length filter:\", len(fseq_selected_hq))\n",
    "# remove sequences with more than 13 Xs\n",
    "fseq_selected_hq = [record for record in fseq_selected_hq if str(record.seq).count('X') < 13]\n",
    "print(\"X filter:     \", len(fseq_selected_hq))"
   ]
  },
  {
   "cell_type": "code",
   "execution_count": 96,
   "id": "24497aea",
   "metadata": {},
   "outputs": [],
   "source": [
    "# write the spike protein sequences for a specific variant to a fasta file\n",
    "with open(f'spikeprot0508/spikeprot0508_acc_filtered_{selected_variant}.fasta', 'w') as f:\n",
    "    for record in fseq_selected_hq:\n",
    "        f.write('>' + record.id + '\\n')\n",
    "        f.write(str(record.seq) + '\\n')"
   ]
  },
  {
   "cell_type": "code",
   "execution_count": 97,
   "id": "0d578d5a",
   "metadata": {},
   "outputs": [
    {
     "name": "stdout",
     "output_type": "stream",
     "text": [
      "2078\n"
     ]
    }
   ],
   "source": [
    "# get unique sequences for a specific variant\n",
    "def get_unique_sequences(fasta_file):\n",
    "    unique_sequences = []\n",
    "    unique_ids = []\n",
    "    for record in SeqIO.parse(open(fasta_file, encoding=\"iso-8859-1\"), 'fasta'):\n",
    "        if str(record.seq) not in unique_sequences:\n",
    "            unique_sequences.append(str(record.seq))\n",
    "            unique_ids.append(record.id)\n",
    "    return unique_sequences, unique_ids\n",
    "\n",
    "unique_sequences, unique_ids = get_unique_sequences(f'spikeprot0508/spikeprot0508_acc_filtered_{selected_variant}.fasta')\n",
    "\n",
    "print(len(unique_sequences))\n",
    "\n",
    "# write the unique sequences to a fasta file\n",
    "with open(f'spikeprot0508/spikeprot0508_acc_filtered_{selected_variant}_unique.fasta', 'w') as f:\n",
    "    for i, seq in enumerate(unique_sequences):\n",
    "        f.write('>' + unique_ids[i] + '\\n')\n",
    "        f.write(seq + '\\n')\n"
   ]
  },
  {
   "cell_type": "code",
   "execution_count": null,
   "id": "3bdd41b8",
   "metadata": {},
   "outputs": [],
   "source": [
    "# write the unique sequences to a fasta file\n",
    "with open(f'spikeprot0508/spikeprot0508_acc_filtered_{selected_variant}_unique.fasta', 'w') as f:\n",
    "    for i, seq in enumerate(unique_sequences):\n",
    "        f.write('>' + unique_ids[i] + '\\n')\n",
    "        f.write(seq + '\\n')"
   ]
  },
  {
   "cell_type": "code",
   "execution_count": 66,
   "id": "21e0e54d",
   "metadata": {},
   "outputs": [
    {
     "data": {
      "text/html": [
       "<div>\n",
       "<style scoped>\n",
       "    .dataframe tbody tr th:only-of-type {\n",
       "        vertical-align: middle;\n",
       "    }\n",
       "\n",
       "    .dataframe tbody tr th {\n",
       "        vertical-align: top;\n",
       "    }\n",
       "\n",
       "    .dataframe thead th {\n",
       "        text-align: right;\n",
       "    }\n",
       "</style>\n",
       "<table border=\"1\" class=\"dataframe\">\n",
       "  <thead>\n",
       "    <tr style=\"text-align: right;\">\n",
       "      <th></th>\n",
       "      <th>accession_id</th>\n",
       "      <th>sequence</th>\n",
       "    </tr>\n",
       "  </thead>\n",
       "  <tbody>\n",
       "    <tr>\n",
       "      <th>0</th>\n",
       "      <td>EPI_ISL_17740503</td>\n",
       "      <td>MFVFLVLLPLVSSQCVNLITRTQSYTNSFTRGVYYPDKVFRSSVLH...</td>\n",
       "    </tr>\n",
       "    <tr>\n",
       "      <th>1</th>\n",
       "      <td>EPI_ISL_17741975</td>\n",
       "      <td>MFVFLVLLPLVSSQCVNLITRTQSYTNSFTRGVYYPDKVFRSSVLH...</td>\n",
       "    </tr>\n",
       "    <tr>\n",
       "      <th>2</th>\n",
       "      <td>EPI_ISL_17742593</td>\n",
       "      <td>MFVFLVLLPLVSSQCVNLITRTQSYTNSFTRGVYYPDKVFRSSVLH...</td>\n",
       "    </tr>\n",
       "    <tr>\n",
       "      <th>3</th>\n",
       "      <td>EPI_ISL_17742616</td>\n",
       "      <td>MFVFLVLLPLVSSQCVNLITRTQSYTNSFTRGVYYPDKVFRSSVLH...</td>\n",
       "    </tr>\n",
       "    <tr>\n",
       "      <th>4</th>\n",
       "      <td>EPI_ISL_17742596</td>\n",
       "      <td>MFVFLVLLPLVSSQCVNLITRTQSYTNSFTRGVYYPDKVFRSSVLH...</td>\n",
       "    </tr>\n",
       "    <tr>\n",
       "      <th>...</th>\n",
       "      <td>...</td>\n",
       "      <td>...</td>\n",
       "    </tr>\n",
       "    <tr>\n",
       "      <th>2000</th>\n",
       "      <td>EPI_ISL_19084464</td>\n",
       "      <td>MFVFLVLLPLVSSQCVNLITTTQXXXXYTNSFTRGVYYPDKVFRSS...</td>\n",
       "    </tr>\n",
       "    <tr>\n",
       "      <th>2001</th>\n",
       "      <td>EPI_ISL_19084596</td>\n",
       "      <td>MFVFLVLLPLVSSQCVNLITRTQLSPAYTNSFTRGVYYPDKVFRSS...</td>\n",
       "    </tr>\n",
       "    <tr>\n",
       "      <th>2002</th>\n",
       "      <td>EPI_ISL_18229220</td>\n",
       "      <td>MFVFLVLLPLVSSQCVNLITRTQLSPAYTNSFTRGVYYPDKVFRSS...</td>\n",
       "    </tr>\n",
       "    <tr>\n",
       "      <th>2003</th>\n",
       "      <td>EPI_ISL_19086907</td>\n",
       "      <td>MFVFLVLLPLVSSQCVMPLFNLITTTQSYTNSFTRGVYYPDKVFRS...</td>\n",
       "    </tr>\n",
       "    <tr>\n",
       "      <th>2004</th>\n",
       "      <td>EPI_ISL_19090476</td>\n",
       "      <td>MFVFLVLLPLVSSQCVNLITRTQSYTNSFTRGVYYPDKVFRSSVLH...</td>\n",
       "    </tr>\n",
       "  </tbody>\n",
       "</table>\n",
       "<p>2005 rows × 2 columns</p>\n",
       "</div>"
      ],
      "text/plain": [
       "          accession_id                                           sequence\n",
       "0     EPI_ISL_17740503  MFVFLVLLPLVSSQCVNLITRTQSYTNSFTRGVYYPDKVFRSSVLH...\n",
       "1     EPI_ISL_17741975  MFVFLVLLPLVSSQCVNLITRTQSYTNSFTRGVYYPDKVFRSSVLH...\n",
       "2     EPI_ISL_17742593  MFVFLVLLPLVSSQCVNLITRTQSYTNSFTRGVYYPDKVFRSSVLH...\n",
       "3     EPI_ISL_17742616  MFVFLVLLPLVSSQCVNLITRTQSYTNSFTRGVYYPDKVFRSSVLH...\n",
       "4     EPI_ISL_17742596  MFVFLVLLPLVSSQCVNLITRTQSYTNSFTRGVYYPDKVFRSSVLH...\n",
       "...                ...                                                ...\n",
       "2000  EPI_ISL_19084464  MFVFLVLLPLVSSQCVNLITTTQXXXXYTNSFTRGVYYPDKVFRSS...\n",
       "2001  EPI_ISL_19084596  MFVFLVLLPLVSSQCVNLITRTQLSPAYTNSFTRGVYYPDKVFRSS...\n",
       "2002  EPI_ISL_18229220  MFVFLVLLPLVSSQCVNLITRTQLSPAYTNSFTRGVYYPDKVFRSS...\n",
       "2003  EPI_ISL_19086907  MFVFLVLLPLVSSQCVMPLFNLITTTQSYTNSFTRGVYYPDKVFRS...\n",
       "2004  EPI_ISL_19090476  MFVFLVLLPLVSSQCVNLITRTQSYTNSFTRGVYYPDKVFRSSVLH...\n",
       "\n",
       "[2005 rows x 2 columns]"
      ]
     },
     "execution_count": 66,
     "metadata": {},
     "output_type": "execute_result"
    }
   ],
   "source": [
    "# write to a csv file\n",
    "import pandas as pd\n",
    "from Bio import SeqIO\n",
    "\n",
    "def write_to_csv(fasta_file, csv_file):\n",
    "    with open(csv_file, 'w') as f:\n",
    "        f.write('accession_id,sequence\\n')\n",
    "        for record in SeqIO.parse(open(fasta_file, encoding=\"iso-8859-1\"), 'fasta'):\n",
    "            f.write(record.id + ',' + str(record.seq) + '\\n')\n",
    "\n",
    "write_to_csv(f'spikeprot0508/spikeprot0508_acc_filtered_{selected_variant}_unique.fasta',\n",
    "             f'spikeprot0508/unique_{selected_variant}_{len(unique_sequences)}.csv')\n",
    "\n",
    "# read the csv file\n",
    "unique_selected_sequences = pd.read_csv(f'spikeprot0508/unique_{selected_variant}_{len(unique_sequences)}.csv')\n",
    "unique_selected_sequences"
   ]
  },
  {
   "cell_type": "code",
   "execution_count": null,
   "id": "008735ae",
   "metadata": {},
   "outputs": [],
   "source": []
  },
  {
   "cell_type": "code",
   "execution_count": null,
   "id": "7013d52a",
   "metadata": {},
   "outputs": [],
   "source": []
  }
 ],
 "metadata": {
  "kernelspec": {
   "display_name": "pytorch38",
   "language": "python",
   "name": "python3"
  },
  "language_info": {
   "codemirror_mode": {
    "name": "ipython",
    "version": 3
   },
   "file_extension": ".py",
   "mimetype": "text/x-python",
   "name": "python",
   "nbconvert_exporter": "python",
   "pygments_lexer": "ipython3",
   "version": "3.8.16"
  }
 },
 "nbformat": 4,
 "nbformat_minor": 5
}
