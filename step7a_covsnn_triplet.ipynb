{
 "cells": [
  {
   "cell_type": "code",
   "execution_count": 2,
   "id": "b5e3bf08",
   "metadata": {},
   "outputs": [],
   "source": [
    "import os\n",
    "import pandas as pd\n",
    "import torch\n",
    "from torch import nn\n",
    "from torch.utils.data import DataLoader\n",
    "from tqdm.notebook import tqdm\n",
    "from sentence_transformers import SentenceTransformer, models, LoggingHandler, InputExample, losses, evaluation\n",
    "from sentence_transformers.losses.TripletLoss import TripletDistanceMetric\n",
    "from sentence_transformers.evaluation import SimilarityFunction\n",
    "import numpy as np\n",
    "import random\n",
    "seed = 42\n",
    "torch.manual_seed(seed)\n",
    "random.seed(seed)\n",
    "np.random.seed(seed)\n",
    "torch.backends.cudnn.deterministic = True\n",
    "torch.backends.cudnn.benchmark = False\n",
    "\n",
    "VOC_NAMES = [\"Alpha\", \"Beta\", \"Delta\", \"Gamma\", \"Omicron\"]\n",
    "LOSS_NAME = \"TripletLoss\""
   ]
  },
  {
   "cell_type": "code",
   "execution_count": 3,
   "id": "805e9f14",
   "metadata": {},
   "outputs": [
    {
     "name": "stderr",
     "output_type": "stream",
     "text": [
      "Some weights of the model checkpoint at ./mlm_checkpoints/CoV-RoBERTa_2048 were not used when initializing RobertaModel: ['lm_head.layer_norm.weight', 'lm_head.dense.bias', 'lm_head.bias', 'lm_head.dense.weight', 'lm_head.layer_norm.bias']\n",
      "- This IS expected if you are initializing RobertaModel from the checkpoint of a model trained on another task or with another architecture (e.g. initializing a BertForSequenceClassification model from a BertForPreTraining model).\n",
      "- This IS NOT expected if you are initializing RobertaModel from the checkpoint of a model that you expect to be exactly identical (initializing a BertForSequenceClassification model from a BertForSequenceClassification model).\n",
      "Some weights of RobertaModel were not initialized from the model checkpoint at ./mlm_checkpoints/CoV-RoBERTa_2048 and are newly initialized: ['roberta.pooler.dense.weight', 'roberta.pooler.dense.bias']\n",
      "You should probably TRAIN this model on a down-stream task to be able to use it for predictions and inference.\n"
     ]
    }
   ],
   "source": [
    "#word_embedding_model = models.Transformer(model_name_or_path=\"Rostlab/prot_bert\", max_seq_length=1280)\n",
    "EPOCHS = 30\n",
    "DO = 0.0\n",
    "LR = 1e-3\n",
    "POOLING_MODE = \"max\"\n",
    "modules = []\n",
    "\n",
    "\n",
    "\n",
    "encoder = models.Transformer(model_name_or_path=\"./mlm_checkpoints/CoV-RoBERTa_2048\",\n",
    "                                          max_seq_length=1280,\n",
    "                                          tokenizer_name_or_path=\"tok/\")\n",
    "modules.append(encoder)\n",
    "\n",
    "pooler = models.Pooling(encoder.get_word_embedding_dimension(),\n",
    "                        pooling_mode = POOLING_MODE,\n",
    "                        pooling_mode_cls_token = False,\n",
    "                        pooling_mode_max_tokens = False,\n",
    "                        pooling_mode_mean_tokens = False,\n",
    "                        pooling_mode_mean_sqrt_len_tokens = False,\n",
    "                        pooling_mode_weightedmean_tokens = False,\n",
    "                        pooling_mode_lasttoken = False,)\n",
    "modules.append(pooler)\n",
    "\n",
    "if DO > 0.0:\n",
    "    dropout = models.Dropout(DO)\n",
    "    modules.append(dropout)\n",
    "\n",
    "\n",
    "model = SentenceTransformer(modules=modules)"
   ]
  },
  {
   "attachments": {},
   "cell_type": "markdown",
   "id": "5073d929",
   "metadata": {},
   "source": [
    "# Generate Triplets"
   ]
  },
  {
   "cell_type": "code",
   "execution_count": 5,
   "id": "8feefe76",
   "metadata": {},
   "outputs": [
    {
     "name": "stdout",
     "output_type": "stream",
     "text": [
      "round 1\n",
      "round 2\n",
      "round 3\n",
      "round 4\n",
      "round 5\n",
      "round 6\n",
      "round 7\n",
      "round 8\n",
      "round 9\n",
      "round 10\n",
      "round 11\n",
      "round 12\n",
      "round 13\n",
      "round 14\n",
      "round 15\n",
      "round 16\n",
      "round 17\n",
      "round 18\n",
      "round 19\n",
      "round 20\n",
      "round 21\n",
      "round 22\n",
      "round 23\n",
      "round 24\n",
      "round 25\n",
      "round 26\n",
      "round 27\n",
      "round 28\n",
      "round 29\n",
      "round 30\n",
      "round 31\n",
      "round 32\n",
      "round 33\n",
      "round 34\n",
      "round 35\n",
      "round 36\n",
      "round 37\n",
      "round 38\n",
      "round 39\n",
      "round 40\n",
      "round 41\n",
      "round 42\n",
      "round 43\n",
      "round 44\n",
      "round 45\n",
      "round 46\n",
      "round 47\n",
      "round 48\n",
      "round 49\n",
      "round 50\n",
      "round 51\n",
      "round 52\n",
      "round 53\n",
      "round 54\n",
      "round 55\n",
      "round 56\n",
      "round 57\n",
      "round 58\n",
      "round 59\n",
      "round 60\n",
      "round 61\n",
      "round 62\n",
      "round 63\n",
      "round 64\n",
      "round 65\n",
      "round 66\n",
      "round 67\n",
      "round 68\n",
      "round 69\n",
      "round 70\n",
      "round 71\n",
      "round 72\n",
      "round 73\n",
      "round 74\n",
      "round 75\n",
      "round 76\n",
      "round 77\n",
      "round 78\n",
      "round 79\n",
      "round 80\n",
      "round 81\n",
      "round 82\n",
      "round 83\n",
      "round 84\n",
      "round 85\n",
      "round 86\n",
      "round 87\n",
      "round 88\n",
      "round 89\n",
      "round 90\n",
      "round 91\n",
      "round 92\n",
      "round 93\n",
      "round 94\n",
      "round 95\n",
      "round 96\n",
      "round 97\n",
      "round 98\n",
      "round 99\n",
      "round 100\n",
      "round 101\n",
      "round 102\n",
      "round 103\n",
      "round 104\n",
      "round 105\n",
      "round 106\n",
      "round 107\n",
      "round 108\n",
      "round 109\n",
      "round 110\n",
      "round 111\n",
      "round 112\n",
      "round 113\n",
      "round 114\n",
      "round 115\n",
      "round 116\n",
      "round 117\n",
      "round 118\n",
      "round 119\n",
      "round 120\n",
      "round 121\n",
      "round 122\n",
      "round 123\n",
      "round 124\n",
      "round 125\n",
      "round 126\n",
      "round 127\n",
      "round 128\n",
      "round 129\n",
      "round 130\n",
      "round 131\n",
      "round 132\n",
      "round 133\n",
      "round 134\n",
      "round 135\n",
      "round 136\n",
      "round 137\n",
      "round 138\n",
      "round 139\n",
      "round 140\n",
      "round 141\n",
      "round 142\n",
      "round 143\n",
      "round 144\n",
      "round 145\n",
      "round 146\n",
      "round 147\n",
      "round 148\n",
      "round 149\n",
      "round 150\n",
      "round 151\n",
      "round 152\n",
      "round 153\n",
      "round 154\n",
      "round 155\n",
      "round 156\n",
      "round 157\n",
      "round 158\n",
      "round 159\n",
      "round 160\n",
      "round 161\n",
      "round 162\n",
      "round 163\n",
      "round 164\n",
      "round 165\n",
      "round 166\n",
      "round 167\n",
      "round 168\n",
      "round 169\n",
      "round 170\n",
      "round 171\n",
      "round 172\n",
      "round 173\n",
      "round 174\n",
      "round 175\n",
      "round 176\n",
      "round 177\n",
      "round 178\n",
      "round 179\n",
      "round 180\n",
      "round 181\n",
      "round 182\n",
      "round 183\n",
      "round 184\n",
      "round 185\n",
      "round 186\n",
      "round 187\n",
      "round 188\n",
      "round 189\n",
      "round 190\n",
      "round 191\n",
      "round 192\n",
      "round 193\n",
      "round 194\n",
      "round 195\n",
      "round 196\n",
      "round 197\n",
      "round 198\n",
      "round 199\n",
      "round 200\n",
      "round 201\n",
      "round 202\n",
      "round 203\n",
      "round 204\n",
      "round 205\n",
      "round 206\n",
      "round 207\n",
      "round 208\n",
      "round 209\n",
      "round 210\n",
      "round 211\n",
      "round 212\n",
      "round 213\n",
      "round 214\n",
      "round 215\n",
      "round 216\n",
      "round 217\n",
      "round 218\n",
      "round 219\n",
      "round 220\n",
      "round 221\n",
      "round 222\n",
      "round 223\n",
      "round 224\n",
      "round 225\n",
      "round 226\n",
      "round 227\n",
      "round 228\n",
      "round 229\n",
      "round 230\n",
      "round 231\n",
      "round 232\n",
      "round 233\n",
      "round 234\n",
      "round 235\n",
      "round 236\n",
      "round 237\n",
      "round 238\n",
      "round 239\n",
      "round 240\n",
      "round 241\n",
      "round 242\n",
      "round 243\n",
      "round 244\n",
      "round 245\n",
      "round 246\n",
      "round 247\n",
      "round 248\n",
      "round 249\n",
      "round 250\n",
      "round 251\n",
      "round 252\n",
      "round 253\n",
      "round 254\n",
      "round 255\n",
      "round 256\n",
      "round 257\n",
      "round 258\n",
      "round 259\n",
      "round 260\n",
      "round 261\n",
      "round 262\n",
      "round 263\n",
      "round 264\n",
      "round 265\n",
      "round 266\n",
      "round 267\n",
      "round 268\n",
      "round 269\n",
      "round 270\n",
      "round 271\n",
      "round 272\n",
      "round 273\n",
      "round 274\n",
      "round 275\n",
      "round 276\n",
      "round 277\n",
      "round 278\n",
      "round 279\n",
      "round 280\n",
      "round 281\n",
      "round 282\n",
      "round 283\n",
      "round 284\n",
      "round 285\n",
      "round 286\n",
      "round 287\n",
      "round 288\n",
      "round 289\n",
      "round 290\n",
      "round 291\n",
      "round 292\n",
      "round 293\n",
      "round 294\n",
      "round 295\n",
      "round 296\n",
      "round 297\n",
      "round 298\n",
      "round 299\n",
      "round 300\n",
      "round 301\n",
      "round 302\n",
      "round 303\n",
      "round 304\n",
      "round 305\n",
      "round 306\n",
      "round 307\n",
      "round 308\n",
      "round 309\n",
      "round 310\n",
      "round 311\n",
      "round 312\n",
      "round 313\n",
      "round 314\n",
      "round 315\n",
      "round 316\n",
      "round 317\n",
      "round 318\n",
      "round 319\n",
      "round 320\n",
      "round 321\n",
      "round 322\n",
      "round 323\n",
      "round 324\n",
      "round 325\n",
      "round 326\n",
      "round 327\n",
      "round 328\n",
      "round 329\n",
      "round 330\n",
      "round 331\n",
      "round 332\n",
      "round 333\n",
      "round 334\n",
      "len(examples):  6664\n",
      "len(sequences[0]):  0\n",
      "len(sequences[1]):  1\n",
      "len(sequences[2]):  1\n",
      "len(sequences[3]):  1\n",
      "len(sequences[4]):  1\n"
     ]
    }
   ],
   "source": [
    "sequences = []\n",
    "for voc_name in VOC_NAMES:\n",
    "    sequences.append(pd.read_csv(f\"data/unique_{voc_name}_2k.csv\")[\"sequence\"].tolist())\n",
    "\n",
    "# sequences = [[\"00\" + str(i) for i in range(10, 34)],\n",
    "#              [\"10\" + str(i) for i in range(10, 34)],\n",
    "#              [\"20\" + str(i) for i in range(10, 34)],\n",
    "#              [\"30\" + str(i) for i in range(10, 34)],\n",
    "#              [\"40\" + str(i) for i in range(10, 34)]]\n",
    "\n",
    "examples = []\n",
    "r = 1\n",
    "done = False\n",
    "while not done:\n",
    "    print(\"round\", r)\n",
    "    for a_p_list_id in range(len(sequences)):\n",
    "        n_list_ids = list(range(len(sequences))).copy()\n",
    "        n_list_ids.remove(a_p_list_id)\n",
    "        #print(\"n_list_ids: \", n_list_ids)\n",
    "        anchor_positive_list = sequences[a_p_list_id]\n",
    "        anchor_index = random.randint(0, len(anchor_positive_list) - 1)\n",
    "        anchor = anchor_positive_list[anchor_index]\n",
    "        anchor_positive_list.pop(anchor_index)\n",
    "        positive_index = random.randint(0, len(anchor_positive_list) - 1)\n",
    "        positive = anchor_positive_list[positive_index]\n",
    "        anchor_positive_list.pop(positive_index)\n",
    "\n",
    "        for n_list_id in n_list_ids:\n",
    "            negative_list = sequences[n_list_id]\n",
    "            negative_index = random.randint(0, len(negative_list) - 1)\n",
    "            negative = negative_list[negative_index]\n",
    "            negative_list.pop(negative_index)\n",
    "            triplet = [anchor, positive, negative]\n",
    "            examples.append(InputExample(texts=triplet))\n",
    "            #print(triplet)\n",
    "        if len(sequences[0]) == 0 or len(sequences[1]) == 0 or len(sequences[2]) == 0 or len(sequences[3]) == 0 or len(sequences[4]) == 0:\n",
    "            done = True\n",
    "            break\n",
    "    r += 1\n",
    "\n",
    "print(\"len(examples): \", len(examples))\n",
    "print(\"len(sequences[0]): \", len(sequences[0]))\n",
    "print(\"len(sequences[1]): \", len(sequences[1]))\n",
    "print(\"len(sequences[2]): \", len(sequences[2]))\n",
    "print(\"len(sequences[3]): \", len(sequences[3]))\n",
    "print(\"len(sequences[4]): \", len(sequences[4]))"
   ]
  },
  {
   "cell_type": "code",
   "execution_count": 6,
   "id": "8daf4622",
   "metadata": {},
   "outputs": [],
   "source": [
    "# split examples list into train, validation and test sets\n",
    "random.shuffle(examples)\n",
    "train_size = int(len(examples) * 0.8)\n",
    "val_size = int(len(examples) * 0.1)\n",
    "train_examples = examples[:train_size]\n",
    "val_examples = examples[train_size:train_size + val_size]\n",
    "test_examples = examples[train_size + val_size:]"
   ]
  },
  {
   "cell_type": "code",
   "execution_count": 7,
   "id": "229a24f6",
   "metadata": {},
   "outputs": [],
   "source": [
    "batch_size = 200 \n",
    "train_dataloader = DataLoader(train_examples, shuffle=True, batch_size=batch_size)\n",
    "dev_dataloader = DataLoader(val_examples, shuffle=False, batch_size=batch_size)\n",
    "test_dataloader = DataLoader(test_examples, shuffle=False, batch_size=batch_size)"
   ]
  },
  {
   "cell_type": "code",
   "execution_count": 8,
   "id": "075fce6a",
   "metadata": {},
   "outputs": [],
   "source": [
    "train_loss = losses.TripletLoss(model=model, distance_metric=TripletDistanceMetric.EUCLIDEAN, triplet_margin=5)"
   ]
  },
  {
   "cell_type": "code",
   "execution_count": 9,
   "id": "e6ba708b",
   "metadata": {},
   "outputs": [],
   "source": [
    "evaluator = evaluation.TripletEvaluator.from_input_examples(val_examples, main_distance_function=SimilarityFunction.EUCLIDEAN, name='validation')"
   ]
  },
  {
   "cell_type": "code",
   "execution_count": 11,
   "id": "976fb301",
   "metadata": {},
   "outputs": [],
   "source": [
    "import os\n",
    "\n",
    "# Create output directory if needed\n",
    "output_dir = f\"./{LOSS_NAME}_output_{POOLING_MODE}\"\n",
    "checkpoint_dir = f\"./{LOSS_NAME}_output_{POOLING_MODE}/checkpoints\"\n",
    "evaluator_dir = f\"./{LOSS_NAME}_output_{POOLING_MODE}/eval\"\n",
    "\n",
    "if not os.path.exists(output_dir):\n",
    "    os.makedirs(output_dir)\n",
    "if not os.path.exists(checkpoint_dir):\n",
    "    os.makedirs(checkpoint_dir)\n",
    "if not os.path.exists(evaluator_dir):\n",
    "    os.makedirs(evaluator_dir)\n",
    "\n",
    "# read loss values from csv:\n",
    "train_results_file = os.path.join(output_dir, 'eval', 'training_results.csv')\n",
    "val_results_file = os.path.join(output_dir, 'eval', 'validation_results.csv')"
   ]
  },
  {
   "cell_type": "code",
   "execution_count": 9,
   "id": "71ba333c",
   "metadata": {},
   "outputs": [
    {
     "name": "stdout",
     "output_type": "stream",
     "text": [
      "File ./TripletLoss_output_max/eval/training_results.csv deleted successfully.\n",
      "File ./TripletLoss_output_max/eval/validation_results.csv deleted successfully.\n"
     ]
    }
   ],
   "source": [
    "# Check if the file exists before attempting to delete\n",
    "if os.path.exists(train_results_file):\n",
    "    try:\n",
    "        # Attempt to remove the file\n",
    "        os.remove(train_results_file)\n",
    "        print(f\"File {train_results_file} deleted successfully.\")\n",
    "    except Exception as e:\n",
    "        print(f\"An error occurred: {e}\")\n",
    "else:\n",
    "    print(f\"File {train_results_file} does not exist.\")\n",
    "\n",
    "# Check if the file exists before attempting to delete\n",
    "if os.path.exists(val_results_file):\n",
    "    try:\n",
    "        # Attempt to remove the file\n",
    "        os.remove(val_results_file)\n",
    "        print(f\"File {val_results_file} deleted successfully.\")\n",
    "    except Exception as e:\n",
    "        print(f\"An error occurred: {e}\")\n",
    "else:\n",
    "    print(f\"File {val_results_file} does not exist.\")"
   ]
  },
  {
   "cell_type": "code",
   "execution_count": 10,
   "id": "25a6df7f",
   "metadata": {},
   "outputs": [
    {
     "name": "stdout",
     "output_type": "stream",
     "text": [
      "DO=0.0   LR=0.001   EPOCHS=30\n"
     ]
    },
    {
     "data": {
      "application/vnd.jupyter.widget-view+json": {
       "model_id": "351e3d9072504fbfacda24f6f97a943a",
       "version_major": 2,
       "version_minor": 0
      },
      "text/plain": [
       "Epoch:   0%|          | 0/30 [00:00<?, ?it/s]"
      ]
     },
     "metadata": {},
     "output_type": "display_data"
    },
    {
     "data": {
      "application/vnd.jupyter.widget-view+json": {
       "model_id": "dcf7c7cfa9854897a2b29f108c040920",
       "version_major": 2,
       "version_minor": 0
      },
      "text/plain": [
       "Iteration:   0%|          | 0/27 [00:00<?, ?it/s]"
      ]
     },
     "metadata": {},
     "output_type": "display_data"
    },
    {
     "name": "stdout",
     "output_type": "stream",
     "text": [
      "--- Epoch 0 ---\n",
      "Train Loss = 5.25   Train Accuracy = 45.80\n",
      "Valid Loss = 4.90   Valid Accuracy = 52.85\n"
     ]
    },
    {
     "data": {
      "application/vnd.jupyter.widget-view+json": {
       "model_id": "482e14df65f54648b8aabce36720aaf3",
       "version_major": 2,
       "version_minor": 0
      },
      "text/plain": [
       "Iteration:   0%|          | 0/27 [00:00<?, ?it/s]"
      ]
     },
     "metadata": {},
     "output_type": "display_data"
    },
    {
     "name": "stdout",
     "output_type": "stream",
     "text": [
      "--- Epoch 1 ---\n",
      "Train Loss = 4.94   Train Accuracy = 54.96\n",
      "Valid Loss = 4.55   Valid Accuracy = 56.76\n"
     ]
    },
    {
     "data": {
      "application/vnd.jupyter.widget-view+json": {
       "model_id": "ec3a55eb4e1c46a9a3e83b19331948a1",
       "version_major": 2,
       "version_minor": 0
      },
      "text/plain": [
       "Iteration:   0%|          | 0/27 [00:00<?, ?it/s]"
      ]
     },
     "metadata": {},
     "output_type": "display_data"
    },
    {
     "name": "stdout",
     "output_type": "stream",
     "text": [
      "--- Epoch 2 ---\n",
      "Train Loss = 3.97   Train Accuracy = 69.47\n",
      "Valid Loss = 3.93   Valid Accuracy = 64.71\n"
     ]
    },
    {
     "data": {
      "application/vnd.jupyter.widget-view+json": {
       "model_id": "386912504df549d9a5d167c5032448d1",
       "version_major": 2,
       "version_minor": 0
      },
      "text/plain": [
       "Iteration:   0%|          | 0/27 [00:00<?, ?it/s]"
      ]
     },
     "metadata": {},
     "output_type": "display_data"
    },
    {
     "name": "stdout",
     "output_type": "stream",
     "text": [
      "--- Epoch 3 ---\n",
      "Train Loss = 2.59   Train Accuracy = 79.39\n",
      "Valid Loss = 3.00   Valid Accuracy = 74.32\n"
     ]
    },
    {
     "data": {
      "application/vnd.jupyter.widget-view+json": {
       "model_id": "e79c7477436842a8a1c9c4d2624cd9fc",
       "version_major": 2,
       "version_minor": 0
      },
      "text/plain": [
       "Iteration:   0%|          | 0/27 [00:00<?, ?it/s]"
      ]
     },
     "metadata": {},
     "output_type": "display_data"
    },
    {
     "name": "stdout",
     "output_type": "stream",
     "text": [
      "--- Epoch 4 ---\n",
      "Train Loss = 1.92   Train Accuracy = 86.26\n",
      "Valid Loss = 2.26   Valid Accuracy = 81.53\n"
     ]
    },
    {
     "data": {
      "application/vnd.jupyter.widget-view+json": {
       "model_id": "c4c40d4c1655433b8ecaabfc83aaf361",
       "version_major": 2,
       "version_minor": 0
      },
      "text/plain": [
       "Iteration:   0%|          | 0/27 [00:00<?, ?it/s]"
      ]
     },
     "metadata": {},
     "output_type": "display_data"
    },
    {
     "name": "stdout",
     "output_type": "stream",
     "text": [
      "--- Epoch 5 ---\n",
      "Train Loss = 1.53   Train Accuracy = 87.02\n",
      "Valid Loss = 1.67   Valid Accuracy = 86.04\n"
     ]
    },
    {
     "data": {
      "application/vnd.jupyter.widget-view+json": {
       "model_id": "96554ad785fe4d1ca993d8576b667436",
       "version_major": 2,
       "version_minor": 0
      },
      "text/plain": [
       "Iteration:   0%|          | 0/27 [00:00<?, ?it/s]"
      ]
     },
     "metadata": {},
     "output_type": "display_data"
    },
    {
     "name": "stdout",
     "output_type": "stream",
     "text": [
      "--- Epoch 6 ---\n",
      "Train Loss = 0.90   Train Accuracy = 95.42\n",
      "Valid Loss = 1.28   Valid Accuracy = 88.59\n"
     ]
    },
    {
     "data": {
      "application/vnd.jupyter.widget-view+json": {
       "model_id": "374f92a698364becb4aa952b0f036d81",
       "version_major": 2,
       "version_minor": 0
      },
      "text/plain": [
       "Iteration:   0%|          | 0/27 [00:00<?, ?it/s]"
      ]
     },
     "metadata": {},
     "output_type": "display_data"
    },
    {
     "name": "stdout",
     "output_type": "stream",
     "text": [
      "--- Epoch 7 ---\n",
      "Train Loss = 0.64   Train Accuracy = 96.18\n",
      "Valid Loss = 0.97   Valid Accuracy = 91.59\n"
     ]
    },
    {
     "data": {
      "application/vnd.jupyter.widget-view+json": {
       "model_id": "11b940d49a84424fa55a5397614f39a3",
       "version_major": 2,
       "version_minor": 0
      },
      "text/plain": [
       "Iteration:   0%|          | 0/27 [00:00<?, ?it/s]"
      ]
     },
     "metadata": {},
     "output_type": "display_data"
    },
    {
     "name": "stdout",
     "output_type": "stream",
     "text": [
      "--- Epoch 8 ---\n",
      "Train Loss = 0.29   Train Accuracy = 100.00\n",
      "Valid Loss = 0.84   Valid Accuracy = 92.94\n"
     ]
    },
    {
     "data": {
      "application/vnd.jupyter.widget-view+json": {
       "model_id": "1c5998960b4f4af88220337c515a8d52",
       "version_major": 2,
       "version_minor": 0
      },
      "text/plain": [
       "Iteration:   0%|          | 0/27 [00:00<?, ?it/s]"
      ]
     },
     "metadata": {},
     "output_type": "display_data"
    },
    {
     "name": "stdout",
     "output_type": "stream",
     "text": [
      "--- Epoch 9 ---\n",
      "Train Loss = 0.48   Train Accuracy = 95.42\n",
      "Valid Loss = 0.69   Valid Accuracy = 93.99\n"
     ]
    },
    {
     "data": {
      "application/vnd.jupyter.widget-view+json": {
       "model_id": "908602fe21fe4c28951d9571a7abd428",
       "version_major": 2,
       "version_minor": 0
      },
      "text/plain": [
       "Iteration:   0%|          | 0/27 [00:00<?, ?it/s]"
      ]
     },
     "metadata": {},
     "output_type": "display_data"
    },
    {
     "name": "stdout",
     "output_type": "stream",
     "text": [
      "--- Epoch 10 ---\n",
      "Train Loss = 0.14   Train Accuracy = 98.47\n",
      "Valid Loss = 0.63   Valid Accuracy = 94.29\n"
     ]
    },
    {
     "data": {
      "application/vnd.jupyter.widget-view+json": {
       "model_id": "794bb0576b844ac386e11e8a40f0bf86",
       "version_major": 2,
       "version_minor": 0
      },
      "text/plain": [
       "Iteration:   0%|          | 0/27 [00:00<?, ?it/s]"
      ]
     },
     "metadata": {},
     "output_type": "display_data"
    },
    {
     "name": "stdout",
     "output_type": "stream",
     "text": [
      "--- Epoch 11 ---\n",
      "Train Loss = 0.04   Train Accuracy = 100.00\n",
      "Valid Loss = 0.55   Valid Accuracy = 96.10\n"
     ]
    },
    {
     "data": {
      "application/vnd.jupyter.widget-view+json": {
       "model_id": "31ab16121bd449178b9e4517cc95f7a4",
       "version_major": 2,
       "version_minor": 0
      },
      "text/plain": [
       "Iteration:   0%|          | 0/27 [00:00<?, ?it/s]"
      ]
     },
     "metadata": {},
     "output_type": "display_data"
    },
    {
     "name": "stdout",
     "output_type": "stream",
     "text": [
      "--- Epoch 12 ---\n",
      "Train Loss = 0.02   Train Accuracy = 100.00\n",
      "Valid Loss = 0.55   Valid Accuracy = 95.65\n"
     ]
    },
    {
     "data": {
      "application/vnd.jupyter.widget-view+json": {
       "model_id": "506e12ae7f1f4677b2800a07e1287f91",
       "version_major": 2,
       "version_minor": 0
      },
      "text/plain": [
       "Iteration:   0%|          | 0/27 [00:00<?, ?it/s]"
      ]
     },
     "metadata": {},
     "output_type": "display_data"
    },
    {
     "name": "stdout",
     "output_type": "stream",
     "text": [
      "--- Epoch 13 ---\n",
      "Train Loss = 0.09   Train Accuracy = 99.24\n",
      "Valid Loss = 0.59   Valid Accuracy = 95.35\n"
     ]
    },
    {
     "data": {
      "application/vnd.jupyter.widget-view+json": {
       "model_id": "e081ac90ffd6427c81cb448693fdb9ef",
       "version_major": 2,
       "version_minor": 0
      },
      "text/plain": [
       "Iteration:   0%|          | 0/27 [00:00<?, ?it/s]"
      ]
     },
     "metadata": {},
     "output_type": "display_data"
    },
    {
     "name": "stdout",
     "output_type": "stream",
     "text": [
      "--- Epoch 14 ---\n",
      "Train Loss = 0.09   Train Accuracy = 99.24\n",
      "Valid Loss = 0.47   Valid Accuracy = 96.40\n"
     ]
    },
    {
     "data": {
      "application/vnd.jupyter.widget-view+json": {
       "model_id": "97e0c9ce663b4509afeddd29887e29e2",
       "version_major": 2,
       "version_minor": 0
      },
      "text/plain": [
       "Iteration:   0%|          | 0/27 [00:00<?, ?it/s]"
      ]
     },
     "metadata": {},
     "output_type": "display_data"
    },
    {
     "name": "stdout",
     "output_type": "stream",
     "text": [
      "--- Epoch 15 ---\n",
      "Train Loss = 0.01   Train Accuracy = 100.00\n",
      "Valid Loss = 0.34   Valid Accuracy = 97.15\n"
     ]
    },
    {
     "data": {
      "application/vnd.jupyter.widget-view+json": {
       "model_id": "01d104746d9643fe9580d0516f9371fd",
       "version_major": 2,
       "version_minor": 0
      },
      "text/plain": [
       "Iteration:   0%|          | 0/27 [00:00<?, ?it/s]"
      ]
     },
     "metadata": {},
     "output_type": "display_data"
    },
    {
     "name": "stdout",
     "output_type": "stream",
     "text": [
      "--- Epoch 16 ---\n",
      "Train Loss = 0.06   Train Accuracy = 99.24\n",
      "Valid Loss = 0.35   Valid Accuracy = 97.00\n"
     ]
    },
    {
     "data": {
      "application/vnd.jupyter.widget-view+json": {
       "model_id": "419766049a9a4f1db7ec5d6fd364912e",
       "version_major": 2,
       "version_minor": 0
      },
      "text/plain": [
       "Iteration:   0%|          | 0/27 [00:00<?, ?it/s]"
      ]
     },
     "metadata": {},
     "output_type": "display_data"
    },
    {
     "name": "stdout",
     "output_type": "stream",
     "text": [
      "--- Epoch 17 ---\n",
      "Train Loss = 0.12   Train Accuracy = 99.24\n",
      "Valid Loss = 0.38   Valid Accuracy = 97.60\n"
     ]
    },
    {
     "data": {
      "application/vnd.jupyter.widget-view+json": {
       "model_id": "d0b44a5984174d6c9ffc648b80bd26b1",
       "version_major": 2,
       "version_minor": 0
      },
      "text/plain": [
       "Iteration:   0%|          | 0/27 [00:00<?, ?it/s]"
      ]
     },
     "metadata": {},
     "output_type": "display_data"
    },
    {
     "name": "stdout",
     "output_type": "stream",
     "text": [
      "--- Epoch 18 ---\n",
      "Train Loss = 0.05   Train Accuracy = 99.24\n",
      "Valid Loss = 0.38   Valid Accuracy = 97.00\n"
     ]
    },
    {
     "data": {
      "application/vnd.jupyter.widget-view+json": {
       "model_id": "7def290609104f2bbb05afefc3a4a04f",
       "version_major": 2,
       "version_minor": 0
      },
      "text/plain": [
       "Iteration:   0%|          | 0/27 [00:00<?, ?it/s]"
      ]
     },
     "metadata": {},
     "output_type": "display_data"
    },
    {
     "name": "stdout",
     "output_type": "stream",
     "text": [
      "--- Epoch 19 ---\n",
      "Train Loss = 0.09   Train Accuracy = 99.24\n",
      "Valid Loss = 0.39   Valid Accuracy = 96.70\n"
     ]
    },
    {
     "data": {
      "application/vnd.jupyter.widget-view+json": {
       "model_id": "ed2d1bcfa2544430aabcf28cc081403e",
       "version_major": 2,
       "version_minor": 0
      },
      "text/plain": [
       "Iteration:   0%|          | 0/27 [00:00<?, ?it/s]"
      ]
     },
     "metadata": {},
     "output_type": "display_data"
    },
    {
     "name": "stdout",
     "output_type": "stream",
     "text": [
      "--- Epoch 20 ---\n",
      "Train Loss = 0.01   Train Accuracy = 100.00\n",
      "Valid Loss = 0.36   Valid Accuracy = 97.45\n"
     ]
    },
    {
     "data": {
      "application/vnd.jupyter.widget-view+json": {
       "model_id": "a1e45e63c1b7405aa155d9fd6d0272de",
       "version_major": 2,
       "version_minor": 0
      },
      "text/plain": [
       "Iteration:   0%|          | 0/27 [00:00<?, ?it/s]"
      ]
     },
     "metadata": {},
     "output_type": "display_data"
    },
    {
     "name": "stdout",
     "output_type": "stream",
     "text": [
      "--- Epoch 21 ---\n",
      "Train Loss = 0.15   Train Accuracy = 98.47\n",
      "Valid Loss = 0.46   Valid Accuracy = 96.25\n"
     ]
    },
    {
     "data": {
      "application/vnd.jupyter.widget-view+json": {
       "model_id": "2a93b8ba314b4ba6a00b015eabe7a8be",
       "version_major": 2,
       "version_minor": 0
      },
      "text/plain": [
       "Iteration:   0%|          | 0/27 [00:00<?, ?it/s]"
      ]
     },
     "metadata": {},
     "output_type": "display_data"
    },
    {
     "name": "stdout",
     "output_type": "stream",
     "text": [
      "--- Epoch 22 ---\n",
      "Train Loss = 0.03   Train Accuracy = 100.00\n",
      "Valid Loss = 0.38   Valid Accuracy = 96.55\n"
     ]
    },
    {
     "data": {
      "application/vnd.jupyter.widget-view+json": {
       "model_id": "ba50c84157f94d3396648ded4cfdfad2",
       "version_major": 2,
       "version_minor": 0
      },
      "text/plain": [
       "Iteration:   0%|          | 0/27 [00:00<?, ?it/s]"
      ]
     },
     "metadata": {},
     "output_type": "display_data"
    },
    {
     "name": "stdout",
     "output_type": "stream",
     "text": [
      "--- Epoch 23 ---\n",
      "Train Loss = 0.00   Train Accuracy = 100.00\n",
      "Valid Loss = 0.41   Valid Accuracy = 96.55\n"
     ]
    },
    {
     "data": {
      "application/vnd.jupyter.widget-view+json": {
       "model_id": "2c5d6353308a43f2b745f7a7e54dd497",
       "version_major": 2,
       "version_minor": 0
      },
      "text/plain": [
       "Iteration:   0%|          | 0/27 [00:00<?, ?it/s]"
      ]
     },
     "metadata": {},
     "output_type": "display_data"
    },
    {
     "name": "stdout",
     "output_type": "stream",
     "text": [
      "--- Epoch 24 ---\n",
      "Train Loss = 0.10   Train Accuracy = 99.24\n",
      "Valid Loss = 0.45   Valid Accuracy = 96.10\n"
     ]
    },
    {
     "data": {
      "application/vnd.jupyter.widget-view+json": {
       "model_id": "3f9a482e9bda49ee866f1b439d68b154",
       "version_major": 2,
       "version_minor": 0
      },
      "text/plain": [
       "Iteration:   0%|          | 0/27 [00:00<?, ?it/s]"
      ]
     },
     "metadata": {},
     "output_type": "display_data"
    },
    {
     "name": "stdout",
     "output_type": "stream",
     "text": [
      "--- Epoch 25 ---\n",
      "Train Loss = 0.16   Train Accuracy = 98.47\n",
      "Valid Loss = 0.34   Valid Accuracy = 97.30\n"
     ]
    },
    {
     "data": {
      "application/vnd.jupyter.widget-view+json": {
       "model_id": "0dea024818cf40d4b81fca928457b702",
       "version_major": 2,
       "version_minor": 0
      },
      "text/plain": [
       "Iteration:   0%|          | 0/27 [00:00<?, ?it/s]"
      ]
     },
     "metadata": {},
     "output_type": "display_data"
    },
    {
     "name": "stdout",
     "output_type": "stream",
     "text": [
      "--- Epoch 26 ---\n",
      "Train Loss = 0.06   Train Accuracy = 100.00\n",
      "Valid Loss = 0.31   Valid Accuracy = 97.60\n"
     ]
    },
    {
     "data": {
      "application/vnd.jupyter.widget-view+json": {
       "model_id": "3b65a8f4c47a43e2b07a317395cd406b",
       "version_major": 2,
       "version_minor": 0
      },
      "text/plain": [
       "Iteration:   0%|          | 0/27 [00:00<?, ?it/s]"
      ]
     },
     "metadata": {},
     "output_type": "display_data"
    },
    {
     "name": "stdout",
     "output_type": "stream",
     "text": [
      "--- Epoch 27 ---\n",
      "Train Loss = 0.01   Train Accuracy = 100.00\n",
      "Valid Loss = 0.32   Valid Accuracy = 97.15\n"
     ]
    },
    {
     "data": {
      "application/vnd.jupyter.widget-view+json": {
       "model_id": "b0d77022180647338ce137ba0fccffd1",
       "version_major": 2,
       "version_minor": 0
      },
      "text/plain": [
       "Iteration:   0%|          | 0/27 [00:00<?, ?it/s]"
      ]
     },
     "metadata": {},
     "output_type": "display_data"
    },
    {
     "name": "stdout",
     "output_type": "stream",
     "text": [
      "--- Epoch 28 ---\n",
      "Train Loss = 0.02   Train Accuracy = 100.00\n",
      "Valid Loss = 0.29   Valid Accuracy = 97.90\n"
     ]
    },
    {
     "data": {
      "application/vnd.jupyter.widget-view+json": {
       "model_id": "53d3f1a6a04d4162a27091ea4e51a5ba",
       "version_major": 2,
       "version_minor": 0
      },
      "text/plain": [
       "Iteration:   0%|          | 0/27 [00:00<?, ?it/s]"
      ]
     },
     "metadata": {},
     "output_type": "display_data"
    },
    {
     "name": "stdout",
     "output_type": "stream",
     "text": [
      "--- Epoch 29 ---\n",
      "Train Loss = 0.00   Train Accuracy = 100.00\n",
      "Valid Loss = 0.30   Valid Accuracy = 97.45\n"
     ]
    }
   ],
   "source": [
    "print(f\"DO={DO}   LR={LR}   EPOCHS={EPOCHS}\")\n",
    "\n",
    "model.fit(train_objectives=[(train_dataloader, train_loss)],\n",
    "          evaluator=evaluator,\n",
    "          epochs=EPOCHS,\n",
    "          optimizer_params= {'lr': LR}, # 1e-3 for CoV-RoBERTa, 1e-6 for ProtBERT\n",
    "          weight_decay=0.1, # 0.1 for CoV-RoBERTa, 0.01 for ProtBERT\n",
    "          #evaluation_steps=20, # run an evalution in every 10% \n",
    "          output_path=output_dir,\n",
    "          save_best_model=True,\n",
    "          checkpoint_path=checkpoint_dir,\n",
    "          checkpoint_save_steps=500,\n",
    "          checkpoint_save_total_limit=2,\n",
    "          show_progress_bar=True,\n",
    "          loss_name=LOSS_NAME)"
   ]
  },
  {
   "cell_type": "code",
   "execution_count": 11,
   "id": "84faab3b",
   "metadata": {},
   "outputs": [
    {
     "data": {
      "image/png": "[encoded data removed]",
      "text/plain": [
       "<Figure size 1080x360 with 2 Axes>"
      ]
     },
     "metadata": {
      "needs_background": "light"
     },
     "output_type": "display_data"
    }
   ],
   "source": [
    "# Plot the training and validation loss and accuracy\n",
    "import matplotlib.pyplot as plt\n",
    "\n",
    "# read loss values from csv:\n",
    "train_results = pd.read_csv(train_results_file)\n",
    "val_results = pd.read_csv(val_results_file)\n",
    "\n",
    "# plot loss and accuracy figures side by side\n",
    "fig, axs = plt.subplots(1, 2, figsize=(15, 5))\n",
    "axs[0].plot(train_results[\"epoch\"], train_results[\"loss\"], label=\"Training\")\n",
    "axs[0].plot(val_results[\"epoch\"], val_results[\"loss\"], label=\"Validation\")\n",
    "axs[0].set_xlabel(\"Epoch\")\n",
    "axs[0].set_ylabel(\"Loss\")\n",
    "axs[0].legend()\n",
    "axs[1].plot(train_results[\"epoch\"], train_results[\"accuracy_euclidean\"], label=\"Training\")\n",
    "axs[1].plot(val_results[\"epoch\"], val_results[\"accuracy_euclidean\"], label=\"Validation\")\n",
    "axs[1].set_xlabel(\"Epoch\")\n",
    "axs[1].set_ylabel(\"Accuracy\")\n",
    "axs[1].legend()\n",
    "plt.tight_layout()\n",
    "#save as pdf\n",
    "plt.savefig(os.path.join(output_dir, \"eval\", f'plot_{LOSS_NAME}_{POOLING_MODE}.pdf'))\n",
    "plt.show()"
   ]
  },
  {
   "cell_type": "code",
   "execution_count": 84,
   "id": "1d7be1a4",
   "metadata": {},
   "outputs": [
    {
     "name": "stdout",
     "output_type": "stream",
     "text": [
      "Valid Loss = 0.28   Valid Accuracy = 97.45\n",
      "Test duration: 0.33815932273864746 seconds\n",
      "0.5069854913622901 ms per example\n"
     ]
    }
   ],
   "source": [
    "test_evaluator = evaluation.TripletEvaluator.from_input_examples(test_examples, name='test', batch_size=100)\n",
    "\n",
    "# load best model\n",
    "best_model = SentenceTransformer(output_dir)\n",
    "\n",
    "# print test duration\n",
    "import time\n",
    "start_time = time.time()\n",
    "test_acc = best_model.evaluate(test_evaluator)\n",
    "duration = time.time() - start_time\n",
    "print(f\"Test duration: {duration} seconds\")\n",
    "\n",
    "# write test accuracy to file\n",
    "with open(os.path.join(output_dir, \"eval\", \"test_results.txt\"), \"w\") as f:\n",
    "    f.write(f\"Test accuracy: {test_acc}\\n\")\n",
    "\n",
    "print(duration * 1000 / len(test_examples), 'ms per example')"
   ]
  },
  {
   "cell_type": "code",
   "execution_count": 13,
   "id": "e8e08971",
   "metadata": {},
   "outputs": [],
   "source": [
    "# Perform zero-shot testing by removing a VOC or adding a new VOI"
   ]
  }
 ],
 "metadata": {
  "kernelspec": {
   "display_name": "Python 3",
   "language": "python",
   "name": "python3"
  },
  "language_info": {
   "codemirror_mode": {
    "name": "ipython",
    "version": 3
   },
   "file_extension": ".py",
   "mimetype": "text/x-python",
   "name": "python",
   "nbconvert_exporter": "python",
   "pygments_lexer": "ipython3",
   "version": "3.8.16"
  }
 },
 "nbformat": 4,
 "nbformat_minor": 5
}
