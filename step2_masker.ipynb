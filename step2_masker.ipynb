{
 "cells": [
  {
   "cell_type": "code",
   "execution_count": 2,
   "id": "02f635a7",
   "metadata": {},
   "outputs": [],
   "source": [
    "import os\n",
    "from tqdm import tqdm"
   ]
  },
  {
   "cell_type": "code",
   "execution_count": 3,
   "id": "6de1f978",
   "metadata": {},
   "outputs": [],
   "source": [
    "input_file_path = \"data/sequences_unique_10k.txt\"\n",
    "masked_file_path = \"data/sequences_masked_12M.txt\"\n",
    "labels_file_path = \"data/labels_12M.txt\""
   ]
  },
  {
   "cell_type": "code",
   "execution_count": 5,
   "id": "30d03dfc",
   "metadata": {},
   "outputs": [
    {
     "name": "stdout",
     "output_type": "stream",
     "text": [
      "The maximum length of a line in 'data/sequences_unique_10k.txt' is: 1278\n"
     ]
    }
   ],
   "source": [
    "max_length = 0\n",
    "\n",
    "with open(input_file_path, 'r') as f:\n",
    "    for line in f:\n",
    "        line = line.rstrip('\\n')       \n",
    "        if len(line) > max_length:\n",
    "            max_length = len(line)\n",
    "\n",
    "print(f\"The maximum length of a line in '{input_file_path}' is: {max_length}\")"
   ]
  },
  {
   "cell_type": "code",
   "execution_count": 6,
   "id": "ac14de8a",
   "metadata": {},
   "outputs": [],
   "source": [
    "def aa_masker(input_string, index):\n",
    "    # Create a list of characters to modify\n",
    "    char_list = list(input_string)\n",
    "\n",
    "    # Replace the character at the random index with \"<mask>\"\n",
    "    label = char_list[index]\n",
    "    char_list[index] = \"<mask>\"\n",
    "\n",
    "    # Convert the list back to a string\n",
    "    masked_string = ''.join(char_list)\n",
    "\n",
    "    return masked_string, label"
   ]
  },
  {
   "cell_type": "code",
   "execution_count": 7,
   "id": "0da04040",
   "metadata": {},
   "outputs": [
    {
     "name": "stderr",
     "output_type": "stream",
     "text": [
      "100%|██████████| 10000/10000 [02:18<00:00, 72.33it/s]\n"
     ]
    }
   ],
   "source": [
    "with open(input_file_path, \"r\") as input_file:\n",
    "    sequences = input_file.read().splitlines()\n",
    "\n",
    "# Initialize an empty list to store the masked sequences\n",
    "masked_sequences = []\n",
    "labels = []\n",
    "\n",
    "pbar = tqdm(total=len(sequences), position=0)\n",
    "\n",
    "# Create a tqdm progress bar for the entire process\n",
    "for sequence in sequences:\n",
    "    for index in range(len(sequence)):\n",
    "        masked_sequence, label = aa_masker(sequence, index)\n",
    "        masked_sequences.append(masked_sequence)\n",
    "        labels.append(label)\n",
    "    pbar.update(1)  # Update the progress bar for each processed sequence\n",
    "pbar.close()"
   ]
  },
  {
   "cell_type": "code",
   "execution_count": 8,
   "id": "00bc4221",
   "metadata": {},
   "outputs": [
    {
     "name": "stdout",
     "output_type": "stream",
     "text": [
      "12710183\n"
     ]
    }
   ],
   "source": [
    "print(len(masked_sequences))"
   ]
  },
  {
   "cell_type": "code",
   "execution_count": 9,
   "id": "c5607bd7",
   "metadata": {},
   "outputs": [],
   "source": [
    "# Write the masked sequences to the output file\n",
    "with open(masked_file_path, \"w\") as masked_file:\n",
    "    for masked_sequence in masked_sequences:\n",
    "        masked_file.write(masked_sequence + \"\\n\")\n",
    "\n",
    "# Write the masked sequences to the output file\n",
    "with open(labels_file_path, \"w\") as labels_file:\n",
    "    for label in labels:\n",
    "        labels_file.write(label + \"\\n\")"
   ]
  },
  {
   "cell_type": "code",
   "execution_count": 10,
   "id": "b405e5d4",
   "metadata": {},
   "outputs": [
    {
     "name": "stdout",
     "output_type": "stream",
     "text": [
      "MFVFLVLLPL<mask>SSQCVNLTTRTQLPPAYTNSFTRGVYYPDKVFRSSVLHSTQDLFLPFFSNVTWFHAISGTNGTKRFDNPVLPFNDGVYFASTEKSNIIRGWIFGTTXDSKTQSLLIVNNATNVVIKVCEFQFCNDPFLGVYHKNNKSWMESEFRVYSSANNCTFEYVSQPFLMDLEGKQGNFKNLREFVFKNIDGYFKIYSKHTPINLVRDLPQGFSALEPLVDLPIGINITRFQTLLALHRSYLTPGDSSSGWTAGAAAYYVGYLQPRTFLLKYNENGTITDAVDCALDPLSETKCTLKSFTVEKGIYQTSNFRVQPTESIVRFPNITNLCPFGEVFNATRFASVXAWNRKRISNCVADYSVLYNSASFSTFKCYGVSPTKLNDLCFTNVYADSFVIRGDEVRQIAPGQTGKIADYNYKLPDDFTGCVIAWNSNNLDSKVGGNYNYLYRLFRKSNLKPFERDISTEIYQAGSTPCNGVEGFNCYFPLQSYGFQPTYGVGYQPYRVVVLSFELLHAPATVCGPKKSTNLVKNKCVNFNFNGLTGTGVLTESNKKFLPFQQFGRDIDDTTDAVRDPQTLEILDITPCSFGGVSVITPGTNTSNQVAVLYQGVNCTEVPVAIHADQLTPTWRVYSTGSNVFQTRAGCLIGAEHVNNSYECDIPIGAGICASYQTQTNSHRRARSVASQSIIAYTMSLGAENSVAYSNNSIAIPINFTISVTTEILPVSMTKTSVDCTMYICGDSTECSNLLLQYGSFCTQLNRALTGIAVEQDKNTQEVFAQVKQIYKTPPIKDFGGFNFSQILPDPSKPSKRSFIEDLLFNKVTLADAGFIKQYGDCLGDIAARDLICAQKFNGLTVLPPLLTDEMIAQYTSALLAGTITSGWTFGAGAALQIPFAMQMAYRFNGIGVTQNVLYENQKLIANQFNSAIGKIQDSLSSTASALGKLQDVVNQNAQALNTLVKQLSSNFGAISSVLNDILARLDKVEAEVQIDRLITGRLQSLQTYVTQQLIRAAEIRASANLAATKMSECVLGQSKRVDFCGKGYHLMSFPQSAPHGVVFLHVTYVPAQEKNFTTAPAICHDGKAHFPREGVFVSNGTHWFVTQRNFYEPQIITTHNTFVSGNCDVVIGIVNNTVYDPLQPELDSFKEELDKYFKNHTSPDVDLGDISGINASVVNIQKEIDRLNEVAKNLNESLIDLQELGKYEQYIKWPWYIWLGFIAGLIAIVMVTIMLCCMTSCCSCLKGCCSCGSCCKFDEDDSEPVLKGVKLHYT\n",
      "\n",
      "<mask> = V\n"
     ]
    }
   ],
   "source": [
    "print(masked_sequences[10])\n",
    "print()\n",
    "print(f'<mask> = {labels[10]}')"
   ]
  },
  {
   "cell_type": "code",
   "execution_count": null,
   "id": "675a213e",
   "metadata": {},
   "outputs": [],
   "source": []
  }
 ],
 "metadata": {
  "kernelspec": {
   "display_name": "Python 3",
   "language": "python",
   "name": "python3"
  },
  "language_info": {
   "codemirror_mode": {
    "name": "ipython",
    "version": 3
   },
   "file_extension": ".py",
   "mimetype": "text/x-python",
   "name": "python",
   "nbconvert_exporter": "python",
   "pygments_lexer": "ipython3",
   "version": "3.8.16"
  }
 },
 "nbformat": 4,
 "nbformat_minor": 5
}
