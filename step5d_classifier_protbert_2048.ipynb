{
 "cells": [
  {
   "cell_type": "code",
   "execution_count": 1,
   "id": "0cc19703",
   "metadata": {},
   "outputs": [],
   "source": [
    "import numpy as np\n",
    "import scanpy as sc\n",
    "import pandas as pd\n",
    "import evaluate\n",
    "import pickle\n",
    "import os\n",
    "import torch\n",
    "import random\n",
    "import matplotlib.pyplot as plt\n",
    "import seaborn as sns\n",
    "from torch.utils.data import DataLoader\n",
    "from torch_optimizer import Lamb\n",
    "from torch.optim import AdamW\n",
    "from sklearn.model_selection import train_test_split\n",
    "from datasets import Dataset\n",
    "from transformers import AutoModelForSequenceClassification, AutoTokenizer, get_scheduler\n",
    "from sklearn.metrics import f1_score, classification_report, confusion_matrix\n",
    "from Bio import SeqIO\n",
    "from tqdm.autonotebook import tqdm as tq\n",
    "import time\n",
    "from datetime import timedelta\n",
    "\n",
    "os.environ[\"TOKENIZERS_PARALLELISM\"] = \"false\"\n",
    "np.set_printoptions(threshold=2200)\n",
    "torch.set_printoptions(threshold=2200)\n",
    "seed = 42\n",
    "torch.manual_seed(seed)\n",
    "random.seed(seed)\n",
    "np.random.seed(seed)\n",
    "torch.backends.cudnn.deterministic = True\n",
    "torch.backends.cudnn.benchmark = False"
   ]
  },
  {
   "cell_type": "code",
   "execution_count": 2,
   "id": "aa1fc757",
   "metadata": {},
   "outputs": [],
   "source": [
    "EMBED_SIZE = 2048\n",
    "MODEL_NAME, MODEL_PRINT_NAME = \"Rostlab/prot_bert\", \"ProtBERT\"\n",
    "VOC_NAMES = [\"Alpha\", \"Beta\", \"Delta\", \"Gamma\", \"Omicron\"]"
   ]
  },
  {
   "cell_type": "code",
   "execution_count": 3,
   "id": "cf7093e2",
   "metadata": {},
   "outputs": [
    {
     "name": "stderr",
     "output_type": "stream",
     "text": [
      "Some weights of the model checkpoint at Rostlab/prot_bert were not used when initializing BertForSequenceClassification: ['cls.predictions.transform.LayerNorm.weight', 'cls.predictions.transform.dense.weight', 'cls.predictions.decoder.bias', 'cls.predictions.decoder.weight', 'cls.predictions.transform.LayerNorm.bias', 'cls.predictions.transform.dense.bias', 'cls.seq_relationship.bias', 'cls.predictions.bias', 'cls.seq_relationship.weight']\n",
      "- This IS expected if you are initializing BertForSequenceClassification from the checkpoint of a model trained on another task or with another architecture (e.g. initializing a BertForSequenceClassification model from a BertForPreTraining model).\n",
      "- This IS NOT expected if you are initializing BertForSequenceClassification from the checkpoint of a model that you expect to be exactly identical (initializing a BertForSequenceClassification model from a BertForSequenceClassification model).\n",
      "Some weights of BertForSequenceClassification were not initialized from the model checkpoint at Rostlab/prot_bert and are newly initialized: ['classifier.bias', 'classifier.weight']\n",
      "You should probably TRAIN this model on a down-stream task to be able to use it for predictions and inference.\n"
     ]
    },
    {
     "name": "stdout",
     "output_type": "stream",
     "text": [
      "Number of parameters in model:  419936261\n"
     ]
    }
   ],
   "source": [
    "tok = AutoTokenizer.from_pretrained(MODEL_NAME, do_lower_case=False)\n",
    "model = AutoModelForSequenceClassification.from_pretrained(MODEL_NAME, num_labels=len(VOC_NAMES))\n",
    "\n",
    "num_params = sum(p.numel() for p in model.parameters())\n",
    "print(\"Number of parameters in model: \", num_params)"
   ]
  },
  {
   "cell_type": "code",
   "execution_count": 4,
   "id": "42a105ae",
   "metadata": {},
   "outputs": [],
   "source": [
    "df = pd.DataFrame()\n",
    "\n",
    "for i, voc_name in enumerate(VOC_NAMES):\n",
    "    voc_df = pd.read_csv(f\"data/unique_{voc_name}_2k.csv\")\n",
    "    voc_df['label'] = i\n",
    "    df = pd.concat([df, voc_df])\n",
    "\n",
    "df = df.drop(['accession_id', 'date'], axis=1)\n",
    "df = df.reset_index(drop=True)"
   ]
  },
  {
   "cell_type": "code",
   "execution_count": 5,
   "id": "10273657",
   "metadata": {},
   "outputs": [
    {
     "name": "stdout",
     "output_type": "stream",
     "text": [
      "Train size:  8000\n",
      "Val size:  1000\n",
      "Test size:  1000\n"
     ]
    }
   ],
   "source": [
    "# stratified train val test split 80/10/10\n",
    "X_train, X_test, y_train, y_test = train_test_split(df['sequence'], df['label'], test_size=0.2, random_state=seed, stratify=df['label'])\n",
    "X_val, X_test, y_val, y_test = train_test_split(X_test, y_test, test_size=0.5, random_state=seed, stratify=y_test)\n",
    "\n",
    "df_train = pd.DataFrame({'sequence': X_train, 'label': y_train}).reset_index(drop=True)\n",
    "df_val = pd.DataFrame({'sequence': X_val, 'label': y_val}).reset_index(drop=True)\n",
    "df_test = pd.DataFrame({'sequence': X_test, 'label': y_test}).reset_index(drop=True)\n",
    "\n",
    "ds_train = Dataset.from_pandas(df_train)\n",
    "ds_val = Dataset.from_pandas(df_val)\n",
    "ds_test = Dataset.from_pandas(df_test)\n",
    "\n",
    "print(\"Train size: \", len(ds_train))\n",
    "print(\"Val size: \", len(ds_val))\n",
    "print(\"Test size: \", len(ds_test))"
   ]
  },
  {
   "attachments": {},
   "cell_type": "markdown",
   "id": "0327523c",
   "metadata": {},
   "source": [
    "# TOKENIZE"
   ]
  },
  {
   "cell_type": "code",
   "execution_count": 6,
   "id": "388304fa",
   "metadata": {},
   "outputs": [
    {
     "data": {
      "application/vnd.jupyter.widget-view+json": {
       "model_id": "aad570feee214956a408857c37a0d92c",
       "version_major": 2,
       "version_minor": 0
      },
      "text/plain": [
       "Map:   0%|          | 0/8000 [00:00<?, ? examples/s]"
      ]
     },
     "metadata": {},
     "output_type": "display_data"
    },
    {
     "data": {
      "application/vnd.jupyter.widget-view+json": {
       "model_id": "b239cc61e2114d02bd5e1b08affdee3c",
       "version_major": 2,
       "version_minor": 0
      },
      "text/plain": [
       "Map:   0%|          | 0/1000 [00:00<?, ? examples/s]"
      ]
     },
     "metadata": {},
     "output_type": "display_data"
    },
    {
     "name": "stdout",
     "output_type": "stream",
     "text": [
      "Time per sample (ms):  1.3990302085876465\n"
     ]
    },
    {
     "data": {
      "application/vnd.jupyter.widget-view+json": {
       "model_id": "62e6f66609634d98aa7e1b40cf1cdeb0",
       "version_major": 2,
       "version_minor": 0
      },
      "text/plain": [
       "Map:   0%|          | 0/1000 [00:00<?, ? examples/s]"
      ]
     },
     "metadata": {},
     "output_type": "display_data"
    }
   ],
   "source": [
    "# Funtion to tokenize data\n",
    "def tokenize_dataset(dataset, tok, embedding_size):\n",
    "    return tok(\n",
    "        \" \".join(dataset['sequence']),\n",
    "        max_length=embedding_size,\n",
    "        truncation=True,\n",
    "        padding=\"max_length\")\n",
    "    \n",
    "\n",
    "# Tokenize the dataset\n",
    "dataset_train = ds_train.map(tokenize_dataset, fn_kwargs={'tok': tok, 'embedding_size': EMBED_SIZE})\n",
    "start_time = time.time()\n",
    "dataset_val = ds_val.map(tokenize_dataset, fn_kwargs={'tok': tok, 'embedding_size': EMBED_SIZE})\n",
    "end_time = time.time()\n",
    "# avg time per sample (ms)\n",
    "print(\"Time per sample (ms): \", (end_time - start_time) * 1000 / len(dataset_val))\n",
    "dataset_test = ds_test.map(tokenize_dataset, fn_kwargs={'tok': tok, 'embedding_size': EMBED_SIZE})"
   ]
  },
  {
   "cell_type": "code",
   "execution_count": 7,
   "id": "b7b6ccc5",
   "metadata": {},
   "outputs": [
    {
     "name": "stdout",
     "output_type": "stream",
     "text": [
      "Dataset({\n",
      "    features: ['labels', 'input_ids', 'token_type_ids', 'attention_mask'],\n",
      "    num_rows: 8000\n",
      "})\n",
      "Dataset({\n",
      "    features: ['labels', 'input_ids', 'token_type_ids', 'attention_mask'],\n",
      "    num_rows: 1000\n",
      "})\n",
      "Dataset({\n",
      "    features: ['labels', 'input_ids', 'token_type_ids', 'attention_mask'],\n",
      "    num_rows: 1000\n",
      "})\n"
     ]
    }
   ],
   "source": [
    "# Remove the sequence column because it will not be used in the model\n",
    "dataset_train = dataset_train.remove_columns(['sequence'])\n",
    "dataset_val = dataset_val.remove_columns(['sequence'])\n",
    "dataset_test = dataset_test.remove_columns(['sequence'])\n",
    "\n",
    "# Rename label to labels because the model expects the name labels\n",
    "dataset_train = dataset_train.rename_column(\"label\", \"labels\")\n",
    "dataset_val = dataset_val.rename_column(\"label\", \"labels\")\n",
    "dataset_test = dataset_test.rename_column(\"label\", \"labels\")\n",
    "\n",
    "# Change the format to PyTorch tensors\n",
    "dataset_train.set_format(\"torch\")\n",
    "dataset_val.set_format(\"torch\")\n",
    "dataset_test.set_format(\"torch\")\n",
    "\n",
    "# Take a look at the data\n",
    "print(dataset_train)\n",
    "print(dataset_val)\n",
    "print(dataset_test)"
   ]
  },
  {
   "cell_type": "code",
   "execution_count": 12,
   "id": "ce0511dc",
   "metadata": {},
   "outputs": [],
   "source": [
    "# Empty cache\n",
    "torch.cuda.empty_cache()\n",
    "\n",
    "# DataLoader\n",
    "val_batch_size = 50\n",
    "train_dataloader = DataLoader(dataset=dataset_train, shuffle=True, batch_size=3)\n",
    "val_dataloader = DataLoader(dataset=dataset_val, shuffle=False, batch_size=val_batch_size)\n",
    "test_dataloader = DataLoader(dataset=dataset_test, shuffle=False, batch_size=val_batch_size)"
   ]
  },
  {
   "cell_type": "code",
   "execution_count": 9,
   "id": "165aec62",
   "metadata": {},
   "outputs": [
    {
     "name": "stdout",
     "output_type": "stream",
     "text": [
      "2048\n",
      "tensor([ 2, 21, 19,  8, 19,  5,  8,  5,  5, 16,  5,  8, 10, 10, 18, 23,  8, 17,\n",
      "         5, 15, 15, 13, 15, 18, 10, 20, 15, 17, 10, 19, 15, 13,  7,  8, 20, 20,\n",
      "        16, 14, 12,  8, 19, 13, 10, 10,  8,  5, 22, 10, 15, 18, 14,  5, 19,  5,\n",
      "        16, 19, 19, 10, 17,  8, 15, 24, 19, 22,  6, 11, 10,  7, 15, 17,  7, 15,\n",
      "        12, 13, 19, 14, 17, 16,  8,  5, 16, 19, 17, 14,  7,  8, 20, 19,  6, 10,\n",
      "        15,  9, 12, 10, 17, 11, 11, 13,  7, 24, 11, 19,  7, 15, 15,  5, 14, 10,\n",
      "        12, 15, 18, 10,  5,  5, 11,  8, 17, 17,  6, 15, 17,  8,  8, 11, 12,  8,\n",
      "        23,  9, 19, 18, 19, 23, 17, 14, 16, 19,  5, 14,  8, 20, 20, 22, 12, 17,\n",
      "        17, 12, 10, 24, 21,  9, 10,  9, 19, 13,  8, 20, 10, 10,  6, 17, 17, 23,\n",
      "        15, 19,  9, 20,  8, 10, 18, 16, 19,  5, 21, 14,  5,  9,  7, 12, 18,  7,\n",
      "        17, 19, 12, 17,  5, 13,  9, 19,  8, 19, 12, 17, 11, 14,  7, 20, 19, 12,\n",
      "        11, 20, 10, 12, 22, 15, 16, 11, 17,  5,  7, 13, 14,  5, 16, 18,  7, 19,\n",
      "        10,  6,  5,  9, 16,  5,  8, 14,  5, 16, 11,  7, 11, 17, 11, 15, 13, 19,\n",
      "        18, 15,  5,  5,  6,  5, 22, 13, 10, 20,  5, 15, 16,  7, 14, 10, 10, 10,\n",
      "         7, 24, 15,  6,  7,  6,  6,  6, 20, 20,  8,  7, 20,  5, 18, 16, 13, 15,\n",
      "        19,  5,  5, 12, 20, 17,  9, 17,  7, 15, 11, 15, 14,  6,  8, 14, 23,  6,\n",
      "         5, 14, 16,  5, 10,  9, 15, 12, 23, 15,  5, 12, 10, 19, 15,  8,  9, 12,\n",
      "         7, 11, 20, 18, 15, 10, 17, 19, 13,  8, 18, 16, 15,  9, 10, 11,  8, 13,\n",
      "        19, 16, 17, 11, 15, 17,  5, 23, 16, 19, 14,  9,  8, 19, 17,  6, 15, 13,\n",
      "        19,  6, 10,  8, 20,  6, 24, 17, 13, 12, 13, 11, 10, 17, 23,  8,  6, 14,\n",
      "        20, 10,  8,  5, 20, 17, 19,  6, 16, 19, 19,  6, 19, 12, 23, 20,  7,  8,\n",
      "        10, 16, 15, 12,  5, 17, 14,  5, 23, 19, 15, 17,  8, 20,  6, 14, 10, 19,\n",
      "         8, 11, 13,  7, 17,  9,  8, 10, 18, 11,  6, 16,  7, 18, 15,  7, 17, 11,\n",
      "         6, 14, 20, 17, 20, 12,  5, 16, 14, 14, 19, 15,  7, 23,  8, 11,  6, 24,\n",
      "        17, 10, 17, 12,  5, 14, 10, 12,  8,  7,  7, 17, 20, 17, 20, 13, 20, 13,\n",
      "         5, 19, 13, 12, 10, 17,  5, 12, 16, 19,  9, 13, 14, 11, 10, 15,  9, 11,\n",
      "        20, 18,  6,  7, 17, 12, 16, 23, 17,  7,  8,  6,  7,  8, 17, 23, 20, 19,\n",
      "        16,  5, 18, 10, 20,  7, 19, 13, 16, 15, 20,  7,  8,  7, 22, 18, 16, 20,\n",
      "        13,  8,  8,  8,  5, 10, 19,  9,  5,  5, 22,  6, 16,  6, 15,  8, 23,  7,\n",
      "        16, 12, 12, 10, 15, 17,  5,  8, 12, 17, 12, 23,  8, 17, 19, 17, 19, 17,\n",
      "         7,  5, 15,  7, 15,  7,  8,  5, 15,  9, 10, 17, 12, 12, 19,  5, 16, 19,\n",
      "        18, 18, 19,  7, 13, 14, 11,  6, 14, 15, 15, 14,  6,  8, 13, 14, 16, 18,\n",
      "        15,  5,  9, 11,  5, 14, 11, 15, 16, 23, 10, 19,  7,  7,  8, 10,  8, 11,\n",
      "        15, 16,  7, 15, 17, 15, 10, 17, 18,  8,  6,  8,  5, 20, 18,  7,  8, 17,\n",
      "        23, 15,  9,  8, 16,  8,  6, 11, 22,  6, 14, 18,  5, 15, 16, 15, 24, 13,\n",
      "         8, 20, 10, 15,  7, 10, 17,  8, 19, 18, 15, 13,  6,  7, 23,  5, 11,  7,\n",
      "         6,  9, 20,  8, 17, 17, 10, 20,  9, 23, 14, 11, 16, 11,  7,  6,  7, 11,\n",
      "        23,  6, 10, 20, 18, 15, 18, 15, 12, 10, 22, 13, 13,  6, 13, 10,  8,  6,\n",
      "        10, 18, 10, 11, 11,  6, 20, 15, 21, 10,  5,  7,  6,  9, 17, 10,  8,  6,\n",
      "        20, 10, 17, 17, 10, 11,  6, 11, 16, 15, 17, 19, 15, 11, 10,  8, 15, 15,\n",
      "         9, 11,  5, 16,  8, 10, 21, 15, 12, 15, 10,  8, 14, 23, 15, 21, 20, 11,\n",
      "        23,  7, 14, 10, 15,  9, 23, 10, 17,  5,  5,  5, 18, 20,  7, 10, 19, 23,\n",
      "        15, 18,  5, 12, 13,  6,  5, 15,  7, 11,  6,  8,  9, 18, 14, 12, 17, 15,\n",
      "        18,  9,  8, 19,  6, 18,  8, 12, 18, 11, 20, 12, 15, 16, 16, 11, 12, 20,\n",
      "        19,  7,  7, 19, 17, 19, 10, 18, 11,  5, 16, 14, 16, 10, 12, 16, 10, 12,\n",
      "        13, 10, 19, 11,  9, 14,  5,  5, 19, 17, 12,  8, 15,  5,  6, 14,  6,  7,\n",
      "        19, 11, 12, 18, 20,  7, 14, 23,  5,  7, 14, 11,  6,  6, 13, 14,  5, 11,\n",
      "        23,  6, 18, 12, 19, 17,  7,  5, 15,  8,  5, 16, 16,  5,  5, 15, 14,  9,\n",
      "        21, 11,  6, 18, 20, 15, 10,  6,  5,  5,  6,  7, 15, 11, 15, 10,  7, 24,\n",
      "        15, 19,  7,  6,  7,  6,  6,  5, 18, 11, 16, 19,  6, 21, 18, 21,  6, 20,\n",
      "        13, 19, 17,  7, 11,  7,  8, 15, 18, 17,  8,  5, 20,  9, 17, 18, 12,  5,\n",
      "        11,  6, 17, 18, 19, 17, 10,  6, 11,  7, 12, 11, 18, 14, 10,  5, 10, 10,\n",
      "        15,  6, 10,  6,  5,  7, 12,  5, 18, 14,  8,  8, 17, 22, 17,  6, 18,  6,\n",
      "         5, 17, 15,  5,  8, 12, 18,  5, 10, 10, 12, 19,  7,  6, 11, 10, 10,  8,\n",
      "         5, 17, 14, 11,  5, 10, 13,  5, 14, 12,  8,  9,  6,  9,  8, 18, 11, 14,\n",
      "        13,  5, 11, 15,  7, 13,  5, 18, 10,  5, 18, 15, 20,  8, 15, 18, 18,  5,\n",
      "        11, 13,  6,  6,  9, 11, 13,  6, 10,  6, 17,  5,  6,  6, 15, 12, 21, 10,\n",
      "         9, 23,  8,  5,  7, 18, 10, 12, 13,  8, 14, 19, 23,  7, 12,  7, 20, 22,\n",
      "         5, 21, 10, 19, 16, 18, 10,  6, 16, 22,  7,  8,  8, 19,  5, 22,  8, 15,\n",
      "        20,  8, 16,  6, 18,  9, 12, 17, 19, 15, 15,  6, 16,  6, 11, 23, 22, 14,\n",
      "         7, 12,  6, 22, 19, 16, 13,  9,  7,  8, 19,  8, 10, 17,  7, 15, 22, 24,\n",
      "        19,  8, 15, 18, 13, 17, 19, 20,  9, 16, 18, 11, 11, 15, 15, 14, 17, 15,\n",
      "        19,  8, 10,  7, 17, 23, 14,  8,  8, 11,  7, 11,  8, 17, 17, 15,  8, 20,\n",
      "        14, 16,  5, 18, 16,  9,  5, 14, 10, 19, 12,  9,  9,  5, 14, 12, 20, 19,\n",
      "        12, 17, 22, 15, 10, 16, 14,  8, 14,  5,  7, 14, 11, 10,  7, 11, 17,  6,\n",
      "        10,  8,  8, 17, 11, 18, 12,  9, 11, 14, 13,  5, 17,  9,  8,  6, 12, 17,\n",
      "         5, 17,  9, 10,  5, 11, 14,  5, 18,  9,  5,  7, 12, 20,  9, 18, 20, 11,\n",
      "        12, 24, 16, 24, 20, 11, 24,  5,  7, 19, 11,  6,  7,  5, 11,  6, 11,  8,\n",
      "        21,  8, 15, 11, 21,  5, 23, 23, 21, 15, 10, 23, 23, 10, 23,  5, 12,  7,\n",
      "        23, 23, 10, 23,  7, 10, 23, 23, 12, 19, 14,  9, 14, 14, 10,  9, 16,  8,\n",
      "         5, 12,  7,  8, 12,  5, 22, 20, 15,  3,  0,  0,  0,  0,  0,  0,  0,  0,\n",
      "         0,  0,  0,  0,  0,  0,  0,  0,  0,  0,  0,  0,  0,  0,  0,  0,  0,  0,\n",
      "         0,  0,  0,  0,  0,  0,  0,  0,  0,  0,  0,  0,  0,  0,  0,  0,  0,  0,\n",
      "         0,  0,  0,  0,  0,  0,  0,  0,  0,  0,  0,  0,  0,  0,  0,  0,  0,  0,\n",
      "         0,  0,  0,  0,  0,  0,  0,  0,  0,  0,  0,  0,  0,  0,  0,  0,  0,  0,\n",
      "         0,  0,  0,  0,  0,  0,  0,  0,  0,  0,  0,  0,  0,  0,  0,  0,  0,  0,\n",
      "         0,  0,  0,  0,  0,  0,  0,  0,  0,  0,  0,  0,  0,  0,  0,  0,  0,  0,\n",
      "         0,  0,  0,  0,  0,  0,  0,  0,  0,  0,  0,  0,  0,  0,  0,  0,  0,  0,\n",
      "         0,  0,  0,  0,  0,  0,  0,  0,  0,  0,  0,  0,  0,  0,  0,  0,  0,  0,\n",
      "         0,  0,  0,  0,  0,  0,  0,  0,  0,  0,  0,  0,  0,  0,  0,  0,  0,  0,\n",
      "         0,  0,  0,  0,  0,  0,  0,  0,  0,  0,  0,  0,  0,  0,  0,  0,  0,  0,\n",
      "         0,  0,  0,  0,  0,  0,  0,  0,  0,  0,  0,  0,  0,  0,  0,  0,  0,  0,\n",
      "         0,  0,  0,  0,  0,  0,  0,  0,  0,  0,  0,  0,  0,  0,  0,  0,  0,  0,\n",
      "         0,  0,  0,  0,  0,  0,  0,  0,  0,  0,  0,  0,  0,  0,  0,  0,  0,  0,\n",
      "         0,  0,  0,  0,  0,  0,  0,  0,  0,  0,  0,  0,  0,  0,  0,  0,  0,  0,\n",
      "         0,  0,  0,  0,  0,  0,  0,  0,  0,  0,  0,  0,  0,  0,  0,  0,  0,  0,\n",
      "         0,  0,  0,  0,  0,  0,  0,  0,  0,  0,  0,  0,  0,  0,  0,  0,  0,  0,\n",
      "         0,  0,  0,  0,  0,  0,  0,  0,  0,  0,  0,  0,  0,  0,  0,  0,  0,  0,\n",
      "         0,  0,  0,  0,  0,  0,  0,  0,  0,  0,  0,  0,  0,  0,  0,  0,  0,  0,\n",
      "         0,  0,  0,  0,  0,  0,  0,  0,  0,  0,  0,  0,  0,  0,  0,  0,  0,  0,\n",
      "         0,  0,  0,  0,  0,  0,  0,  0,  0,  0,  0,  0,  0,  0,  0,  0,  0,  0,\n",
      "         0,  0,  0,  0,  0,  0,  0,  0,  0,  0,  0,  0,  0,  0,  0,  0,  0,  0,\n",
      "         0,  0,  0,  0,  0,  0,  0,  0,  0,  0,  0,  0,  0,  0,  0,  0,  0,  0,\n",
      "         0,  0,  0,  0,  0,  0,  0,  0,  0,  0,  0,  0,  0,  0,  0,  0,  0,  0,\n",
      "         0,  0,  0,  0,  0,  0,  0,  0,  0,  0,  0,  0,  0,  0,  0,  0,  0,  0,\n",
      "         0,  0,  0,  0,  0,  0,  0,  0,  0,  0,  0,  0,  0,  0,  0,  0,  0,  0,\n",
      "         0,  0,  0,  0,  0,  0,  0,  0,  0,  0,  0,  0,  0,  0,  0,  0,  0,  0,\n",
      "         0,  0,  0,  0,  0,  0,  0,  0,  0,  0,  0,  0,  0,  0,  0,  0,  0,  0,\n",
      "         0,  0,  0,  0,  0,  0,  0,  0,  0,  0,  0,  0,  0,  0,  0,  0,  0,  0,\n",
      "         0,  0,  0,  0,  0,  0,  0,  0,  0,  0,  0,  0,  0,  0,  0,  0,  0,  0,\n",
      "         0,  0,  0,  0,  0,  0,  0,  0,  0,  0,  0,  0,  0,  0,  0,  0,  0,  0,\n",
      "         0,  0,  0,  0,  0,  0,  0,  0,  0,  0,  0,  0,  0,  0,  0,  0,  0,  0,\n",
      "         0,  0,  0,  0,  0,  0,  0,  0,  0,  0,  0,  0,  0,  0,  0,  0,  0,  0,\n",
      "         0,  0,  0,  0,  0,  0,  0,  0,  0,  0,  0,  0,  0,  0,  0,  0,  0,  0,\n",
      "         0,  0,  0,  0,  0,  0,  0,  0,  0,  0,  0,  0,  0,  0,  0,  0,  0,  0,\n",
      "         0,  0,  0,  0,  0,  0,  0,  0,  0,  0,  0,  0,  0,  0,  0,  0,  0,  0,\n",
      "         0,  0,  0,  0,  0,  0,  0,  0,  0,  0,  0,  0,  0,  0,  0,  0,  0,  0,\n",
      "         0,  0,  0,  0,  0,  0,  0,  0,  0,  0,  0,  0,  0,  0,  0,  0,  0,  0,\n",
      "         0,  0,  0,  0,  0,  0,  0,  0,  0,  0,  0,  0,  0,  0,  0,  0,  0,  0,\n",
      "         0,  0,  0,  0,  0,  0,  0,  0,  0,  0,  0,  0,  0,  0,  0,  0,  0,  0,\n",
      "         0,  0,  0,  0,  0,  0,  0,  0,  0,  0,  0,  0,  0,  0,  0,  0,  0,  0,\n",
      "         0,  0,  0,  0,  0,  0,  0,  0,  0,  0,  0,  0,  0,  0,  0,  0,  0,  0,\n",
      "         0,  0,  0,  0,  0,  0,  0,  0,  0,  0,  0,  0,  0,  0,  0,  0,  0,  0,\n",
      "         0,  0,  0,  0,  0,  0,  0,  0,  0,  0,  0,  0,  0,  0])\n"
     ]
    }
   ],
   "source": [
    "for batch in val_dataloader:\n",
    "    item = batch[\"input_ids\"][0]\n",
    "    print(len(item))\n",
    "    print(item)\n",
    "    break"
   ]
  },
  {
   "attachments": {},
   "cell_type": "markdown",
   "id": "c18f66d2",
   "metadata": {},
   "source": [
    "# SET PARAMETERS"
   ]
  },
  {
   "cell_type": "code",
   "execution_count": 10,
   "id": "62b8dff1",
   "metadata": {},
   "outputs": [
    {
     "name": "stdout",
     "output_type": "stream",
     "text": [
      "cuda\n"
     ]
    }
   ],
   "source": [
    "# Number of epochs\n",
    "num_epochs = 3\n",
    "\n",
    "# Number of training steps\n",
    "num_training_steps = num_epochs * len(train_dataloader)\n",
    "\n",
    "# Optimizer\n",
    "optimizer = AdamW(params=model.parameters(), lr=1e-6)\n",
    "\n",
    "# Set up the learning rate scheduler\n",
    "lr_scheduler = get_scheduler(name=\"linear\", \n",
    "                             optimizer=optimizer, \n",
    "                             num_warmup_steps=0, \n",
    "                             num_training_steps=num_training_steps)\n",
    "\n",
    "# Use GPU if it is available\n",
    "device = torch.device(\"cuda\") if torch.cuda.is_available() else torch.device(\"cpu\")\n",
    "model.to(device)\n",
    "print(device)"
   ]
  },
  {
   "attachments": {},
   "cell_type": "markdown",
   "id": "25b42afe",
   "metadata": {},
   "source": [
    "# TRAINING"
   ]
  },
  {
   "cell_type": "code",
   "execution_count": 17,
   "id": "79b09050",
   "metadata": {},
   "outputs": [
    {
     "name": "stderr",
     "output_type": "stream",
     "text": [
      "Loss=0.7705 Predictions=[1, 0]:  33%|███▎      | 2667/8001 [59:16<1:47:01,  1.20s/it]   "
     ]
    },
    {
     "name": "stdout",
     "output_type": "stream",
     "text": [
      "Epoch 1/3 Loss: 0.7705\n"
     ]
    },
    {
     "name": "stderr",
     "output_type": "stream",
     "text": [
      "Loss=0.3033 Predictions=[1, 3]:  67%|██████▋   | 5334/8001 [1:58:38<53:26,  1.20s/it]     "
     ]
    },
    {
     "name": "stdout",
     "output_type": "stream",
     "text": [
      "Epoch 2/3 Loss: 0.3033\n"
     ]
    },
    {
     "name": "stderr",
     "output_type": "stream",
     "text": [
      "Loss=0.2028 Predictions=[1, 1]: 100%|██████████| 8001/8001 [2:57:54<00:00,  1.20s/it]   "
     ]
    },
    {
     "name": "stdout",
     "output_type": "stream",
     "text": [
      "Epoch 3/3 Loss: 0.2028\n",
      "Elapsed time: 2:57:54.723778\n"
     ]
    }
   ],
   "source": [
    "# Set the progress bar\n",
    "pb_train = tq.tqdm(range(num_training_steps))\n",
    "\n",
    "# Tells the model that we are training the model\n",
    "model.train()\n",
    "\n",
    "start_time = time.time()\n",
    "# Loop through the epochs\n",
    "for epoch in range(num_epochs):\n",
    "    # Loop through the batches\n",
    "    for batch in train_dataloader:\n",
    "        # Get the batch\n",
    "        batch = {k: v.to(device) for k, v in batch.items()}\n",
    "        # Compute the model output for the batch\n",
    "        outputs = model(**batch)\n",
    "        # Get the logits\n",
    "        logits = outputs.logits\n",
    "        # Get the predicted labels for the batch\n",
    "        predictions = torch.argmax(logits, dim=-1)\n",
    "        # Loss computed by the model\n",
    "        loss = outputs.loss\n",
    "        # backpropagates the error to calculate gradients\n",
    "        loss.backward()\n",
    "        # Update the model weights\n",
    "        optimizer.step()\n",
    "        # Learning rate scheduler\n",
    "        lr_scheduler.step()\n",
    "        # Clear the gradients\n",
    "        optimizer.zero_grad()\n",
    "        # Update the progress bar\n",
    "        pb_train.update(1)   \n",
    "        pb_train.set_description(\"Loss={:.4f} Predictions={}\".format(loss.item(), predictions.tolist()[0:5]))\n",
    "    print('Epoch {}/{} Loss: {:.4f}'.format(epoch+1, num_epochs, loss.item()))\n",
    "    \n",
    "elapsed_time = time.time() - start_time\n",
    "formatted_time = str(timedelta(seconds=elapsed_time))\n",
    "\n",
    "print(f\"Elapsed time: {formatted_time}\")"
   ]
  },
  {
   "attachments": {},
   "cell_type": "markdown",
   "id": "f9326c51",
   "metadata": {},
   "source": [
    "# EVALUATE"
   ]
  },
  {
   "cell_type": "code",
   "execution_count": 14,
   "id": "57285407",
   "metadata": {},
   "outputs": [
    {
     "data": {
      "application/vnd.jupyter.widget-view+json": {
       "model_id": "2d89c005681648018b0591dbfd84f0c7",
       "version_major": 2,
       "version_minor": 0
      },
      "text/plain": [
       "  0%|          | 0/20 [00:00<?, ?it/s]"
      ]
     },
     "metadata": {},
     "output_type": "display_data"
    },
    {
     "name": "stdout",
     "output_type": "stream",
     "text": [
      "167.77575874328613 ms per sample\n"
     ]
    }
   ],
   "source": [
    "start_time = time.time()\n",
    "# Tells the model that we are evaluting the model performance\n",
    "model.eval()\n",
    "\n",
    "#  A list for all logits\n",
    "logits_all = []\n",
    "\n",
    "# A list for all predicted probabilities\n",
    "predicted_prob_all = []\n",
    "\n",
    "# A list for all predicted labels\n",
    "predictions_all = []\n",
    "\n",
    "# A list for all actual labels\n",
    "labels_all = []\n",
    "\n",
    "\n",
    "# Set the progress bar\n",
    "pb_eval = tq(total=len(val_dataloader))\n",
    "pb_eval.reset(total=len(val_dataloader))\n",
    "\n",
    "# Loop through the batches in the evaluation dataloader\n",
    "for batch in val_dataloader:\n",
    "    # Get the batch\n",
    "    batch = {k: v.to(device) for k, v in batch.items()}\n",
    "    # Disable the gradient calculation\n",
    "    with torch.no_grad():\n",
    "        # Compute the model output\n",
    "        outputs = model(**batch)\n",
    "    # Get the logits\n",
    "    logits = outputs.logits\n",
    "    # Append the logits batch to the list\n",
    "    logits_all.append(logits) \n",
    "    # Get the predicted probabilities for the batch\n",
    "    predicted_prob = torch.softmax(logits, dim=1)\n",
    "    # Append the predicted probabilities for the batch to all the predicted probabilities\n",
    "    predicted_prob_all.append(predicted_prob)\n",
    "    # Get the predicted labels for the batch\n",
    "    predictions = torch.argmax(logits, dim=-1)\n",
    "    # Append the predicted labels for the batch to all the predictions\n",
    "    predictions_all.append(predictions)\n",
    "    # Append the actual labels for the batch to all labels\n",
    "    labels_all.append(batch[\"labels\"])\n",
    "    pb_eval.update(1)\n",
    "pb_eval.close()\n",
    "\n",
    "duration = time.time() - start_time\n",
    "\n",
    "print(duration * 1000 / (len(val_dataloader) * val_batch_size), \"ms per sample\")"
   ]
  },
  {
   "cell_type": "code",
   "execution_count": 19,
   "id": "bf72b7e2",
   "metadata": {},
   "outputs": [
    {
     "name": "stdout",
     "output_type": "stream",
     "text": [
      "              precision    recall  f1-score   support\n",
      "\n",
      "           0     0.9875    0.9875    0.9875       400\n",
      "           1     0.9925    0.9925    0.9925       400\n",
      "           2     0.9778    0.9900    0.9839       400\n",
      "           3     0.9975    0.9950    0.9962       400\n",
      "           4     0.9949    0.9850    0.9899       400\n",
      "\n",
      "    accuracy                         0.9900      2000\n",
      "   macro avg     0.9900    0.9900    0.9900      2000\n",
      "weighted avg     0.9900    0.9900    0.9900      2000\n",
      "\n",
      "CONFUSION = [[395, 0, 5, 0, 0], [1, 397, 0, 1, 1], [1, 2, 396, 0, 1], [1, 1, 0, 398, 0], [2, 0, 4, 0, 394]]\n"
     ]
    }
   ],
   "source": [
    "all_preds = torch.cat(predictions_all, dim=0).cpu().numpy()\n",
    "all_labels = torch.cat(labels_all, dim=0).cpu().numpy()\n",
    "\n",
    "cr = classification_report(all_labels, all_preds, labels=[0,1,2,3,4], digits=4)\n",
    "print(cr)\n",
    "cm = confusion_matrix(all_labels, all_preds, labels=[0,1,2,3,4])\n",
    "print('CONFUSION = {}'.format(cm.tolist()))"
   ]
  },
  {
   "cell_type": "code",
   "execution_count": 20,
   "id": "9b7852f9",
   "metadata": {},
   "outputs": [],
   "source": [
    "np.savetxt(f'results/{MODEL_PRINT_NAME}_{EMBED_SIZE}_all_preds.txt', all_preds, fmt='%d')\n",
    "np.savetxt(f'results/{MODEL_PRINT_NAME}_{EMBED_SIZE}_all_labels.txt', all_labels, fmt='%d')"
   ]
  },
  {
   "cell_type": "code",
   "execution_count": 21,
   "id": "5b090703",
   "metadata": {},
   "outputs": [
    {
     "data": {
      "image/png": "[encoded data removed]",
      "text/plain": [
       "<Figure size 576x432 with 2 Axes>"
      ]
     },
     "metadata": {
      "needs_background": "light"
     },
     "output_type": "display_data"
    }
   ],
   "source": [
    "# Create a normalized confusion matrix\n",
    "cm_norm = cm.astype('float') / cm.sum(axis=1)[:, np.newaxis]\n",
    "\n",
    "# Plot the heatmap\n",
    "plt.figure(figsize=(8, 6))\n",
    "heatmap=sns.heatmap(cm, annot=True, fmt=\"d\", cmap='Blues', xticklabels=VOC_NAMES,\n",
    "            yticklabels=VOC_NAMES,\n",
    "            annot_kws={\"fontsize\": 14})\n",
    "\n",
    "# Customize the x-axis and y-axis tick label font size\n",
    "heatmap.set_xticklabels(heatmap.get_xticklabels(), fontsize=14)  # Increase the x-axis tick label font size here\n",
    "heatmap.set_yticklabels(heatmap.get_yticklabels(), fontsize=14)  # Increase the y-axis tick label font size here\n",
    "\n",
    "# Customize the plot\n",
    "plt.title(f'Misclassification Analysis ({MODEL_PRINT_NAME}-{EMBED_SIZE})', fontsize=14)\n",
    "plt.xlabel('Predicted Labels', fontsize=14)\n",
    "plt.ylabel('True Labels' , fontsize=14)\n",
    "plt.savefig(f'figures/misclassification_{MODEL_PRINT_NAME}_{EMBED_SIZE}}.pdf', bbox_inches='tight')\n",
    "plt.show()"
   ]
  },
  {
   "attachments": {},
   "cell_type": "markdown",
   "id": "77e67902",
   "metadata": {},
   "source": [
    "# SAVE AND LOAD MODEL"
   ]
  },
  {
   "cell_type": "code",
   "execution_count": 23,
   "id": "03de52ab",
   "metadata": {},
   "outputs": [],
   "source": [
    "ckpt_dir = f\"./checkpoints/{MODEL_PRINT_NAME}_{EMBED_SIZE}\"\n",
    "if not os.path.exists(ckpt_dir):\n",
    "    os.makedirs(ckpt_dir)\n",
    "\n",
    "# Save tokenizer\n",
    "tok.save_pretrained(ckpt_dir)\n",
    "\n",
    "# Save model\n",
    "model.save_pretrained(ckpt_dir)"
   ]
  },
  {
   "cell_type": "code",
   "execution_count": 13,
   "id": "523610fd",
   "metadata": {},
   "outputs": [
    {
     "name": "stdout",
     "output_type": "stream",
     "text": [
      "M F V F L V L L P L V S S Q C V N L T T R T Q L P P A Y T N S F T R G V Y Y P D K V F R S S V L H S T Q D L F L P F F S N V T W F H V I S G T N G T K R F D N P V L P F N D G V Y F A S I E K S N I I R G W I F G T T L D S K T Q S L L I V N N A T N V V I K V C E F Q F C N D P F L D H K N N K S W M E S E F R V Y S S A N N C T F E Y V S Q P F L X D L E G K Q G N F K N L R E F V F K N I D G Y F K I Y S K H T P I N L V R D L P Q G F S A L E P L V D L P I G I N I T R F Q T L L A L H R S Y L T P G D S S S G W T A G A A A Y Y V G Y L Q P R T F L L K Y N E N G T I T D A V D C A L D P L S E T K C T L K S F T V E K G I Y Q T S N F R V Q P T E S I V R F P N I T N L C P F D E V F N A T R F A S V Y A W N R K R I S N C V A D Y S V L Y N L A P F F T F K C Y G V S P T K L N D L C F T N V Y A D S F V I R G D E V R Q I A P G Q T G N I A D Y N Y K L P D D F T G C V I A W N S X X X X X X V S G N Y N Y L Y R L F R K S N L K P F E R D I S T E I Y Q A G N K P C N G V A G F N C Y F P L R S Y S F R P T Y G V G H Q P Y R V V V L S X E L L H A P A T V C G P K K S T N L V K N K C V N F N F N G L K G T G V L T E S N K K F L P F Q Q F G R D I A D T T D A V R D P Q T L E I L D I T P C S F G G V S V I T P G T N T S N Q V A V L Y Q G V N C T E V P V A I H A D Q L T P T W R V Y S T G S N V F Q T R A G C L I G A E Y V N N S Y E C D I P I G A G I C A S Y Q T Q T K S H R R A R S V A S Q S I I A Y T M S L G A E N S V A Y S N N S I A I P T N F T I S V T T E I L P V S M T K T S V D C T M Y I C G D S T E C S N L L L Q Y G S F C T Q L K R A L T G I A V E Q D K N T Q E V F A Q V K Q I Y K T P P I K Y F G G F N F S Q I L P D P S K P S K R S F I E D L L F N K V T L A D A G F I K Q Y G D C L G D I A A R D L I C A Q K F K G L T V L P P L L T D E M I A Q Y T S A L L A G T I T S G W T F G A G A A L Q I P F A M Q M A Y R F N G I G V T Q N V L Y E N Q K L I A N Q F N S A I G K I Q D S L S S T A S A L G K L Q D V V N H N A Q A L N T L V K Q L S S K F G A I S S V L N D I F S R L D K V E A E V Q I D R L I T G R L Q S L Q T Y V T Q Q L I R A A E I R A S A N L A A T K M S E C V L G Q S K R V D F C G K G Y H L M S F P Q S A P H G V V F L H V T Y V P A Q E K N F T T A P A I C H D G K A H F P R E G V F V S N G T H W F V T Q R N F Y E P Q I I T T D N T F V S G N C D V V I G I V N N T V Y D P L Q P E L D S F K E E L D K Y F K N H T S P D V D L G D I S G I N A S V V N I Q K E I D R L N E V A K N L N E S L I D L Q E L G K Y E Q Y I K W P W Y I W L G F I A G L I A I V M V T I M L C C M T S C C S C L K G C C S C G S C C K F D E D D S E P V L K G V K L H Y T\n",
      "torch.Size([1, 1270])\n",
      "Predicted label:  0\n",
      "Time elapsed:  1.6279189586639404\n"
     ]
    }
   ],
   "source": [
    "\n",
    "# read a sequence from txt file\n",
    "with open(\"data/omicron_test.txt\", \"r\") as f:\n",
    "    seq = f.read()\n",
    "seq = \" \".join(seq)\n",
    "print(seq)\n",
    "# predict for seq\n",
    "\n",
    "inputs = tok(seq, return_tensors=\"pt\")\n",
    "print(inputs['input_ids'].shape)\n",
    "start_time = time.time()\n",
    "outputs = model(**inputs)\n",
    "logits = outputs.logits\n",
    "predicted_prob = torch.softmax(logits, dim=1)\n",
    "predictions = torch.argmax(logits, dim=-1)\n",
    "elapsed_time = time.time() - start_time\n",
    "print(\"Predicted label: \", predictions.item())\n",
    "print(\"Time elapsed: \", elapsed_time)\n",
    "\n"
   ]
  },
  {
   "attachments": {},
   "cell_type": "markdown",
   "id": "3283aed9",
   "metadata": {},
   "source": [
    "# REFERENCES:"
   ]
  },
  {
   "attachments": {},
   "cell_type": "markdown",
   "id": "9b1ce50c",
   "metadata": {},
   "source": [
    "https://grabngoinfo.com/transfer-learning-for-text-classification-using-pytorch/"
   ]
  }
 ],
 "metadata": {
  "kernelspec": {
   "display_name": "Python 3",
   "language": "python",
   "name": "python3"
  },
  "language_info": {
   "codemirror_mode": {
    "name": "ipython",
    "version": 3
   },
   "file_extension": ".py",
   "mimetype": "text/x-python",
   "name": "python",
   "nbconvert_exporter": "python",
   "pygments_lexer": "ipython3",
   "version": "3.8.16"
  }
 },
 "nbformat": 4,
 "nbformat_minor": 5
}
