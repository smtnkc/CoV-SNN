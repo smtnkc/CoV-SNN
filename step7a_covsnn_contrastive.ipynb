{
 "cells": [
  {
   "cell_type": "code",
   "execution_count": 1,
   "id": "b5e3bf08",
   "metadata": {},
   "outputs": [],
   "source": [
    "import os\n",
    "import pandas as pd\n",
    "import torch\n",
    "from torch import nn\n",
    "from torch.utils.data import DataLoader\n",
    "from tqdm.notebook import tqdm\n",
    "from sentence_transformers import SentenceTransformer, models, LoggingHandler, InputExample, losses, evaluation\n",
    "from sentence_transformers.losses import SiameseDistanceMetric\n",
    "import numpy as np\n",
    "import random\n",
    "seed = 42\n",
    "torch.manual_seed(seed)\n",
    "random.seed(seed)\n",
    "np.random.seed(seed)\n",
    "torch.backends.cudnn.deterministic = True\n",
    "torch.backends.cudnn.benchmark = False\n",
    "\n",
    "VOC_NAMES = [\"Alpha\", \"Beta\", \"Delta\", \"Gamma\", \"Omicron\"]\n",
    "LOSS_NAME = \"ContrastiveLoss\"\n",
    "POOLING_MODE = \"max\""
   ]
  },
  {
   "cell_type": "code",
   "execution_count": 2,
   "id": "805e9f14",
   "metadata": {},
   "outputs": [
    {
     "name": "stderr",
     "output_type": "stream",
     "text": [
      "Some weights of the model checkpoint at ./mlm_checkpoints/CoV-RoBERTa_2048 were not used when initializing RobertaModel: ['lm_head.layer_norm.bias', 'lm_head.bias', 'lm_head.dense.bias', 'lm_head.dense.weight', 'lm_head.layer_norm.weight']\n",
      "- This IS expected if you are initializing RobertaModel from the checkpoint of a model trained on another task or with another architecture (e.g. initializing a BertForSequenceClassification model from a BertForPreTraining model).\n",
      "- This IS NOT expected if you are initializing RobertaModel from the checkpoint of a model that you expect to be exactly identical (initializing a BertForSequenceClassification model from a BertForSequenceClassification model).\n",
      "Some weights of RobertaModel were not initialized from the model checkpoint at ./mlm_checkpoints/CoV-RoBERTa_2048 and are newly initialized: ['roberta.pooler.dense.weight', 'roberta.pooler.dense.bias']\n",
      "You should probably TRAIN this model on a down-stream task to be able to use it for predictions and inference.\n"
     ]
    }
   ],
   "source": [
    "#word_embedding_model = models.Transformer(model_name_or_path=\"Rostlab/prot_bert\", max_seq_length=1280)\n",
    "\n",
    "encoder = models.Transformer(model_name_or_path=\"./mlm_checkpoints/CoV-RoBERTa_2048\",\n",
    "                                          max_seq_length=1280,\n",
    "                                          tokenizer_name_or_path=\"tok/\")\n",
    "\n",
    "pooler = models.Pooling(encoder.get_word_embedding_dimension(), pooling_mode = POOLING_MODE)\n",
    "\n",
    "\n",
    "model = SentenceTransformer(modules=[encoder, pooler])"
   ]
  },
  {
   "attachments": {},
   "cell_type": "markdown",
   "id": "5073d929",
   "metadata": {},
   "source": [
    "# Construct Contrastive Dataset"
   ]
  },
  {
   "cell_type": "code",
   "execution_count": 4,
   "id": "8feefe76",
   "metadata": {},
   "outputs": [
    {
     "name": "stdout",
     "output_type": "stream",
     "text": [
      "len(examples):  8864\n",
      "len(sequences[0]):  4\n",
      "len(sequences[1]):  4\n",
      "len(sequences[2]):  4\n",
      "len(sequences[3]):  8\n",
      "len(sequences[4]):  8\n"
     ]
    }
   ],
   "source": [
    "sequences = []\n",
    "for voc_name in VOC_NAMES:\n",
    "    sequences.append(pd.read_csv(f\"data/unique_{voc_name}_2k.csv\")[\"sequence\"].tolist())\n",
    "\n",
    "# sequences = [[\"00\" + str(i) for i in range(10, 34)],\n",
    "#              [\"10\" + str(i) for i in range(10, 34)],\n",
    "#              [\"20\" + str(i) for i in range(10, 34)],\n",
    "#              [\"30\" + str(i) for i in range(10, 34)],\n",
    "#              [\"40\" + str(i) for i in range(10, 34)]]\n",
    "\n",
    "examples = []\n",
    "r = 1\n",
    "done = False\n",
    "while not done:\n",
    "    #print(\"round\", r)\n",
    "    for a_p_list_id in range(len(sequences)):\n",
    "        n_list_ids = list(range(len(sequences))).copy()\n",
    "        n_list_ids.remove(a_p_list_id)\n",
    "        anchor_positive_list = sequences[a_p_list_id]\n",
    "        anchor_positives = random.sample(anchor_positive_list, 5)\n",
    "        anchor = anchor_positives[0]\n",
    "        positives = anchor_positives[1:]\n",
    "        anchor_positive_list.remove(anchor)\n",
    "        for positive in positives:\n",
    "            examples.append(InputExample(texts=[anchor, positive], label=1))\n",
    "            #print(f\"[{anchor}, {positive}, 1]\")\n",
    "            anchor_positive_list.remove(positive)\n",
    "        \n",
    "\n",
    "        for n_list_id in n_list_ids:\n",
    "            negative_list = sequences[n_list_id]\n",
    "            negative = random.choice(negative_list)\n",
    "            negative_list.remove(negative)\n",
    "            examples.append(InputExample(texts=[anchor, negative], label=0))\n",
    "            #print(f\"[{anchor}, {negative}, 0]\")\n",
    "        if len(sequences[0]) < 5 or len(sequences[1]) < 5 or len(sequences[2]) < 5 or len(sequences[3]) < 5 or len(sequences[4]) < 5:\n",
    "            done = True\n",
    "            break\n",
    "    r += 1\n",
    "\n",
    "print(\"len(examples): \", len(examples))\n",
    "print(\"len(sequences[0]): \", len(sequences[0]))\n",
    "print(\"len(sequences[1]): \", len(sequences[1]))\n",
    "print(\"len(sequences[2]): \", len(sequences[2]))\n",
    "print(\"len(sequences[3]): \", len(sequences[3]))\n",
    "print(\"len(sequences[4]): \", len(sequences[4]))"
   ]
  },
  {
   "cell_type": "code",
   "execution_count": 5,
   "id": "721d8dcf",
   "metadata": {},
   "outputs": [],
   "source": [
    "train_examples = examples[:int(len(examples)*0.8)]\n",
    "dev_examples = examples[int(len(examples)*0.8):int(len(examples)*0.9)]\n",
    "test_examples = examples[int(len(examples)*0.9):]"
   ]
  },
  {
   "cell_type": "code",
   "execution_count": 6,
   "id": "229a24f6",
   "metadata": {},
   "outputs": [],
   "source": [
    "batch_size = 200\n",
    "train_dataloader = DataLoader(train_examples, shuffle=True, batch_size=batch_size)\n",
    "dev_dataloader = DataLoader(dev_examples, shuffle=False, batch_size=batch_size)\n",
    "test_dataloader = DataLoader(test_examples, shuffle=False, batch_size=batch_size)"
   ]
  },
  {
   "cell_type": "code",
   "execution_count": 8,
   "id": "075fce6a",
   "metadata": {},
   "outputs": [],
   "source": [
    "train_loss = losses.ContrastiveLoss(model=model, distance_metric=SiameseDistanceMetric.EUCLIDEAN, margin=5)"
   ]
  },
  {
   "cell_type": "code",
   "execution_count": 9,
   "id": "e6ba708b",
   "metadata": {},
   "outputs": [],
   "source": [
    "evaluator = evaluation.BinaryClassificationEvaluator(sentences1=[dev_example.texts[0] for dev_example in dev_examples],\n",
    "                                                     sentences2=[dev_example.texts[1] for dev_example in dev_examples],\n",
    "                                                     labels=[dev_example.label for dev_example in dev_examples],\n",
    "                                                     batch_size=batch_size,\n",
    "                                                     show_progress_bar=False,\n",
    "                                                     write_csv=True,\n",
    "                                                     name=\"validation\")"
   ]
  },
  {
   "cell_type": "code",
   "execution_count": 10,
   "id": "ef4038e3",
   "metadata": {},
   "outputs": [],
   "source": [
    "import os\n",
    "\n",
    "# Create output directory if needed\n",
    "output_dir = f\"./{LOSS_NAME}_output_{POOLING_MODE}\"\n",
    "checkpoint_dir = f\"./{LOSS_NAME}_output_{POOLING_MODE}/checkpoints\"\n",
    "evaluator_dir = f\"./{LOSS_NAME}_output_{POOLING_MODE}/eval\"\n",
    "\n",
    "if not os.path.exists(output_dir):\n",
    "    os.makedirs(output_dir)\n",
    "if not os.path.exists(checkpoint_dir):\n",
    "    os.makedirs(checkpoint_dir)\n",
    "if not os.path.exists(evaluator_dir):\n",
    "    os.makedirs(evaluator_dir)\n",
    "\n",
    "# read loss values from csv:\n",
    "train_results_file = os.path.join(output_dir, 'eval', 'training_results.csv')\n",
    "val_results_file = os.path.join(output_dir, 'eval', 'validation_results.csv')"
   ]
  },
  {
   "cell_type": "code",
   "execution_count": 9,
   "id": "1d1ff512",
   "metadata": {},
   "outputs": [
    {
     "name": "stdout",
     "output_type": "stream",
     "text": [
      "File ./ContrastiveLoss_output_max/eval/training_results.csv does not exist.\n",
      "File ./ContrastiveLoss_output_max/eval/validation_results.csv does not exist.\n"
     ]
    }
   ],
   "source": [
    "# Check if the file exists before attempting to delete\n",
    "if os.path.exists(train_results_file):\n",
    "    try:\n",
    "        # Attempt to remove the file\n",
    "        os.remove(train_results_file)\n",
    "        print(f\"File {train_results_file} deleted successfully.\")\n",
    "    except Exception as e:\n",
    "        print(f\"An error occurred: {e}\")\n",
    "else:\n",
    "    print(f\"File {train_results_file} does not exist.\")\n",
    "\n",
    "# Check if the file exists before attempting to delete\n",
    "if os.path.exists(val_results_file):\n",
    "    try:\n",
    "        # Attempt to remove the file\n",
    "        os.remove(val_results_file)\n",
    "        print(f\"File {val_results_file} deleted successfully.\")\n",
    "    except Exception as e:\n",
    "        print(f\"An error occurred: {e}\")\n",
    "else:\n",
    "    print(f\"File {val_results_file} does not exist.\")"
   ]
  },
  {
   "cell_type": "code",
   "execution_count": 10,
   "id": "25a6df7f",
   "metadata": {},
   "outputs": [
    {
     "data": {
      "application/vnd.jupyter.widget-view+json": {
       "model_id": "61b6ae4b30ac4f10bbff06202ac4ff8f",
       "version_major": 2,
       "version_minor": 0
      },
      "text/plain": [
       "Epoch:   0%|          | 0/30 [00:00<?, ?it/s]"
      ]
     },
     "metadata": {},
     "output_type": "display_data"
    },
    {
     "data": {
      "application/vnd.jupyter.widget-view+json": {
       "model_id": "070a6990c1d84a57802bdc0625d7101e",
       "version_major": 2,
       "version_minor": 0
      },
      "text/plain": [
       "Iteration:   0%|          | 0/36 [00:00<?, ?it/s]"
      ]
     },
     "metadata": {},
     "output_type": "display_data"
    },
    {
     "name": "stdout",
     "output_type": "stream",
     "text": [
      "--- Epoch 0 ---\n",
      "Train Loss = 38.79   Train Accuracy = 60.44\n",
      "Valid Loss = 20.99   Valid Accuracy = 53.05\n"
     ]
    },
    {
     "data": {
      "application/vnd.jupyter.widget-view+json": {
       "model_id": "67141e850fcc4a3bb16e18a7fdc6a9c5",
       "version_major": 2,
       "version_minor": 0
      },
      "text/plain": [
       "Iteration:   0%|          | 0/36 [00:00<?, ?it/s]"
      ]
     },
     "metadata": {},
     "output_type": "display_data"
    },
    {
     "name": "stdout",
     "output_type": "stream",
     "text": [
      "--- Epoch 1 ---\n",
      "Train Loss = 5.87   Train Accuracy = 56.04\n",
      "Valid Loss = 4.20   Valid Accuracy = 54.51\n"
     ]
    },
    {
     "data": {
      "application/vnd.jupyter.widget-view+json": {
       "model_id": "fb77f7868408446fb42d352876c68f47",
       "version_major": 2,
       "version_minor": 0
      },
      "text/plain": [
       "Iteration:   0%|          | 0/36 [00:00<?, ?it/s]"
      ]
     },
     "metadata": {},
     "output_type": "display_data"
    },
    {
     "name": "stdout",
     "output_type": "stream",
     "text": [
      "--- Epoch 2 ---\n",
      "Train Loss = 3.16   Train Accuracy = 56.04\n",
      "Valid Loss = 5.39   Valid Accuracy = 54.63\n"
     ]
    },
    {
     "data": {
      "application/vnd.jupyter.widget-view+json": {
       "model_id": "9820c9ea8b9c4cc6be1a459b159f50f5",
       "version_major": 2,
       "version_minor": 0
      },
      "text/plain": [
       "Iteration:   0%|          | 0/36 [00:00<?, ?it/s]"
      ]
     },
     "metadata": {},
     "output_type": "display_data"
    },
    {
     "name": "stdout",
     "output_type": "stream",
     "text": [
      "--- Epoch 3 ---\n",
      "Train Loss = 3.12   Train Accuracy = 62.64\n",
      "Valid Loss = 5.40   Valid Accuracy = 55.08\n"
     ]
    },
    {
     "data": {
      "application/vnd.jupyter.widget-view+json": {
       "model_id": "5884ffcde8024056b5361365d5b95bd0",
       "version_major": 2,
       "version_minor": 0
      },
      "text/plain": [
       "Iteration:   0%|          | 0/36 [00:00<?, ?it/s]"
      ]
     },
     "metadata": {},
     "output_type": "display_data"
    },
    {
     "name": "stdout",
     "output_type": "stream",
     "text": [
      "--- Epoch 4 ---\n",
      "Train Loss = 3.10   Train Accuracy = 60.44\n",
      "Valid Loss = 5.27   Valid Accuracy = 56.09\n"
     ]
    },
    {
     "data": {
      "application/vnd.jupyter.widget-view+json": {
       "model_id": "ad0e7031adad41de8e2e121468e2e364",
       "version_major": 2,
       "version_minor": 0
      },
      "text/plain": [
       "Iteration:   0%|          | 0/36 [00:00<?, ?it/s]"
      ]
     },
     "metadata": {},
     "output_type": "display_data"
    },
    {
     "name": "stdout",
     "output_type": "stream",
     "text": [
      "--- Epoch 5 ---\n",
      "Train Loss = 2.94   Train Accuracy = 70.33\n",
      "Valid Loss = 3.34   Valid Accuracy = 61.85\n"
     ]
    },
    {
     "data": {
      "application/vnd.jupyter.widget-view+json": {
       "model_id": "22dc589acd41456a87cd15bdbefdaf22",
       "version_major": 2,
       "version_minor": 0
      },
      "text/plain": [
       "Iteration:   0%|          | 0/36 [00:00<?, ?it/s]"
      ]
     },
     "metadata": {},
     "output_type": "display_data"
    },
    {
     "name": "stdout",
     "output_type": "stream",
     "text": [
      "--- Epoch 6 ---\n",
      "Train Loss = 2.40   Train Accuracy = 73.63\n",
      "Valid Loss = 2.70   Valid Accuracy = 68.96\n"
     ]
    },
    {
     "data": {
      "application/vnd.jupyter.widget-view+json": {
       "model_id": "4f7ec83bb0224564a3a8f094f28dbd2c",
       "version_major": 2,
       "version_minor": 0
      },
      "text/plain": [
       "Iteration:   0%|          | 0/36 [00:00<?, ?it/s]"
      ]
     },
     "metadata": {},
     "output_type": "display_data"
    },
    {
     "name": "stdout",
     "output_type": "stream",
     "text": [
      "--- Epoch 7 ---\n",
      "Train Loss = 1.70   Train Accuracy = 86.81\n",
      "Valid Loss = 2.06   Valid Accuracy = 77.31\n"
     ]
    },
    {
     "data": {
      "application/vnd.jupyter.widget-view+json": {
       "model_id": "b6be7b1d1ce847a2bcd00cde9fb88376",
       "version_major": 2,
       "version_minor": 0
      },
      "text/plain": [
       "Iteration:   0%|          | 0/36 [00:00<?, ?it/s]"
      ]
     },
     "metadata": {},
     "output_type": "display_data"
    },
    {
     "name": "stdout",
     "output_type": "stream",
     "text": [
      "--- Epoch 8 ---\n",
      "Train Loss = 1.67   Train Accuracy = 84.62\n",
      "Valid Loss = 1.74   Valid Accuracy = 81.15\n"
     ]
    },
    {
     "data": {
      "application/vnd.jupyter.widget-view+json": {
       "model_id": "062139a26a714f0093f0c4938bd5d0a0",
       "version_major": 2,
       "version_minor": 0
      },
      "text/plain": [
       "Iteration:   0%|          | 0/36 [00:00<?, ?it/s]"
      ]
     },
     "metadata": {},
     "output_type": "display_data"
    },
    {
     "name": "stdout",
     "output_type": "stream",
     "text": [
      "--- Epoch 9 ---\n",
      "Train Loss = 1.42   Train Accuracy = 89.01\n",
      "Valid Loss = 1.54   Valid Accuracy = 84.65\n"
     ]
    },
    {
     "data": {
      "application/vnd.jupyter.widget-view+json": {
       "model_id": "86887f4b21414c20a30038b7a72a375f",
       "version_major": 2,
       "version_minor": 0
      },
      "text/plain": [
       "Iteration:   0%|          | 0/36 [00:00<?, ?it/s]"
      ]
     },
     "metadata": {},
     "output_type": "display_data"
    },
    {
     "name": "stdout",
     "output_type": "stream",
     "text": [
      "--- Epoch 10 ---\n",
      "Train Loss = 0.81   Train Accuracy = 96.70\n",
      "Valid Loss = 1.48   Valid Accuracy = 84.99\n"
     ]
    },
    {
     "data": {
      "application/vnd.jupyter.widget-view+json": {
       "model_id": "ce039477c0174881813d0b8c63895e43",
       "version_major": 2,
       "version_minor": 0
      },
      "text/plain": [
       "Iteration:   0%|          | 0/36 [00:00<?, ?it/s]"
      ]
     },
     "metadata": {},
     "output_type": "display_data"
    },
    {
     "name": "stdout",
     "output_type": "stream",
     "text": [
      "--- Epoch 11 ---\n",
      "Train Loss = 0.77   Train Accuracy = 95.60\n",
      "Valid Loss = 1.41   Valid Accuracy = 86.79\n"
     ]
    },
    {
     "data": {
      "application/vnd.jupyter.widget-view+json": {
       "model_id": "06c968df7b5a4930ab2abc16bd843f1e",
       "version_major": 2,
       "version_minor": 0
      },
      "text/plain": [
       "Iteration:   0%|          | 0/36 [00:00<?, ?it/s]"
      ]
     },
     "metadata": {},
     "output_type": "display_data"
    },
    {
     "name": "stdout",
     "output_type": "stream",
     "text": [
      "--- Epoch 12 ---\n",
      "Train Loss = 0.70   Train Accuracy = 96.70\n",
      "Valid Loss = 1.35   Valid Accuracy = 86.46\n"
     ]
    },
    {
     "data": {
      "application/vnd.jupyter.widget-view+json": {
       "model_id": "2f2f1ba61e014f91b7487cfbefa78cd9",
       "version_major": 2,
       "version_minor": 0
      },
      "text/plain": [
       "Iteration:   0%|          | 0/36 [00:00<?, ?it/s]"
      ]
     },
     "metadata": {},
     "output_type": "display_data"
    },
    {
     "name": "stdout",
     "output_type": "stream",
     "text": [
      "--- Epoch 13 ---\n",
      "Train Loss = 0.57   Train Accuracy = 98.90\n",
      "Valid Loss = 1.27   Valid Accuracy = 87.58\n"
     ]
    },
    {
     "data": {
      "application/vnd.jupyter.widget-view+json": {
       "model_id": "edb0fb72957543578b339b737ea5ebc3",
       "version_major": 2,
       "version_minor": 0
      },
      "text/plain": [
       "Iteration:   0%|          | 0/36 [00:00<?, ?it/s]"
      ]
     },
     "metadata": {},
     "output_type": "display_data"
    },
    {
     "name": "stdout",
     "output_type": "stream",
     "text": [
      "--- Epoch 14 ---\n",
      "Train Loss = 0.34   Train Accuracy = 100.00\n",
      "Valid Loss = 1.48   Valid Accuracy = 87.36\n"
     ]
    },
    {
     "data": {
      "application/vnd.jupyter.widget-view+json": {
       "model_id": "b56e2cbd61214077a90f378d0e1339fa",
       "version_major": 2,
       "version_minor": 0
      },
      "text/plain": [
       "Iteration:   0%|          | 0/36 [00:00<?, ?it/s]"
      ]
     },
     "metadata": {},
     "output_type": "display_data"
    },
    {
     "name": "stdout",
     "output_type": "stream",
     "text": [
      "--- Epoch 15 ---\n",
      "Train Loss = 0.24   Train Accuracy = 100.00\n",
      "Valid Loss = 1.43   Valid Accuracy = 87.47\n"
     ]
    },
    {
     "data": {
      "application/vnd.jupyter.widget-view+json": {
       "model_id": "cd553648442548879f9b2900aee976df",
       "version_major": 2,
       "version_minor": 0
      },
      "text/plain": [
       "Iteration:   0%|          | 0/36 [00:00<?, ?it/s]"
      ]
     },
     "metadata": {},
     "output_type": "display_data"
    },
    {
     "name": "stdout",
     "output_type": "stream",
     "text": [
      "--- Epoch 16 ---\n",
      "Train Loss = 0.36   Train Accuracy = 98.90\n",
      "Valid Loss = 1.23   Valid Accuracy = 88.83\n"
     ]
    },
    {
     "data": {
      "application/vnd.jupyter.widget-view+json": {
       "model_id": "c83b7c46bcd14f85a2c71554b69d177b",
       "version_major": 2,
       "version_minor": 0
      },
      "text/plain": [
       "Iteration:   0%|          | 0/36 [00:00<?, ?it/s]"
      ]
     },
     "metadata": {},
     "output_type": "display_data"
    },
    {
     "name": "stdout",
     "output_type": "stream",
     "text": [
      "--- Epoch 17 ---\n",
      "Train Loss = 0.29   Train Accuracy = 100.00\n",
      "Valid Loss = 1.12   Valid Accuracy = 87.81\n"
     ]
    },
    {
     "data": {
      "application/vnd.jupyter.widget-view+json": {
       "model_id": "45b71a5b13a14c389fac122adc85f0bb",
       "version_major": 2,
       "version_minor": 0
      },
      "text/plain": [
       "Iteration:   0%|          | 0/36 [00:00<?, ?it/s]"
      ]
     },
     "metadata": {},
     "output_type": "display_data"
    },
    {
     "name": "stdout",
     "output_type": "stream",
     "text": [
      "--- Epoch 18 ---\n",
      "Train Loss = 0.36   Train Accuracy = 100.00\n",
      "Valid Loss = 1.14   Valid Accuracy = 88.94\n"
     ]
    },
    {
     "data": {
      "application/vnd.jupyter.widget-view+json": {
       "model_id": "03b80d4c36754ce28d3e976a757237ce",
       "version_major": 2,
       "version_minor": 0
      },
      "text/plain": [
       "Iteration:   0%|          | 0/36 [00:00<?, ?it/s]"
      ]
     },
     "metadata": {},
     "output_type": "display_data"
    },
    {
     "name": "stdout",
     "output_type": "stream",
     "text": [
      "--- Epoch 19 ---\n",
      "Train Loss = 0.25   Train Accuracy = 100.00\n",
      "Valid Loss = 1.10   Valid Accuracy = 88.83\n"
     ]
    },
    {
     "data": {
      "application/vnd.jupyter.widget-view+json": {
       "model_id": "7f25e3d2d3e84dff967f965bc123ecaf",
       "version_major": 2,
       "version_minor": 0
      },
      "text/plain": [
       "Iteration:   0%|          | 0/36 [00:00<?, ?it/s]"
      ]
     },
     "metadata": {},
     "output_type": "display_data"
    },
    {
     "name": "stdout",
     "output_type": "stream",
     "text": [
      "--- Epoch 20 ---\n",
      "Train Loss = 0.23   Train Accuracy = 100.00\n",
      "Valid Loss = 1.21   Valid Accuracy = 89.50\n"
     ]
    },
    {
     "data": {
      "application/vnd.jupyter.widget-view+json": {
       "model_id": "873d88af96e04d71a60f9d53c18d507f",
       "version_major": 2,
       "version_minor": 0
      },
      "text/plain": [
       "Iteration:   0%|          | 0/36 [00:00<?, ?it/s]"
      ]
     },
     "metadata": {},
     "output_type": "display_data"
    },
    {
     "name": "stdout",
     "output_type": "stream",
     "text": [
      "--- Epoch 21 ---\n",
      "Train Loss = 0.25   Train Accuracy = 100.00\n",
      "Valid Loss = 1.04   Valid Accuracy = 89.16\n"
     ]
    },
    {
     "data": {
      "application/vnd.jupyter.widget-view+json": {
       "model_id": "351d01ecc00345b8860032f15edae448",
       "version_major": 2,
       "version_minor": 0
      },
      "text/plain": [
       "Iteration:   0%|          | 0/36 [00:00<?, ?it/s]"
      ]
     },
     "metadata": {},
     "output_type": "display_data"
    },
    {
     "name": "stdout",
     "output_type": "stream",
     "text": [
      "--- Epoch 22 ---\n",
      "Train Loss = 0.14   Train Accuracy = 100.00\n",
      "Valid Loss = 1.05   Valid Accuracy = 90.07\n"
     ]
    },
    {
     "data": {
      "application/vnd.jupyter.widget-view+json": {
       "model_id": "95be6ed6588347a99f2651e950be62ff",
       "version_major": 2,
       "version_minor": 0
      },
      "text/plain": [
       "Iteration:   0%|          | 0/36 [00:00<?, ?it/s]"
      ]
     },
     "metadata": {},
     "output_type": "display_data"
    },
    {
     "name": "stdout",
     "output_type": "stream",
     "text": [
      "--- Epoch 23 ---\n",
      "Train Loss = 0.16   Train Accuracy = 100.00\n",
      "Valid Loss = 1.02   Valid Accuracy = 90.41\n"
     ]
    },
    {
     "data": {
      "application/vnd.jupyter.widget-view+json": {
       "model_id": "cf235ef259b949c2a97d2f0f703c904f",
       "version_major": 2,
       "version_minor": 0
      },
      "text/plain": [
       "Iteration:   0%|          | 0/36 [00:00<?, ?it/s]"
      ]
     },
     "metadata": {},
     "output_type": "display_data"
    },
    {
     "name": "stdout",
     "output_type": "stream",
     "text": [
      "--- Epoch 24 ---\n",
      "Train Loss = 0.21   Train Accuracy = 100.00\n",
      "Valid Loss = 0.98   Valid Accuracy = 90.63\n"
     ]
    },
    {
     "data": {
      "application/vnd.jupyter.widget-view+json": {
       "model_id": "859ea304e23f4a1f9faef97171b71bf1",
       "version_major": 2,
       "version_minor": 0
      },
      "text/plain": [
       "Iteration:   0%|          | 0/36 [00:00<?, ?it/s]"
      ]
     },
     "metadata": {},
     "output_type": "display_data"
    },
    {
     "name": "stdout",
     "output_type": "stream",
     "text": [
      "--- Epoch 25 ---\n",
      "Train Loss = 0.11   Train Accuracy = 100.00\n",
      "Valid Loss = 1.21   Valid Accuracy = 89.73\n"
     ]
    },
    {
     "data": {
      "application/vnd.jupyter.widget-view+json": {
       "model_id": "fa935d964523482dbc0a07fd5ad8510d",
       "version_major": 2,
       "version_minor": 0
      },
      "text/plain": [
       "Iteration:   0%|          | 0/36 [00:00<?, ?it/s]"
      ]
     },
     "metadata": {},
     "output_type": "display_data"
    },
    {
     "name": "stdout",
     "output_type": "stream",
     "text": [
      "--- Epoch 26 ---\n",
      "Train Loss = 0.23   Train Accuracy = 100.00\n",
      "Valid Loss = 1.15   Valid Accuracy = 90.07\n"
     ]
    },
    {
     "data": {
      "application/vnd.jupyter.widget-view+json": {
       "model_id": "654905bde11a43be9bc9a3153b007bd6",
       "version_major": 2,
       "version_minor": 0
      },
      "text/plain": [
       "Iteration:   0%|          | 0/36 [00:00<?, ?it/s]"
      ]
     },
     "metadata": {},
     "output_type": "display_data"
    },
    {
     "name": "stdout",
     "output_type": "stream",
     "text": [
      "--- Epoch 27 ---\n",
      "Train Loss = 0.16   Train Accuracy = 100.00\n",
      "Valid Loss = 1.07   Valid Accuracy = 90.74\n"
     ]
    },
    {
     "data": {
      "application/vnd.jupyter.widget-view+json": {
       "model_id": "83e634c892954a1f8d354f72d0457fab",
       "version_major": 2,
       "version_minor": 0
      },
      "text/plain": [
       "Iteration:   0%|          | 0/36 [00:00<?, ?it/s]"
      ]
     },
     "metadata": {},
     "output_type": "display_data"
    },
    {
     "name": "stdout",
     "output_type": "stream",
     "text": [
      "--- Epoch 28 ---\n",
      "Train Loss = 0.07   Train Accuracy = 100.00\n",
      "Valid Loss = 1.19   Valid Accuracy = 90.29\n"
     ]
    },
    {
     "data": {
      "application/vnd.jupyter.widget-view+json": {
       "model_id": "2d65fae3ace141b6962467655f9e5ca3",
       "version_major": 2,
       "version_minor": 0
      },
      "text/plain": [
       "Iteration:   0%|          | 0/36 [00:00<?, ?it/s]"
      ]
     },
     "metadata": {},
     "output_type": "display_data"
    },
    {
     "name": "stdout",
     "output_type": "stream",
     "text": [
      "--- Epoch 29 ---\n",
      "Train Loss = 0.18   Train Accuracy = 100.00\n",
      "Valid Loss = 2.13   Valid Accuracy = 87.02\n"
     ]
    }
   ],
   "source": [
    "model.fit(train_objectives=[(train_dataloader, train_loss)],\n",
    "          evaluator=evaluator,\n",
    "          epochs=30,\n",
    "          optimizer_params= {'lr': 1e-3}, # 1e-3 for CoV-RoBERTa, 1e-6 for ProtBERT\n",
    "          weight_decay=0.1, # 0.1 for CoV-RoBERTa, 0.01 for ProtBERT\n",
    "          #evaluation_steps=eval_iter, # run an evalution in every 10% \n",
    "          output_path=output_dir,\n",
    "          save_best_model=True,\n",
    "          checkpoint_path=checkpoint_dir,\n",
    "          checkpoint_save_steps=500,\n",
    "          checkpoint_save_total_limit=2,\n",
    "          show_progress_bar=True,\n",
    "          loss_name=LOSS_NAME)"
   ]
  },
  {
   "cell_type": "code",
   "execution_count": 11,
   "id": "84a08004",
   "metadata": {},
   "outputs": [
    {
     "data": {
      "image/png": "[encoded data removed]",
      "text/plain": [
       "<Figure size 1080x360 with 2 Axes>"
      ]
     },
     "metadata": {
      "needs_background": "light"
     },
     "output_type": "display_data"
    }
   ],
   "source": [
    "# Plot the training and validation loss and accuracy\n",
    "import matplotlib.pyplot as plt\n",
    "\n",
    "# read loss values from csv:\n",
    "train_results = pd.read_csv(train_results_file)\n",
    "val_results = pd.read_csv(val_results_file)\n",
    "\n",
    "# plot loss and accuracy figures side by side\n",
    "fig, axs = plt.subplots(1, 2, figsize=(15, 5))\n",
    "axs[0].plot(train_results[\"epoch\"], train_results[\"loss\"], label=\"Training\")\n",
    "axs[0].plot(val_results[\"epoch\"], val_results[\"loss\"], label=\"Validation\")\n",
    "axs[0].set_xlabel(\"Epoch\")\n",
    "axs[0].set_ylabel(\"Loss\")\n",
    "axs[0].legend()\n",
    "axs[1].plot(train_results[\"epoch\"], train_results[\"accuracy\"], label=\"Training\")\n",
    "axs[1].plot(val_results[\"epoch\"], val_results[\"accuracy\"], label=\"Validation\")\n",
    "axs[1].set_xlabel(\"Epoch\")\n",
    "axs[1].set_ylabel(\"Accuracy\")\n",
    "axs[1].legend()\n",
    "plt.tight_layout()\n",
    "#save as pdf\n",
    "plt.savefig(os.path.join(output_dir, \"eval\", f'plot_{LOSS_NAME}_{POOLING_MODE}.pdf'))\n",
    "plt.show()"
   ]
  },
  {
   "cell_type": "code",
   "execution_count": 23,
   "id": "c3819296",
   "metadata": {},
   "outputs": [
    {
     "name": "stdout",
     "output_type": "stream",
     "text": [
      "Valid Loss = 1.09   Valid Accuracy = 90.53\n",
      "Test duration: 0.1929152011871338 seconds\n",
      "0.02174917713496435 ms per example\n"
     ]
    }
   ],
   "source": [
    "\n",
    "test_evaluator = evaluation.BinaryClassificationEvaluator(sentences1=[test_example.texts[0] for test_example in test_examples],\n",
    "                                                     sentences2=[test_example.texts[1] for test_example in test_examples],\n",
    "                                                     labels=[test_example.label for test_example in test_examples],\n",
    "                                                     batch_size=100,\n",
    "                                                     show_progress_bar=False,\n",
    "                                                     name=\"test\")\n",
    "\n",
    "# load best model\n",
    "best_model = SentenceTransformer(output_dir)\n",
    "best_model.to(\"cuda\")\n",
    "\n",
    "# print test duration\n",
    "\n",
    "import time\n",
    "start_time = time.time()\n",
    "test_acc = best_model.evaluate(test_evaluator)\n",
    "duration = time.time() - start_time\n",
    "print(f\"Test duration: {duration} seconds\")\n",
    "\n",
    "# write test accuracy to file\n",
    "with open(os.path.join(output_dir, \"eval\", \"test_results.txt\"), \"w\") as f:\n",
    "    f.write(f\"Test accuracy: {test_acc}\\n\")\n",
    "\n",
    "print(duration * 1000 / len(test_examples), \"ms per example\")"
   ]
  },
  {
   "cell_type": "code",
   "execution_count": null,
   "id": "4176d579",
   "metadata": {},
   "outputs": [],
   "source": []
  }
 ],
 "metadata": {
  "kernelspec": {
   "display_name": "Python 3",
   "language": "python",
   "name": "python3"
  },
  "language_info": {
   "codemirror_mode": {
    "name": "ipython",
    "version": 3
   },
   "file_extension": ".py",
   "mimetype": "text/x-python",
   "name": "python",
   "nbconvert_exporter": "python",
   "pygments_lexer": "ipython3",
   "version": "3.8.16"
  }
 },
 "nbformat": 4,
 "nbformat_minor": 5
}
